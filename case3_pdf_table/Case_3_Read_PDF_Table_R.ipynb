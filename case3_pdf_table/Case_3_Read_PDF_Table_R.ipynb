{
  "nbformat": 4,
  "nbformat_minor": 0,
  "metadata": {
    "colab": {
      "name": "Case-3-Read-PDF-Table_R.ipynb",
      "provenance": [],
      "collapsed_sections": [
        "kiyN3AzjpFce",
        "AGOLL34jpZQN"
      ]
    },
    "kernelspec": {
      "name": "ir",
      "display_name": "R"
    }
  },
  "cells": [
    {
      "cell_type": "markdown",
      "metadata": {
        "id": "STt0fNytXTgs",
        "colab_type": "text"
      },
      "source": [
        "# Data 4 Black Lives - COVID-19 Case/Death Disparities\n",
        "\n",
        "Objective: Extract COVID-19 cases and deaths for each geographic location, both overall and for Black/African-Americans only.\n",
        "\n",
        "Data sources for 3 locations (California (San Diego), Florida, and New York City) are provided in tables embedded in PDFs. There are tools that can extract tables from PDFs. Specifying the specific location of the table in the document can be a bit tricky, but this can certainly be done."
      ]
    },
    {
      "cell_type": "markdown",
      "metadata": {
        "id": "Y_eB5vCwo83D",
        "colab_type": "text"
      },
      "source": [
        "## Install packages/software"
      ]
    },
    {
      "cell_type": "markdown",
      "metadata": {
        "id": "XvuJiF6YpNXr",
        "colab_type": "text"
      },
      "source": [
        "Source: https://github.com/hannarud/r-best-practices/wiki/Installing-RJava-(Ubuntu)"
      ]
    },
    {
      "cell_type": "code",
      "metadata": {
        "id": "Ty8vj7WCQJmu",
        "colab_type": "code",
        "outputId": "5cb0b26a-c4a2-4a49-aaf3-091097fe240f",
        "colab": {
          "base_uri": "https://localhost:8080/",
          "height": 170
        }
      },
      "source": [
        "system('sudo apt-get install r-cran-rjava', intern=T)"
      ],
      "execution_count": 0,
      "outputs": [
        {
          "output_type": "display_data",
          "data": {
            "text/plain": [
              " [1] \"Reading package lists...\"                                                                                                                                                                                                                                                                                                                                                                                                                                                                                                                                                                                                                                      \n",
              " [2] \"Building dependency tree...\"                                                                                                                                                                                                                                                                                                                                                                                                                                                                                                                                                                                                                                   \n",
              " [3] \"Reading state information...\"                                                                                                                                                                                                                                                                                                                                                                                                                                                                                                                                                                                                                                  \n",
              " [4] \"The following NEW packages will be installed:\"                                                                                                                                                                                                                                                                                                                                                                                                                                                                                                                                                                                                                 \n",
              " [5] \"  r-cran-rjava\"                                                                                                                                                                                                                                                                                                                                                                                                                                                                                                                                                                                                                                                \n",
              " [6] \"0 upgraded, 1 newly installed, 0 to remove and 25 not upgraded.\"                                                                                                                                                                                                                                                                                                                                                                                                                                                                                                                                                                                               \n",
              " [7] \"Need to get 889 kB of archives.\"                                                                                                                                                                                                                                                                                                                                                                                                                                                                                                                                                                                                                               \n",
              " [8] \"After this operation, 3,199 kB of additional disk space will be used.\"                                                                                                                                                                                                                                                                                                                                                                                                                                                                                                                                                                                         \n",
              " [9] \"Get:1 http://ppa.launchpad.net/marutter/c2d4u3.5/ubuntu bionic/main amd64 r-cran-rjava amd64 0.9-12-1cran1ppabionic0 [889 kB]\"                                                                                                                                                                                                                                                                                                                                                                                                                                                                                                                                 \n",
              "[10] \"Fetched 889 kB in 1s (987 kB/s)\"                                                                                                                                                                                                                                                                                                                                                                                                                                                                                                                                                                                                                               \n",
              "[11] \"Selecting previously unselected package r-cran-rjava.\\r\"                                                                                                                                                                                                                                                                                                                                                                                                                                                                                                                                                                                                       \n",
              "[12] \"(Reading database ... \\r(Reading database ... 5%\\r(Reading database ... 10%\\r(Reading database ... 15%\\r(Reading database ... 20%\\r(Reading database ... 25%\\r(Reading database ... 30%\\r(Reading database ... 35%\\r(Reading database ... 40%\\r(Reading database ... 45%\\r(Reading database ... 50%\\r(Reading database ... 55%\\r(Reading database ... 60%\\r(Reading database ... 65%\\r(Reading database ... 70%\\r(Reading database ... 75%\\r(Reading database ... 80%\\r(Reading database ... 85%\\r(Reading database ... 90%\\r(Reading database ... 95%\\r(Reading database ... 100%\\r(Reading database ... 144568 files and directories currently installed.)\\r\"\n",
              "[13] \"Preparing to unpack .../r-cran-rjava_0.9-12-1cran1ppabionic0_amd64.deb ...\\r\"                                                                                                                                                                                                                                                                                                                                                                                                                                                                                                                                                                                  \n",
              "[14] \"Unpacking r-cran-rjava (0.9-12-1cran1ppabionic0) ...\\r\"                                                                                                                                                                                                                                                                                                                                                                                                                                                                                                                                                                                                        \n",
              "[15] \"Setting up r-cran-rjava (0.9-12-1cran1ppabionic0) ...\\r\"                                                                                                                                                                                                                                                                                                                                                                                                                                                                                                                                                                                                       "
            ],
            "text/latex": "\\begin{enumerate*}\n\\item 'Reading package lists...'\n\\item 'Building dependency tree...'\n\\item 'Reading state information...'\n\\item 'The following NEW packages will be installed:'\n\\item '  r-cran-rjava'\n\\item '0 upgraded, 1 newly installed, 0 to remove and 25 not upgraded.'\n\\item 'Need to get 889 kB of archives.'\n\\item 'After this operation, 3,199 kB of additional disk space will be used.'\n\\item 'Get:1 http://ppa.launchpad.net/marutter/c2d4u3.5/ubuntu bionic/main amd64 r-cran-rjava amd64 0.9-12-1cran1ppabionic0 {[}889 kB{]}'\n\\item 'Fetched 889 kB in 1s (987 kB/s)'\n\\item 'Selecting previously unselected package r-cran-rjava.\\textbackslash{}r'\n\\item '(Reading database ... \\textbackslash{}r(Reading database ... 5\\%\\textbackslash{}r(Reading database ... 10\\%\\textbackslash{}r(Reading database ... 15\\%\\textbackslash{}r(Reading database ... 20\\%\\textbackslash{}r(Reading database ... 25\\%\\textbackslash{}r(Reading database ... 30\\%\\textbackslash{}r(Reading database ... 35\\%\\textbackslash{}r(Reading database ... 40\\%\\textbackslash{}r(Reading database ... 45\\%\\textbackslash{}r(Reading database ... 50\\%\\textbackslash{}r(Reading database ... 55\\%\\textbackslash{}r(Reading database ... 60\\%\\textbackslash{}r(Reading database ... 65\\%\\textbackslash{}r(Reading database ... 70\\%\\textbackslash{}r(Reading database ... 75\\%\\textbackslash{}r(Reading database ... 80\\%\\textbackslash{}r(Reading database ... 85\\%\\textbackslash{}r(Reading database ... 90\\%\\textbackslash{}r(Reading database ... 95\\%\\textbackslash{}r(Reading database ... 100\\%\\textbackslash{}r(Reading database ... 144568 files and directories currently installed.)\\textbackslash{}r'\n\\item 'Preparing to unpack .../r-cran-rjava\\_0.9-12-1cran1ppabionic0\\_amd64.deb ...\\textbackslash{}r'\n\\item 'Unpacking r-cran-rjava (0.9-12-1cran1ppabionic0) ...\\textbackslash{}r'\n\\item 'Setting up r-cran-rjava (0.9-12-1cran1ppabionic0) ...\\textbackslash{}r'\n\\end{enumerate*}\n",
            "text/markdown": "1. 'Reading package lists...'\n2. 'Building dependency tree...'\n3. 'Reading state information...'\n4. 'The following NEW packages will be installed:'\n5. <span style=white-space:pre-wrap>'  r-cran-rjava'</span>\n6. '0 upgraded, 1 newly installed, 0 to remove and 25 not upgraded.'\n7. 'Need to get 889 kB of archives.'\n8. 'After this operation, 3,199 kB of additional disk space will be used.'\n9. 'Get:1 http://ppa.launchpad.net/marutter/c2d4u3.5/ubuntu bionic/main amd64 r-cran-rjava amd64 0.9-12-1cran1ppabionic0 [889 kB]'\n10. 'Fetched 889 kB in 1s (987 kB/s)'\n11. 'Selecting previously unselected package r-cran-rjava.\\r'\n12. '(Reading database ... \\r(Reading database ... 5%\\r(Reading database ... 10%\\r(Reading database ... 15%\\r(Reading database ... 20%\\r(Reading database ... 25%\\r(Reading database ... 30%\\r(Reading database ... 35%\\r(Reading database ... 40%\\r(Reading database ... 45%\\r(Reading database ... 50%\\r(Reading database ... 55%\\r(Reading database ... 60%\\r(Reading database ... 65%\\r(Reading database ... 70%\\r(Reading database ... 75%\\r(Reading database ... 80%\\r(Reading database ... 85%\\r(Reading database ... 90%\\r(Reading database ... 95%\\r(Reading database ... 100%\\r(Reading database ... 144568 files and directories currently installed.)\\r'\n13. 'Preparing to unpack .../r-cran-rjava_0.9-12-1cran1ppabionic0_amd64.deb ...\\r'\n14. 'Unpacking r-cran-rjava (0.9-12-1cran1ppabionic0) ...\\r'\n15. 'Setting up r-cran-rjava (0.9-12-1cran1ppabionic0) ...\\r'\n\n\n",
            "text/html": [
              "<style>\n",
              ".list-inline {list-style: none; margin:0; padding: 0}\n",
              ".list-inline>li {display: inline-block}\n",
              ".list-inline>li:not(:last-child)::after {content: \"\\00b7\"; padding: 0 .5ex}\n",
              "</style>\n",
              "<ol class=list-inline><li>'Reading package lists...'</li><li>'Building dependency tree...'</li><li>'Reading state information...'</li><li>'The following NEW packages will be installed:'</li><li><span style=white-space:pre-wrap>'  r-cran-rjava'</span></li><li>'0 upgraded, 1 newly installed, 0 to remove and 25 not upgraded.'</li><li>'Need to get 889 kB of archives.'</li><li>'After this operation, 3,199 kB of additional disk space will be used.'</li><li>'Get:1 http://ppa.launchpad.net/marutter/c2d4u3.5/ubuntu bionic/main amd64 r-cran-rjava amd64 0.9-12-1cran1ppabionic0 [889 kB]'</li><li>'Fetched 889 kB in 1s (987 kB/s)'</li><li>'Selecting previously unselected package r-cran-rjava.\\r'</li><li>'(Reading database ... \\r(Reading database ... 5%\\r(Reading database ... 10%\\r(Reading database ... 15%\\r(Reading database ... 20%\\r(Reading database ... 25%\\r(Reading database ... 30%\\r(Reading database ... 35%\\r(Reading database ... 40%\\r(Reading database ... 45%\\r(Reading database ... 50%\\r(Reading database ... 55%\\r(Reading database ... 60%\\r(Reading database ... 65%\\r(Reading database ... 70%\\r(Reading database ... 75%\\r(Reading database ... 80%\\r(Reading database ... 85%\\r(Reading database ... 90%\\r(Reading database ... 95%\\r(Reading database ... 100%\\r(Reading database ... 144568 files and directories currently installed.)\\r'</li><li>'Preparing to unpack .../r-cran-rjava_0.9-12-1cran1ppabionic0_amd64.deb ...\\r'</li><li>'Unpacking r-cran-rjava (0.9-12-1cran1ppabionic0) ...\\r'</li><li>'Setting up r-cran-rjava (0.9-12-1cran1ppabionic0) ...\\r'</li></ol>\n"
            ]
          },
          "metadata": {
            "tags": []
          }
        }
      ]
    },
    {
      "cell_type": "code",
      "metadata": {
        "id": "2CscAD8lQJry",
        "colab_type": "code",
        "outputId": "6c1a77d9-cb7d-44db-d387-5006ceb430db",
        "colab": {
          "base_uri": "https://localhost:8080/",
          "height": 68
        }
      },
      "source": [
        "system('sudo apt-get install libgdal-dev libpro', intern=T)"
      ],
      "execution_count": 0,
      "outputs": [
        {
          "output_type": "stream",
          "text": [
            "Warning message in system(\"sudo apt-get install libgdal-dev libpro\", intern = T):\n",
            "“running command 'sudo apt-get install libgdal-dev libpro' had status 100”\n"
          ],
          "name": "stderr"
        },
        {
          "output_type": "display_data",
          "data": {
            "text/plain": [
              "[1] \"Reading package lists...\"     \"Building dependency tree...\" \n",
              "[3] \"Reading state information...\"\n",
              "attr(,\"status\")\n",
              "[1] 100\n",
              "attr(,\"errmsg\")\n",
              "[1] \"Resource temporarily unavailable\""
            ],
            "text/latex": "\\begin{enumerate*}\n\\item 'Reading package lists...'\n\\item 'Building dependency tree...'\n\\item 'Reading state information...'\n\\end{enumerate*}\n",
            "text/markdown": "1. 'Reading package lists...'\n2. 'Building dependency tree...'\n3. 'Reading state information...'\n\n\n",
            "text/html": [
              "<style>\n",
              ".list-inline {list-style: none; margin:0; padding: 0}\n",
              ".list-inline>li {display: inline-block}\n",
              ".list-inline>li:not(:last-child)::after {content: \"\\00b7\"; padding: 0 .5ex}\n",
              "</style>\n",
              "<ol class=list-inline><li>'Reading package lists...'</li><li>'Building dependency tree...'</li><li>'Reading state information...'</li></ol>\n"
            ]
          },
          "metadata": {
            "tags": []
          }
        }
      ]
    },
    {
      "cell_type": "code",
      "metadata": {
        "id": "8ONdAquyQUHC",
        "colab_type": "code",
        "colab": {}
      },
      "source": [
        "library(rJava)"
      ],
      "execution_count": 0,
      "outputs": []
    },
    {
      "cell_type": "code",
      "metadata": {
        "id": "r0jaxIi1FZOP",
        "colab_type": "code",
        "outputId": "fb830e84-9757-4322-c5e7-d649e4f30083",
        "colab": {
          "base_uri": "https://localhost:8080/",
          "height": 595
        }
      },
      "source": [
        "if (!require(\"remotes\")) {\n",
        "    install.packages(\"remotes\")\n",
        "}\n",
        "\n",
        "# on 64-bit Windows\n",
        "#remotes::install_github(c(\"ropensci/tabulizerjars\", \"ropensci/tabulizer\"), INSTALL_opts = \"--no-multiarch\")\n",
        "\n",
        "# elsewhere\n",
        "remotes::install_github(c(\"ropensci/tabulizerjars\", \"ropensci/tabulizer\"))"
      ],
      "execution_count": 0,
      "outputs": [
        {
          "output_type": "stream",
          "text": [
            "Loading required package: remotes\n",
            "\n",
            "Downloading GitHub repo ropensci/tabulizerjars@master\n",
            "\n"
          ],
          "name": "stderr"
        },
        {
          "output_type": "stream",
          "text": [
            "\n",
            "\u001b[32m✔\u001b[39m  \u001b[90mchecking for file ‘/tmp/Rtmpwn46c8/remotes796b88f8d8/ropensci-tabulizerjars-d1924e0/DESCRIPTION’\u001b[39m\u001b[36m\u001b[39m\n",
            "\u001b[90m─\u001b[39m\u001b[90m  \u001b[39m\u001b[90mpreparing ‘tabulizerjars’:\u001b[39m\u001b[36m\u001b[39m\n",
            "\u001b[32m✔\u001b[39m  \u001b[90mchecking DESCRIPTION meta-information\u001b[39m\u001b[36m\u001b[39m\n",
            "\u001b[90m─\u001b[39m\u001b[90m  \u001b[39m\u001b[90mchecking for LF line-endings in source and make files and shell scripts\u001b[39m\u001b[36m\u001b[39m\n",
            "\u001b[90m─\u001b[39m\u001b[90m  \u001b[39m\u001b[90mchecking for empty or unneeded directories\u001b[39m\u001b[36m\u001b[39m\n",
            "\u001b[90m─\u001b[39m\u001b[90m  \u001b[39m\u001b[90mbuilding ‘tabulizerjars_1.0.1.tar.gz’\u001b[39m\u001b[36m\u001b[39m\n",
            "   \n"
          ],
          "name": "stdout"
        },
        {
          "output_type": "stream",
          "text": [
            "Installing package into ‘/usr/local/lib/R/site-library’\n",
            "(as ‘lib’ is unspecified)\n",
            "\n",
            "Downloading GitHub repo ropensci/tabulizer@master\n",
            "\n"
          ],
          "name": "stderr"
        },
        {
          "output_type": "stream",
          "text": [
            "png (NA -> 0.1-7) [CRAN]\n"
          ],
          "name": "stdout"
        },
        {
          "output_type": "stream",
          "text": [
            "Installing 1 packages: png\n",
            "\n",
            "Installing package into ‘/usr/local/lib/R/site-library’\n",
            "(as ‘lib’ is unspecified)\n",
            "\n"
          ],
          "name": "stderr"
        },
        {
          "output_type": "stream",
          "text": [
            "\u001b[32m✔\u001b[39m  \u001b[90mchecking for file ‘/tmp/Rtmpwn46c8/remotes7950f01c9/ropensci-tabulizer-fa4dff5/DESCRIPTION’\u001b[39m\u001b[36m\u001b[39m\n",
            "\u001b[90m─\u001b[39m\u001b[90m  \u001b[39m\u001b[90mpreparing ‘tabulizer’:\u001b[39m\u001b[36m\u001b[39m\n",
            "\u001b[32m✔\u001b[39m  \u001b[90mchecking DESCRIPTION meta-information\u001b[39m\u001b[36m\u001b[39m\n",
            "\u001b[90m─\u001b[39m\u001b[90m  \u001b[39m\u001b[90mchecking for LF line-endings in source and make files and shell scripts\u001b[39m\u001b[36m\u001b[39m\n",
            "\u001b[90m─\u001b[39m\u001b[90m  \u001b[39m\u001b[90mchecking for empty or unneeded directories\u001b[39m\u001b[36m\u001b[39m\n",
            "   Removed empty directory ‘tabulizer/docs’\n",
            "\u001b[90m─\u001b[39m\u001b[90m  \u001b[39m\u001b[90mbuilding ‘tabulizer_0.2.2.tar.gz’\u001b[39m\u001b[36m\u001b[39m\n",
            "   \n"
          ],
          "name": "stdout"
        },
        {
          "output_type": "stream",
          "text": [
            "Installing package into ‘/usr/local/lib/R/site-library’\n",
            "(as ‘lib’ is unspecified)\n",
            "\n"
          ],
          "name": "stderr"
        }
      ]
    },
    {
      "cell_type": "code",
      "metadata": {
        "id": "BZeP9kwWQz7W",
        "colab_type": "code",
        "colab": {}
      },
      "source": [
        "## Helper function to run code on command line\n",
        "run = function(txt) system(txt, intern=T)"
      ],
      "execution_count": 0,
      "outputs": []
    },
    {
      "cell_type": "code",
      "metadata": {
        "id": "3HUto1meSgdT",
        "colab_type": "code",
        "colab": {}
      },
      "source": [
        "# Source:  https://askubuntu.com/questions/221962/how-can-i-extract-a-page-range-a-part-of-a-pdf"
      ],
      "execution_count": 0,
      "outputs": []
    },
    {
      "cell_type": "code",
      "metadata": {
        "id": "PMeNoHk7Q4-R",
        "colab_type": "code",
        "outputId": "5235d7f5-8335-4322-8c27-4fc1d5c5b600",
        "colab": {
          "base_uri": "https://localhost:8080/",
          "height": 204
        }
      },
      "source": [
        "## Install software that can extract subset of PDF pages (needed for Florida)\n",
        "run('sudo apt-get install qpdf')"
      ],
      "execution_count": 0,
      "outputs": [
        {
          "output_type": "display_data",
          "data": {
            "text/plain": [
              " [1] \"Reading package lists...\"                                                                                                                                                                                                                                                                                                                                                                                                                                                                                                                                                                                                                                      \n",
              " [2] \"Building dependency tree...\"                                                                                                                                                                                                                                                                                                                                                                                                                                                                                                                                                                                                                                   \n",
              " [3] \"Reading state information...\"                                                                                                                                                                                                                                                                                                                                                                                                                                                                                                                                                                                                                                  \n",
              " [4] \"The following additional packages will be installed:\"                                                                                                                                                                                                                                                                                                                                                                                                                                                                                                                                                                                                          \n",
              " [5] \"  libqpdf21\"                                                                                                                                                                                                                                                                                                                                                                                                                                                                                                                                                                                                                                                   \n",
              " [6] \"The following NEW packages will be installed:\"                                                                                                                                                                                                                                                                                                                                                                                                                                                                                                                                                                                                                 \n",
              " [7] \"  libqpdf21 qpdf\"                                                                                                                                                                                                                                                                                                                                                                                                                                                                                                                                                                                                                                              \n",
              " [8] \"0 upgraded, 2 newly installed, 0 to remove and 25 not upgraded.\"                                                                                                                                                                                                                                                                                                                                                                                                                                                                                                                                                                                               \n",
              " [9] \"Need to get 527 kB of archives.\"                                                                                                                                                                                                                                                                                                                                                                                                                                                                                                                                                                                                                               \n",
              "[10] \"After this operation, 1,438 kB of additional disk space will be used.\"                                                                                                                                                                                                                                                                                                                                                                                                                                                                                                                                                                                         \n",
              "[11] \"Get:1 http://archive.ubuntu.com/ubuntu bionic/main amd64 libqpdf21 amd64 8.0.2-3 [289 kB]\"                                                                                                                                                                                                                                                                                                                                                                                                                                                                                                                                                                     \n",
              "[12] \"Get:2 http://archive.ubuntu.com/ubuntu bionic/main amd64 qpdf amd64 8.0.2-3 [238 kB]\"                                                                                                                                                                                                                                                                                                                                                                                                                                                                                                                                                                          \n",
              "[13] \"Fetched 527 kB in 1s (504 kB/s)\"                                                                                                                                                                                                                                                                                                                                                                                                                                                                                                                                                                                                                               \n",
              "[14] \"Selecting previously unselected package libqpdf21:amd64.\\r\"                                                                                                                                                                                                                                                                                                                                                                                                                                                                                                                                                                                                    \n",
              "[15] \"(Reading database ... \\r(Reading database ... 5%\\r(Reading database ... 10%\\r(Reading database ... 15%\\r(Reading database ... 20%\\r(Reading database ... 25%\\r(Reading database ... 30%\\r(Reading database ... 35%\\r(Reading database ... 40%\\r(Reading database ... 45%\\r(Reading database ... 50%\\r(Reading database ... 55%\\r(Reading database ... 60%\\r(Reading database ... 65%\\r(Reading database ... 70%\\r(Reading database ... 75%\\r(Reading database ... 80%\\r(Reading database ... 85%\\r(Reading database ... 90%\\r(Reading database ... 95%\\r(Reading database ... 100%\\r(Reading database ... 144751 files and directories currently installed.)\\r\"\n",
              "[16] \"Preparing to unpack .../libqpdf21_8.0.2-3_amd64.deb ...\\r\"                                                                                                                                                                                                                                                                                                                                                                                                                                                                                                                                                                                                     \n",
              "[17] \"Unpacking libqpdf21:amd64 (8.0.2-3) ...\\r\"                                                                                                                                                                                                                                                                                                                                                                                                                                                                                                                                                                                                                     \n",
              "[18] \"Selecting previously unselected package qpdf.\\r\"                                                                                                                                                                                                                                                                                                                                                                                                                                                                                                                                                                                                               \n",
              "[19] \"Preparing to unpack .../qpdf_8.0.2-3_amd64.deb ...\\r\"                                                                                                                                                                                                                                                                                                                                                                                                                                                                                                                                                                                                          \n",
              "[20] \"Unpacking qpdf (8.0.2-3) ...\\r\"                                                                                                                                                                                                                                                                                                                                                                                                                                                                                                                                                                                                                                \n",
              "[21] \"Setting up libqpdf21:amd64 (8.0.2-3) ...\\r\"                                                                                                                                                                                                                                                                                                                                                                                                                                                                                                                                                                                                                    \n",
              "[22] \"Setting up qpdf (8.0.2-3) ...\\r\"                                                                                                                                                                                                                                                                                                                                                                                                                                                                                                                                                                                                                               \n",
              "[23] \"Processing triggers for man-db (2.8.3-2ubuntu0.1) ...\\r\"                                                                                                                                                                                                                                                                                                                                                                                                                                                                                                                                                                                                       \n",
              "[24] \"Processing triggers for libc-bin (2.27-3ubuntu1) ...\\r\"                                                                                                                                                                                                                                                                                                                                                                                                                                                                                                                                                                                                        \n",
              "[25] \"/sbin/ldconfig.real: /usr/local/lib/python3.6/dist-packages/ideep4py/lib/libmkldnn.so.0 is not a symbolic link\\r\"                                                                                                                                                                                                                                                                                                                                                                                                                                                                                                                                              \n",
              "[26] \"\\r\"                                                                                                                                                                                                                                                                                                                                                                                                                                                                                                                                                                                                                                                            "
            ],
            "text/latex": "\\begin{enumerate*}\n\\item 'Reading package lists...'\n\\item 'Building dependency tree...'\n\\item 'Reading state information...'\n\\item 'The following additional packages will be installed:'\n\\item '  libqpdf21'\n\\item 'The following NEW packages will be installed:'\n\\item '  libqpdf21 qpdf'\n\\item '0 upgraded, 2 newly installed, 0 to remove and 25 not upgraded.'\n\\item 'Need to get 527 kB of archives.'\n\\item 'After this operation, 1,438 kB of additional disk space will be used.'\n\\item 'Get:1 http://archive.ubuntu.com/ubuntu bionic/main amd64 libqpdf21 amd64 8.0.2-3 {[}289 kB{]}'\n\\item 'Get:2 http://archive.ubuntu.com/ubuntu bionic/main amd64 qpdf amd64 8.0.2-3 {[}238 kB{]}'\n\\item 'Fetched 527 kB in 1s (504 kB/s)'\n\\item 'Selecting previously unselected package libqpdf21:amd64.\\textbackslash{}r'\n\\item '(Reading database ... \\textbackslash{}r(Reading database ... 5\\%\\textbackslash{}r(Reading database ... 10\\%\\textbackslash{}r(Reading database ... 15\\%\\textbackslash{}r(Reading database ... 20\\%\\textbackslash{}r(Reading database ... 25\\%\\textbackslash{}r(Reading database ... 30\\%\\textbackslash{}r(Reading database ... 35\\%\\textbackslash{}r(Reading database ... 40\\%\\textbackslash{}r(Reading database ... 45\\%\\textbackslash{}r(Reading database ... 50\\%\\textbackslash{}r(Reading database ... 55\\%\\textbackslash{}r(Reading database ... 60\\%\\textbackslash{}r(Reading database ... 65\\%\\textbackslash{}r(Reading database ... 70\\%\\textbackslash{}r(Reading database ... 75\\%\\textbackslash{}r(Reading database ... 80\\%\\textbackslash{}r(Reading database ... 85\\%\\textbackslash{}r(Reading database ... 90\\%\\textbackslash{}r(Reading database ... 95\\%\\textbackslash{}r(Reading database ... 100\\%\\textbackslash{}r(Reading database ... 144751 files and directories currently installed.)\\textbackslash{}r'\n\\item 'Preparing to unpack .../libqpdf21\\_8.0.2-3\\_amd64.deb ...\\textbackslash{}r'\n\\item 'Unpacking libqpdf21:amd64 (8.0.2-3) ...\\textbackslash{}r'\n\\item 'Selecting previously unselected package qpdf.\\textbackslash{}r'\n\\item 'Preparing to unpack .../qpdf\\_8.0.2-3\\_amd64.deb ...\\textbackslash{}r'\n\\item 'Unpacking qpdf (8.0.2-3) ...\\textbackslash{}r'\n\\item 'Setting up libqpdf21:amd64 (8.0.2-3) ...\\textbackslash{}r'\n\\item 'Setting up qpdf (8.0.2-3) ...\\textbackslash{}r'\n\\item 'Processing triggers for man-db (2.8.3-2ubuntu0.1) ...\\textbackslash{}r'\n\\item 'Processing triggers for libc-bin (2.27-3ubuntu1) ...\\textbackslash{}r'\n\\item '/sbin/ldconfig.real: /usr/local/lib/python3.6/dist-packages/ideep4py/lib/libmkldnn.so.0 is not a symbolic link\\textbackslash{}r'\n\\item '\\textbackslash{}r'\n\\end{enumerate*}\n",
            "text/markdown": "1. 'Reading package lists...'\n2. 'Building dependency tree...'\n3. 'Reading state information...'\n4. 'The following additional packages will be installed:'\n5. <span style=white-space:pre-wrap>'  libqpdf21'</span>\n6. 'The following NEW packages will be installed:'\n7. <span style=white-space:pre-wrap>'  libqpdf21 qpdf'</span>\n8. '0 upgraded, 2 newly installed, 0 to remove and 25 not upgraded.'\n9. 'Need to get 527 kB of archives.'\n10. 'After this operation, 1,438 kB of additional disk space will be used.'\n11. 'Get:1 http://archive.ubuntu.com/ubuntu bionic/main amd64 libqpdf21 amd64 8.0.2-3 [289 kB]'\n12. 'Get:2 http://archive.ubuntu.com/ubuntu bionic/main amd64 qpdf amd64 8.0.2-3 [238 kB]'\n13. 'Fetched 527 kB in 1s (504 kB/s)'\n14. 'Selecting previously unselected package libqpdf21:amd64.\\r'\n15. '(Reading database ... \\r(Reading database ... 5%\\r(Reading database ... 10%\\r(Reading database ... 15%\\r(Reading database ... 20%\\r(Reading database ... 25%\\r(Reading database ... 30%\\r(Reading database ... 35%\\r(Reading database ... 40%\\r(Reading database ... 45%\\r(Reading database ... 50%\\r(Reading database ... 55%\\r(Reading database ... 60%\\r(Reading database ... 65%\\r(Reading database ... 70%\\r(Reading database ... 75%\\r(Reading database ... 80%\\r(Reading database ... 85%\\r(Reading database ... 90%\\r(Reading database ... 95%\\r(Reading database ... 100%\\r(Reading database ... 144751 files and directories currently installed.)\\r'\n16. 'Preparing to unpack .../libqpdf21_8.0.2-3_amd64.deb ...\\r'\n17. 'Unpacking libqpdf21:amd64 (8.0.2-3) ...\\r'\n18. 'Selecting previously unselected package qpdf.\\r'\n19. 'Preparing to unpack .../qpdf_8.0.2-3_amd64.deb ...\\r'\n20. 'Unpacking qpdf (8.0.2-3) ...\\r'\n21. 'Setting up libqpdf21:amd64 (8.0.2-3) ...\\r'\n22. 'Setting up qpdf (8.0.2-3) ...\\r'\n23. 'Processing triggers for man-db (2.8.3-2ubuntu0.1) ...\\r'\n24. 'Processing triggers for libc-bin (2.27-3ubuntu1) ...\\r'\n25. '/sbin/ldconfig.real: /usr/local/lib/python3.6/dist-packages/ideep4py/lib/libmkldnn.so.0 is not a symbolic link\\r'\n26. '\\r'\n\n\n",
            "text/html": [
              "<style>\n",
              ".list-inline {list-style: none; margin:0; padding: 0}\n",
              ".list-inline>li {display: inline-block}\n",
              ".list-inline>li:not(:last-child)::after {content: \"\\00b7\"; padding: 0 .5ex}\n",
              "</style>\n",
              "<ol class=list-inline><li>'Reading package lists...'</li><li>'Building dependency tree...'</li><li>'Reading state information...'</li><li>'The following additional packages will be installed:'</li><li><span style=white-space:pre-wrap>'  libqpdf21'</span></li><li>'The following NEW packages will be installed:'</li><li><span style=white-space:pre-wrap>'  libqpdf21 qpdf'</span></li><li>'0 upgraded, 2 newly installed, 0 to remove and 25 not upgraded.'</li><li>'Need to get 527 kB of archives.'</li><li>'After this operation, 1,438 kB of additional disk space will be used.'</li><li>'Get:1 http://archive.ubuntu.com/ubuntu bionic/main amd64 libqpdf21 amd64 8.0.2-3 [289 kB]'</li><li>'Get:2 http://archive.ubuntu.com/ubuntu bionic/main amd64 qpdf amd64 8.0.2-3 [238 kB]'</li><li>'Fetched 527 kB in 1s (504 kB/s)'</li><li>'Selecting previously unselected package libqpdf21:amd64.\\r'</li><li>'(Reading database ... \\r(Reading database ... 5%\\r(Reading database ... 10%\\r(Reading database ... 15%\\r(Reading database ... 20%\\r(Reading database ... 25%\\r(Reading database ... 30%\\r(Reading database ... 35%\\r(Reading database ... 40%\\r(Reading database ... 45%\\r(Reading database ... 50%\\r(Reading database ... 55%\\r(Reading database ... 60%\\r(Reading database ... 65%\\r(Reading database ... 70%\\r(Reading database ... 75%\\r(Reading database ... 80%\\r(Reading database ... 85%\\r(Reading database ... 90%\\r(Reading database ... 95%\\r(Reading database ... 100%\\r(Reading database ... 144751 files and directories currently installed.)\\r'</li><li>'Preparing to unpack .../libqpdf21_8.0.2-3_amd64.deb ...\\r'</li><li>'Unpacking libqpdf21:amd64 (8.0.2-3) ...\\r'</li><li>'Selecting previously unselected package qpdf.\\r'</li><li>'Preparing to unpack .../qpdf_8.0.2-3_amd64.deb ...\\r'</li><li>'Unpacking qpdf (8.0.2-3) ...\\r'</li><li>'Setting up libqpdf21:amd64 (8.0.2-3) ...\\r'</li><li>'Setting up qpdf (8.0.2-3) ...\\r'</li><li>'Processing triggers for man-db (2.8.3-2ubuntu0.1) ...\\r'</li><li>'Processing triggers for libc-bin (2.27-3ubuntu1) ...\\r'</li><li>'/sbin/ldconfig.real: /usr/local/lib/python3.6/dist-packages/ideep4py/lib/libmkldnn.so.0 is not a symbolic link\\r'</li><li>'\\r'</li></ol>\n"
            ]
          },
          "metadata": {
            "tags": []
          }
        }
      ]
    },
    {
      "cell_type": "markdown",
      "metadata": {
        "id": "kiyN3AzjpFce",
        "colab_type": "text"
      },
      "source": [
        "## Load packages"
      ]
    },
    {
      "cell_type": "code",
      "metadata": {
        "id": "ah31cSf4Qhzh",
        "colab_type": "code",
        "outputId": "47f45704-2411-4bc7-fe30-d73c66249d8f",
        "colab": {
          "base_uri": "https://localhost:8080/",
          "height": 204
        }
      },
      "source": [
        "library(tabulizer)\n",
        "library(tidyverse)"
      ],
      "execution_count": 0,
      "outputs": [
        {
          "output_type": "stream",
          "text": [
            "── \u001b[1mAttaching packages\u001b[22m ─────────────────────────────────────── tidyverse 1.3.0 ──\n",
            "\n",
            "\u001b[32m✔\u001b[39m \u001b[34mggplot2\u001b[39m 3.3.0     \u001b[32m✔\u001b[39m \u001b[34mpurrr  \u001b[39m 0.3.3\n",
            "\u001b[32m✔\u001b[39m \u001b[34mtibble \u001b[39m 3.0.0     \u001b[32m✔\u001b[39m \u001b[34mdplyr  \u001b[39m 0.8.5\n",
            "\u001b[32m✔\u001b[39m \u001b[34mtidyr  \u001b[39m 1.0.2     \u001b[32m✔\u001b[39m \u001b[34mstringr\u001b[39m 1.4.0\n",
            "\u001b[32m✔\u001b[39m \u001b[34mreadr  \u001b[39m 1.3.1     \u001b[32m✔\u001b[39m \u001b[34mforcats\u001b[39m 0.5.0\n",
            "\n",
            "── \u001b[1mConflicts\u001b[22m ────────────────────────────────────────── tidyverse_conflicts() ──\n",
            "\u001b[31m✖\u001b[39m \u001b[34mdplyr\u001b[39m::\u001b[32mfilter()\u001b[39m masks \u001b[34mstats\u001b[39m::filter()\n",
            "\u001b[31m✖\u001b[39m \u001b[34mdplyr\u001b[39m::\u001b[32mlag()\u001b[39m    masks \u001b[34mstats\u001b[39m::lag()\n",
            "\n"
          ],
          "name": "stderr"
        }
      ]
    },
    {
      "cell_type": "markdown",
      "metadata": {
        "id": "AGOLL34jpZQN",
        "colab_type": "text"
      },
      "source": [
        "## Create directories"
      ]
    },
    {
      "cell_type": "code",
      "metadata": {
        "id": "YuiG-1zVFRHz",
        "colab_type": "code",
        "outputId": "1f0d7102-f151-44f8-dbbd-cce5a96a9105",
        "colab": {
          "base_uri": "https://localhost:8080/",
          "height": 34
        }
      },
      "source": [
        "home_dir = '/content'"
      ],
      "execution_count": 0,
      "outputs": [
        {
          "output_type": "display_data",
          "data": {
            "text/plain": [
              "[1] \"/content\""
            ],
            "text/latex": "'/content'",
            "text/markdown": "'/content'",
            "text/html": [
              "'/content'"
            ]
          },
          "metadata": {
            "tags": []
          }
        }
      ]
    },
    {
      "cell_type": "code",
      "metadata": {
        "id": "JLB4lKwzGAlk",
        "colab_type": "code",
        "colab": {}
      },
      "source": [
        "dir.create('data')\n",
        "dir.create('data/san_diego')\n",
        "dir.create('data/florida')\n",
        "dir.create('data/nyc')"
      ],
      "execution_count": 0,
      "outputs": []
    },
    {
      "cell_type": "markdown",
      "metadata": {
        "id": "jLv01ssbpg6E",
        "colab_type": "text"
      },
      "source": [
        "## California (San Diego)"
      ]
    },
    {
      "cell_type": "code",
      "metadata": {
        "id": "x1Bmz0UwGOpE",
        "colab_type": "code",
        "outputId": "a188aea6-4599-4bbd-ee8e-b62f95cd488e",
        "colab": {
          "base_uri": "https://localhost:8080/",
          "height": 34
        }
      },
      "source": [
        "## Set the working directory for San Diego\n",
        "san_diego_dir = paste0(home_dir, '/data/san_diego')\n",
        "setwd(san_diego_dir)\n",
        "getwd()"
      ],
      "execution_count": 0,
      "outputs": [
        {
          "output_type": "display_data",
          "data": {
            "text/plain": [
              "[1] \"/content/data/san_diego\""
            ],
            "text/latex": "'/content/data/san\\_diego'",
            "text/markdown": "'/content/data/san_diego'",
            "text/html": [
              "'/content/data/san_diego'"
            ]
          },
          "metadata": {
            "tags": []
          }
        }
      ]
    },
    {
      "cell_type": "code",
      "metadata": {
        "id": "_3naXVpKGlz4",
        "colab_type": "code",
        "colab": {}
      },
      "source": [
        "## Download the entire San Diego cases and deaths\n",
        "download.file('https://www.sandiegocounty.gov/content/dam/sdc/hhsa/programs/phs/Epidemiology/COVID-19%20Race%20and%20Ethnicity%20Summary.pdf', 'sd_cases.pdf')\n",
        "download.file('https://www.sandiegocounty.gov/content/dam/sdc/hhsa/programs/phs/Epidemiology/COVID-19%20Deaths%20by%20Demographics.pdf', 'sd_deaths.pdf')"
      ],
      "execution_count": 0,
      "outputs": []
    },
    {
      "cell_type": "code",
      "metadata": {
        "id": "4Eg9RmbAFZR3",
        "colab_type": "code",
        "outputId": "a00efdae-1458-4d1a-926e-9b0976f13034",
        "colab": {
          "base_uri": "https://localhost:8080/",
          "height": 34
        }
      },
      "source": [
        "## Show downloaded files\n",
        "list.files()"
      ],
      "execution_count": 0,
      "outputs": [
        {
          "output_type": "display_data",
          "data": {
            "text/plain": [
              "[1] \"sd_cases.pdf\"  \"sd_deaths.pdf\""
            ],
            "text/latex": "\\begin{enumerate*}\n\\item 'sd\\_cases.pdf'\n\\item 'sd\\_deaths.pdf'\n\\end{enumerate*}\n",
            "text/markdown": "1. 'sd_cases.pdf'\n2. 'sd_deaths.pdf'\n\n\n",
            "text/html": [
              "<style>\n",
              ".list-inline {list-style: none; margin:0; padding: 0}\n",
              ".list-inline>li {display: inline-block}\n",
              ".list-inline>li:not(:last-child)::after {content: \"\\00b7\"; padding: 0 .5ex}\n",
              "</style>\n",
              "<ol class=list-inline><li>'sd_cases.pdf'</li><li>'sd_deaths.pdf'</li></ol>\n"
            ]
          },
          "metadata": {
            "tags": []
          }
        }
      ]
    },
    {
      "cell_type": "code",
      "metadata": {
        "id": "oTVGgtoxFZVU",
        "colab_type": "code",
        "outputId": "8afe5198-8b25-4db3-dfb6-db2eca697f72",
        "colab": {
          "base_uri": "https://localhost:8080/",
          "height": 288
        }
      },
      "source": [
        "## Extracting cases from the PDF\n",
        "sd_cases_raw <- extract_tables('sd_cases.pdf', encoding=\"UTF-8\")[[1]]\n",
        "sd_cases_raw"
      ],
      "execution_count": 0,
      "outputs": [
        {
          "output_type": "display_data",
          "data": {
            "text/plain": [
              "      [,1]                      [,2]  [,3]                      \n",
              " [1,] COVID-19 Case Summary           San Diego County Residents\n",
              " [2,] Total Positives                 4,020                     \n",
              " [3,]                                 % of Total with Known     \n",
              " [4,] Race and Ethnicity        Count Race/Ethnicity (N=3,221)  \n",
              " [5,] Hispanic or Latino        1,765 54.8%                     \n",
              " [6,] White                     948   29.4%                     \n",
              " [7,] Black or African American 147   4.6%                      \n",
              " [8,] Asian                     283   8.8%                      \n",
              " [9,] Pacific Islander          34    1.1%                      \n",
              "[10,] American Indian           8     0.2%                      \n",
              "[11,] Multiple Race             36    1.1%                      \n",
              "[12,] Race/Ethnicity Unknown    799                             \n",
              "      [,4]             \n",
              " [1,]                  \n",
              " [2,]                  \n",
              " [3,]                  \n",
              " [4,] Rate per 100,000*\n",
              " [5,] 153.4            \n",
              " [6,] 62.1             \n",
              " [7,] 99.5             \n",
              " [8,] 77.7             \n",
              " [9,] 231.1            \n",
              "[10,]                  \n",
              "[11,] 32.1             \n",
              "[12,]                  "
            ],
            "text/latex": "A matrix: 12 × 4 of type chr\n\\begin{tabular}{llll}\n\t COVID-19 Case Summary     &       & San Diego County Residents &                  \\\\\n\t Total Positives           &       & 4,020                      &                  \\\\\n\t                           &       & \\% of Total with Known      &                  \\\\\n\t Race and Ethnicity        & Count & Race/Ethnicity (N=3,221)   & Rate per 100,000*\\\\\n\t Hispanic or Latino        & 1,765 & 54.8\\%                      & 153.4            \\\\\n\t White                     & 948   & 29.4\\%                      & 62.1             \\\\\n\t Black or African American & 147   & 4.6\\%                       & 99.5             \\\\\n\t Asian                     & 283   & 8.8\\%                       & 77.7             \\\\\n\t Pacific Islander          & 34    & 1.1\\%                       & 231.1            \\\\\n\t American Indian           & 8     & 0.2\\%                       &                  \\\\\n\t Multiple Race             & 36    & 1.1\\%                       & 32.1             \\\\\n\t Race/Ethnicity Unknown    & 799   &                            &                  \\\\\n\\end{tabular}\n",
            "text/markdown": "\nA matrix: 12 × 4 of type chr\n\n| COVID-19 Case Summary     | <!----> | San Diego County Residents | <!----> |\n| Total Positives           | <!----> | 4,020                      | <!----> |\n| <!----> | <!----> | % of Total with Known      | <!----> |\n| Race and Ethnicity        | Count | Race/Ethnicity (N=3,221)   | Rate per 100,000* |\n| Hispanic or Latino        | 1,765 | 54.8%                      | 153.4             |\n| White                     | 948   | 29.4%                      | 62.1              |\n| Black or African American | 147   | 4.6%                       | 99.5              |\n| Asian                     | 283   | 8.8%                       | 77.7              |\n| Pacific Islander          | 34    | 1.1%                       | 231.1             |\n| American Indian           | 8     | 0.2%                       | <!----> |\n| Multiple Race             | 36    | 1.1%                       | 32.1              |\n| Race/Ethnicity Unknown    | 799   | <!----> | <!----> |\n\n",
            "text/html": [
              "<table>\n",
              "<caption>A matrix: 12 × 4 of type chr</caption>\n",
              "<tbody>\n",
              "\t<tr><td>COVID-19 Case Summary    </td><td>     </td><td>San Diego County Residents</td><td>                 </td></tr>\n",
              "\t<tr><td>Total Positives          </td><td>     </td><td>4,020                     </td><td>                 </td></tr>\n",
              "\t<tr><td>                         </td><td>     </td><td>% of Total with Known     </td><td>                 </td></tr>\n",
              "\t<tr><td>Race and Ethnicity       </td><td>Count</td><td>Race/Ethnicity (N=3,221)  </td><td>Rate per 100,000*</td></tr>\n",
              "\t<tr><td>Hispanic or Latino       </td><td>1,765</td><td>54.8%                     </td><td>153.4            </td></tr>\n",
              "\t<tr><td>White                    </td><td>948  </td><td>29.4%                     </td><td>62.1             </td></tr>\n",
              "\t<tr><td>Black or African American</td><td>147  </td><td>4.6%                      </td><td>99.5             </td></tr>\n",
              "\t<tr><td>Asian                    </td><td>283  </td><td>8.8%                      </td><td>77.7             </td></tr>\n",
              "\t<tr><td>Pacific Islander         </td><td>34   </td><td>1.1%                      </td><td>231.1            </td></tr>\n",
              "\t<tr><td>American Indian          </td><td>8    </td><td>0.2%                      </td><td>                 </td></tr>\n",
              "\t<tr><td>Multiple Race            </td><td>36   </td><td>1.1%                      </td><td>32.1             </td></tr>\n",
              "\t<tr><td>Race/Ethnicity Unknown   </td><td>799  </td><td>                          </td><td>                 </td></tr>\n",
              "</tbody>\n",
              "</table>\n"
            ]
          },
          "metadata": {
            "tags": []
          }
        }
      ]
    },
    {
      "cell_type": "code",
      "metadata": {
        "id": "gRXsm2QzS2A_",
        "colab_type": "code",
        "outputId": "4df93365-72e2-4369-ec3e-e9d32762b734",
        "colab": {
          "base_uri": "https://localhost:8080/",
          "height": 246
        }
      },
      "source": [
        "## Get race/ethnicity breakdown from cases data\n",
        "id_start = which(sd_cases_raw[,1] == 'Race and Ethnicity')\n",
        "sd_cases = sd_cases_raw[id_start:nrow(sd_cases_raw), 1:2]\n",
        "colnames(sd_cases) = sd_cases[1,]\n",
        "sd_cases = sd_cases[-1,] %>% data.frame(stringsAsFactors = F)\n",
        "sd_cases$Count = gsub(',', '', sd_cases$Count) %>% as.numeric\n",
        "sd_cases"
      ],
      "execution_count": 0,
      "outputs": [
        {
          "output_type": "display_data",
          "data": {
            "text/plain": [
              "  Race.and.Ethnicity        Count\n",
              "1 Hispanic or Latino        1765 \n",
              "2 White                      948 \n",
              "3 Black or African American  147 \n",
              "4 Asian                      283 \n",
              "5 Pacific Islander            34 \n",
              "6 American Indian              8 \n",
              "7 Multiple Race               36 \n",
              "8 Race/Ethnicity Unknown     799 "
            ],
            "text/latex": "A data.frame: 8 × 2\n\\begin{tabular}{ll}\n Race.and.Ethnicity & Count\\\\\n <chr> & <dbl>\\\\\n\\hline\n\t Hispanic or Latino        & 1765\\\\\n\t White                     &  948\\\\\n\t Black or African American &  147\\\\\n\t Asian                     &  283\\\\\n\t Pacific Islander          &   34\\\\\n\t American Indian           &    8\\\\\n\t Multiple Race             &   36\\\\\n\t Race/Ethnicity Unknown    &  799\\\\\n\\end{tabular}\n",
            "text/markdown": "\nA data.frame: 8 × 2\n\n| Race.and.Ethnicity &lt;chr&gt; | Count &lt;dbl&gt; |\n|---|---|\n| Hispanic or Latino        | 1765 |\n| White                     |  948 |\n| Black or African American |  147 |\n| Asian                     |  283 |\n| Pacific Islander          |   34 |\n| American Indian           |    8 |\n| Multiple Race             |   36 |\n| Race/Ethnicity Unknown    |  799 |\n\n",
            "text/html": [
              "<table>\n",
              "<caption>A data.frame: 8 × 2</caption>\n",
              "<thead>\n",
              "\t<tr><th scope=col>Race.and.Ethnicity</th><th scope=col>Count</th></tr>\n",
              "\t<tr><th scope=col>&lt;chr&gt;</th><th scope=col>&lt;dbl&gt;</th></tr>\n",
              "</thead>\n",
              "<tbody>\n",
              "\t<tr><td>Hispanic or Latino       </td><td>1765</td></tr>\n",
              "\t<tr><td>White                    </td><td> 948</td></tr>\n",
              "\t<tr><td>Black or African American</td><td> 147</td></tr>\n",
              "\t<tr><td>Asian                    </td><td> 283</td></tr>\n",
              "\t<tr><td>Pacific Islander         </td><td>  34</td></tr>\n",
              "\t<tr><td>American Indian          </td><td>   8</td></tr>\n",
              "\t<tr><td>Multiple Race            </td><td>  36</td></tr>\n",
              "\t<tr><td>Race/Ethnicity Unknown   </td><td> 799</td></tr>\n",
              "</tbody>\n",
              "</table>\n"
            ]
          },
          "metadata": {
            "tags": []
          }
        }
      ]
    },
    {
      "cell_type": "code",
      "metadata": {
        "id": "zznSDGGDFZYj",
        "colab_type": "code",
        "outputId": "b70b99b4-94e9-4b6c-d28d-97de95efb376",
        "colab": {
          "base_uri": "https://localhost:8080/",
          "height": 607
        }
      },
      "source": [
        "## Extracting deaths from the PDF\n",
        "sd_deaths_raw <- extract_tables('sd_deaths.pdf', encoding=\"UTF-8\")[[1]]\n",
        "sd_deaths_raw"
      ],
      "execution_count": 0,
      "outputs": [
        {
          "output_type": "display_data",
          "data": {
            "text/plain": [
              "      [,1]                                           \n",
              " [1,]                                                \n",
              " [2,] Total Deaths                                   \n",
              " [3,] % of Deaths with Known Selected Characteristics\n",
              " [4,]                                                \n",
              " [5,] Age Groups                                     \n",
              " [6,] 0-9 years                                      \n",
              " [7,] 10-19 years                                    \n",
              " [8,] 20-29 years                                    \n",
              " [9,] 30-39 years                                    \n",
              "[10,] 40-49 years                                    \n",
              "[11,] 50-59 years                                    \n",
              "[12,] 60-69 years                                    \n",
              "[13,] 70-79 years                                    \n",
              "[14,] 80+ years                                      \n",
              "[15,] Age Unknown                                    \n",
              "[16,] Gender                                         \n",
              "[17,] Female                                         \n",
              "[18,] Male                                           \n",
              "[19,] Gender Unknown                                 \n",
              "[20,]                                                \n",
              "[21,] Hispanic or Latino                             \n",
              "[22,] White                                          \n",
              "[23,] Black or African American                      \n",
              "[24,] Asian                                          \n",
              "[25,] Pacific Islander                               \n",
              "[26,] American Indian                                \n",
              "[27,] Multiple Race                                  \n",
              "[28,] Race/Ethnicity Unknown                         \n",
              "      [,2]                      \n",
              " [1,] San Diego County Residents\n",
              " [2,] 144                       \n",
              " [3,] Count                     \n",
              " [4,] Demographics              \n",
              " [5,]                           \n",
              " [6,] 0 0.0%                    \n",
              " [7,] 0 0.0%                    \n",
              " [8,] 2 1.4%                    \n",
              " [9,] 2 1.4%                    \n",
              "[10,] 4 2.8%                    \n",
              "[11,] 12 8.3%                   \n",
              "[12,] 20 13.9%                  \n",
              "[13,] 35 24.3%                  \n",
              "[14,] 69 47.9%                  \n",
              "[15,] 0                         \n",
              "[16,]                           \n",
              "[17,] 63 43.8%                  \n",
              "[18,] 81 56.3%                  \n",
              "[19,] 0                         \n",
              "[20,]                           \n",
              "[21,] 51 37.8%                  \n",
              "[22,] 67 49.6%                  \n",
              "[23,] 4 3.0%                    \n",
              "[24,] 10 7.4%                   \n",
              "[25,] 1 0.7%                    \n",
              "[26,] 1 0.7%                    \n",
              "[27,] 1 0.7%                    \n",
              "[28,] 9                         "
            ],
            "text/latex": "A matrix: 28 × 2 of type chr\n\\begin{tabular}{ll}\n\t                                                 & San Diego County Residents\\\\\n\t Total Deaths                                    & 144                       \\\\\n\t \\% of Deaths with Known Selected Characteristics & Count                     \\\\\n\t                                                 & Demographics              \\\\\n\t Age Groups                                      &                           \\\\\n\t 0-9 years                                       & 0 0.0\\%                    \\\\\n\t 10-19 years                                     & 0 0.0\\%                    \\\\\n\t 20-29 years                                     & 2 1.4\\%                    \\\\\n\t 30-39 years                                     & 2 1.4\\%                    \\\\\n\t 40-49 years                                     & 4 2.8\\%                    \\\\\n\t 50-59 years                                     & 12 8.3\\%                   \\\\\n\t 60-69 years                                     & 20 13.9\\%                  \\\\\n\t 70-79 years                                     & 35 24.3\\%                  \\\\\n\t 80+ years                                       & 69 47.9\\%                  \\\\\n\t Age Unknown                                     & 0                         \\\\\n\t Gender                                          &                           \\\\\n\t Female                                          & 63 43.8\\%                  \\\\\n\t Male                                            & 81 56.3\\%                  \\\\\n\t Gender Unknown                                  & 0                         \\\\\n\t                                                 &                           \\\\\n\t Hispanic or Latino                              & 51 37.8\\%                  \\\\\n\t White                                           & 67 49.6\\%                  \\\\\n\t Black or African American                       & 4 3.0\\%                    \\\\\n\t Asian                                           & 10 7.4\\%                   \\\\\n\t Pacific Islander                                & 1 0.7\\%                    \\\\\n\t American Indian                                 & 1 0.7\\%                    \\\\\n\t Multiple Race                                   & 1 0.7\\%                    \\\\\n\t Race/Ethnicity Unknown                          & 9                         \\\\\n\\end{tabular}\n",
            "text/markdown": "\nA matrix: 28 × 2 of type chr\n\n| <!----> | San Diego County Residents |\n| Total Deaths                                    | 144                        |\n| % of Deaths with Known Selected Characteristics | Count                      |\n| <!----> | Demographics               |\n| Age Groups                                      | <!----> |\n| 0-9 years                                       | 0 0.0%                     |\n| 10-19 years                                     | 0 0.0%                     |\n| 20-29 years                                     | 2 1.4%                     |\n| 30-39 years                                     | 2 1.4%                     |\n| 40-49 years                                     | 4 2.8%                     |\n| 50-59 years                                     | 12 8.3%                    |\n| 60-69 years                                     | 20 13.9%                   |\n| 70-79 years                                     | 35 24.3%                   |\n| 80+ years                                       | 69 47.9%                   |\n| Age Unknown                                     | 0                          |\n| Gender                                          | <!----> |\n| Female                                          | 63 43.8%                   |\n| Male                                            | 81 56.3%                   |\n| Gender Unknown                                  | 0                          |\n| <!----> | <!----> |\n| Hispanic or Latino                              | 51 37.8%                   |\n| White                                           | 67 49.6%                   |\n| Black or African American                       | 4 3.0%                     |\n| Asian                                           | 10 7.4%                    |\n| Pacific Islander                                | 1 0.7%                     |\n| American Indian                                 | 1 0.7%                     |\n| Multiple Race                                   | 1 0.7%                     |\n| Race/Ethnicity Unknown                          | 9                          |\n\n",
            "text/html": [
              "<table>\n",
              "<caption>A matrix: 28 × 2 of type chr</caption>\n",
              "<tbody>\n",
              "\t<tr><td>                                               </td><td>San Diego County Residents</td></tr>\n",
              "\t<tr><td>Total Deaths                                   </td><td>144                       </td></tr>\n",
              "\t<tr><td>% of Deaths with Known Selected Characteristics</td><td>Count                     </td></tr>\n",
              "\t<tr><td>                                               </td><td>Demographics              </td></tr>\n",
              "\t<tr><td>Age Groups                                     </td><td>                          </td></tr>\n",
              "\t<tr><td>0-9 years                                      </td><td>0 0.0%                    </td></tr>\n",
              "\t<tr><td>10-19 years                                    </td><td>0 0.0%                    </td></tr>\n",
              "\t<tr><td>20-29 years                                    </td><td>2 1.4%                    </td></tr>\n",
              "\t<tr><td>30-39 years                                    </td><td>2 1.4%                    </td></tr>\n",
              "\t<tr><td>40-49 years                                    </td><td>4 2.8%                    </td></tr>\n",
              "\t<tr><td>50-59 years                                    </td><td>12 8.3%                   </td></tr>\n",
              "\t<tr><td>60-69 years                                    </td><td>20 13.9%                  </td></tr>\n",
              "\t<tr><td>70-79 years                                    </td><td>35 24.3%                  </td></tr>\n",
              "\t<tr><td>80+ years                                      </td><td>69 47.9%                  </td></tr>\n",
              "\t<tr><td>Age Unknown                                    </td><td>0                         </td></tr>\n",
              "\t<tr><td>Gender                                         </td><td>                          </td></tr>\n",
              "\t<tr><td>Female                                         </td><td>63 43.8%                  </td></tr>\n",
              "\t<tr><td>Male                                           </td><td>81 56.3%                  </td></tr>\n",
              "\t<tr><td>Gender Unknown                                 </td><td>0                         </td></tr>\n",
              "\t<tr><td>                                               </td><td>                          </td></tr>\n",
              "\t<tr><td>Hispanic or Latino                             </td><td>51 37.8%                  </td></tr>\n",
              "\t<tr><td>White                                          </td><td>67 49.6%                  </td></tr>\n",
              "\t<tr><td>Black or African American                      </td><td>4 3.0%                    </td></tr>\n",
              "\t<tr><td>Asian                                          </td><td>10 7.4%                   </td></tr>\n",
              "\t<tr><td>Pacific Islander                               </td><td>1 0.7%                    </td></tr>\n",
              "\t<tr><td>American Indian                                </td><td>1 0.7%                    </td></tr>\n",
              "\t<tr><td>Multiple Race                                  </td><td>1 0.7%                    </td></tr>\n",
              "\t<tr><td>Race/Ethnicity Unknown                         </td><td>9                         </td></tr>\n",
              "</tbody>\n",
              "</table>\n"
            ]
          },
          "metadata": {
            "tags": []
          }
        }
      ]
    },
    {
      "cell_type": "code",
      "metadata": {
        "id": "NLQP2_JkFZbf",
        "colab_type": "code",
        "outputId": "838b710c-90be-4129-a2ee-dde15e2487a1",
        "colab": {
          "base_uri": "https://localhost:8080/",
          "height": 297
        }
      },
      "source": [
        "## Get race/ethnicity breakdown from deaths data\n",
        "id_start = which(sd_deaths_raw[,1] == 'Hispanic or Latino'); id_start\n",
        "sd_deaths = sd_deaths_raw[id_start:nrow(sd_deaths_raw), ]\n",
        "colnames(sd_deaths) = c('Race_Ethnicity', 'Values')\n",
        "sd_deaths = sd_deaths %>% data.frame(stringsAsFactors = F)\n",
        "sd_deaths = sd_deaths %>% \n",
        "    separate(Values, c('Count', 'Percent'), sep=' ') %>%\n",
        "    mutate(Count = as.numeric(Count))\n",
        "sd_deaths"
      ],
      "execution_count": 0,
      "outputs": [
        {
          "output_type": "display_data",
          "data": {
            "text/plain": [
              "[1] 21"
            ],
            "text/latex": "21",
            "text/markdown": "21",
            "text/html": [
              "21"
            ]
          },
          "metadata": {
            "tags": []
          }
        },
        {
          "output_type": "stream",
          "text": [
            "Warning message:\n",
            "“Expected 2 pieces. Missing pieces filled with `NA` in 1 rows [8].”\n"
          ],
          "name": "stderr"
        },
        {
          "output_type": "display_data",
          "data": {
            "text/plain": [
              "  Race_Ethnicity            Count Percent\n",
              "1 Hispanic or Latino        51    37.8%  \n",
              "2 White                     67    49.6%  \n",
              "3 Black or African American  4    3.0%   \n",
              "4 Asian                     10    7.4%   \n",
              "5 Pacific Islander           1    0.7%   \n",
              "6 American Indian            1    0.7%   \n",
              "7 Multiple Race              1    0.7%   \n",
              "8 Race/Ethnicity Unknown     9    NA     "
            ],
            "text/latex": "A data.frame: 8 × 3\n\\begin{tabular}{lll}\n Race\\_Ethnicity & Count & Percent\\\\\n <chr> & <dbl> & <chr>\\\\\n\\hline\n\t Hispanic or Latino        & 51 & 37.8\\%\\\\\n\t White                     & 67 & 49.6\\%\\\\\n\t Black or African American &  4 & 3.0\\% \\\\\n\t Asian                     & 10 & 7.4\\% \\\\\n\t Pacific Islander          &  1 & 0.7\\% \\\\\n\t American Indian           &  1 & 0.7\\% \\\\\n\t Multiple Race             &  1 & 0.7\\% \\\\\n\t Race/Ethnicity Unknown    &  9 & NA   \\\\\n\\end{tabular}\n",
            "text/markdown": "\nA data.frame: 8 × 3\n\n| Race_Ethnicity &lt;chr&gt; | Count &lt;dbl&gt; | Percent &lt;chr&gt; |\n|---|---|---|\n| Hispanic or Latino        | 51 | 37.8% |\n| White                     | 67 | 49.6% |\n| Black or African American |  4 | 3.0%  |\n| Asian                     | 10 | 7.4%  |\n| Pacific Islander          |  1 | 0.7%  |\n| American Indian           |  1 | 0.7%  |\n| Multiple Race             |  1 | 0.7%  |\n| Race/Ethnicity Unknown    |  9 | NA    |\n\n",
            "text/html": [
              "<table>\n",
              "<caption>A data.frame: 8 × 3</caption>\n",
              "<thead>\n",
              "\t<tr><th scope=col>Race_Ethnicity</th><th scope=col>Count</th><th scope=col>Percent</th></tr>\n",
              "\t<tr><th scope=col>&lt;chr&gt;</th><th scope=col>&lt;dbl&gt;</th><th scope=col>&lt;chr&gt;</th></tr>\n",
              "</thead>\n",
              "<tbody>\n",
              "\t<tr><td>Hispanic or Latino       </td><td>51</td><td>37.8%</td></tr>\n",
              "\t<tr><td>White                    </td><td>67</td><td>49.6%</td></tr>\n",
              "\t<tr><td>Black or African American</td><td> 4</td><td>3.0% </td></tr>\n",
              "\t<tr><td>Asian                    </td><td>10</td><td>7.4% </td></tr>\n",
              "\t<tr><td>Pacific Islander         </td><td> 1</td><td>0.7% </td></tr>\n",
              "\t<tr><td>American Indian          </td><td> 1</td><td>0.7% </td></tr>\n",
              "\t<tr><td>Multiple Race            </td><td> 1</td><td>0.7% </td></tr>\n",
              "\t<tr><td>Race/Ethnicity Unknown   </td><td> 9</td><td>NA   </td></tr>\n",
              "</tbody>\n",
              "</table>\n"
            ]
          },
          "metadata": {
            "tags": []
          }
        }
      ]
    },
    {
      "cell_type": "code",
      "metadata": {
        "id": "B6aRcQojFZfD",
        "colab_type": "code",
        "outputId": "955cc3c1-ef49-42b4-837c-404af548a583",
        "colab": {
          "base_uri": "https://localhost:8080/",
          "height": 34
        }
      },
      "source": [
        "## Total and AA percentage of cases\n",
        "sd_total_cases = sd_cases$Count %>% sum\n",
        "\n",
        "sd_aa_cases = sd_cases %>%\n",
        "filter(Race.and.Ethnicity == 'Black or African American') %>%\n",
        "select(Count) %>%\n",
        ".[1,1]\n",
        "\n",
        "sd_aa_cases_pct = round(100 * sd_aa_cases / sd_total_cases, 2) #; sd_aa_cases_pct"
      ],
      "execution_count": 0,
      "outputs": [
        {
          "output_type": "display_data",
          "data": {
            "text/plain": [
              "[1] 3.66"
            ],
            "text/latex": "3.66",
            "text/markdown": "3.66",
            "text/html": [
              "3.66"
            ]
          },
          "metadata": {
            "tags": []
          }
        }
      ]
    },
    {
      "cell_type": "code",
      "metadata": {
        "id": "QI5djL9zWrv5",
        "colab_type": "code",
        "outputId": "c3725c51-f423-4080-b578-22a14d966ec1",
        "colab": {
          "base_uri": "https://localhost:8080/",
          "height": 68
        }
      },
      "source": [
        "## Total and AA percentage of deaths\n",
        "sd_total_deaths = sd_deaths$Count %>% sum #; sd_total_deaths\n",
        "\n",
        "sd_aa_deaths = sd_deaths %>%\n",
        "filter(Race_Ethnicity == 'Black or African American') %>%\n",
        "select(Count) %>%\n",
        ".[1,1] #; sd_aa_deaths\n",
        "\n",
        "sd_aa_deaths_pct = round(100 * sd_aa_deaths / sd_total_deaths, 2) #; sd_aa_deaths_pct"
      ],
      "execution_count": 0,
      "outputs": [
        {
          "output_type": "display_data",
          "data": {
            "text/plain": [
              "[1] 144"
            ],
            "text/latex": "144",
            "text/markdown": "144",
            "text/html": [
              "144"
            ]
          },
          "metadata": {
            "tags": []
          }
        },
        {
          "output_type": "display_data",
          "data": {
            "text/plain": [
              "[1] 4"
            ],
            "text/latex": "4",
            "text/markdown": "4",
            "text/html": [
              "4"
            ]
          },
          "metadata": {
            "tags": []
          }
        },
        {
          "output_type": "display_data",
          "data": {
            "text/plain": [
              "[1] 2.78"
            ],
            "text/latex": "2.78",
            "text/markdown": "2.78",
            "text/html": [
              "2.78"
            ]
          },
          "metadata": {
            "tags": []
          }
        }
      ]
    },
    {
      "cell_type": "code",
      "metadata": {
        "id": "QMv53iL3sB4M",
        "colab_type": "code",
        "outputId": "0e140336-fe03-404d-ad5a-1ceb2780f4a0",
        "colab": {
          "base_uri": "https://localhost:8080/",
          "height": 99
        }
      },
      "source": [
        "## Summary table for San Diego\n",
        "sd_date = Sys.Date() %>% format('%-m/%-d/%Y')\n",
        "\n",
        "output_sd = tibble(\n",
        "    `Location` = 'California - San Diego',\n",
        "    `Date Published` = sd_date, \n",
        "    `Total Cases` = sd_total_cases,\n",
        "    `Total Deaths` = sd_total_deaths,\n",
        "    `Pct Cases Black/AA` = sd_aa_cases_pct,\n",
        "    `Pct Deaths Black/AA` = sd_aa_deaths_pct)\n",
        "\n",
        "output_sd"
      ],
      "execution_count": 0,
      "outputs": [
        {
          "output_type": "display_data",
          "data": {
            "text/plain": [
              "  Location               Date Published Total Cases Total Deaths\n",
              "1 California - San Diego 5/5/2020       4020        144         \n",
              "  Pct Cases Black/AA Pct Deaths Black/AA\n",
              "1 3.66               2.78               "
            ],
            "text/latex": "A tibble: 1 × 6\n\\begin{tabular}{llllll}\n Location & Date Published & Total Cases & Total Deaths & Pct Cases Black/AA & Pct Deaths Black/AA\\\\\n <chr> & <chr> & <dbl> & <dbl> & <dbl> & <dbl>\\\\\n\\hline\n\t California - San Diego & 5/5/2020 & 4020 & 144 & 3.66 & 2.78\\\\\n\\end{tabular}\n",
            "text/markdown": "\nA tibble: 1 × 6\n\n| Location &lt;chr&gt; | Date Published &lt;chr&gt; | Total Cases &lt;dbl&gt; | Total Deaths &lt;dbl&gt; | Pct Cases Black/AA &lt;dbl&gt; | Pct Deaths Black/AA &lt;dbl&gt; |\n|---|---|---|---|---|---|\n| California - San Diego | 5/5/2020 | 4020 | 144 | 3.66 | 2.78 |\n\n",
            "text/html": [
              "<table>\n",
              "<caption>A tibble: 1 × 6</caption>\n",
              "<thead>\n",
              "\t<tr><th scope=col>Location</th><th scope=col>Date Published</th><th scope=col>Total Cases</th><th scope=col>Total Deaths</th><th scope=col>Pct Cases Black/AA</th><th scope=col>Pct Deaths Black/AA</th></tr>\n",
              "\t<tr><th scope=col>&lt;chr&gt;</th><th scope=col>&lt;chr&gt;</th><th scope=col>&lt;dbl&gt;</th><th scope=col>&lt;dbl&gt;</th><th scope=col>&lt;dbl&gt;</th><th scope=col>&lt;dbl&gt;</th></tr>\n",
              "</thead>\n",
              "<tbody>\n",
              "\t<tr><td>California - San Diego</td><td>5/5/2020</td><td>4020</td><td>144</td><td>3.66</td><td>2.78</td></tr>\n",
              "</tbody>\n",
              "</table>\n"
            ]
          },
          "metadata": {
            "tags": []
          }
        }
      ]
    },
    {
      "cell_type": "markdown",
      "metadata": {
        "id": "pIPyTPi9WsQY",
        "colab_type": "text"
      },
      "source": [
        "## Florida"
      ]
    },
    {
      "cell_type": "code",
      "metadata": {
        "id": "Vz6Kxrh4Wry-",
        "colab_type": "code",
        "outputId": "14318a0e-8b46-4513-98ad-64c871cf8fab",
        "colab": {
          "base_uri": "https://localhost:8080/",
          "height": 34
        }
      },
      "source": [
        "## Set the working directory for Florida\n",
        "florida_dir = paste0(home_dir, '/data/florida')\n",
        "setwd(florida_dir)\n",
        "getwd()"
      ],
      "execution_count": 0,
      "outputs": [
        {
          "output_type": "display_data",
          "data": {
            "text/plain": [
              "[1] \"/content/data/florida\""
            ],
            "text/latex": "'/content/data/florida'",
            "text/markdown": "'/content/data/florida'",
            "text/html": [
              "'/content/data/florida'"
            ]
          },
          "metadata": {
            "tags": []
          }
        }
      ]
    },
    {
      "cell_type": "code",
      "metadata": {
        "id": "NWTNs6ALWt-4",
        "colab_type": "code",
        "colab": {}
      },
      "source": [
        "## Download the entire Florida document\n",
        "## TO DO: Crawl archive page to automatically detect the latest report\n",
        "download.file(\"https://floridadisaster.org/globalassets/covid19/dailies/covid-19-data---daily-report-2020-05-04-0943.pdf\", 'florida.pdf')"
      ],
      "execution_count": 0,
      "outputs": []
    },
    {
      "cell_type": "code",
      "metadata": {
        "id": "8wvMDmq2WuB_",
        "colab_type": "code",
        "colab": {}
      },
      "source": [
        "## Can use this alternative downloading mechanism if needed\n",
        "#system(\"wget -O florida.pdf 'https://floridadisaster.org/globalassets/covid19/dailies/covid-19-data---daily-report-2020-05-03-1007.pdf'\", intern=T)"
      ],
      "execution_count": 0,
      "outputs": []
    },
    {
      "cell_type": "code",
      "metadata": {
        "id": "wWdSfQ0uyoDI",
        "colab_type": "code",
        "colab": {}
      },
      "source": [
        "## Get the 3rd page of the Florida summary document, as it contains the Race/Ethnicity breakdown\n",
        "run('qpdf --empty --pages florida.pdf 3 -- florida_page_3.pdf')"
      ],
      "execution_count": 0,
      "outputs": []
    },
    {
      "cell_type": "code",
      "metadata": {
        "id": "6PIfCmo6WuFN",
        "colab_type": "code",
        "outputId": "4ca81a3e-0bfe-4428-9162-c6ea5b5ff1b0",
        "colab": {
          "base_uri": "https://localhost:8080/",
          "height": 34
        }
      },
      "source": [
        "## Show the original PDF along with the document that only contains page 3\n",
        "list.files()"
      ],
      "execution_count": 0,
      "outputs": [
        {
          "output_type": "display_data",
          "data": {
            "text/plain": [
              "[1] \"florida_page_3.pdf\" \"florida.pdf\"       "
            ],
            "text/latex": "\\begin{enumerate*}\n\\item 'florida\\_page\\_3.pdf'\n\\item 'florida.pdf'\n\\end{enumerate*}\n",
            "text/markdown": "1. 'florida_page_3.pdf'\n2. 'florida.pdf'\n\n\n",
            "text/html": [
              "<style>\n",
              ".list-inline {list-style: none; margin:0; padding: 0}\n",
              ".list-inline>li {display: inline-block}\n",
              ".list-inline>li:not(:last-child)::after {content: \"\\00b7\"; padding: 0 .5ex}\n",
              "</style>\n",
              "<ol class=list-inline><li>'florida_page_3.pdf'</li><li>'florida.pdf'</li></ol>\n"
            ]
          },
          "metadata": {
            "tags": []
          }
        }
      ]
    },
    {
      "cell_type": "code",
      "metadata": {
        "id": "Z3QfwNVMVY6K",
        "colab_type": "code",
        "outputId": "8529aa10-9632-43e4-970f-05b3a6204335",
        "colab": {
          "base_uri": "https://localhost:8080/",
          "height": 34
        }
      },
      "source": [
        "## Use function in tabulizer package to detect the page dimensions. \n",
        "## This is required in order to select the area of the page that contains the Race/Ethnicity table (second half of the page)\n",
        "## Otherwise, the function will fail to find the specific table we want.\n",
        "page_dims = get_page_dims('florida_page_3.pdf')\n",
        "page_width = page_dims[[1]][1]\n",
        "page_height = page_dims[[1]][2]\n",
        "c(page_width, page_height)"
      ],
      "execution_count": 0,
      "outputs": [
        {
          "output_type": "display_data",
          "data": {
            "text/plain": [
              "[1]  941.54 1218.46"
            ],
            "text/latex": "\\begin{enumerate*}\n\\item 941.539978027344\n\\item 1218.4599609375\n\\end{enumerate*}\n",
            "text/markdown": "1. 941.539978027344\n2. 1218.4599609375\n\n\n",
            "text/html": [
              "<style>\n",
              ".list-inline {list-style: none; margin:0; padding: 0}\n",
              ".list-inline>li {display: inline-block}\n",
              ".list-inline>li:not(:last-child)::after {content: \"\\00b7\"; padding: 0 .5ex}\n",
              "</style>\n",
              "<ol class=list-inline><li>941.539978027344</li><li>1218.4599609375</li></ol>\n"
            ]
          },
          "metadata": {
            "tags": []
          }
        }
      ]
    },
    {
      "cell_type": "code",
      "metadata": {
        "id": "tEL3bOL1Vr6K",
        "colab_type": "code",
        "outputId": "18bb446d-80eb-40d8-b73a-120be169483c",
        "colab": {
          "base_uri": "https://localhost:8080/",
          "height": 792
        }
      },
      "source": [
        "# Area must be specified as c(top,left,bottom,right) \n",
        "\n",
        "# Source: https://stackoverflow.com/questions/45457054/tabula-extract-tables-by-area-coordinates\n",
        "\n",
        "## TO DO: Check whether the race/ethnicity table is always located in this same region every day. \n",
        "##        Can check archives and continue to monitor new reports.\n",
        "\n",
        "area1 = c(page_height, 1, 0.55*page_height, page_width)\n",
        "\n",
        "## Extract the data from page 3 of the Florida report\n",
        "florida_raw <- extract_tables('florida_page_3.pdf', encoding=\"UTF-8\", area=list(area1))[[1]]\n",
        "florida_raw"
      ],
      "execution_count": 0,
      "outputs": [
        {
          "output_type": "display_data",
          "data": {
            "text/plain": [
              "      [,1]              [,2]   [,3] [,4]             [,5]   [,6] [,7]    [,8]  \n",
              " [1,] Age group         Cases       Hospitalizations Deaths      Gender  Cases \n",
              " [2,] 0-4 years         195    1%   12 0%            0      0%   Male    17,969\n",
              " [3,] 5-14 years        420    1%   10 0%            0      0%   Female  17,963\n",
              " [4,] 15-24 years       2,723  8%   80 1%            0      0%   Unknown 37    \n",
              " [5,] 25-34 years       5,314  15%  287 5%           12     1%   Total   35,969\n",
              " [6,] 35-44 years       5,443  15%  521 9%           27     2%                 \n",
              " [7,] 45-54 years       6,476  18%  800 13%          56     4%                 \n",
              " [8,] 55-64 years       6,138  17%  1,060 17%        143    10%                \n",
              " [9,] 65-74 years       4,484  12%  1,343 22%        321    23%                \n",
              "[10,] 75-84 years       2,926  8%   1,211 20%        423    30%                \n",
              "[11,] 85+ years         1,838  5%   795 13%          417    30%                \n",
              "[12,] Unknown           12     0%   0 0%             0      0%                 \n",
              "[13,] Total             35,969      6,119            1,399                     \n",
              "[14,] Ethnicity         Cases       Hospitalizations Deaths                    \n",
              "[15,] Hispanic          10,794 30%  1,826 30%        290    21%                \n",
              "[16,] Non-Hispanic      16,332 45%  3,834 63%        979    70%                \n",
              "[17,] Unknown           8,843  25%  459 8%           130    9%                 \n",
              "[18,] Total             35,969      6,119            1,399                     \n",
              "[19,] Race, ethnicity   Cases       Hospitalizations Deaths                    \n",
              "[20,] White             18,347 51%  3,668 60%        936    67%                \n",
              "[21,] Hispanic          8,411  23%  1,379 23%        235    17%                \n",
              "[22,] Non-Hispanic      9,088  25%  2,148 35%        658    47%                \n",
              "[23,] Unknown ethnicity 848    2%   141 2%           43     3%                 \n",
              "[24,] Black             6,697  19%  1,587 26%        304    22%                \n",
              "[25,] Hispanic          406    1%   97 2%            11     1%                 \n",
              "[26,] Non-Hispanic      5,959  17%  1,431 23%        276    20%                \n",
              "[27,] Unknown ethnicity 332    1%   59 1%            17     1%                 \n",
              "[28,] Other             3,032  8%   605 10%          87     6%                 \n",
              "[29,] Hispanic          1,509  4%   308 5%           38     3%                 \n",
              "[30,] Non-Hispanic      1,137  3%   233 4%           40     3%                 \n",
              "[31,] Unknown ethnicity 386    1%   64 1%            9      1%                 \n",
              "[32,] Unknown race      7,893  22%  259 4%           72     5%                 \n",
              "[33,] Hispanic          468    1%   42 1%            6      0%                 \n",
              "[34,] Non-Hispanic      148    0%   22 0%            5      0%                 \n",
              "[35,] Unknown ethnicity 7,277  20%  195 3%           61     4%                 \n",
              "[36,] Total             35,969      6,119            1,399                     \n",
              "      [,9]\n",
              " [1,]     \n",
              " [2,] 50% \n",
              " [3,] 50% \n",
              " [4,] 0%  \n",
              " [5,]     \n",
              " [6,]     \n",
              " [7,]     \n",
              " [8,]     \n",
              " [9,]     \n",
              "[10,]     \n",
              "[11,]     \n",
              "[12,]     \n",
              "[13,]     \n",
              "[14,]     \n",
              "[15,]     \n",
              "[16,]     \n",
              "[17,]     \n",
              "[18,]     \n",
              "[19,]     \n",
              "[20,]     \n",
              "[21,]     \n",
              "[22,]     \n",
              "[23,]     \n",
              "[24,]     \n",
              "[25,]     \n",
              "[26,]     \n",
              "[27,]     \n",
              "[28,]     \n",
              "[29,]     \n",
              "[30,]     \n",
              "[31,]     \n",
              "[32,]     \n",
              "[33,]     \n",
              "[34,]     \n",
              "[35,]     \n",
              "[36,]     "
            ],
            "text/latex": "A matrix: 36 × 9 of type chr\n\\begin{tabular}{lllllllll}\n\t Age group         & Cases  &     & Hospitalizations & Deaths &     & Gender  & Cases  &    \\\\\n\t 0-4 years         & 195    & 1\\%  & 12 0\\%            & 0      & 0\\%  & Male    & 17,969 & 50\\%\\\\\n\t 5-14 years        & 420    & 1\\%  & 10 0\\%            & 0      & 0\\%  & Female  & 17,963 & 50\\%\\\\\n\t 15-24 years       & 2,723  & 8\\%  & 80 1\\%            & 0      & 0\\%  & Unknown & 37     & 0\\% \\\\\n\t 25-34 years       & 5,314  & 15\\% & 287 5\\%           & 12     & 1\\%  & Total   & 35,969 &    \\\\\n\t 35-44 years       & 5,443  & 15\\% & 521 9\\%           & 27     & 2\\%  &         &        &    \\\\\n\t 45-54 years       & 6,476  & 18\\% & 800 13\\%          & 56     & 4\\%  &         &        &    \\\\\n\t 55-64 years       & 6,138  & 17\\% & 1,060 17\\%        & 143    & 10\\% &         &        &    \\\\\n\t 65-74 years       & 4,484  & 12\\% & 1,343 22\\%        & 321    & 23\\% &         &        &    \\\\\n\t 75-84 years       & 2,926  & 8\\%  & 1,211 20\\%        & 423    & 30\\% &         &        &    \\\\\n\t 85+ years         & 1,838  & 5\\%  & 795 13\\%          & 417    & 30\\% &         &        &    \\\\\n\t Unknown           & 12     & 0\\%  & 0 0\\%             & 0      & 0\\%  &         &        &    \\\\\n\t Total             & 35,969 &     & 6,119            & 1,399  &     &         &        &    \\\\\n\t Ethnicity         & Cases  &     & Hospitalizations & Deaths &     &         &        &    \\\\\n\t Hispanic          & 10,794 & 30\\% & 1,826 30\\%        & 290    & 21\\% &         &        &    \\\\\n\t Non-Hispanic      & 16,332 & 45\\% & 3,834 63\\%        & 979    & 70\\% &         &        &    \\\\\n\t Unknown           & 8,843  & 25\\% & 459 8\\%           & 130    & 9\\%  &         &        &    \\\\\n\t Total             & 35,969 &     & 6,119            & 1,399  &     &         &        &    \\\\\n\t Race, ethnicity   & Cases  &     & Hospitalizations & Deaths &     &         &        &    \\\\\n\t White             & 18,347 & 51\\% & 3,668 60\\%        & 936    & 67\\% &         &        &    \\\\\n\t Hispanic          & 8,411  & 23\\% & 1,379 23\\%        & 235    & 17\\% &         &        &    \\\\\n\t Non-Hispanic      & 9,088  & 25\\% & 2,148 35\\%        & 658    & 47\\% &         &        &    \\\\\n\t Unknown ethnicity & 848    & 2\\%  & 141 2\\%           & 43     & 3\\%  &         &        &    \\\\\n\t Black             & 6,697  & 19\\% & 1,587 26\\%        & 304    & 22\\% &         &        &    \\\\\n\t Hispanic          & 406    & 1\\%  & 97 2\\%            & 11     & 1\\%  &         &        &    \\\\\n\t Non-Hispanic      & 5,959  & 17\\% & 1,431 23\\%        & 276    & 20\\% &         &        &    \\\\\n\t Unknown ethnicity & 332    & 1\\%  & 59 1\\%            & 17     & 1\\%  &         &        &    \\\\\n\t Other             & 3,032  & 8\\%  & 605 10\\%          & 87     & 6\\%  &         &        &    \\\\\n\t Hispanic          & 1,509  & 4\\%  & 308 5\\%           & 38     & 3\\%  &         &        &    \\\\\n\t Non-Hispanic      & 1,137  & 3\\%  & 233 4\\%           & 40     & 3\\%  &         &        &    \\\\\n\t Unknown ethnicity & 386    & 1\\%  & 64 1\\%            & 9      & 1\\%  &         &        &    \\\\\n\t Unknown race      & 7,893  & 22\\% & 259 4\\%           & 72     & 5\\%  &         &        &    \\\\\n\t Hispanic          & 468    & 1\\%  & 42 1\\%            & 6      & 0\\%  &         &        &    \\\\\n\t Non-Hispanic      & 148    & 0\\%  & 22 0\\%            & 5      & 0\\%  &         &        &    \\\\\n\t Unknown ethnicity & 7,277  & 20\\% & 195 3\\%           & 61     & 4\\%  &         &        &    \\\\\n\t Total             & 35,969 &     & 6,119            & 1,399  &     &         &        &    \\\\\n\\end{tabular}\n",
            "text/markdown": "\nA matrix: 36 × 9 of type chr\n\n| Age group         | Cases  | <!----> | Hospitalizations | Deaths | <!----> | Gender  | Cases  | <!----> |\n| 0-4 years         | 195    | 1%  | 12 0%            | 0      | 0%  | Male    | 17,969 | 50% |\n| 5-14 years        | 420    | 1%  | 10 0%            | 0      | 0%  | Female  | 17,963 | 50% |\n| 15-24 years       | 2,723  | 8%  | 80 1%            | 0      | 0%  | Unknown | 37     | 0%  |\n| 25-34 years       | 5,314  | 15% | 287 5%           | 12     | 1%  | Total   | 35,969 | <!----> |\n| 35-44 years       | 5,443  | 15% | 521 9%           | 27     | 2%  | <!----> | <!----> | <!----> |\n| 45-54 years       | 6,476  | 18% | 800 13%          | 56     | 4%  | <!----> | <!----> | <!----> |\n| 55-64 years       | 6,138  | 17% | 1,060 17%        | 143    | 10% | <!----> | <!----> | <!----> |\n| 65-74 years       | 4,484  | 12% | 1,343 22%        | 321    | 23% | <!----> | <!----> | <!----> |\n| 75-84 years       | 2,926  | 8%  | 1,211 20%        | 423    | 30% | <!----> | <!----> | <!----> |\n| 85+ years         | 1,838  | 5%  | 795 13%          | 417    | 30% | <!----> | <!----> | <!----> |\n| Unknown           | 12     | 0%  | 0 0%             | 0      | 0%  | <!----> | <!----> | <!----> |\n| Total             | 35,969 | <!----> | 6,119            | 1,399  | <!----> | <!----> | <!----> | <!----> |\n| Ethnicity         | Cases  | <!----> | Hospitalizations | Deaths | <!----> | <!----> | <!----> | <!----> |\n| Hispanic          | 10,794 | 30% | 1,826 30%        | 290    | 21% | <!----> | <!----> | <!----> |\n| Non-Hispanic      | 16,332 | 45% | 3,834 63%        | 979    | 70% | <!----> | <!----> | <!----> |\n| Unknown           | 8,843  | 25% | 459 8%           | 130    | 9%  | <!----> | <!----> | <!----> |\n| Total             | 35,969 | <!----> | 6,119            | 1,399  | <!----> | <!----> | <!----> | <!----> |\n| Race, ethnicity   | Cases  | <!----> | Hospitalizations | Deaths | <!----> | <!----> | <!----> | <!----> |\n| White             | 18,347 | 51% | 3,668 60%        | 936    | 67% | <!----> | <!----> | <!----> |\n| Hispanic          | 8,411  | 23% | 1,379 23%        | 235    | 17% | <!----> | <!----> | <!----> |\n| Non-Hispanic      | 9,088  | 25% | 2,148 35%        | 658    | 47% | <!----> | <!----> | <!----> |\n| Unknown ethnicity | 848    | 2%  | 141 2%           | 43     | 3%  | <!----> | <!----> | <!----> |\n| Black             | 6,697  | 19% | 1,587 26%        | 304    | 22% | <!----> | <!----> | <!----> |\n| Hispanic          | 406    | 1%  | 97 2%            | 11     | 1%  | <!----> | <!----> | <!----> |\n| Non-Hispanic      | 5,959  | 17% | 1,431 23%        | 276    | 20% | <!----> | <!----> | <!----> |\n| Unknown ethnicity | 332    | 1%  | 59 1%            | 17     | 1%  | <!----> | <!----> | <!----> |\n| Other             | 3,032  | 8%  | 605 10%          | 87     | 6%  | <!----> | <!----> | <!----> |\n| Hispanic          | 1,509  | 4%  | 308 5%           | 38     | 3%  | <!----> | <!----> | <!----> |\n| Non-Hispanic      | 1,137  | 3%  | 233 4%           | 40     | 3%  | <!----> | <!----> | <!----> |\n| Unknown ethnicity | 386    | 1%  | 64 1%            | 9      | 1%  | <!----> | <!----> | <!----> |\n| Unknown race      | 7,893  | 22% | 259 4%           | 72     | 5%  | <!----> | <!----> | <!----> |\n| Hispanic          | 468    | 1%  | 42 1%            | 6      | 0%  | <!----> | <!----> | <!----> |\n| Non-Hispanic      | 148    | 0%  | 22 0%            | 5      | 0%  | <!----> | <!----> | <!----> |\n| Unknown ethnicity | 7,277  | 20% | 195 3%           | 61     | 4%  | <!----> | <!----> | <!----> |\n| Total             | 35,969 | <!----> | 6,119            | 1,399  | <!----> | <!----> | <!----> | <!----> |\n\n",
            "text/html": [
              "<table>\n",
              "<caption>A matrix: 36 × 9 of type chr</caption>\n",
              "<tbody>\n",
              "\t<tr><td>Age group        </td><td>Cases </td><td>   </td><td>Hospitalizations</td><td>Deaths</td><td>   </td><td>Gender </td><td>Cases </td><td>   </td></tr>\n",
              "\t<tr><td>0-4 years        </td><td>195   </td><td>1% </td><td>12 0%           </td><td>0     </td><td>0% </td><td>Male   </td><td>17,969</td><td>50%</td></tr>\n",
              "\t<tr><td>5-14 years       </td><td>420   </td><td>1% </td><td>10 0%           </td><td>0     </td><td>0% </td><td>Female </td><td>17,963</td><td>50%</td></tr>\n",
              "\t<tr><td>15-24 years      </td><td>2,723 </td><td>8% </td><td>80 1%           </td><td>0     </td><td>0% </td><td>Unknown</td><td>37    </td><td>0% </td></tr>\n",
              "\t<tr><td>25-34 years      </td><td>5,314 </td><td>15%</td><td>287 5%          </td><td>12    </td><td>1% </td><td>Total  </td><td>35,969</td><td>   </td></tr>\n",
              "\t<tr><td>35-44 years      </td><td>5,443 </td><td>15%</td><td>521 9%          </td><td>27    </td><td>2% </td><td>       </td><td>      </td><td>   </td></tr>\n",
              "\t<tr><td>45-54 years      </td><td>6,476 </td><td>18%</td><td>800 13%         </td><td>56    </td><td>4% </td><td>       </td><td>      </td><td>   </td></tr>\n",
              "\t<tr><td>55-64 years      </td><td>6,138 </td><td>17%</td><td>1,060 17%       </td><td>143   </td><td>10%</td><td>       </td><td>      </td><td>   </td></tr>\n",
              "\t<tr><td>65-74 years      </td><td>4,484 </td><td>12%</td><td>1,343 22%       </td><td>321   </td><td>23%</td><td>       </td><td>      </td><td>   </td></tr>\n",
              "\t<tr><td>75-84 years      </td><td>2,926 </td><td>8% </td><td>1,211 20%       </td><td>423   </td><td>30%</td><td>       </td><td>      </td><td>   </td></tr>\n",
              "\t<tr><td>85+ years        </td><td>1,838 </td><td>5% </td><td>795 13%         </td><td>417   </td><td>30%</td><td>       </td><td>      </td><td>   </td></tr>\n",
              "\t<tr><td>Unknown          </td><td>12    </td><td>0% </td><td>0 0%            </td><td>0     </td><td>0% </td><td>       </td><td>      </td><td>   </td></tr>\n",
              "\t<tr><td>Total            </td><td>35,969</td><td>   </td><td>6,119           </td><td>1,399 </td><td>   </td><td>       </td><td>      </td><td>   </td></tr>\n",
              "\t<tr><td>Ethnicity        </td><td>Cases </td><td>   </td><td>Hospitalizations</td><td>Deaths</td><td>   </td><td>       </td><td>      </td><td>   </td></tr>\n",
              "\t<tr><td>Hispanic         </td><td>10,794</td><td>30%</td><td>1,826 30%       </td><td>290   </td><td>21%</td><td>       </td><td>      </td><td>   </td></tr>\n",
              "\t<tr><td>Non-Hispanic     </td><td>16,332</td><td>45%</td><td>3,834 63%       </td><td>979   </td><td>70%</td><td>       </td><td>      </td><td>   </td></tr>\n",
              "\t<tr><td>Unknown          </td><td>8,843 </td><td>25%</td><td>459 8%          </td><td>130   </td><td>9% </td><td>       </td><td>      </td><td>   </td></tr>\n",
              "\t<tr><td>Total            </td><td>35,969</td><td>   </td><td>6,119           </td><td>1,399 </td><td>   </td><td>       </td><td>      </td><td>   </td></tr>\n",
              "\t<tr><td>Race, ethnicity  </td><td>Cases </td><td>   </td><td>Hospitalizations</td><td>Deaths</td><td>   </td><td>       </td><td>      </td><td>   </td></tr>\n",
              "\t<tr><td>White            </td><td>18,347</td><td>51%</td><td>3,668 60%       </td><td>936   </td><td>67%</td><td>       </td><td>      </td><td>   </td></tr>\n",
              "\t<tr><td>Hispanic         </td><td>8,411 </td><td>23%</td><td>1,379 23%       </td><td>235   </td><td>17%</td><td>       </td><td>      </td><td>   </td></tr>\n",
              "\t<tr><td>Non-Hispanic     </td><td>9,088 </td><td>25%</td><td>2,148 35%       </td><td>658   </td><td>47%</td><td>       </td><td>      </td><td>   </td></tr>\n",
              "\t<tr><td>Unknown ethnicity</td><td>848   </td><td>2% </td><td>141 2%          </td><td>43    </td><td>3% </td><td>       </td><td>      </td><td>   </td></tr>\n",
              "\t<tr><td>Black            </td><td>6,697 </td><td>19%</td><td>1,587 26%       </td><td>304   </td><td>22%</td><td>       </td><td>      </td><td>   </td></tr>\n",
              "\t<tr><td>Hispanic         </td><td>406   </td><td>1% </td><td>97 2%           </td><td>11    </td><td>1% </td><td>       </td><td>      </td><td>   </td></tr>\n",
              "\t<tr><td>Non-Hispanic     </td><td>5,959 </td><td>17%</td><td>1,431 23%       </td><td>276   </td><td>20%</td><td>       </td><td>      </td><td>   </td></tr>\n",
              "\t<tr><td>Unknown ethnicity</td><td>332   </td><td>1% </td><td>59 1%           </td><td>17    </td><td>1% </td><td>       </td><td>      </td><td>   </td></tr>\n",
              "\t<tr><td>Other            </td><td>3,032 </td><td>8% </td><td>605 10%         </td><td>87    </td><td>6% </td><td>       </td><td>      </td><td>   </td></tr>\n",
              "\t<tr><td>Hispanic         </td><td>1,509 </td><td>4% </td><td>308 5%          </td><td>38    </td><td>3% </td><td>       </td><td>      </td><td>   </td></tr>\n",
              "\t<tr><td>Non-Hispanic     </td><td>1,137 </td><td>3% </td><td>233 4%          </td><td>40    </td><td>3% </td><td>       </td><td>      </td><td>   </td></tr>\n",
              "\t<tr><td>Unknown ethnicity</td><td>386   </td><td>1% </td><td>64 1%           </td><td>9     </td><td>1% </td><td>       </td><td>      </td><td>   </td></tr>\n",
              "\t<tr><td>Unknown race     </td><td>7,893 </td><td>22%</td><td>259 4%          </td><td>72    </td><td>5% </td><td>       </td><td>      </td><td>   </td></tr>\n",
              "\t<tr><td>Hispanic         </td><td>468   </td><td>1% </td><td>42 1%           </td><td>6     </td><td>0% </td><td>       </td><td>      </td><td>   </td></tr>\n",
              "\t<tr><td>Non-Hispanic     </td><td>148   </td><td>0% </td><td>22 0%           </td><td>5     </td><td>0% </td><td>       </td><td>      </td><td>   </td></tr>\n",
              "\t<tr><td>Unknown ethnicity</td><td>7,277 </td><td>20%</td><td>195 3%          </td><td>61    </td><td>4% </td><td>       </td><td>      </td><td>   </td></tr>\n",
              "\t<tr><td>Total            </td><td>35,969</td><td>   </td><td>6,119           </td><td>1,399 </td><td>   </td><td>       </td><td>      </td><td>   </td></tr>\n",
              "</tbody>\n",
              "</table>\n"
            ]
          },
          "metadata": {
            "tags": []
          }
        }
      ]
    },
    {
      "cell_type": "code",
      "metadata": {
        "id": "y-qdPsrbOSTu",
        "colab_type": "code",
        "outputId": "13e369ee-2de7-4431-e7c6-d3443f65cc96",
        "colab": {
          "base_uri": "https://localhost:8080/",
          "height": 162
        }
      },
      "source": [
        "## Get Race/Ethnicity cases and deaths only\n",
        "\n",
        "id_start = which(florida_raw[,1] == 'Race, ethnicity')\n",
        "florida = florida_raw[id_start:nrow(florida_raw), ]\n",
        "colnames(florida) = c('Race_Ethnicity', 'Cases_Count', 'Cases_Percent', 'Hospitalizations', \n",
        "    'Deaths_Count', 'Deaths_Percent', 'x1', 'x2', 'x3')\n",
        "florida = florida[-1,] %>% data.frame(stringsAsFactors = F)\n",
        "florida = florida %>% \n",
        "    mutate(\n",
        "        Cases_Count = gsub(',', '', Cases_Count) %>% as.numeric,\n",
        "        Deaths_Count = gsub(',', '', Deaths_Count) %>% as.numeric\n",
        "    ) %>%\n",
        "    select(Race_Ethnicity, Cases_Count, Deaths_Count) %>%\n",
        "    filter(Race_Ethnicity %in% c('White', 'Black', 'Other', 'Unknown race'))\n",
        "\n",
        "florida"
      ],
      "execution_count": 0,
      "outputs": [
        {
          "output_type": "display_data",
          "data": {
            "text/plain": [
              "  Race_Ethnicity Cases_Count Deaths_Count\n",
              "1 White          18347       936         \n",
              "2 Black           6697       304         \n",
              "3 Other           3032        87         \n",
              "4 Unknown race    7893        72         "
            ],
            "text/latex": "A data.frame: 4 × 3\n\\begin{tabular}{lll}\n Race\\_Ethnicity & Cases\\_Count & Deaths\\_Count\\\\\n <chr> & <dbl> & <dbl>\\\\\n\\hline\n\t White        & 18347 & 936\\\\\n\t Black        &  6697 & 304\\\\\n\t Other        &  3032 &  87\\\\\n\t Unknown race &  7893 &  72\\\\\n\\end{tabular}\n",
            "text/markdown": "\nA data.frame: 4 × 3\n\n| Race_Ethnicity &lt;chr&gt; | Cases_Count &lt;dbl&gt; | Deaths_Count &lt;dbl&gt; |\n|---|---|---|\n| White        | 18347 | 936 |\n| Black        |  6697 | 304 |\n| Other        |  3032 |  87 |\n| Unknown race |  7893 |  72 |\n\n",
            "text/html": [
              "<table>\n",
              "<caption>A data.frame: 4 × 3</caption>\n",
              "<thead>\n",
              "\t<tr><th scope=col>Race_Ethnicity</th><th scope=col>Cases_Count</th><th scope=col>Deaths_Count</th></tr>\n",
              "\t<tr><th scope=col>&lt;chr&gt;</th><th scope=col>&lt;dbl&gt;</th><th scope=col>&lt;dbl&gt;</th></tr>\n",
              "</thead>\n",
              "<tbody>\n",
              "\t<tr><td>White       </td><td>18347</td><td>936</td></tr>\n",
              "\t<tr><td>Black       </td><td> 6697</td><td>304</td></tr>\n",
              "\t<tr><td>Other       </td><td> 3032</td><td> 87</td></tr>\n",
              "\t<tr><td>Unknown race</td><td> 7893</td><td> 72</td></tr>\n",
              "</tbody>\n",
              "</table>\n"
            ]
          },
          "metadata": {
            "tags": []
          }
        }
      ]
    },
    {
      "cell_type": "code",
      "metadata": {
        "id": "RQT2xnV9ZPcM",
        "colab_type": "code",
        "outputId": "d8ff710e-817a-45b6-b679-41fe5e6a6c88",
        "colab": {
          "base_uri": "https://localhost:8080/",
          "height": 85
        }
      },
      "source": [
        "## Calculations needed for final output\n",
        "\n",
        "fl_total_cases = florida$Cases_Count %>% sum; fl_total_cases\n",
        "fl_total_deaths = florida$Deaths_Count %>% sum; fl_total_deaths\n",
        "\n",
        "fl_aa_cases_pct = round(100 * florida$Cases_Count[florida$Race_Ethnicity == 'Black'] / fl_total_cases, 2); fl_aa_cases_pct\n",
        "fl_aa_deaths_pct = round(100 * florida$Deaths_Count[florida$Race_Ethnicity == 'Black'] / fl_total_deaths, 2); fl_aa_deaths_pct"
      ],
      "execution_count": 0,
      "outputs": [
        {
          "output_type": "display_data",
          "data": {
            "text/plain": [
              "[1] 35969"
            ],
            "text/latex": "35969",
            "text/markdown": "35969",
            "text/html": [
              "35969"
            ]
          },
          "metadata": {
            "tags": []
          }
        },
        {
          "output_type": "display_data",
          "data": {
            "text/plain": [
              "[1] 1399"
            ],
            "text/latex": "1399",
            "text/markdown": "1399",
            "text/html": [
              "1399"
            ]
          },
          "metadata": {
            "tags": []
          }
        },
        {
          "output_type": "display_data",
          "data": {
            "text/plain": [
              "[1] 18.62"
            ],
            "text/latex": "18.62",
            "text/markdown": "18.62",
            "text/html": [
              "18.62"
            ]
          },
          "metadata": {
            "tags": []
          }
        },
        {
          "output_type": "display_data",
          "data": {
            "text/plain": [
              "[1] 21.73"
            ],
            "text/latex": "21.73",
            "text/markdown": "21.73",
            "text/html": [
              "21.73"
            ]
          },
          "metadata": {
            "tags": []
          }
        }
      ]
    },
    {
      "cell_type": "code",
      "metadata": {
        "id": "uroD1DZzb453",
        "colab_type": "code",
        "outputId": "1443ca1a-d028-4a61-c801-aa426026f3f9",
        "colab": {
          "base_uri": "https://localhost:8080/",
          "height": 99
        }
      },
      "source": [
        "## Summary of Florida results\n",
        "fl_date = Sys.Date() %>% format('%-m/%-d/%Y')\n",
        "\n",
        "output_fl = tibble(\n",
        "    `Location` = 'Florida',\n",
        "    `Date Published` = fl_date, \n",
        "    `Total Cases` = fl_total_cases,\n",
        "    `Total Deaths` = fl_total_deaths,\n",
        "    `Pct Cases Black/AA` = fl_aa_cases_pct,\n",
        "    `Pct Deaths Black/AA` = fl_aa_deaths_pct)\n",
        "\n",
        "output_fl"
      ],
      "execution_count": 0,
      "outputs": [
        {
          "output_type": "display_data",
          "data": {
            "text/plain": [
              "  Location Date Published Total Cases Total Deaths Pct Cases Black/AA\n",
              "1 Florida  5/5/2020       35969       1399         18.62             \n",
              "  Pct Deaths Black/AA\n",
              "1 21.73              "
            ],
            "text/latex": "A tibble: 1 × 6\n\\begin{tabular}{llllll}\n Location & Date Published & Total Cases & Total Deaths & Pct Cases Black/AA & Pct Deaths Black/AA\\\\\n <chr> & <chr> & <dbl> & <dbl> & <dbl> & <dbl>\\\\\n\\hline\n\t Florida & 5/5/2020 & 35969 & 1399 & 18.62 & 21.73\\\\\n\\end{tabular}\n",
            "text/markdown": "\nA tibble: 1 × 6\n\n| Location &lt;chr&gt; | Date Published &lt;chr&gt; | Total Cases &lt;dbl&gt; | Total Deaths &lt;dbl&gt; | Pct Cases Black/AA &lt;dbl&gt; | Pct Deaths Black/AA &lt;dbl&gt; |\n|---|---|---|---|---|---|\n| Florida | 5/5/2020 | 35969 | 1399 | 18.62 | 21.73 |\n\n",
            "text/html": [
              "<table>\n",
              "<caption>A tibble: 1 × 6</caption>\n",
              "<thead>\n",
              "\t<tr><th scope=col>Location</th><th scope=col>Date Published</th><th scope=col>Total Cases</th><th scope=col>Total Deaths</th><th scope=col>Pct Cases Black/AA</th><th scope=col>Pct Deaths Black/AA</th></tr>\n",
              "\t<tr><th scope=col>&lt;chr&gt;</th><th scope=col>&lt;chr&gt;</th><th scope=col>&lt;dbl&gt;</th><th scope=col>&lt;dbl&gt;</th><th scope=col>&lt;dbl&gt;</th><th scope=col>&lt;dbl&gt;</th></tr>\n",
              "</thead>\n",
              "<tbody>\n",
              "\t<tr><td>Florida</td><td>5/5/2020</td><td>35969</td><td>1399</td><td>18.62</td><td>21.73</td></tr>\n",
              "</tbody>\n",
              "</table>\n"
            ]
          },
          "metadata": {
            "tags": []
          }
        }
      ]
    },
    {
      "cell_type": "markdown",
      "metadata": {
        "id": "xokpgE3yb5of",
        "colab_type": "text"
      },
      "source": [
        "## New York City"
      ]
    },
    {
      "cell_type": "code",
      "metadata": {
        "id": "M05PC8RtcChK",
        "colab_type": "code",
        "outputId": "94e23904-ac5c-4ee8-b11e-a5ba6280d315",
        "colab": {
          "base_uri": "https://localhost:8080/",
          "height": 34
        }
      },
      "source": [
        "## Set the working directory for NYC\n",
        "nyc_dir = paste0(home_dir, '/data/nyc')\n",
        "setwd(nyc_dir)\n",
        "getwd()"
      ],
      "execution_count": 0,
      "outputs": [
        {
          "output_type": "display_data",
          "data": {
            "text/plain": [
              "[1] \"/content/data/nyc\""
            ],
            "text/latex": "'/content/data/nyc'",
            "text/markdown": "'/content/data/nyc'",
            "text/html": [
              "'/content/data/nyc'"
            ]
          },
          "metadata": {
            "tags": []
          }
        }
      ]
    },
    {
      "cell_type": "code",
      "metadata": {
        "id": "6l5RGQkab486",
        "colab_type": "code",
        "colab": {}
      },
      "source": [
        "## Download NYC deaths\n",
        "## Note: No cases data available for NYC\n",
        "download.file('https://www1.nyc.gov/assets/doh/downloads/pdf/imm/covid-19-deaths-race-ethnicity-04082020-1.pdf', 'nyc_april_6.pdf')\n",
        "download.file('https://www1.nyc.gov/assets/doh/downloads/pdf/imm/covid-19-deaths-race-ethnicity-04162020-1.pdf', 'nyc_april_16.pdf')"
      ],
      "execution_count": 0,
      "outputs": []
    },
    {
      "cell_type": "code",
      "metadata": {
        "id": "2naM0bkxb77c",
        "colab_type": "code",
        "outputId": "c2b8657a-0bb5-44d9-d4cb-8357184d8679",
        "colab": {
          "base_uri": "https://localhost:8080/",
          "height": 34
        }
      },
      "source": [
        "## Show the downloaded file(s)\n",
        "list.files()"
      ],
      "execution_count": 0,
      "outputs": [
        {
          "output_type": "display_data",
          "data": {
            "text/plain": [
              "[1] \"nyc_april_16.pdf\"                \"nyc_april_6.pdf\"                \n",
              "[3] \"nyc.pdf\"                         \"output_case2_2020-05-05.csv\"    \n",
              "[5] \"output_case2_pdf_2020-05-05.csv\""
            ],
            "text/latex": "\\begin{enumerate*}\n\\item 'nyc\\_april\\_16.pdf'\n\\item 'nyc\\_april\\_6.pdf'\n\\item 'nyc.pdf'\n\\item 'output\\_case2\\_2020-05-05.csv'\n\\item 'output\\_case2\\_pdf\\_2020-05-05.csv'\n\\end{enumerate*}\n",
            "text/markdown": "1. 'nyc_april_16.pdf'\n2. 'nyc_april_6.pdf'\n3. 'nyc.pdf'\n4. 'output_case2_2020-05-05.csv'\n5. 'output_case2_pdf_2020-05-05.csv'\n\n\n",
            "text/html": [
              "<style>\n",
              ".list-inline {list-style: none; margin:0; padding: 0}\n",
              ".list-inline>li {display: inline-block}\n",
              ".list-inline>li:not(:last-child)::after {content: \"\\00b7\"; padding: 0 .5ex}\n",
              "</style>\n",
              "<ol class=list-inline><li>'nyc_april_16.pdf'</li><li>'nyc_april_6.pdf'</li><li>'nyc.pdf'</li><li>'output_case2_2020-05-05.csv'</li><li>'output_case2_pdf_2020-05-05.csv'</li></ol>\n"
            ]
          },
          "metadata": {
            "tags": []
          }
        }
      ]
    },
    {
      "cell_type": "code",
      "metadata": {
        "id": "_Y8VQn5Gb79_",
        "colab_type": "code",
        "outputId": "96277674-b1d6-4298-e508-13b56d679682",
        "colab": {
          "base_uri": "https://localhost:8080/",
          "height": 351
        }
      },
      "source": [
        "## Extract death data from NYC PDF\n",
        "## TO DO: Update analysis with April 16 PDF results\n",
        "nyc_deaths_raw = extract_tables('nyc_april_6.pdf', encoding=\"UTF-8\")[[1]]\n",
        "nyc_deaths_raw"
      ],
      "execution_count": 0,
      "outputs": [
        {
          "output_type": "display_data",
          "data": {
            "text/plain": [
              "      [,1]                                                                                                                     \n",
              " [1,] Death Rate Race/Ethnicity Population Number of (2018 Deaths Age-Adjusted % of Total with Per 100,000 Race/Ethnicity Known\n",
              " [2,]                                                                                                                          \n",
              " [3,] All Hispanic521 33.5                                                                                                     \n",
              " [4,] Non-Hispanic/Latino: Black, African 428 27.5                                                                             \n",
              " [5,] American                                                                                                                 \n",
              " [6,] Non-Hispanic/Latino: White 424 27.3                                                                                      \n",
              " [7,] Non-Hispanic/Latino: Asian 112 7.2                                                                                       \n",
              " [8,] Non-Hispanic/Latino: Other 70 4.5                                                                                        \n",
              " [9,] Total with Known Race/Ethnicity 1,555 *                                                                                  \n",
              "[10,] Total Unknown Race/Ethnicity 917 *                                                                                       \n",
              "[11,] (includes null, unknown, declined,                                                                                       \n",
              "[12,] did not identify)                                                                                                        \n",
              "[13,] % of Total with Unknown 37.1 *                                                                                           \n",
              "[14,] Race/Ethnicity                                                                                                           \n",
              "[15,] Total 2,472 *                                                                                                            \n",
              "      [,2]      [,3] [,4] [,5]                         [,6] [,7] [,8]      \n",
              " [1,] estimate)           Crude Death Rate Per 100,000                     \n",
              " [2,]                     Population                             Population\n",
              " [3,] 2,449,450           21.3                                   22.8      \n",
              " [4,] 1,849,077           23.1                                   19.8      \n",
              " [5,]                                                                      \n",
              " [6,] 2,694,258           15.7                                   10.2      \n",
              " [7,] 1,231,790           9.1                                    8.4       \n",
              " [8,] 174,173             40.2                                   59.5      \n",
              " [9,] *                   *                                      *         \n",
              "[10,] *                   *                                      *         \n",
              "[11,]                                                                      \n",
              "[12,]                                                                      \n",
              "[13,] *                   *                                      *         \n",
              "[14,]                                                                      \n",
              "[15,] 8,398,748           29.4                                   25.3      "
            ],
            "text/latex": "A matrix: 15 × 8 of type chr\n\\begin{tabular}{llllllll}\n\t Death Rate Race/Ethnicity Population Number of (2018 Deaths Age-Adjusted \\% of Total with Per 100,000 Race/Ethnicity Known & estimate) &  &  & Crude Death Rate Per 100,000 &  &  &           \\\\\n\t                                                                                                                           &           &  &  & Population                   &  &  & Population\\\\\n\t All Hispanic521 33.5                                                                                                      & 2,449,450 &  &  & 21.3                         &  &  & 22.8      \\\\\n\t Non-Hispanic/Latino: Black, African 428 27.5                                                                              & 1,849,077 &  &  & 23.1                         &  &  & 19.8      \\\\\n\t American                                                                                                                  &           &  &  &                              &  &  &           \\\\\n\t Non-Hispanic/Latino: White 424 27.3                                                                                       & 2,694,258 &  &  & 15.7                         &  &  & 10.2      \\\\\n\t Non-Hispanic/Latino: Asian 112 7.2                                                                                        & 1,231,790 &  &  & 9.1                          &  &  & 8.4       \\\\\n\t Non-Hispanic/Latino: Other 70 4.5                                                                                         & 174,173   &  &  & 40.2                         &  &  & 59.5      \\\\\n\t Total with Known Race/Ethnicity 1,555 *                                                                                   & *         &  &  & *                            &  &  & *         \\\\\n\t Total Unknown Race/Ethnicity 917 *                                                                                        & *         &  &  & *                            &  &  & *         \\\\\n\t (includes null, unknown, declined,                                                                                        &           &  &  &                              &  &  &           \\\\\n\t did not identify)                                                                                                         &           &  &  &                              &  &  &           \\\\\n\t \\% of Total with Unknown 37.1 *                                                                                            & *         &  &  & *                            &  &  & *         \\\\\n\t Race/Ethnicity                                                                                                            &           &  &  &                              &  &  &           \\\\\n\t Total 2,472 *                                                                                                             & 8,398,748 &  &  & 29.4                         &  &  & 25.3      \\\\\n\\end{tabular}\n",
            "text/markdown": "\nA matrix: 15 × 8 of type chr\n\n| Death Rate Race/Ethnicity Population Number of (2018 Deaths Age-Adjusted % of Total with Per 100,000 Race/Ethnicity Known | estimate) | <!----> | <!----> | Crude Death Rate Per 100,000 | <!----> | <!----> | <!----> |\n| <!----> | <!----> | <!----> | <!----> | Population                   | <!----> | <!----> | Population |\n| All Hispanic521 33.5                                                                                                      | 2,449,450 | <!----> | <!----> | 21.3                         | <!----> | <!----> | 22.8       |\n| Non-Hispanic/Latino: Black, African 428 27.5                                                                              | 1,849,077 | <!----> | <!----> | 23.1                         | <!----> | <!----> | 19.8       |\n| American                                                                                                                  | <!----> | <!----> | <!----> | <!----> | <!----> | <!----> | <!----> |\n| Non-Hispanic/Latino: White 424 27.3                                                                                       | 2,694,258 | <!----> | <!----> | 15.7                         | <!----> | <!----> | 10.2       |\n| Non-Hispanic/Latino: Asian 112 7.2                                                                                        | 1,231,790 | <!----> | <!----> | 9.1                          | <!----> | <!----> | 8.4        |\n| Non-Hispanic/Latino: Other 70 4.5                                                                                         | 174,173   | <!----> | <!----> | 40.2                         | <!----> | <!----> | 59.5       |\n| Total with Known Race/Ethnicity 1,555 *                                                                                   | *         | <!----> | <!----> | *                            | <!----> | <!----> | *          |\n| Total Unknown Race/Ethnicity 917 *                                                                                        | *         | <!----> | <!----> | *                            | <!----> | <!----> | *          |\n| (includes null, unknown, declined,                                                                                        | <!----> | <!----> | <!----> | <!----> | <!----> | <!----> | <!----> |\n| did not identify)                                                                                                         | <!----> | <!----> | <!----> | <!----> | <!----> | <!----> | <!----> |\n| % of Total with Unknown 37.1 *                                                                                            | *         | <!----> | <!----> | *                            | <!----> | <!----> | *          |\n| Race/Ethnicity                                                                                                            | <!----> | <!----> | <!----> | <!----> | <!----> | <!----> | <!----> |\n| Total 2,472 *                                                                                                             | 8,398,748 | <!----> | <!----> | 29.4                         | <!----> | <!----> | 25.3       |\n\n",
            "text/html": [
              "<table>\n",
              "<caption>A matrix: 15 × 8 of type chr</caption>\n",
              "<tbody>\n",
              "\t<tr><td>Death Rate Race/Ethnicity Population Number of (2018 Deaths Age-Adjusted % of Total with Per 100,000 Race/Ethnicity Known</td><td>estimate)</td><td></td><td></td><td>Crude Death Rate Per 100,000</td><td></td><td></td><td>          </td></tr>\n",
              "\t<tr><td>                                                                                                                         </td><td>         </td><td></td><td></td><td>Population                  </td><td></td><td></td><td>Population</td></tr>\n",
              "\t<tr><td>All Hispanic521 33.5                                                                                                     </td><td>2,449,450</td><td></td><td></td><td>21.3                        </td><td></td><td></td><td>22.8      </td></tr>\n",
              "\t<tr><td>Non-Hispanic/Latino: Black, African 428 27.5                                                                             </td><td>1,849,077</td><td></td><td></td><td>23.1                        </td><td></td><td></td><td>19.8      </td></tr>\n",
              "\t<tr><td>American                                                                                                                 </td><td>         </td><td></td><td></td><td>                            </td><td></td><td></td><td>          </td></tr>\n",
              "\t<tr><td>Non-Hispanic/Latino: White 424 27.3                                                                                      </td><td>2,694,258</td><td></td><td></td><td>15.7                        </td><td></td><td></td><td>10.2      </td></tr>\n",
              "\t<tr><td>Non-Hispanic/Latino: Asian 112 7.2                                                                                       </td><td>1,231,790</td><td></td><td></td><td>9.1                         </td><td></td><td></td><td>8.4       </td></tr>\n",
              "\t<tr><td>Non-Hispanic/Latino: Other 70 4.5                                                                                        </td><td>174,173  </td><td></td><td></td><td>40.2                        </td><td></td><td></td><td>59.5      </td></tr>\n",
              "\t<tr><td>Total with Known Race/Ethnicity 1,555 *                                                                                  </td><td>*        </td><td></td><td></td><td>*                           </td><td></td><td></td><td>*         </td></tr>\n",
              "\t<tr><td>Total Unknown Race/Ethnicity 917 *                                                                                       </td><td>*        </td><td></td><td></td><td>*                           </td><td></td><td></td><td>*         </td></tr>\n",
              "\t<tr><td>(includes null, unknown, declined,                                                                                       </td><td>         </td><td></td><td></td><td>                            </td><td></td><td></td><td>          </td></tr>\n",
              "\t<tr><td>did not identify)                                                                                                        </td><td>         </td><td></td><td></td><td>                            </td><td></td><td></td><td>          </td></tr>\n",
              "\t<tr><td>% of Total with Unknown 37.1 *                                                                                           </td><td>*        </td><td></td><td></td><td>*                           </td><td></td><td></td><td>*         </td></tr>\n",
              "\t<tr><td>Race/Ethnicity                                                                                                           </td><td>         </td><td></td><td></td><td>                            </td><td></td><td></td><td>          </td></tr>\n",
              "\t<tr><td>Total 2,472 *                                                                                                            </td><td>8,398,748</td><td></td><td></td><td>29.4                        </td><td></td><td></td><td>25.3      </td></tr>\n",
              "</tbody>\n",
              "</table>\n"
            ]
          },
          "metadata": {
            "tags": []
          }
        }
      ]
    },
    {
      "cell_type": "code",
      "metadata": {
        "id": "C07V8Vlnb8A6",
        "colab_type": "code",
        "outputId": "b4376333-45af-4470-8aa5-f2db8d06fa6f",
        "colab": {
          "base_uri": "https://localhost:8080/",
          "height": 68
        }
      },
      "source": [
        "## First column contains all relevant data. \n",
        "## Extract as a vector of strings for later parsing\n",
        "nyc_deaths_txt = nyc_deaths_raw[,1]; nyc_deaths_txt"
      ],
      "execution_count": 0,
      "outputs": [
        {
          "output_type": "display_data",
          "data": {
            "text/plain": [
              " [1] \"Death Rate Race/Ethnicity Population Number of (2018 Deaths Age-Adjusted % of Total with Per 100,000 Race/Ethnicity Known\"\n",
              " [2] \"\"                                                                                                                         \n",
              " [3] \"All Hispanic521 33.5\"                                                                                                     \n",
              " [4] \"Non-Hispanic/Latino: Black, African 428 27.5\"                                                                             \n",
              " [5] \"American\"                                                                                                                 \n",
              " [6] \"Non-Hispanic/Latino: White 424 27.3\"                                                                                      \n",
              " [7] \"Non-Hispanic/Latino: Asian 112 7.2\"                                                                                       \n",
              " [8] \"Non-Hispanic/Latino: Other 70 4.5\"                                                                                        \n",
              " [9] \"Total with Known Race/Ethnicity 1,555 *\"                                                                                  \n",
              "[10] \"Total Unknown Race/Ethnicity 917 *\"                                                                                       \n",
              "[11] \"(includes null, unknown, declined,\"                                                                                       \n",
              "[12] \"did not identify)\"                                                                                                        \n",
              "[13] \"% of Total with Unknown 37.1 *\"                                                                                           \n",
              "[14] \"Race/Ethnicity\"                                                                                                           \n",
              "[15] \"Total 2,472 *\"                                                                                                            "
            ],
            "text/latex": "\\begin{enumerate*}\n\\item 'Death Rate Race/Ethnicity Population Number of (2018 Deaths Age-Adjusted \\% of Total with Per 100,000 Race/Ethnicity Known'\n\\item ''\n\\item 'All Hispanic521 33.5'\n\\item 'Non-Hispanic/Latino: Black, African 428 27.5'\n\\item 'American'\n\\item 'Non-Hispanic/Latino: White 424 27.3'\n\\item 'Non-Hispanic/Latino: Asian 112 7.2'\n\\item 'Non-Hispanic/Latino: Other 70 4.5'\n\\item 'Total with Known Race/Ethnicity 1,555 *'\n\\item 'Total Unknown Race/Ethnicity 917 *'\n\\item '(includes null, unknown, declined,'\n\\item 'did not identify)'\n\\item '\\% of Total with Unknown 37.1 *'\n\\item 'Race/Ethnicity'\n\\item 'Total 2,472 *'\n\\end{enumerate*}\n",
            "text/markdown": "1. 'Death Rate Race/Ethnicity Population Number of (2018 Deaths Age-Adjusted % of Total with Per 100,000 Race/Ethnicity Known'\n2. ''\n3. 'All Hispanic521 33.5'\n4. 'Non-Hispanic/Latino: Black, African 428 27.5'\n5. 'American'\n6. 'Non-Hispanic/Latino: White 424 27.3'\n7. 'Non-Hispanic/Latino: Asian 112 7.2'\n8. 'Non-Hispanic/Latino: Other 70 4.5'\n9. 'Total with Known Race/Ethnicity 1,555 *'\n10. 'Total Unknown Race/Ethnicity 917 *'\n11. '(includes null, unknown, declined,'\n12. 'did not identify)'\n13. '% of Total with Unknown 37.1 *'\n14. 'Race/Ethnicity'\n15. 'Total 2,472 *'\n\n\n",
            "text/html": [
              "<style>\n",
              ".list-inline {list-style: none; margin:0; padding: 0}\n",
              ".list-inline>li {display: inline-block}\n",
              ".list-inline>li:not(:last-child)::after {content: \"\\00b7\"; padding: 0 .5ex}\n",
              "</style>\n",
              "<ol class=list-inline><li>'Death Rate Race/Ethnicity Population Number of (2018 Deaths Age-Adjusted % of Total with Per 100,000 Race/Ethnicity Known'</li><li>''</li><li>'All Hispanic521 33.5'</li><li>'Non-Hispanic/Latino: Black, African 428 27.5'</li><li>'American'</li><li>'Non-Hispanic/Latino: White 424 27.3'</li><li>'Non-Hispanic/Latino: Asian 112 7.2'</li><li>'Non-Hispanic/Latino: Other 70 4.5'</li><li>'Total with Known Race/Ethnicity 1,555 *'</li><li>'Total Unknown Race/Ethnicity 917 *'</li><li>'(includes null, unknown, declined,'</li><li>'did not identify)'</li><li>'% of Total with Unknown 37.1 *'</li><li>'Race/Ethnicity'</li><li>'Total 2,472 *'</li></ol>\n"
            ]
          },
          "metadata": {
            "tags": []
          }
        }
      ]
    },
    {
      "cell_type": "code",
      "metadata": {
        "id": "Q1YL5BPneqdv",
        "colab_type": "code",
        "outputId": "cb66d318-e692-4b14-c3e5-64bd5e46bcc4",
        "colab": {
          "base_uri": "https://localhost:8080/",
          "height": 34
        }
      },
      "source": [
        "## NYC total deaths\n",
        "nyc_total_deaths = nyc_deaths_txt[grep('^Total \\\\d', nyc_deaths_txt)] %>% gsub('Total| |\\\\*|,', '', .) %>% as.numeric; nyc_total_deaths"
      ],
      "execution_count": 0,
      "outputs": [
        {
          "output_type": "display_data",
          "data": {
            "text/plain": [
              "[1] 2472"
            ],
            "text/latex": "2472",
            "text/markdown": "2472",
            "text/html": [
              "2472"
            ]
          },
          "metadata": {
            "tags": []
          }
        }
      ]
    },
    {
      "cell_type": "code",
      "metadata": {
        "id": "I9w_ck9VugUQ",
        "colab_type": "code",
        "outputId": "7e3dac61-3aeb-43ff-cf8b-a9ee33ad9208",
        "colab": {
          "base_uri": "https://localhost:8080/",
          "height": 34
        }
      },
      "source": [
        "## NYC AA percentage of deaths\n",
        "nyc_aa_deaths = nyc_deaths_txt[grep('^Non-Hispanic/Latino: Black, African', nyc_deaths_txt)] %>% \n",
        "    gsub('Non-Hispanic/Latino: Black, African|\\\\*|,', '', .) %>% trimws() %>% strsplit(., ' ') #%>%\n",
        "    #.[[1]][2]\n",
        "nyc_aa_deaths = nyc_aa_deaths[[1]][1] %>% as.numeric\n",
        "nyc_aa_deaths_pct = round(100 * nyc_aa_deaths / nyc_total_deaths, 2)\n",
        "nyc_aa_deaths_pct"
      ],
      "execution_count": 0,
      "outputs": [
        {
          "output_type": "display_data",
          "data": {
            "text/plain": [
              "[1] 17.31"
            ],
            "text/latex": "17.31",
            "text/markdown": "17.31",
            "text/html": [
              "17.31"
            ]
          },
          "metadata": {
            "tags": []
          }
        }
      ]
    },
    {
      "cell_type": "code",
      "metadata": {
        "id": "O7NPMreIugar",
        "colab_type": "code",
        "outputId": "fa42073e-710d-4bae-d88a-d693cae04354",
        "colab": {
          "base_uri": "https://localhost:8080/",
          "height": 99
        }
      },
      "source": [
        "## Summary of NYC results\n",
        "nyc_date = '4/6/2020' ## Sys.Date() %>% format('%-m/%-d/%Y')\n",
        "\n",
        "output_nyc = tibble(\n",
        "    `Location` = 'New York City',\n",
        "    `Date Published` = nyc_date, \n",
        "    `Total Cases` = NA_integer_, # nyc_total_cases,\n",
        "    `Total Deaths` = nyc_total_deaths,\n",
        "    `Pct Cases Black/AA` = NA_integer_, # nyc_aa_cases_pct,\n",
        "    `Pct Deaths Black/AA` = nyc_aa_deaths_pct)\n",
        "\n",
        "output_nyc"
      ],
      "execution_count": 0,
      "outputs": [
        {
          "output_type": "display_data",
          "data": {
            "text/plain": [
              "  Location      Date Published Total Cases Total Deaths Pct Cases Black/AA\n",
              "1 New York City 4/6/2020       NA          2472         NA                \n",
              "  Pct Deaths Black/AA\n",
              "1 17.31              "
            ],
            "text/latex": "A tibble: 1 × 6\n\\begin{tabular}{llllll}\n Location & Date Published & Total Cases & Total Deaths & Pct Cases Black/AA & Pct Deaths Black/AA\\\\\n <chr> & <chr> & <int> & <dbl> & <int> & <dbl>\\\\\n\\hline\n\t New York City & 4/6/2020 & NA & 2472 & NA & 17.31\\\\\n\\end{tabular}\n",
            "text/markdown": "\nA tibble: 1 × 6\n\n| Location &lt;chr&gt; | Date Published &lt;chr&gt; | Total Cases &lt;int&gt; | Total Deaths &lt;dbl&gt; | Pct Cases Black/AA &lt;int&gt; | Pct Deaths Black/AA &lt;dbl&gt; |\n|---|---|---|---|---|---|\n| New York City | 4/6/2020 | NA | 2472 | NA | 17.31 |\n\n",
            "text/html": [
              "<table>\n",
              "<caption>A tibble: 1 × 6</caption>\n",
              "<thead>\n",
              "\t<tr><th scope=col>Location</th><th scope=col>Date Published</th><th scope=col>Total Cases</th><th scope=col>Total Deaths</th><th scope=col>Pct Cases Black/AA</th><th scope=col>Pct Deaths Black/AA</th></tr>\n",
              "\t<tr><th scope=col>&lt;chr&gt;</th><th scope=col>&lt;chr&gt;</th><th scope=col>&lt;int&gt;</th><th scope=col>&lt;dbl&gt;</th><th scope=col>&lt;int&gt;</th><th scope=col>&lt;dbl&gt;</th></tr>\n",
              "</thead>\n",
              "<tbody>\n",
              "\t<tr><td>New York City</td><td>4/6/2020</td><td>NA</td><td>2472</td><td>NA</td><td>17.31</td></tr>\n",
              "</tbody>\n",
              "</table>\n"
            ]
          },
          "metadata": {
            "tags": []
          }
        }
      ]
    },
    {
      "cell_type": "markdown",
      "metadata": {
        "id": "0n40buI7wtaU",
        "colab_type": "text"
      },
      "source": [
        "## Combining the results into a single table"
      ]
    },
    {
      "cell_type": "code",
      "metadata": {
        "id": "0FmV4K0VwvjK",
        "colab_type": "code",
        "outputId": "81b0734f-2f10-44f3-a8bb-d4642ea64298",
        "colab": {
          "base_uri": "https://localhost:8080/",
          "height": 141
        }
      },
      "source": [
        "output_case2 = list(output_fl, output_sd, output_nyc) %>% bind_rows\n",
        "output_case2"
      ],
      "execution_count": 0,
      "outputs": [
        {
          "output_type": "display_data",
          "data": {
            "text/plain": [
              "  Location               Date Published Total Cases Total Deaths\n",
              "1 Florida                5/5/2020       35969       1399        \n",
              "2 California - San Diego 5/5/2020        4020        144        \n",
              "3 New York City          4/6/2020          NA       2472        \n",
              "  Pct Cases Black/AA Pct Deaths Black/AA\n",
              "1 18.62              21.73              \n",
              "2  3.66               2.78              \n",
              "3    NA              17.31              "
            ],
            "text/latex": "A tibble: 3 × 6\n\\begin{tabular}{llllll}\n Location & Date Published & Total Cases & Total Deaths & Pct Cases Black/AA & Pct Deaths Black/AA\\\\\n <chr> & <chr> & <dbl> & <dbl> & <dbl> & <dbl>\\\\\n\\hline\n\t Florida                & 5/5/2020 & 35969 & 1399 & 18.62 & 21.73\\\\\n\t California - San Diego & 5/5/2020 &  4020 &  144 &  3.66 &  2.78\\\\\n\t New York City          & 4/6/2020 &    NA & 2472 &    NA & 17.31\\\\\n\\end{tabular}\n",
            "text/markdown": "\nA tibble: 3 × 6\n\n| Location &lt;chr&gt; | Date Published &lt;chr&gt; | Total Cases &lt;dbl&gt; | Total Deaths &lt;dbl&gt; | Pct Cases Black/AA &lt;dbl&gt; | Pct Deaths Black/AA &lt;dbl&gt; |\n|---|---|---|---|---|---|\n| Florida                | 5/5/2020 | 35969 | 1399 | 18.62 | 21.73 |\n| California - San Diego | 5/5/2020 |  4020 |  144 |  3.66 |  2.78 |\n| New York City          | 4/6/2020 |    NA | 2472 |    NA | 17.31 |\n\n",
            "text/html": [
              "<table>\n",
              "<caption>A tibble: 3 × 6</caption>\n",
              "<thead>\n",
              "\t<tr><th scope=col>Location</th><th scope=col>Date Published</th><th scope=col>Total Cases</th><th scope=col>Total Deaths</th><th scope=col>Pct Cases Black/AA</th><th scope=col>Pct Deaths Black/AA</th></tr>\n",
              "\t<tr><th scope=col>&lt;chr&gt;</th><th scope=col>&lt;chr&gt;</th><th scope=col>&lt;dbl&gt;</th><th scope=col>&lt;dbl&gt;</th><th scope=col>&lt;dbl&gt;</th><th scope=col>&lt;dbl&gt;</th></tr>\n",
              "</thead>\n",
              "<tbody>\n",
              "\t<tr><td>Florida               </td><td>5/5/2020</td><td>35969</td><td>1399</td><td>18.62</td><td>21.73</td></tr>\n",
              "\t<tr><td>California - San Diego</td><td>5/5/2020</td><td> 4020</td><td> 144</td><td> 3.66</td><td> 2.78</td></tr>\n",
              "\t<tr><td>New York City         </td><td>4/6/2020</td><td>   NA</td><td>2472</td><td>   NA</td><td>17.31</td></tr>\n",
              "</tbody>\n",
              "</table>\n"
            ]
          },
          "metadata": {
            "tags": []
          }
        }
      ]
    },
    {
      "cell_type": "code",
      "metadata": {
        "id": "KctKWxQPwxJy",
        "colab_type": "code",
        "outputId": "a0cafe48-ddc5-4790-f289-ff243fefb762",
        "colab": {
          "base_uri": "https://localhost:8080/",
          "height": 34
        }
      },
      "source": [
        "output_file = paste0('output_case2_pdf_', Sys.Date(), '.csv'); output_file\n",
        "output_case2 %>% write_csv(output_file)"
      ],
      "execution_count": 0,
      "outputs": [
        {
          "output_type": "display_data",
          "data": {
            "text/plain": [
              "[1] \"output_case2_pdf_2020-05-05.csv\""
            ],
            "text/latex": "'output\\_case2\\_pdf\\_2020-05-05.csv'",
            "text/markdown": "'output_case2_pdf_2020-05-05.csv'",
            "text/html": [
              "'output_case2_pdf_2020-05-05.csv'"
            ]
          },
          "metadata": {
            "tags": []
          }
        }
      ]
    },
    {
      "cell_type": "markdown",
      "metadata": {
        "id": "bQ0t49uDw-Kd",
        "colab_type": "text"
      },
      "source": [
        "Notes:\n",
        "\n",
        "* Run date (i.e., the date on which this code is run) is used as a proxy for `Date Published`. For now, these dates visual inspection is required in order to ensure that this is accurate. A later version of this script could include parsing of the header text (or the file name) to determine the publish date.\n",
        "\n",
        "* For now, the percentages are calculated out of the total that includes unknown race/ethnicity. Another option is to exclude unknown race/ethnicity from the denominator. We should decide which option is best for these reports.\n",
        "\n",
        "* I couldn't find any NYC racial/ethnic breakdowns beyond April 6 and April 16 reports. We will have to continue to dig for more recent data."
      ]
    },
    {
      "cell_type": "code",
      "metadata": {
        "id": "jIiY5MraKkH4",
        "colab_type": "code",
        "colab": {}
      },
      "source": [
        ""
      ],
      "execution_count": 0,
      "outputs": []
    }
  ]
}