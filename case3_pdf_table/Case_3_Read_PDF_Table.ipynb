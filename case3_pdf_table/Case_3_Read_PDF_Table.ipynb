{
  "nbformat": 4,
  "nbformat_minor": 0,
  "metadata": {
    "colab": {
      "name": "Case-3-Read-PDF-Table.ipynb",
      "provenance": [],
      "collapsed_sections": []
    },
    "kernelspec": {
      "name": "python3",
      "display_name": "Python 3"
    }
  },
  "cells": [
    {
      "cell_type": "markdown",
      "metadata": {
        "id": "qpLcTA6Fokgl",
        "colab_type": "text"
      },
      "source": [
        "# Data 4 Black Lives - COVID-19 Case/Death Disparities\n",
        "\n",
        "Objective: Extract COVID-19 cases and deaths for each geographic location, both overall and for Black/African-Americans only.\n",
        "\n",
        "Data sources for 3 locations (Massachusetts, Virginia, and Washington DC) can be read in directly from CSVs and Excel workbooks. This will be very easy to extract."
      ]
    },
    {
      "cell_type": "code",
      "metadata": {
        "id": "Rfw_wBSJeqgh",
        "colab_type": "code",
        "colab": {
          "base_uri": "https://localhost:8080/",
          "height": 241
        },
        "outputId": "19b4cc2c-7c04-48ff-9a89-5f29d9624426"
      },
      "source": [
        "% pip install tabula-py"
      ],
      "execution_count": 1,
      "outputs": [
        {
          "output_type": "stream",
          "text": [
            "Collecting tabula-py\n",
            "\u001b[?25l  Downloading https://files.pythonhosted.org/packages/53/a4/66add528eca00398af98f181772006750019eb9f2d68c7c6fdd53ba661c5/tabula_py-2.1.0-py3-none-any.whl (10.4MB)\n",
            "\u001b[K     |████████████████████████████████| 10.4MB 2.6MB/s \n",
            "\u001b[?25hCollecting distro\n",
            "  Downloading https://files.pythonhosted.org/packages/25/b7/b3c4270a11414cb22c6352ebc7a83aaa3712043be29daa05018fd5a5c956/distro-1.5.0-py2.py3-none-any.whl\n",
            "Requirement already satisfied: numpy in /usr/local/lib/python3.6/dist-packages (from tabula-py) (1.18.3)\n",
            "Requirement already satisfied: pandas>=0.25.3 in /usr/local/lib/python3.6/dist-packages (from tabula-py) (1.0.3)\n",
            "Requirement already satisfied: pytz>=2017.2 in /usr/local/lib/python3.6/dist-packages (from pandas>=0.25.3->tabula-py) (2018.9)\n",
            "Requirement already satisfied: python-dateutil>=2.6.1 in /usr/local/lib/python3.6/dist-packages (from pandas>=0.25.3->tabula-py) (2.8.1)\n",
            "Requirement already satisfied: six>=1.5 in /usr/local/lib/python3.6/dist-packages (from python-dateutil>=2.6.1->pandas>=0.25.3->tabula-py) (1.12.0)\n",
            "Installing collected packages: distro, tabula-py\n",
            "Successfully installed distro-1.5.0 tabula-py-2.1.0\n"
          ],
          "name": "stdout"
        }
      ]
    },
    {
      "cell_type": "code",
      "metadata": {
        "id": "1VrC42aXzBeU",
        "colab_type": "code",
        "colab": {
          "base_uri": "https://localhost:8080/",
          "height": 717
        },
        "outputId": "e08aff3c-34d3-4bbc-ac1d-fb84e1c00117"
      },
      "source": [
        "! sudo apt-get install build-essential libpoppler-cpp-dev pkg-config python-dev"
      ],
      "execution_count": 2,
      "outputs": [
        {
          "output_type": "stream",
          "text": [
            "Reading package lists... Done\n",
            "Building dependency tree       \n",
            "Reading state information... Done\n",
            "build-essential is already the newest version (12.4ubuntu1).\n",
            "pkg-config is already the newest version (0.29.1-0ubuntu2).\n",
            "python-dev is already the newest version (2.7.15~rc1-1).\n",
            "The following additional packages will be installed:\n",
            "  libpoppler-cpp0v5 libpoppler-dev\n",
            "The following NEW packages will be installed:\n",
            "  libpoppler-cpp-dev libpoppler-cpp0v5 libpoppler-dev\n",
            "0 upgraded, 3 newly installed, 0 to remove and 25 not upgraded.\n",
            "Need to get 41.3 kB of archives.\n",
            "After this operation, 233 kB of additional disk space will be used.\n",
            "Get:1 http://archive.ubuntu.com/ubuntu bionic-updates/main amd64 libpoppler-cpp0v5 amd64 0.62.0-2ubuntu2.10 [28.0 kB]\n",
            "Get:2 http://archive.ubuntu.com/ubuntu bionic-updates/main amd64 libpoppler-dev amd64 0.62.0-2ubuntu2.10 [4,608 B]\n",
            "Get:3 http://archive.ubuntu.com/ubuntu bionic-updates/main amd64 libpoppler-cpp-dev amd64 0.62.0-2ubuntu2.10 [8,684 B]\n",
            "Fetched 41.3 kB in 0s (100 kB/s)\n",
            "debconf: unable to initialize frontend: Dialog\n",
            "debconf: (No usable dialog-like program is installed, so the dialog based frontend cannot be used. at /usr/share/perl5/Debconf/FrontEnd/Dialog.pm line 76, <> line 3.)\n",
            "debconf: falling back to frontend: Readline\n",
            "debconf: unable to initialize frontend: Readline\n",
            "debconf: (This frontend requires a controlling tty.)\n",
            "debconf: falling back to frontend: Teletype\n",
            "dpkg-preconfigure: unable to re-open stdin: \n",
            "Selecting previously unselected package libpoppler-cpp0v5:amd64.\n",
            "(Reading database ... 144568 files and directories currently installed.)\n",
            "Preparing to unpack .../libpoppler-cpp0v5_0.62.0-2ubuntu2.10_amd64.deb ...\n",
            "Unpacking libpoppler-cpp0v5:amd64 (0.62.0-2ubuntu2.10) ...\n",
            "Selecting previously unselected package libpoppler-dev:amd64.\n",
            "Preparing to unpack .../libpoppler-dev_0.62.0-2ubuntu2.10_amd64.deb ...\n",
            "Unpacking libpoppler-dev:amd64 (0.62.0-2ubuntu2.10) ...\n",
            "Selecting previously unselected package libpoppler-cpp-dev:amd64.\n",
            "Preparing to unpack .../libpoppler-cpp-dev_0.62.0-2ubuntu2.10_amd64.deb ...\n",
            "Unpacking libpoppler-cpp-dev:amd64 (0.62.0-2ubuntu2.10) ...\n",
            "Setting up libpoppler-dev:amd64 (0.62.0-2ubuntu2.10) ...\n",
            "Setting up libpoppler-cpp0v5:amd64 (0.62.0-2ubuntu2.10) ...\n",
            "Setting up libpoppler-cpp-dev:amd64 (0.62.0-2ubuntu2.10) ...\n",
            "Processing triggers for libc-bin (2.27-3ubuntu1) ...\n",
            "/sbin/ldconfig.real: /usr/local/lib/python3.6/dist-packages/ideep4py/lib/libmkldnn.so.0 is not a symbolic link\n",
            "\n"
          ],
          "name": "stdout"
        }
      ]
    },
    {
      "cell_type": "code",
      "metadata": {
        "id": "6LmaWj6ix3F4",
        "colab_type": "code",
        "colab": {
          "base_uri": "https://localhost:8080/",
          "height": 207
        },
        "outputId": "ff8f3fdf-2816-4283-8390-17cc2fdd3f25"
      },
      "source": [
        "% pip install pdftotext"
      ],
      "execution_count": 3,
      "outputs": [
        {
          "output_type": "stream",
          "text": [
            "Collecting pdftotext\n",
            "\u001b[?25l  Downloading https://files.pythonhosted.org/packages/58/38/f04c252f4cb2d10af9abcde0a2db1bcd38288a76a99e88333f2a434e0c40/pdftotext-2.1.4.tar.gz (113kB)\n",
            "\r\u001b[K     |██▉                             | 10kB 17.1MB/s eta 0:00:01\r\u001b[K     |█████▊                          | 20kB 1.8MB/s eta 0:00:01\r\u001b[K     |████████▋                       | 30kB 2.4MB/s eta 0:00:01\r\u001b[K     |███████████▌                    | 40kB 1.7MB/s eta 0:00:01\r\u001b[K     |██████████████▍                 | 51kB 2.0MB/s eta 0:00:01\r\u001b[K     |█████████████████▎              | 61kB 2.4MB/s eta 0:00:01\r\u001b[K     |████████████████████▏           | 71kB 2.8MB/s eta 0:00:01\r\u001b[K     |███████████████████████         | 81kB 2.2MB/s eta 0:00:01\r\u001b[K     |██████████████████████████      | 92kB 2.5MB/s eta 0:00:01\r\u001b[K     |████████████████████████████▉   | 102kB 2.8MB/s eta 0:00:01\r\u001b[K     |███████████████████████████████▋| 112kB 2.8MB/s eta 0:00:01\r\u001b[K     |████████████████████████████████| 122kB 2.8MB/s \n",
            "\u001b[?25hBuilding wheels for collected packages: pdftotext\n",
            "  Building wheel for pdftotext (setup.py) ... \u001b[?25l\u001b[?25hdone\n",
            "  Created wheel for pdftotext: filename=pdftotext-2.1.4-cp36-cp36m-linux_x86_64.whl size=54081 sha256=44a1ac2d842db66047ea2bf69737d21ce8b4b12f1d4d535447becf5c35a970a2\n",
            "  Stored in directory: /root/.cache/pip/wheels/88/c3/62/c1ef7f738f8c0c1ac67cbe63786cae734d555c5077088036f0\n",
            "Successfully built pdftotext\n",
            "Installing collected packages: pdftotext\n",
            "Successfully installed pdftotext-2.1.4\n"
          ],
          "name": "stdout"
        }
      ]
    },
    {
      "cell_type": "code",
      "metadata": {
        "id": "I10z-mSf1B5h",
        "colab_type": "code",
        "colab": {
          "base_uri": "https://localhost:8080/",
          "height": 564
        },
        "outputId": "c27a994e-bc66-459b-b5d2-18a11309879e"
      },
      "source": [
        "! pip install camelot-py[cv]"
      ],
      "execution_count": 4,
      "outputs": [
        {
          "output_type": "stream",
          "text": [
            "Collecting camelot-py[cv]\n",
            "\u001b[?25l  Downloading https://files.pythonhosted.org/packages/70/d6/a47894242a6fba58a2332489358afedc6209da43942ab7f850b932019101/camelot_py-0.7.3-py3-none-any.whl (42kB)\n",
            "\r\u001b[K     |███████▊                        | 10kB 15.4MB/s eta 0:00:01\r\u001b[K     |███████████████▍                | 20kB 1.8MB/s eta 0:00:01\r\u001b[K     |███████████████████████         | 30kB 2.3MB/s eta 0:00:01\r\u001b[K     |██████████████████████████████▊ | 40kB 1.7MB/s eta 0:00:01\r\u001b[K     |████████████████████████████████| 51kB 1.7MB/s \n",
            "\u001b[?25hRequirement already satisfied: click>=6.7 in /usr/local/lib/python3.6/dist-packages (from camelot-py[cv]) (7.1.2)\n",
            "Requirement already satisfied: numpy>=1.13.3 in /usr/local/lib/python3.6/dist-packages (from camelot-py[cv]) (1.18.3)\n",
            "Collecting pdfminer.six>=20170720\n",
            "\u001b[?25l  Downloading https://files.pythonhosted.org/packages/0b/04/f62d5834c2bdf90afcaeb23bb5241033c44e27000de64ad8472253daa4a8/pdfminer.six-20200402-py3-none-any.whl (5.6MB)\n",
            "\u001b[K     |████████████████████████████████| 5.6MB 6.1MB/s \n",
            "\u001b[?25hRequirement already satisfied: chardet>=3.0.4 in /usr/local/lib/python3.6/dist-packages (from camelot-py[cv]) (3.0.4)\n",
            "Requirement already satisfied: openpyxl>=2.5.8 in /usr/local/lib/python3.6/dist-packages (from camelot-py[cv]) (2.5.9)\n",
            "Collecting PyPDF2>=1.26.0\n",
            "\u001b[?25l  Downloading https://files.pythonhosted.org/packages/b4/01/68fcc0d43daf4c6bdbc6b33cc3f77bda531c86b174cac56ef0ffdb96faab/PyPDF2-1.26.0.tar.gz (77kB)\n",
            "\u001b[K     |████████████████████████████████| 81kB 10.1MB/s \n",
            "\u001b[?25hRequirement already satisfied: pandas>=0.23.4 in /usr/local/lib/python3.6/dist-packages (from camelot-py[cv]) (1.0.3)\n",
            "Requirement already satisfied: opencv-python>=3.4.2.17; extra == \"cv\" in /usr/local/lib/python3.6/dist-packages (from camelot-py[cv]) (4.1.2.30)\n",
            "Requirement already satisfied: sortedcontainers in /usr/local/lib/python3.6/dist-packages (from pdfminer.six>=20170720->camelot-py[cv]) (2.1.0)\n",
            "Collecting pycryptodome\n",
            "\u001b[?25l  Downloading https://files.pythonhosted.org/packages/af/16/da16a22d47bac9bf9db39f3b9af74e8eeed8855c0df96be20b580ef92fff/pycryptodome-3.9.7-cp36-cp36m-manylinux1_x86_64.whl (13.7MB)\n",
            "\u001b[K     |████████████████████████████████| 13.7MB 42.7MB/s \n",
            "\u001b[?25hRequirement already satisfied: et-xmlfile in /usr/local/lib/python3.6/dist-packages (from openpyxl>=2.5.8->camelot-py[cv]) (1.0.1)\n",
            "Requirement already satisfied: jdcal in /usr/local/lib/python3.6/dist-packages (from openpyxl>=2.5.8->camelot-py[cv]) (1.4.1)\n",
            "Requirement already satisfied: pytz>=2017.2 in /usr/local/lib/python3.6/dist-packages (from pandas>=0.23.4->camelot-py[cv]) (2018.9)\n",
            "Requirement already satisfied: python-dateutil>=2.6.1 in /usr/local/lib/python3.6/dist-packages (from pandas>=0.23.4->camelot-py[cv]) (2.8.1)\n",
            "Requirement already satisfied: six>=1.5 in /usr/local/lib/python3.6/dist-packages (from python-dateutil>=2.6.1->pandas>=0.23.4->camelot-py[cv]) (1.12.0)\n",
            "Building wheels for collected packages: PyPDF2\n",
            "  Building wheel for PyPDF2 (setup.py) ... \u001b[?25l\u001b[?25hdone\n",
            "  Created wheel for PyPDF2: filename=PyPDF2-1.26.0-cp36-none-any.whl size=61086 sha256=533a180d433ddfe8ba836bee57e5b64ba78c6faa7395f90b0c1490e3f3f29f2d\n",
            "  Stored in directory: /root/.cache/pip/wheels/53/84/19/35bc977c8bf5f0c23a8a011aa958acd4da4bbd7a229315c1b7\n",
            "Successfully built PyPDF2\n",
            "Installing collected packages: pycryptodome, pdfminer.six, PyPDF2, camelot-py\n",
            "Successfully installed PyPDF2-1.26.0 camelot-py-0.7.3 pdfminer.six-20200402 pycryptodome-3.9.7\n"
          ],
          "name": "stdout"
        }
      ]
    },
    {
      "cell_type": "code",
      "metadata": {
        "id": "6GIZxuXC3UMy",
        "colab_type": "code",
        "colab": {
          "base_uri": "https://localhost:8080/",
          "height": 578
        },
        "outputId": "94c88065-4283-411a-a6aa-552f0f4d7aca"
      },
      "source": [
        "! apt install python3-tk ghostscript"
      ],
      "execution_count": 5,
      "outputs": [
        {
          "output_type": "stream",
          "text": [
            "Reading package lists... Done\n",
            "Building dependency tree       \n",
            "Reading state information... Done\n",
            "python3-tk is already the newest version (3.6.9-1~18.04).\n",
            "The following additional packages will be installed:\n",
            "  fonts-droid-fallback fonts-noto-mono gsfonts libcupsfilters1 libcupsimage2\n",
            "  libgs9 libgs9-common libijs-0.35 libjbig2dec0 poppler-data\n",
            "Suggested packages:\n",
            "  fonts-noto ghostscript-x poppler-utils fonts-japanese-mincho\n",
            "  | fonts-ipafont-mincho fonts-japanese-gothic | fonts-ipafont-gothic\n",
            "  fonts-arphic-ukai fonts-arphic-uming fonts-nanum\n",
            "The following NEW packages will be installed:\n",
            "  fonts-droid-fallback fonts-noto-mono ghostscript gsfonts libcupsfilters1\n",
            "  libcupsimage2 libgs9 libgs9-common libijs-0.35 libjbig2dec0 poppler-data\n",
            "0 upgraded, 11 newly installed, 0 to remove and 25 not upgraded.\n",
            "Need to get 14.1 MB of archives.\n",
            "After this operation, 49.9 MB of additional disk space will be used.\n",
            "Get:1 http://archive.ubuntu.com/ubuntu bionic/main amd64 fonts-droid-fallback all 1:6.0.1r16-1.1 [1,805 kB]\n",
            "Get:2 http://archive.ubuntu.com/ubuntu bionic/main amd64 poppler-data all 0.4.8-2 [1,479 kB]\n",
            "Get:3 http://archive.ubuntu.com/ubuntu bionic/main amd64 fonts-noto-mono all 20171026-2 [75.5 kB]\n",
            "Ign:4 http://archive.ubuntu.com/ubuntu bionic-updates/main amd64 libcupsimage2 amd64 2.2.7-1ubuntu2.7\n",
            "Get:5 http://archive.ubuntu.com/ubuntu bionic/main amd64 libijs-0.35 amd64 0.35-13 [15.5 kB]\n",
            "Get:6 http://archive.ubuntu.com/ubuntu bionic/main amd64 libjbig2dec0 amd64 0.13-6 [55.9 kB]\n",
            "Get:7 http://archive.ubuntu.com/ubuntu bionic-updates/main amd64 libgs9-common all 9.26~dfsg+0-0ubuntu0.18.04.12 [5,092 kB]\n",
            "Err:4 http://security.ubuntu.com/ubuntu bionic-updates/main amd64 libcupsimage2 amd64 2.2.7-1ubuntu2.7\n",
            "  404  Not Found [IP: 91.189.88.152 80]\n",
            "Get:8 http://archive.ubuntu.com/ubuntu bionic-updates/main amd64 libgs9 amd64 9.26~dfsg+0-0ubuntu0.18.04.12 [2,264 kB]\n",
            "Get:9 http://archive.ubuntu.com/ubuntu bionic-updates/main amd64 ghostscript amd64 9.26~dfsg+0-0ubuntu0.18.04.12 [50.9 kB]\n",
            "Get:10 http://archive.ubuntu.com/ubuntu bionic/main amd64 gsfonts all 1:8.11+urwcyr1.0.7~pre44-4.4 [3,120 kB]\n",
            "Get:11 http://archive.ubuntu.com/ubuntu bionic-updates/main amd64 libcupsfilters1 amd64 1.20.2-0ubuntu3.1 [108 kB]\n",
            "Fetched 14.1 MB in 1s (10.9 MB/s)\n",
            "E: Failed to fetch http://security.ubuntu.com/ubuntu/pool/main/c/cups/libcupsimage2_2.2.7-1ubuntu2.7_amd64.deb  404  Not Found [IP: 91.189.88.152 80]\n",
            "E: Unable to fetch some archives, maybe run apt-get update or try with --fix-missing?\n"
          ],
          "name": "stdout"
        }
      ]
    },
    {
      "cell_type": "code",
      "metadata": {
        "id": "gTMocSx44cxV",
        "colab_type": "code",
        "colab": {
          "base_uri": "https://localhost:8080/",
          "height": 102
        },
        "outputId": "cfb9c779-a42a-4f08-9f82-6900f95cfb91"
      },
      "source": [
        "! pip install ghostscript"
      ],
      "execution_count": 6,
      "outputs": [
        {
          "output_type": "stream",
          "text": [
            "Collecting ghostscript\n",
            "  Downloading https://files.pythonhosted.org/packages/d0/bd/c96072da3a98a498285382ec6ee4b18379c021e4bb6561308e25bc4c04d0/ghostscript-0.6-py2.py3-none-any.whl\n",
            "Requirement already satisfied: setuptools in /usr/local/lib/python3.6/dist-packages (from ghostscript) (46.1.3)\n",
            "Installing collected packages: ghostscript\n",
            "Successfully installed ghostscript-0.6\n"
          ],
          "name": "stdout"
        }
      ]
    },
    {
      "cell_type": "code",
      "metadata": {
        "id": "oX6dAmjC5BlB",
        "colab_type": "code",
        "colab": {}
      },
      "source": [
        "#!gs -version\n",
        "import tkinter"
      ],
      "execution_count": 0,
      "outputs": []
    },
    {
      "cell_type": "code",
      "metadata": {
        "id": "sQJDCXjRevZo",
        "colab_type": "code",
        "colab": {}
      },
      "source": [
        "from tabula import read_pdf\n",
        "import pdftotext\n",
        "import camelot\n",
        "import os\n",
        "from datetime import datetime, timedelta"
      ],
      "execution_count": 0,
      "outputs": []
    },
    {
      "cell_type": "code",
      "metadata": {
        "id": "ZkO0nygefZSe",
        "colab_type": "code",
        "colab": {}
      },
      "source": [
        "% mkdir data\n",
        "% mkdir data/san_diego\n",
        "% mkdir data/florida\n",
        "% mkdir data/nyc"
      ],
      "execution_count": 0,
      "outputs": []
    },
    {
      "cell_type": "code",
      "metadata": {
        "id": "xUEbUzGvfvbs",
        "colab_type": "code",
        "colab": {}
      },
      "source": [
        "home_dir = '/content'"
      ],
      "execution_count": 0,
      "outputs": []
    },
    {
      "cell_type": "code",
      "metadata": {
        "id": "K8Pk4gmonIAn",
        "colab_type": "code",
        "colab": {}
      },
      "source": [
        "## Dictionary to hold results\n",
        "output = dict()"
      ],
      "execution_count": 0,
      "outputs": []
    },
    {
      "cell_type": "code",
      "metadata": {
        "id": "mUb8Ek0EfuUU",
        "colab_type": "code",
        "colab": {
          "base_uri": "https://localhost:8080/",
          "height": 34
        },
        "outputId": "5040e447-3fd3-4f77-de15-f5f0fca38ece"
      },
      "source": [
        "!pwd"
      ],
      "execution_count": 12,
      "outputs": [
        {
          "output_type": "stream",
          "text": [
            "/content\n"
          ],
          "name": "stdout"
        }
      ]
    },
    {
      "cell_type": "markdown",
      "metadata": {
        "id": "qxbdG7GNfncp",
        "colab_type": "text"
      },
      "source": [
        "## San Diego"
      ]
    },
    {
      "cell_type": "code",
      "metadata": {
        "id": "m_a0AnnKfm8L",
        "colab_type": "code",
        "colab": {}
      },
      "source": [
        "path_sd = os.path.join(home_dir, 'data', 'san_diego')\n",
        "os.chdir(path_sd)"
      ],
      "execution_count": 0,
      "outputs": []
    },
    {
      "cell_type": "code",
      "metadata": {
        "id": "6kUUGidqfVbn",
        "colab_type": "code",
        "colab": {
          "base_uri": "https://localhost:8080/",
          "height": 391
        },
        "outputId": "0bca5c02-c193-49b9-9c9d-501e36746359"
      },
      "source": [
        "!wget -O sd_cases.pdf  'https://www.sandiegocounty.gov/content/dam/sdc/hhsa/programs/phs/Epidemiology/COVID-19%20Race%20and%20Ethnicity%20Summary.pdf'\n",
        "!wget -O sd_deaths.pdf  'https://www.sandiegocounty.gov/content/dam/sdc/hhsa/programs/phs/Epidemiology/COVID-19%20Deaths%20by%20Demographics.pdf'"
      ],
      "execution_count": 14,
      "outputs": [
        {
          "output_type": "stream",
          "text": [
            "--2020-05-05 15:42:53--  https://www.sandiegocounty.gov/content/dam/sdc/hhsa/programs/phs/Epidemiology/COVID-19%20Race%20and%20Ethnicity%20Summary.pdf\n",
            "Resolving www.sandiegocounty.gov (www.sandiegocounty.gov)... 104.126.159.159, 2600:1402:2000:1a7::2608, 2600:1402:2000:1aa::2608\n",
            "Connecting to www.sandiegocounty.gov (www.sandiegocounty.gov)|104.126.159.159|:443... connected.\n",
            "HTTP request sent, awaiting response... 200 OK\n",
            "Length: 197449 (193K) [application/pdf]\n",
            "Saving to: ‘sd_cases.pdf’\n",
            "\n",
            "sd_cases.pdf        100%[===================>] 192.82K  --.-KB/s    in 0.05s   \n",
            "\n",
            "2020-05-05 15:42:53 (3.80 MB/s) - ‘sd_cases.pdf’ saved [197449/197449]\n",
            "\n",
            "--2020-05-05 15:42:54--  https://www.sandiegocounty.gov/content/dam/sdc/hhsa/programs/phs/Epidemiology/COVID-19%20Deaths%20by%20Demographics.pdf\n",
            "Resolving www.sandiegocounty.gov (www.sandiegocounty.gov)... 104.126.159.159, 2600:1402:2000:1a7::2608, 2600:1402:2000:1aa::2608\n",
            "Connecting to www.sandiegocounty.gov (www.sandiegocounty.gov)|104.126.159.159|:443... connected.\n",
            "HTTP request sent, awaiting response... 200 OK\n",
            "Length: 146902 (143K) [application/pdf]\n",
            "Saving to: ‘sd_deaths.pdf’\n",
            "\n",
            "sd_deaths.pdf       100%[===================>] 143.46K  --.-KB/s    in 0.04s   \n",
            "\n",
            "2020-05-05 15:42:54 (3.56 MB/s) - ‘sd_deaths.pdf’ saved [146902/146902]\n",
            "\n"
          ],
          "name": "stdout"
        }
      ]
    },
    {
      "cell_type": "code",
      "metadata": {
        "id": "niQpgGKYeve8",
        "colab_type": "code",
        "colab": {
          "base_uri": "https://localhost:8080/",
          "height": 407
        },
        "outputId": "d7eb2800-5952-43b3-e4a3-82266af31079"
      },
      "source": [
        "sd_cases_raw = read_pdf('sd_cases.pdf')[0]; sd_cases_raw"
      ],
      "execution_count": 15,
      "outputs": [
        {
          "output_type": "stream",
          "text": [
            "'pages' argument isn't specified.Will extract only from page 1 by default.\n"
          ],
          "name": "stderr"
        },
        {
          "output_type": "execute_result",
          "data": {
            "text/html": [
              "<div>\n",
              "<style scoped>\n",
              "    .dataframe tbody tr th:only-of-type {\n",
              "        vertical-align: middle;\n",
              "    }\n",
              "\n",
              "    .dataframe tbody tr th {\n",
              "        vertical-align: top;\n",
              "    }\n",
              "\n",
              "    .dataframe thead th {\n",
              "        text-align: right;\n",
              "    }\n",
              "</style>\n",
              "<table border=\"1\" class=\"dataframe\">\n",
              "  <thead>\n",
              "    <tr style=\"text-align: right;\">\n",
              "      <th></th>\n",
              "      <th>COVID-19 Case Summary</th>\n",
              "      <th>Unnamed: 0</th>\n",
              "      <th>San Diego County Residents</th>\n",
              "      <th>Unnamed: 1</th>\n",
              "    </tr>\n",
              "  </thead>\n",
              "  <tbody>\n",
              "    <tr>\n",
              "      <th>0</th>\n",
              "      <td>Total Positives</td>\n",
              "      <td>NaN</td>\n",
              "      <td>4,020</td>\n",
              "      <td>NaN</td>\n",
              "    </tr>\n",
              "    <tr>\n",
              "      <th>1</th>\n",
              "      <td>NaN</td>\n",
              "      <td>NaN</td>\n",
              "      <td>% of Total with Known</td>\n",
              "      <td>NaN</td>\n",
              "    </tr>\n",
              "    <tr>\n",
              "      <th>2</th>\n",
              "      <td>Race and Ethnicity</td>\n",
              "      <td>Count</td>\n",
              "      <td>Race/Ethnicity (N=3,221)</td>\n",
              "      <td>Rate per 100,000*</td>\n",
              "    </tr>\n",
              "    <tr>\n",
              "      <th>3</th>\n",
              "      <td>Hispanic or Latino</td>\n",
              "      <td>1,765</td>\n",
              "      <td>54.8%</td>\n",
              "      <td>153.4</td>\n",
              "    </tr>\n",
              "    <tr>\n",
              "      <th>4</th>\n",
              "      <td>White</td>\n",
              "      <td>948</td>\n",
              "      <td>29.4%</td>\n",
              "      <td>62.1</td>\n",
              "    </tr>\n",
              "    <tr>\n",
              "      <th>5</th>\n",
              "      <td>Black or African American</td>\n",
              "      <td>147</td>\n",
              "      <td>4.6%</td>\n",
              "      <td>99.5</td>\n",
              "    </tr>\n",
              "    <tr>\n",
              "      <th>6</th>\n",
              "      <td>Asian</td>\n",
              "      <td>283</td>\n",
              "      <td>8.8%</td>\n",
              "      <td>77.7</td>\n",
              "    </tr>\n",
              "    <tr>\n",
              "      <th>7</th>\n",
              "      <td>Pacific Islander</td>\n",
              "      <td>34</td>\n",
              "      <td>1.1%</td>\n",
              "      <td>231.1</td>\n",
              "    </tr>\n",
              "    <tr>\n",
              "      <th>8</th>\n",
              "      <td>American Indian</td>\n",
              "      <td>8</td>\n",
              "      <td>0.2%</td>\n",
              "      <td>NaN</td>\n",
              "    </tr>\n",
              "    <tr>\n",
              "      <th>9</th>\n",
              "      <td>Multiple Race</td>\n",
              "      <td>36</td>\n",
              "      <td>1.1%</td>\n",
              "      <td>32.1</td>\n",
              "    </tr>\n",
              "    <tr>\n",
              "      <th>10</th>\n",
              "      <td>Race/Ethnicity Unknown</td>\n",
              "      <td>799</td>\n",
              "      <td>NaN</td>\n",
              "      <td>NaN</td>\n",
              "    </tr>\n",
              "  </tbody>\n",
              "</table>\n",
              "</div>"
            ],
            "text/plain": [
              "        COVID-19 Case Summary  ...         Unnamed: 1\n",
              "0             Total Positives  ...                NaN\n",
              "1                         NaN  ...                NaN\n",
              "2          Race and Ethnicity  ...  Rate per 100,000*\n",
              "3          Hispanic or Latino  ...              153.4\n",
              "4                       White  ...               62.1\n",
              "5   Black or African American  ...               99.5\n",
              "6                       Asian  ...               77.7\n",
              "7            Pacific Islander  ...              231.1\n",
              "8             American Indian  ...                NaN\n",
              "9               Multiple Race  ...               32.1\n",
              "10     Race/Ethnicity Unknown  ...                NaN\n",
              "\n",
              "[11 rows x 4 columns]"
            ]
          },
          "metadata": {
            "tags": []
          },
          "execution_count": 15
        }
      ]
    },
    {
      "cell_type": "code",
      "metadata": {
        "id": "ymTbUXDShQbr",
        "colab_type": "code",
        "colab": {
          "base_uri": "https://localhost:8080/",
          "height": 297
        },
        "outputId": "5f6612e4-5735-4993-e62d-7b1d1d96b86f"
      },
      "source": [
        "sd_cases = sd_cases_raw.drop(index=[0,1]).reset_index().drop(columns=['index'])\n",
        "sd_cases.columns = sd_cases.loc[0]\n",
        "sd_cases = sd_cases.drop(index=[0])\n",
        "sd_cases['Count'] = [int(x.replace(',', '')) for x in sd_cases['Count']]\n",
        "sd_cases = sd_cases[['Race and Ethnicity', 'Count']]\n",
        "sd_cases"
      ],
      "execution_count": 16,
      "outputs": [
        {
          "output_type": "execute_result",
          "data": {
            "text/html": [
              "<div>\n",
              "<style scoped>\n",
              "    .dataframe tbody tr th:only-of-type {\n",
              "        vertical-align: middle;\n",
              "    }\n",
              "\n",
              "    .dataframe tbody tr th {\n",
              "        vertical-align: top;\n",
              "    }\n",
              "\n",
              "    .dataframe thead th {\n",
              "        text-align: right;\n",
              "    }\n",
              "</style>\n",
              "<table border=\"1\" class=\"dataframe\">\n",
              "  <thead>\n",
              "    <tr style=\"text-align: right;\">\n",
              "      <th></th>\n",
              "      <th>Race and Ethnicity</th>\n",
              "      <th>Count</th>\n",
              "    </tr>\n",
              "  </thead>\n",
              "  <tbody>\n",
              "    <tr>\n",
              "      <th>1</th>\n",
              "      <td>Hispanic or Latino</td>\n",
              "      <td>1765</td>\n",
              "    </tr>\n",
              "    <tr>\n",
              "      <th>2</th>\n",
              "      <td>White</td>\n",
              "      <td>948</td>\n",
              "    </tr>\n",
              "    <tr>\n",
              "      <th>3</th>\n",
              "      <td>Black or African American</td>\n",
              "      <td>147</td>\n",
              "    </tr>\n",
              "    <tr>\n",
              "      <th>4</th>\n",
              "      <td>Asian</td>\n",
              "      <td>283</td>\n",
              "    </tr>\n",
              "    <tr>\n",
              "      <th>5</th>\n",
              "      <td>Pacific Islander</td>\n",
              "      <td>34</td>\n",
              "    </tr>\n",
              "    <tr>\n",
              "      <th>6</th>\n",
              "      <td>American Indian</td>\n",
              "      <td>8</td>\n",
              "    </tr>\n",
              "    <tr>\n",
              "      <th>7</th>\n",
              "      <td>Multiple Race</td>\n",
              "      <td>36</td>\n",
              "    </tr>\n",
              "    <tr>\n",
              "      <th>8</th>\n",
              "      <td>Race/Ethnicity Unknown</td>\n",
              "      <td>799</td>\n",
              "    </tr>\n",
              "  </tbody>\n",
              "</table>\n",
              "</div>"
            ],
            "text/plain": [
              "0         Race and Ethnicity  Count\n",
              "1         Hispanic or Latino   1765\n",
              "2                      White    948\n",
              "3  Black or African American    147\n",
              "4                      Asian    283\n",
              "5           Pacific Islander     34\n",
              "6            American Indian      8\n",
              "7              Multiple Race     36\n",
              "8     Race/Ethnicity Unknown    799"
            ]
          },
          "metadata": {
            "tags": []
          },
          "execution_count": 16
        }
      ]
    },
    {
      "cell_type": "code",
      "metadata": {
        "id": "eiyf_Uteomtl",
        "colab_type": "code",
        "colab": {
          "base_uri": "https://localhost:8080/",
          "height": 314
        },
        "outputId": "b64008be-6d04-4b3d-80dd-e8872ec701ca"
      },
      "source": [
        "sd_total_cases = sd_cases.Count.sum(); print(sd_total_cases)\n",
        "sd_cases['Percent'] = round(100 * sd_cases['Count'] / sd_total_cases, 2)\n",
        "sd_cases"
      ],
      "execution_count": 17,
      "outputs": [
        {
          "output_type": "stream",
          "text": [
            "4020\n"
          ],
          "name": "stdout"
        },
        {
          "output_type": "execute_result",
          "data": {
            "text/html": [
              "<div>\n",
              "<style scoped>\n",
              "    .dataframe tbody tr th:only-of-type {\n",
              "        vertical-align: middle;\n",
              "    }\n",
              "\n",
              "    .dataframe tbody tr th {\n",
              "        vertical-align: top;\n",
              "    }\n",
              "\n",
              "    .dataframe thead th {\n",
              "        text-align: right;\n",
              "    }\n",
              "</style>\n",
              "<table border=\"1\" class=\"dataframe\">\n",
              "  <thead>\n",
              "    <tr style=\"text-align: right;\">\n",
              "      <th></th>\n",
              "      <th>Race and Ethnicity</th>\n",
              "      <th>Count</th>\n",
              "      <th>Percent</th>\n",
              "    </tr>\n",
              "  </thead>\n",
              "  <tbody>\n",
              "    <tr>\n",
              "      <th>1</th>\n",
              "      <td>Hispanic or Latino</td>\n",
              "      <td>1765</td>\n",
              "      <td>43.91</td>\n",
              "    </tr>\n",
              "    <tr>\n",
              "      <th>2</th>\n",
              "      <td>White</td>\n",
              "      <td>948</td>\n",
              "      <td>23.58</td>\n",
              "    </tr>\n",
              "    <tr>\n",
              "      <th>3</th>\n",
              "      <td>Black or African American</td>\n",
              "      <td>147</td>\n",
              "      <td>3.66</td>\n",
              "    </tr>\n",
              "    <tr>\n",
              "      <th>4</th>\n",
              "      <td>Asian</td>\n",
              "      <td>283</td>\n",
              "      <td>7.04</td>\n",
              "    </tr>\n",
              "    <tr>\n",
              "      <th>5</th>\n",
              "      <td>Pacific Islander</td>\n",
              "      <td>34</td>\n",
              "      <td>0.85</td>\n",
              "    </tr>\n",
              "    <tr>\n",
              "      <th>6</th>\n",
              "      <td>American Indian</td>\n",
              "      <td>8</td>\n",
              "      <td>0.20</td>\n",
              "    </tr>\n",
              "    <tr>\n",
              "      <th>7</th>\n",
              "      <td>Multiple Race</td>\n",
              "      <td>36</td>\n",
              "      <td>0.90</td>\n",
              "    </tr>\n",
              "    <tr>\n",
              "      <th>8</th>\n",
              "      <td>Race/Ethnicity Unknown</td>\n",
              "      <td>799</td>\n",
              "      <td>19.88</td>\n",
              "    </tr>\n",
              "  </tbody>\n",
              "</table>\n",
              "</div>"
            ],
            "text/plain": [
              "0         Race and Ethnicity  Count  Percent\n",
              "1         Hispanic or Latino   1765    43.91\n",
              "2                      White    948    23.58\n",
              "3  Black or African American    147     3.66\n",
              "4                      Asian    283     7.04\n",
              "5           Pacific Islander     34     0.85\n",
              "6            American Indian      8     0.20\n",
              "7              Multiple Race     36     0.90\n",
              "8     Race/Ethnicity Unknown    799    19.88"
            ]
          },
          "metadata": {
            "tags": []
          },
          "execution_count": 17
        }
      ]
    },
    {
      "cell_type": "code",
      "metadata": {
        "id": "56yy5aLppRjR",
        "colab_type": "code",
        "colab": {
          "base_uri": "https://localhost:8080/",
          "height": 34
        },
        "outputId": "4843920e-228c-4926-976a-2b7a9a5a73d9"
      },
      "source": [
        "sd_aa_cases_pct = sd_cases.set_index('Race and Ethnicity').loc['Black or African American','Percent']; sd_aa_cases_pct"
      ],
      "execution_count": 18,
      "outputs": [
        {
          "output_type": "execute_result",
          "data": {
            "text/plain": [
              "3.66"
            ]
          },
          "metadata": {
            "tags": []
          },
          "execution_count": 18
        }
      ]
    },
    {
      "cell_type": "code",
      "metadata": {
        "id": "Wgyl5A-efSGW",
        "colab_type": "code",
        "colab": {
          "base_uri": "https://localhost:8080/",
          "height": 1000
        },
        "outputId": "cf422a0b-b84a-47cd-bc71-fe0f39d0221f"
      },
      "source": [
        "sd_deaths_raw = read_pdf('sd_deaths.pdf')[0]; sd_deaths_raw"
      ],
      "execution_count": 19,
      "outputs": [
        {
          "output_type": "stream",
          "text": [
            "'pages' argument isn't specified.Will extract only from page 1 by default.\n",
            "Got stderr: May 05, 2020 3:43:00 PM org.apache.pdfbox.pdmodel.font.FileSystemFontProvider loadDiskCache\n",
            "WARNING: New fonts found, font cache will be re-built\n",
            "May 05, 2020 3:43:00 PM org.apache.pdfbox.pdmodel.font.FileSystemFontProvider <init>\n",
            "WARNING: Building on-disk font cache, this may take a while\n",
            "May 05, 2020 3:43:00 PM org.apache.pdfbox.pdmodel.font.FileSystemFontProvider <init>\n",
            "WARNING: Finished building on-disk font cache, found 17 fonts\n",
            "May 05, 2020 3:43:00 PM org.apache.pdfbox.pdmodel.font.PDTrueTypeFont <init>\n",
            "WARNING: Using fallback font 'LiberationSans' for 'CenturyGothic'\n",
            "May 05, 2020 3:43:01 PM org.apache.pdfbox.pdmodel.font.PDTrueTypeFont <init>\n",
            "WARNING: Using fallback font 'LiberationSans' for 'CenturyGothic'\n",
            "May 05, 2020 3:43:02 PM org.apache.pdfbox.pdmodel.font.PDTrueTypeFont <init>\n",
            "WARNING: Using fallback font 'LiberationSans' for 'CenturyGothic'\n",
            "\n"
          ],
          "name": "stderr"
        },
        {
          "output_type": "execute_result",
          "data": {
            "text/html": [
              "<div>\n",
              "<style scoped>\n",
              "    .dataframe tbody tr th:only-of-type {\n",
              "        vertical-align: middle;\n",
              "    }\n",
              "\n",
              "    .dataframe tbody tr th {\n",
              "        vertical-align: top;\n",
              "    }\n",
              "\n",
              "    .dataframe thead th {\n",
              "        text-align: right;\n",
              "    }\n",
              "</style>\n",
              "<table border=\"1\" class=\"dataframe\">\n",
              "  <thead>\n",
              "    <tr style=\"text-align: right;\">\n",
              "      <th></th>\n",
              "      <th>Unnamed: 0</th>\n",
              "      <th>San Diego County Residents</th>\n",
              "    </tr>\n",
              "  </thead>\n",
              "  <tbody>\n",
              "    <tr>\n",
              "      <th>0</th>\n",
              "      <td>Total Deaths</td>\n",
              "      <td>144</td>\n",
              "    </tr>\n",
              "    <tr>\n",
              "      <th>1</th>\n",
              "      <td>% of Deaths with Known Selected Characteristics</td>\n",
              "      <td>Count</td>\n",
              "    </tr>\n",
              "    <tr>\n",
              "      <th>2</th>\n",
              "      <td>NaN</td>\n",
              "      <td>Demographics</td>\n",
              "    </tr>\n",
              "    <tr>\n",
              "      <th>3</th>\n",
              "      <td>Age Groups</td>\n",
              "      <td>NaN</td>\n",
              "    </tr>\n",
              "    <tr>\n",
              "      <th>4</th>\n",
              "      <td>0-9 years</td>\n",
              "      <td>0 0.0%</td>\n",
              "    </tr>\n",
              "    <tr>\n",
              "      <th>5</th>\n",
              "      <td>10-19 years</td>\n",
              "      <td>0 0.0%</td>\n",
              "    </tr>\n",
              "    <tr>\n",
              "      <th>6</th>\n",
              "      <td>20-29 years</td>\n",
              "      <td>2 1.4%</td>\n",
              "    </tr>\n",
              "    <tr>\n",
              "      <th>7</th>\n",
              "      <td>30-39 years</td>\n",
              "      <td>2 1.4%</td>\n",
              "    </tr>\n",
              "    <tr>\n",
              "      <th>8</th>\n",
              "      <td>40-49 years</td>\n",
              "      <td>4 2.8%</td>\n",
              "    </tr>\n",
              "    <tr>\n",
              "      <th>9</th>\n",
              "      <td>50-59 years</td>\n",
              "      <td>12 8.3%</td>\n",
              "    </tr>\n",
              "    <tr>\n",
              "      <th>10</th>\n",
              "      <td>60-69 years</td>\n",
              "      <td>20 13.9%</td>\n",
              "    </tr>\n",
              "    <tr>\n",
              "      <th>11</th>\n",
              "      <td>70-79 years</td>\n",
              "      <td>35 24.3%</td>\n",
              "    </tr>\n",
              "    <tr>\n",
              "      <th>12</th>\n",
              "      <td>80+ years</td>\n",
              "      <td>69 47.9%</td>\n",
              "    </tr>\n",
              "    <tr>\n",
              "      <th>13</th>\n",
              "      <td>Age Unknown</td>\n",
              "      <td>0</td>\n",
              "    </tr>\n",
              "    <tr>\n",
              "      <th>14</th>\n",
              "      <td>Gender</td>\n",
              "      <td>NaN</td>\n",
              "    </tr>\n",
              "    <tr>\n",
              "      <th>15</th>\n",
              "      <td>Female</td>\n",
              "      <td>63 43.8%</td>\n",
              "    </tr>\n",
              "    <tr>\n",
              "      <th>16</th>\n",
              "      <td>Male</td>\n",
              "      <td>81 56.3%</td>\n",
              "    </tr>\n",
              "    <tr>\n",
              "      <th>17</th>\n",
              "      <td>Gender Unknown</td>\n",
              "      <td>0</td>\n",
              "    </tr>\n",
              "    <tr>\n",
              "      <th>18</th>\n",
              "      <td>NaN</td>\n",
              "      <td>NaN</td>\n",
              "    </tr>\n",
              "    <tr>\n",
              "      <th>19</th>\n",
              "      <td>Hispanic or Latino</td>\n",
              "      <td>51 37.8%</td>\n",
              "    </tr>\n",
              "    <tr>\n",
              "      <th>20</th>\n",
              "      <td>White</td>\n",
              "      <td>67 49.6%</td>\n",
              "    </tr>\n",
              "    <tr>\n",
              "      <th>21</th>\n",
              "      <td>Black or African American</td>\n",
              "      <td>4 3.0%</td>\n",
              "    </tr>\n",
              "    <tr>\n",
              "      <th>22</th>\n",
              "      <td>Asian</td>\n",
              "      <td>10 7.4%</td>\n",
              "    </tr>\n",
              "    <tr>\n",
              "      <th>23</th>\n",
              "      <td>Pacific Islander</td>\n",
              "      <td>1 0.7%</td>\n",
              "    </tr>\n",
              "    <tr>\n",
              "      <th>24</th>\n",
              "      <td>American Indian</td>\n",
              "      <td>1 0.7%</td>\n",
              "    </tr>\n",
              "    <tr>\n",
              "      <th>25</th>\n",
              "      <td>Multiple Race</td>\n",
              "      <td>1 0.7%</td>\n",
              "    </tr>\n",
              "    <tr>\n",
              "      <th>26</th>\n",
              "      <td>Race/Ethnicity Unknown</td>\n",
              "      <td>9</td>\n",
              "    </tr>\n",
              "  </tbody>\n",
              "</table>\n",
              "</div>"
            ],
            "text/plain": [
              "                                         Unnamed: 0 San Diego County Residents\n",
              "0                                      Total Deaths                        144\n",
              "1   % of Deaths with Known Selected Characteristics                      Count\n",
              "2                                               NaN               Demographics\n",
              "3                                        Age Groups                        NaN\n",
              "4                                         0-9 years                     0 0.0%\n",
              "5                                       10-19 years                     0 0.0%\n",
              "6                                       20-29 years                     2 1.4%\n",
              "7                                       30-39 years                     2 1.4%\n",
              "8                                       40-49 years                     4 2.8%\n",
              "9                                       50-59 years                    12 8.3%\n",
              "10                                      60-69 years                   20 13.9%\n",
              "11                                      70-79 years                   35 24.3%\n",
              "12                                        80+ years                   69 47.9%\n",
              "13                                      Age Unknown                          0\n",
              "14                                           Gender                        NaN\n",
              "15                                           Female                   63 43.8%\n",
              "16                                             Male                   81 56.3%\n",
              "17                                   Gender Unknown                          0\n",
              "18                                              NaN                        NaN\n",
              "19                               Hispanic or Latino                   51 37.8%\n",
              "20                                            White                   67 49.6%\n",
              "21                        Black or African American                     4 3.0%\n",
              "22                                            Asian                    10 7.4%\n",
              "23                                 Pacific Islander                     1 0.7%\n",
              "24                                  American Indian                     1 0.7%\n",
              "25                                    Multiple Race                     1 0.7%\n",
              "26                           Race/Ethnicity Unknown                          9"
            ]
          },
          "metadata": {
            "tags": []
          },
          "execution_count": 19
        }
      ]
    },
    {
      "cell_type": "code",
      "metadata": {
        "id": "5MSDfluriCbP",
        "colab_type": "code",
        "colab": {
          "base_uri": "https://localhost:8080/",
          "height": 297
        },
        "outputId": "328ca87b-aff9-446e-b8eb-4674cd8c0bdc"
      },
      "source": [
        "sd_deaths = sd_deaths_raw.loc[19:,:].copy().reset_index().drop(columns=['index']); sd_deaths\n",
        "sd_deaths['Count'] = [int(x.split()[0]) for x in sd_deaths['San Diego County Residents']]\n",
        "del sd_deaths['San Diego County Residents']\n",
        "sd_deaths.columns = ['Race/Ethnicity', 'Count']\n",
        "sd_deaths"
      ],
      "execution_count": 20,
      "outputs": [
        {
          "output_type": "execute_result",
          "data": {
            "text/html": [
              "<div>\n",
              "<style scoped>\n",
              "    .dataframe tbody tr th:only-of-type {\n",
              "        vertical-align: middle;\n",
              "    }\n",
              "\n",
              "    .dataframe tbody tr th {\n",
              "        vertical-align: top;\n",
              "    }\n",
              "\n",
              "    .dataframe thead th {\n",
              "        text-align: right;\n",
              "    }\n",
              "</style>\n",
              "<table border=\"1\" class=\"dataframe\">\n",
              "  <thead>\n",
              "    <tr style=\"text-align: right;\">\n",
              "      <th></th>\n",
              "      <th>Race/Ethnicity</th>\n",
              "      <th>Count</th>\n",
              "    </tr>\n",
              "  </thead>\n",
              "  <tbody>\n",
              "    <tr>\n",
              "      <th>0</th>\n",
              "      <td>Hispanic or Latino</td>\n",
              "      <td>51</td>\n",
              "    </tr>\n",
              "    <tr>\n",
              "      <th>1</th>\n",
              "      <td>White</td>\n",
              "      <td>67</td>\n",
              "    </tr>\n",
              "    <tr>\n",
              "      <th>2</th>\n",
              "      <td>Black or African American</td>\n",
              "      <td>4</td>\n",
              "    </tr>\n",
              "    <tr>\n",
              "      <th>3</th>\n",
              "      <td>Asian</td>\n",
              "      <td>10</td>\n",
              "    </tr>\n",
              "    <tr>\n",
              "      <th>4</th>\n",
              "      <td>Pacific Islander</td>\n",
              "      <td>1</td>\n",
              "    </tr>\n",
              "    <tr>\n",
              "      <th>5</th>\n",
              "      <td>American Indian</td>\n",
              "      <td>1</td>\n",
              "    </tr>\n",
              "    <tr>\n",
              "      <th>6</th>\n",
              "      <td>Multiple Race</td>\n",
              "      <td>1</td>\n",
              "    </tr>\n",
              "    <tr>\n",
              "      <th>7</th>\n",
              "      <td>Race/Ethnicity Unknown</td>\n",
              "      <td>9</td>\n",
              "    </tr>\n",
              "  </tbody>\n",
              "</table>\n",
              "</div>"
            ],
            "text/plain": [
              "              Race/Ethnicity  Count\n",
              "0         Hispanic or Latino     51\n",
              "1                      White     67\n",
              "2  Black or African American      4\n",
              "3                      Asian     10\n",
              "4           Pacific Islander      1\n",
              "5            American Indian      1\n",
              "6              Multiple Race      1\n",
              "7     Race/Ethnicity Unknown      9"
            ]
          },
          "metadata": {
            "tags": []
          },
          "execution_count": 20
        }
      ]
    },
    {
      "cell_type": "code",
      "metadata": {
        "id": "WmeUDr2RjaZC",
        "colab_type": "code",
        "colab": {
          "base_uri": "https://localhost:8080/",
          "height": 314
        },
        "outputId": "88fad9b1-0ed2-43a0-b9ff-6523a55f61d2"
      },
      "source": [
        "sd_total_deaths = sd_deaths.Count.sum(); print(sd_total_deaths)\n",
        "sd_deaths['Percent'] = round(100 * sd_deaths['Count'] / sd_total_deaths, 2)\n",
        "sd_deaths"
      ],
      "execution_count": 21,
      "outputs": [
        {
          "output_type": "stream",
          "text": [
            "144\n"
          ],
          "name": "stdout"
        },
        {
          "output_type": "execute_result",
          "data": {
            "text/html": [
              "<div>\n",
              "<style scoped>\n",
              "    .dataframe tbody tr th:only-of-type {\n",
              "        vertical-align: middle;\n",
              "    }\n",
              "\n",
              "    .dataframe tbody tr th {\n",
              "        vertical-align: top;\n",
              "    }\n",
              "\n",
              "    .dataframe thead th {\n",
              "        text-align: right;\n",
              "    }\n",
              "</style>\n",
              "<table border=\"1\" class=\"dataframe\">\n",
              "  <thead>\n",
              "    <tr style=\"text-align: right;\">\n",
              "      <th></th>\n",
              "      <th>Race/Ethnicity</th>\n",
              "      <th>Count</th>\n",
              "      <th>Percent</th>\n",
              "    </tr>\n",
              "  </thead>\n",
              "  <tbody>\n",
              "    <tr>\n",
              "      <th>0</th>\n",
              "      <td>Hispanic or Latino</td>\n",
              "      <td>51</td>\n",
              "      <td>35.42</td>\n",
              "    </tr>\n",
              "    <tr>\n",
              "      <th>1</th>\n",
              "      <td>White</td>\n",
              "      <td>67</td>\n",
              "      <td>46.53</td>\n",
              "    </tr>\n",
              "    <tr>\n",
              "      <th>2</th>\n",
              "      <td>Black or African American</td>\n",
              "      <td>4</td>\n",
              "      <td>2.78</td>\n",
              "    </tr>\n",
              "    <tr>\n",
              "      <th>3</th>\n",
              "      <td>Asian</td>\n",
              "      <td>10</td>\n",
              "      <td>6.94</td>\n",
              "    </tr>\n",
              "    <tr>\n",
              "      <th>4</th>\n",
              "      <td>Pacific Islander</td>\n",
              "      <td>1</td>\n",
              "      <td>0.69</td>\n",
              "    </tr>\n",
              "    <tr>\n",
              "      <th>5</th>\n",
              "      <td>American Indian</td>\n",
              "      <td>1</td>\n",
              "      <td>0.69</td>\n",
              "    </tr>\n",
              "    <tr>\n",
              "      <th>6</th>\n",
              "      <td>Multiple Race</td>\n",
              "      <td>1</td>\n",
              "      <td>0.69</td>\n",
              "    </tr>\n",
              "    <tr>\n",
              "      <th>7</th>\n",
              "      <td>Race/Ethnicity Unknown</td>\n",
              "      <td>9</td>\n",
              "      <td>6.25</td>\n",
              "    </tr>\n",
              "  </tbody>\n",
              "</table>\n",
              "</div>"
            ],
            "text/plain": [
              "              Race/Ethnicity  Count  Percent\n",
              "0         Hispanic or Latino     51    35.42\n",
              "1                      White     67    46.53\n",
              "2  Black or African American      4     2.78\n",
              "3                      Asian     10     6.94\n",
              "4           Pacific Islander      1     0.69\n",
              "5            American Indian      1     0.69\n",
              "6              Multiple Race      1     0.69\n",
              "7     Race/Ethnicity Unknown      9     6.25"
            ]
          },
          "metadata": {
            "tags": []
          },
          "execution_count": 21
        }
      ]
    },
    {
      "cell_type": "code",
      "metadata": {
        "id": "isUeCurBpt-N",
        "colab_type": "code",
        "colab": {
          "base_uri": "https://localhost:8080/",
          "height": 34
        },
        "outputId": "8150b7b8-6b74-4739-8706-b1a2793d210f"
      },
      "source": [
        "sd_aa_deaths_pct = sd_deaths.set_index('Race/Ethnicity').loc['Black or African American','Percent']; sd_aa_deaths_pct"
      ],
      "execution_count": 22,
      "outputs": [
        {
          "output_type": "execute_result",
          "data": {
            "text/plain": [
              "2.78"
            ]
          },
          "metadata": {
            "tags": []
          },
          "execution_count": 22
        }
      ]
    },
    {
      "cell_type": "code",
      "metadata": {
        "id": "HJUHQJpkqOCv",
        "colab_type": "code",
        "colab": {
          "base_uri": "https://localhost:8080/",
          "height": 34
        },
        "outputId": "4b9df9a5-f1b7-496f-dbf5-52b3a00d4361"
      },
      "source": [
        "sd_max_date = (datetime.now() - timedelta(days=1)).strftime('%-m/%-d/%Y'); sd_max_date"
      ],
      "execution_count": 23,
      "outputs": [
        {
          "output_type": "execute_result",
          "data": {
            "text/plain": [
              "'5/4/2020'"
            ]
          },
          "metadata": {
            "tags": []
          },
          "execution_count": 23
        }
      ]
    },
    {
      "cell_type": "code",
      "metadata": {
        "id": "HV44jOTIh5ao",
        "colab_type": "code",
        "colab": {
          "base_uri": "https://localhost:8080/",
          "height": 102
        },
        "outputId": "f009c298-9967-49a2-eb08-78ea778411e2"
      },
      "source": [
        "output['California - San Diego'] = {\n",
        "    'Date Published': sd_max_date,\n",
        "    'Total Cases': sd_total_cases,\n",
        "    'Total Deaths': sd_total_deaths,\n",
        "    'Pct Cases Black/AA': sd_aa_cases_pct,\n",
        "    'Pct Deaths Black/AA': sd_aa_deaths_pct\n",
        "}\n",
        "\n",
        "output"
      ],
      "execution_count": 24,
      "outputs": [
        {
          "output_type": "execute_result",
          "data": {
            "text/plain": [
              "{'California - San Diego': {'Date Published': '5/4/2020',\n",
              "  'Pct Cases Black/AA': 3.66,\n",
              "  'Pct Deaths Black/AA': 2.78,\n",
              "  'Total Cases': 4020,\n",
              "  'Total Deaths': 144}}"
            ]
          },
          "metadata": {
            "tags": []
          },
          "execution_count": 24
        }
      ]
    },
    {
      "cell_type": "markdown",
      "metadata": {
        "id": "Uvx2-xvSrSOa",
        "colab_type": "text"
      },
      "source": [
        "## Florida"
      ]
    },
    {
      "cell_type": "code",
      "metadata": {
        "id": "PEz4RlI4vaUx",
        "colab_type": "code",
        "colab": {}
      },
      "source": [
        "path_fl = os.path.join(home_dir, 'data', 'florida')\n",
        "os.chdir(path_fl)"
      ],
      "execution_count": 0,
      "outputs": []
    },
    {
      "cell_type": "code",
      "metadata": {
        "id": "Kz69RMh4vhZt",
        "colab_type": "code",
        "colab": {
          "base_uri": "https://localhost:8080/",
          "height": 204
        },
        "outputId": "558492a1-134f-4537-8335-73e2af225d31"
      },
      "source": [
        "!wget -O florida.pdf \"https://floridadisaster.org/globalassets/covid19/dailies/covid-19-data---daily-report-2020-05-03-1007.pdf\""
      ],
      "execution_count": 26,
      "outputs": [
        {
          "output_type": "stream",
          "text": [
            "--2020-05-05 15:43:03--  https://floridadisaster.org/globalassets/covid19/dailies/covid-19-data---daily-report-2020-05-03-1007.pdf\n",
            "Resolving floridadisaster.org (floridadisaster.org)... 164.51.190.229\n",
            "Connecting to floridadisaster.org (floridadisaster.org)|164.51.190.229|:443... connected.\n",
            "HTTP request sent, awaiting response... 200 OK\n",
            "Length: 29436404 (28M) [application/pdf]\n",
            "Saving to: ‘florida.pdf’\n",
            "\n",
            "florida.pdf         100%[===================>]  28.07M  1.74MB/s    in 16s     \n",
            "\n",
            "2020-05-05 15:43:20 (1.71 MB/s) - ‘florida.pdf’ saved [29436404/29436404]\n",
            "\n"
          ],
          "name": "stdout"
        }
      ]
    },
    {
      "cell_type": "code",
      "metadata": {
        "id": "eb1OkHjtvqi4",
        "colab_type": "code",
        "colab": {
          "base_uri": "https://localhost:8080/",
          "height": 34
        },
        "outputId": "c4258dad-e51b-4ea4-8eee-850df7bacfcd"
      },
      "source": [
        "!ls "
      ],
      "execution_count": 77,
      "outputs": [
        {
          "output_type": "stream",
          "text": [
            "florida.pdf\n"
          ],
          "name": "stdout"
        }
      ]
    },
    {
      "cell_type": "code",
      "metadata": {
        "id": "5j3_ONC_gVpI",
        "colab_type": "code",
        "colab": {
          "base_uri": "https://localhost:8080/",
          "height": 598
        },
        "outputId": "05270ed7-dc28-47f7-ecb3-007ac02528eb"
      },
      "source": [
        "!sudo apt-get install qpdf"
      ],
      "execution_count": 27,
      "outputs": [
        {
          "output_type": "stream",
          "text": [
            "Reading package lists... Done\n",
            "Building dependency tree       \n",
            "Reading state information... Done\n",
            "The following additional packages will be installed:\n",
            "  libqpdf21\n",
            "The following NEW packages will be installed:\n",
            "  libqpdf21 qpdf\n",
            "0 upgraded, 2 newly installed, 0 to remove and 25 not upgraded.\n",
            "Need to get 527 kB of archives.\n",
            "After this operation, 1,438 kB of additional disk space will be used.\n",
            "Get:1 http://archive.ubuntu.com/ubuntu bionic/main amd64 libqpdf21 amd64 8.0.2-3 [289 kB]\n",
            "Get:2 http://archive.ubuntu.com/ubuntu bionic/main amd64 qpdf amd64 8.0.2-3 [238 kB]\n",
            "Fetched 527 kB in 1s (661 kB/s)\n",
            "debconf: unable to initialize frontend: Dialog\n",
            "debconf: (No usable dialog-like program is installed, so the dialog based frontend cannot be used. at /usr/share/perl5/Debconf/FrontEnd/Dialog.pm line 76, <> line 2.)\n",
            "debconf: falling back to frontend: Readline\n",
            "debconf: unable to initialize frontend: Readline\n",
            "debconf: (This frontend requires a controlling tty.)\n",
            "debconf: falling back to frontend: Teletype\n",
            "dpkg-preconfigure: unable to re-open stdin: \n",
            "Selecting previously unselected package libqpdf21:amd64.\n",
            "(Reading database ... 144598 files and directories currently installed.)\n",
            "Preparing to unpack .../libqpdf21_8.0.2-3_amd64.deb ...\n",
            "Unpacking libqpdf21:amd64 (8.0.2-3) ...\n",
            "Selecting previously unselected package qpdf.\n",
            "Preparing to unpack .../qpdf_8.0.2-3_amd64.deb ...\n",
            "Unpacking qpdf (8.0.2-3) ...\n",
            "Setting up libqpdf21:amd64 (8.0.2-3) ...\n",
            "Setting up qpdf (8.0.2-3) ...\n",
            "Processing triggers for man-db (2.8.3-2ubuntu0.1) ...\n",
            "Processing triggers for libc-bin (2.27-3ubuntu1) ...\n",
            "/sbin/ldconfig.real: /usr/local/lib/python3.6/dist-packages/ideep4py/lib/libmkldnn.so.0 is not a symbolic link\n",
            "\n"
          ],
          "name": "stdout"
        }
      ]
    },
    {
      "cell_type": "code",
      "metadata": {
        "id": "BRNQASUQgVr8",
        "colab_type": "code",
        "colab": {}
      },
      "source": [
        "!qpdf --empty --pages florida.pdf 3 -- florida_page_3.pdf"
      ],
      "execution_count": 0,
      "outputs": []
    },
    {
      "cell_type": "code",
      "metadata": {
        "id": "OyG-5oRxgfcq",
        "colab_type": "code",
        "colab": {}
      },
      "source": [
        "sd_deaths_raw = read_pdf('sd_deaths.pdf')[0]; sd_deaths_raw"
      ],
      "execution_count": 0,
      "outputs": []
    },
    {
      "cell_type": "code",
      "metadata": {
        "id": "qfUCkZBagpSX",
        "colab_type": "code",
        "colab": {
          "base_uri": "https://localhost:8080/",
          "height": 1000
        },
        "outputId": "7236a9a0-3be6-4ee5-ee85-c07c34527d97"
      },
      "source": [
        "help(read_pdf)"
      ],
      "execution_count": 29,
      "outputs": [
        {
          "output_type": "stream",
          "text": [
            "Help on function read_pdf in module tabula.io:\n",
            "\n",
            "read_pdf(input_path, output_format=None, encoding='utf-8', java_options=None, pandas_options=None, multiple_tables=True, user_agent=None, **kwargs)\n",
            "    Read tables in PDF.\n",
            "    \n",
            "    Args:\n",
            "        input_path (str, path object or file-like object):\n",
            "            File like object of tareget PDF file.\n",
            "            It can be URL, which is downloaded by tabula-py automatically.\n",
            "        output_format (str, optional):\n",
            "            Output format for returned object (``dataframe`` or ``json``)\n",
            "        encoding (str, optional):\n",
            "            Encoding type for pandas. Default: ``utf-8``\n",
            "        java_options (list, optional):\n",
            "            Set java options.\n",
            "    \n",
            "            Example:\n",
            "                ``[\"-Xmx256m\"]``\n",
            "        pandas_options (dict, optional):\n",
            "            Set pandas options.\n",
            "    \n",
            "            Example:\n",
            "                ``{'header': None}``\n",
            "    \n",
            "            Note:\n",
            "                With ``multiple_tables=True`` (default), pandas_options is passed\n",
            "                to pandas.read_csv, otherwise it is passed to pandas.DataFrame.\n",
            "                Those two functions are different for accept options like ``dtype``.\n",
            "        multiple_tables (bool):\n",
            "            It enables to handle multiple tables within a page. Default: ``True``\n",
            "    \n",
            "            Note:\n",
            "                If `multiple_tables` option is enabled, tabula-py uses not\n",
            "                :func:`pd.read_csv()`, but :func:`pd.DataFrame()`. Make\n",
            "                sure to pass appropriate `pandas_options`.\n",
            "        user_agent (str, optional):\n",
            "            Set a custom user-agent when download a pdf from a url. Otherwise\n",
            "            it uses the default ``urllib.request`` user-agent.\n",
            "        kwargs:\n",
            "            Dictionary of option for tabula-java. Details are shown in\n",
            "            :func:`build_options()`\n",
            "    \n",
            "    Returns:\n",
            "        list of DataFrames or dict.\n",
            "    \n",
            "    Raises:\n",
            "        FileNotFoundError:\n",
            "            If downloaded remote file doesn't exist.\n",
            "    \n",
            "        ValueError:\n",
            "            If output_format is unknown format, or if downloaded remote file size is 0.\n",
            "    \n",
            "        tabula.errors.CSVParseError:\n",
            "            If pandas CSV parsing failed.\n",
            "    \n",
            "        tabula.errors.JavaNotFoundError:\n",
            "            If java is not installed or found.\n",
            "    \n",
            "        subprocess.CalledProcessError:\n",
            "            If tabula-java execution failed.\n",
            "    \n",
            "    \n",
            "    Examples:\n",
            "    \n",
            "        Here is a simple example.\n",
            "        Note that :func:`read_pdf()` only extract page 1 by default.\n",
            "    \n",
            "        Notes:\n",
            "            As of tabula-py 2.0.0, :func:`read_pdf()` sets `multiple_tables=True` by\n",
            "            default. If you want to get consistent output with previous version, set\n",
            "            `multiple_tables=False`.\n",
            "    \n",
            "        >>> import tabula\n",
            "        >>> pdf_path = \"https://github.com/chezou/tabula-py/raw/master/tests/resources/data.pdf\"\n",
            "        >>> tabula.read_pdf(pdf_path, stream=True)\n",
            "        [             Unnamed: 0   mpg  cyl   disp   hp  drat     wt   qsec  vs  am  gear  carb\n",
            "        0             Mazda RX4  21.0    6  160.0  110  3.90  2.620  16.46   0   1     4     4\n",
            "        1         Mazda RX4 Wag  21.0    6  160.0  110  3.90  2.875  17.02   0   1     4     4\n",
            "        2            Datsun 710  22.8    4  108.0   93  3.85  2.320  18.61   1   1     4     1\n",
            "        3        Hornet 4 Drive  21.4    6  258.0  110  3.08  3.215  19.44   1   0     3     1\n",
            "        4     Hornet Sportabout  18.7    8  360.0  175  3.15  3.440  17.02   0   0     3     2\n",
            "        5               Valiant  18.1    6  225.0  105  2.76  3.460  20.22   1   0     3     1\n",
            "        6            Duster 360  14.3    8  360.0  245  3.21  3.570  15.84   0   0     3     4\n",
            "        7             Merc 240D  24.4    4  146.7   62  3.69  3.190  20.00   1   0     4     2\n",
            "        8              Merc 230  22.8    4  140.8   95  3.92  3.150  22.90   1   0     4     2\n",
            "        9              Merc 280  19.2    6  167.6  123  3.92  3.440  18.30   1   0     4     4\n",
            "        10            Merc 280C  17.8    6  167.6  123  3.92  3.440  18.90   1   0     4     4\n",
            "        11           Merc 450SE  16.4    8  275.8  180  3.07  4.070  17.40   0   0     3     3\n",
            "        12           Merc 450SL  17.3    8  275.8  180  3.07  3.730  17.60   0   0     3     3\n",
            "        13          Merc 450SLC  15.2    8  275.8  180  3.07  3.780  18.00   0   0     3     3\n",
            "        14   Cadillac Fleetwood  10.4    8  472.0  205  2.93  5.250  17.98   0   0     3     4\n",
            "        15  Lincoln Continental  10.4    8  460.0  215  3.00  5.424  17.82   0   0     3     4\n",
            "        16    Chrysler Imperial  14.7    8  440.0  230  3.23  5.345  17.42   0   0     3     4\n",
            "        17             Fiat 128  32.4    4   78.7   66  4.08  2.200  19.47   1   1     4     1\n",
            "        18          Honda Civic  30.4    4   75.7   52  4.93  1.615  18.52   1   1     4     2\n",
            "        19       Toyota Corolla  33.9    4   71.1   65  4.22  1.835  19.90   1   1     4     1\n",
            "        20        Toyota Corona  21.5    4  120.1   97  3.70  2.465  20.01   1   0     3     1\n",
            "        21     Dodge Challenger  15.5    8  318.0  150  2.76  3.520  16.87   0   0     3     2\n",
            "        22          AMC Javelin  15.2    8  304.0  150  3.15  3.435  17.30   0   0     3     2\n",
            "        23           Camaro Z28  13.3    8  350.0  245  3.73  3.840  15.41   0   0     3     4\n",
            "        24     Pontiac Firebird  19.2    8  400.0  175  3.08  3.845  17.05   0   0     3     2\n",
            "        25            Fiat X1-9  27.3    4   79.0   66  4.08  1.935  18.90   1   1     4     1\n",
            "        26        Porsche 914-2  26.0    4  120.3   91  4.43  2.140  16.70   0   1     5     2\n",
            "        27         Lotus Europa  30.4    4   95.1  113  3.77  1.513  16.90   1   1     5     2\n",
            "        28       Ford Pantera L  15.8    8  351.0  264  4.22  3.170  14.50   0   1     5     4\n",
            "        29         Ferrari Dino  19.7    6  145.0  175  3.62  2.770  15.50   0   1     5     6\n",
            "        30        Maserati Bora  15.0    8  301.0  335  3.54  3.570  14.60   0   1     5     8\n",
            "        31           Volvo 142E  21.4    4  121.0  109  4.11  2.780  18.60   1   1     4     2]\n",
            "    \n",
            "        If you want to extract all pages, set ``pages=\"all\"``.\n",
            "    \n",
            "        >>> dfs = tabula.read_pdf(pdf_path, pages=\"all\")\n",
            "        >>> len(dfs)\n",
            "        4\n",
            "        >>> dfs\n",
            "        [       0    1      2    3     4      5      6   7   8     9\n",
            "        0    mpg  cyl   disp   hp  drat     wt   qsec  vs  am  gear\n",
            "        1   21.0    6  160.0  110  3.90  2.620  16.46   0   1     4\n",
            "        2   21.0    6  160.0  110  3.90  2.875  17.02   0   1     4\n",
            "        3   22.8    4  108.0   93  3.85  2.320  18.61   1   1     4\n",
            "        4   21.4    6  258.0  110  3.08  3.215  19.44   1   0     3\n",
            "        5   18.7    8  360.0  175  3.15  3.440  17.02   0   0     3\n",
            "        6   18.1    6  225.0  105  2.76  3.460  20.22   1   0     3\n",
            "        7   14.3    8  360.0  245  3.21  3.570  15.84   0   0     3\n",
            "        8   24.4    4  146.7   62  3.69  3.190  20.00   1   0     4\n",
            "        9   22.8    4  140.8   95  3.92  3.150  22.90   1   0     4\n",
            "        10  19.2    6  167.6  123  3.92  3.440  18.30   1   0     4\n",
            "        11  17.8    6  167.6  123  3.92  3.440  18.90   1   0     4\n",
            "        12  16.4    8  275.8  180  3.07  4.070  17.40   0   0     3\n",
            "        13  17.3    8  275.8  180  3.07  3.730  17.60   0   0     3\n",
            "        14  15.2    8  275.8  180  3.07  3.780  18.00   0   0     3\n",
            "        15  10.4    8  472.0  205  2.93  5.250  17.98   0   0     3\n",
            "        16  10.4    8  460.0  215  3.00  5.424  17.82   0   0     3\n",
            "        17  14.7    8  440.0  230  3.23  5.345  17.42   0   0     3\n",
            "        18  32.4    4   78.7   66  4.08  2.200  19.47   1   1     4\n",
            "        19  30.4    4   75.7   52  4.93  1.615  18.52   1   1     4\n",
            "        20  33.9    4   71.1   65  4.22  1.835  19.90   1   1     4\n",
            "        21  21.5    4  120.1   97  3.70  2.465  20.01   1   0     3\n",
            "        22  15.5    8  318.0  150  2.76  3.520  16.87   0   0     3\n",
            "        23  15.2    8  304.0  150  3.15  3.435  17.30   0   0     3\n",
            "        24  13.3    8  350.0  245  3.73  3.840  15.41   0   0     3\n",
            "        25  19.2    8  400.0  175  3.08  3.845  17.05   0   0     3\n",
            "        26  27.3    4   79.0   66  4.08  1.935  18.90   1   1     4\n",
            "        27  26.0    4  120.3   91  4.43  2.140  16.70   0   1     5\n",
            "        28  30.4    4   95.1  113  3.77  1.513  16.90   1   1     5\n",
            "        29  15.8    8  351.0  264  4.22  3.170  14.50   0   1     5\n",
            "        30  19.7    6  145.0  175  3.62  2.770  15.50   0   1     5\n",
            "        31  15.0    8  301.0  335  3.54  3.570  14.60   0   1     5,               0            1             2            3        4\n",
            "        0  Sepal.Length  Sepal.Width  Petal.Length  Petal.Width  Species\n",
            "        1           5.1          3.5           1.4          0.2   setosa\n",
            "        2           4.9          3.0           1.4          0.2   setosa\n",
            "        3           4.7          3.2           1.3          0.2   setosa\n",
            "        4           4.6          3.1           1.5          0.2   setosa\n",
            "        5           5.0          3.6           1.4          0.2   setosa\n",
            "        6           5.4          3.9           1.7          0.4   setosa,      0             1            2             3            4          5\n",
            "        0  NaN  Sepal.Length  Sepal.Width  Petal.Length  Petal.Width    Species\n",
            "        1  145           6.7          3.3           5.7          2.5  virginica\n",
            "        2  146           6.7          3.0           5.2          2.3  virginica\n",
            "        3  147           6.3          2.5           5.0          1.9  virginica\n",
            "        4  148           6.5          3.0           5.2          2.0  virginica\n",
            "        5  149           6.2          3.4           5.4          2.3  virginica\n",
            "        6  150           5.9          3.0           5.1          1.8  virginica,        0\n",
            "        0   supp\n",
            "        1     VC\n",
            "        2     VC\n",
            "        3     VC\n",
            "        4     VC\n",
            "        5     VC\n",
            "        6     VC\n",
            "        7     VC\n",
            "        8     VC\n",
            "        9     VC\n",
            "        10    VC\n",
            "        11    VC\n",
            "        12    VC\n",
            "        13    VC\n",
            "        14    VC]\n",
            "\n"
          ],
          "name": "stdout"
        }
      ]
    },
    {
      "cell_type": "code",
      "metadata": {
        "id": "4YrfdPdizW4B",
        "colab_type": "code",
        "colab": {
          "base_uri": "https://localhost:8080/",
          "height": 51
        },
        "outputId": "3043d87d-6226-4d93-9a18-b8aa386ffde5"
      },
      "source": [
        "fl_raw = read_pdf('florida_page_3.pdf', guess=False, area=(1218.4599609375, 1, 670.152978515625, 941.539978027344)); fl_raw"
      ],
      "execution_count": 33,
      "outputs": [
        {
          "output_type": "stream",
          "text": [
            "'pages' argument isn't specified.Will extract only from page 1 by default.\n"
          ],
          "name": "stderr"
        },
        {
          "output_type": "execute_result",
          "data": {
            "text/plain": [
              "[]"
            ]
          },
          "metadata": {
            "tags": []
          },
          "execution_count": 33
        }
      ]
    },
    {
      "cell_type": "code",
      "metadata": {
        "id": "eElwcjqLi-No",
        "colab_type": "code",
        "colab": {}
      },
      "source": [
        ""
      ],
      "execution_count": 0,
      "outputs": []
    },
    {
      "cell_type": "code",
      "metadata": {
        "id": "jq_PMxDPzRkL",
        "colab_type": "code",
        "colab": {
          "base_uri": "https://localhost:8080/",
          "height": 578
        },
        "outputId": "52d55d9d-02fe-4f17-e31d-a3c93f5ff58d"
      },
      "source": [
        "help(pdftotext.PDF)"
      ],
      "execution_count": 89,
      "outputs": [
        {
          "output_type": "stream",
          "text": [
            "Help on class PDF in module pdftotext:\n",
            "\n",
            "class PDF(builtins.object)\n",
            " |  PDF(pdf_file, password=\"\", raw=False)\n",
            " |  \n",
            " |  Args:\n",
            " |      pdf_file: A file opened for reading in binary mode.\n",
            " |      password: Unlocks the document, if required. Either the owner\n",
            " |          password or the user password works.\n",
            " |      raw: If True, page text is output in the order it appears in the\n",
            " |          content stream, rather than in the order it appears on the\n",
            " |          page.\n",
            " |  \n",
            " |  Example:\n",
            " |      with open(\"doc.pdf\", \"rb\") as f:\n",
            " |          pdf = PDF(f)\n",
            " |      for page in pdf:\n",
            " |          print(page)\n",
            " |  \n",
            " |  Methods defined here:\n",
            " |  \n",
            " |  __getitem__(self, key, /)\n",
            " |      Return self[key].\n",
            " |  \n",
            " |  __init__(self, /, *args, **kwargs)\n",
            " |      Initialize self.  See help(type(self)) for accurate signature.\n",
            " |  \n",
            " |  __len__(self, /)\n",
            " |      Return len(self).\n",
            " |  \n",
            " |  __new__(*args, **kwargs) from builtins.type\n",
            " |      Create and return a new object.  See help(type) for accurate signature.\n",
            "\n"
          ],
          "name": "stdout"
        }
      ]
    },
    {
      "cell_type": "code",
      "metadata": {
        "id": "lwcivsJNyin-",
        "colab_type": "code",
        "colab": {
          "base_uri": "https://localhost:8080/",
          "height": 34
        },
        "outputId": "8a9a6aa1-a06c-4349-e7a2-59543851c1e5"
      },
      "source": [
        "! pdftotext -layout -f 3 -f 3 florida.pdf"
      ],
      "execution_count": 92,
      "outputs": [
        {
          "output_type": "stream",
          "text": [
            "/bin/bash: pdftotext: command not found\n"
          ],
          "name": "stdout"
        }
      ]
    },
    {
      "cell_type": "code",
      "metadata": {
        "id": "fQy-zycSh5dY",
        "colab_type": "code",
        "colab": {
          "base_uri": "https://localhost:8080/",
          "height": 187
        },
        "outputId": "1bf46305-76e9-45b8-9d86-d9cd1582661c"
      },
      "source": [
        "fl_raw = read_pdf('florida.pdf', pages=[3]); fl_raw"
      ],
      "execution_count": 81,
      "outputs": [
        {
          "output_type": "execute_result",
          "data": {
            "text/plain": [
              "[     0-4 years    190   1%     11   0%    0 0%.1     Male  17,525  50%\n",
              " 0   5-14 years    406   1%      9   0%    0   0%   Female  17,598  50%\n",
              " 1  15-24 years  2,636   7%     78   1%    0   0%  Unknown      35   0%\n",
              " 2  25-34 years  5,186  15%    285   5%   12   1%    Total  35,158  NaN\n",
              " 3  35-44 years  5,318  15%    515   9%   27   2%      NaN     NaN  NaN\n",
              " 4  45-54 years  6,347  18%    788  13%   55   4%      NaN     NaN  NaN\n",
              " 5  55-64 years  6,016  17%  1,046  17%  140  10%      NaN     NaN  NaN\n",
              " 6  65-74 years  4,397  13%  1,325  22%  314  23%      NaN     NaN  NaN\n",
              " 7  75-84 years  2,857   8%  1,194  20%  418  30%      NaN     NaN  NaN\n",
              " 8    85+ years  1,793   5%    784  13%  413  30%      NaN     NaN  NaN]"
            ]
          },
          "metadata": {
            "tags": []
          },
          "execution_count": 81
        }
      ]
    },
    {
      "cell_type": "code",
      "metadata": {
        "id": "YI_tBWljwuaj",
        "colab_type": "code",
        "colab": {
          "base_uri": "https://localhost:8080/",
          "height": 328
        },
        "outputId": "a325eff6-4d1c-409d-a8f6-b925a751ec84"
      },
      "source": [
        "fl_raw[0]"
      ],
      "execution_count": 83,
      "outputs": [
        {
          "output_type": "execute_result",
          "data": {
            "text/html": [
              "<div>\n",
              "<style scoped>\n",
              "    .dataframe tbody tr th:only-of-type {\n",
              "        vertical-align: middle;\n",
              "    }\n",
              "\n",
              "    .dataframe tbody tr th {\n",
              "        vertical-align: top;\n",
              "    }\n",
              "\n",
              "    .dataframe thead th {\n",
              "        text-align: right;\n",
              "    }\n",
              "</style>\n",
              "<table border=\"1\" class=\"dataframe\">\n",
              "  <thead>\n",
              "    <tr style=\"text-align: right;\">\n",
              "      <th></th>\n",
              "      <th>0-4 years</th>\n",
              "      <th>190</th>\n",
              "      <th>1%</th>\n",
              "      <th>11</th>\n",
              "      <th>0%</th>\n",
              "      <th>0</th>\n",
              "      <th>0%.1</th>\n",
              "      <th>Male</th>\n",
              "      <th>17,525</th>\n",
              "      <th>50%</th>\n",
              "    </tr>\n",
              "  </thead>\n",
              "  <tbody>\n",
              "    <tr>\n",
              "      <th>0</th>\n",
              "      <td>5-14 years</td>\n",
              "      <td>406</td>\n",
              "      <td>1%</td>\n",
              "      <td>9</td>\n",
              "      <td>0%</td>\n",
              "      <td>0</td>\n",
              "      <td>0%</td>\n",
              "      <td>Female</td>\n",
              "      <td>17,598</td>\n",
              "      <td>50%</td>\n",
              "    </tr>\n",
              "    <tr>\n",
              "      <th>1</th>\n",
              "      <td>15-24 years</td>\n",
              "      <td>2,636</td>\n",
              "      <td>7%</td>\n",
              "      <td>78</td>\n",
              "      <td>1%</td>\n",
              "      <td>0</td>\n",
              "      <td>0%</td>\n",
              "      <td>Unknown</td>\n",
              "      <td>35</td>\n",
              "      <td>0%</td>\n",
              "    </tr>\n",
              "    <tr>\n",
              "      <th>2</th>\n",
              "      <td>25-34 years</td>\n",
              "      <td>5,186</td>\n",
              "      <td>15%</td>\n",
              "      <td>285</td>\n",
              "      <td>5%</td>\n",
              "      <td>12</td>\n",
              "      <td>1%</td>\n",
              "      <td>Total</td>\n",
              "      <td>35,158</td>\n",
              "      <td>NaN</td>\n",
              "    </tr>\n",
              "    <tr>\n",
              "      <th>3</th>\n",
              "      <td>35-44 years</td>\n",
              "      <td>5,318</td>\n",
              "      <td>15%</td>\n",
              "      <td>515</td>\n",
              "      <td>9%</td>\n",
              "      <td>27</td>\n",
              "      <td>2%</td>\n",
              "      <td>NaN</td>\n",
              "      <td>NaN</td>\n",
              "      <td>NaN</td>\n",
              "    </tr>\n",
              "    <tr>\n",
              "      <th>4</th>\n",
              "      <td>45-54 years</td>\n",
              "      <td>6,347</td>\n",
              "      <td>18%</td>\n",
              "      <td>788</td>\n",
              "      <td>13%</td>\n",
              "      <td>55</td>\n",
              "      <td>4%</td>\n",
              "      <td>NaN</td>\n",
              "      <td>NaN</td>\n",
              "      <td>NaN</td>\n",
              "    </tr>\n",
              "    <tr>\n",
              "      <th>5</th>\n",
              "      <td>55-64 years</td>\n",
              "      <td>6,016</td>\n",
              "      <td>17%</td>\n",
              "      <td>1,046</td>\n",
              "      <td>17%</td>\n",
              "      <td>140</td>\n",
              "      <td>10%</td>\n",
              "      <td>NaN</td>\n",
              "      <td>NaN</td>\n",
              "      <td>NaN</td>\n",
              "    </tr>\n",
              "    <tr>\n",
              "      <th>6</th>\n",
              "      <td>65-74 years</td>\n",
              "      <td>4,397</td>\n",
              "      <td>13%</td>\n",
              "      <td>1,325</td>\n",
              "      <td>22%</td>\n",
              "      <td>314</td>\n",
              "      <td>23%</td>\n",
              "      <td>NaN</td>\n",
              "      <td>NaN</td>\n",
              "      <td>NaN</td>\n",
              "    </tr>\n",
              "    <tr>\n",
              "      <th>7</th>\n",
              "      <td>75-84 years</td>\n",
              "      <td>2,857</td>\n",
              "      <td>8%</td>\n",
              "      <td>1,194</td>\n",
              "      <td>20%</td>\n",
              "      <td>418</td>\n",
              "      <td>30%</td>\n",
              "      <td>NaN</td>\n",
              "      <td>NaN</td>\n",
              "      <td>NaN</td>\n",
              "    </tr>\n",
              "    <tr>\n",
              "      <th>8</th>\n",
              "      <td>85+ years</td>\n",
              "      <td>1,793</td>\n",
              "      <td>5%</td>\n",
              "      <td>784</td>\n",
              "      <td>13%</td>\n",
              "      <td>413</td>\n",
              "      <td>30%</td>\n",
              "      <td>NaN</td>\n",
              "      <td>NaN</td>\n",
              "      <td>NaN</td>\n",
              "    </tr>\n",
              "  </tbody>\n",
              "</table>\n",
              "</div>"
            ],
            "text/plain": [
              "     0-4 years    190   1%     11   0%    0 0%.1     Male  17,525  50%\n",
              "0   5-14 years    406   1%      9   0%    0   0%   Female  17,598  50%\n",
              "1  15-24 years  2,636   7%     78   1%    0   0%  Unknown      35   0%\n",
              "2  25-34 years  5,186  15%    285   5%   12   1%    Total  35,158  NaN\n",
              "3  35-44 years  5,318  15%    515   9%   27   2%      NaN     NaN  NaN\n",
              "4  45-54 years  6,347  18%    788  13%   55   4%      NaN     NaN  NaN\n",
              "5  55-64 years  6,016  17%  1,046  17%  140  10%      NaN     NaN  NaN\n",
              "6  65-74 years  4,397  13%  1,325  22%  314  23%      NaN     NaN  NaN\n",
              "7  75-84 years  2,857   8%  1,194  20%  418  30%      NaN     NaN  NaN\n",
              "8    85+ years  1,793   5%    784  13%  413  30%      NaN     NaN  NaN"
            ]
          },
          "metadata": {
            "tags": []
          },
          "execution_count": 83
        }
      ]
    },
    {
      "cell_type": "code",
      "metadata": {
        "id": "lw8QUHHYwC0Z",
        "colab_type": "code",
        "colab": {
          "base_uri": "https://localhost:8080/",
          "height": 34
        },
        "outputId": "e8e81add-dff5-492b-e24e-4ed14e234da1"
      },
      "source": [
        "len(fl_raw)"
      ],
      "execution_count": 82,
      "outputs": [
        {
          "output_type": "execute_result",
          "data": {
            "text/plain": [
              "1"
            ]
          },
          "metadata": {
            "tags": []
          },
          "execution_count": 82
        }
      ]
    },
    {
      "cell_type": "code",
      "metadata": {
        "id": "gx7_gLLhrQ7b",
        "colab_type": "code",
        "colab": {
          "base_uri": "https://localhost:8080/",
          "height": 1000
        },
        "outputId": "ae563fc2-9cb7-4a7c-9270-092c3ff4c6cf"
      },
      "source": [
        "help(read_pdf)"
      ],
      "execution_count": 78,
      "outputs": [
        {
          "output_type": "stream",
          "text": [
            "Help on function read_pdf in module tabula.io:\n",
            "\n",
            "read_pdf(input_path, output_format=None, encoding='utf-8', java_options=None, pandas_options=None, multiple_tables=True, user_agent=None, **kwargs)\n",
            "    Read tables in PDF.\n",
            "    \n",
            "    Args:\n",
            "        input_path (str, path object or file-like object):\n",
            "            File like object of tareget PDF file.\n",
            "            It can be URL, which is downloaded by tabula-py automatically.\n",
            "        output_format (str, optional):\n",
            "            Output format for returned object (``dataframe`` or ``json``)\n",
            "        encoding (str, optional):\n",
            "            Encoding type for pandas. Default: ``utf-8``\n",
            "        java_options (list, optional):\n",
            "            Set java options.\n",
            "    \n",
            "            Example:\n",
            "                ``[\"-Xmx256m\"]``\n",
            "        pandas_options (dict, optional):\n",
            "            Set pandas options.\n",
            "    \n",
            "            Example:\n",
            "                ``{'header': None}``\n",
            "    \n",
            "            Note:\n",
            "                With ``multiple_tables=True`` (default), pandas_options is passed\n",
            "                to pandas.read_csv, otherwise it is passed to pandas.DataFrame.\n",
            "                Those two functions are different for accept options like ``dtype``.\n",
            "        multiple_tables (bool):\n",
            "            It enables to handle multiple tables within a page. Default: ``True``\n",
            "    \n",
            "            Note:\n",
            "                If `multiple_tables` option is enabled, tabula-py uses not\n",
            "                :func:`pd.read_csv()`, but :func:`pd.DataFrame()`. Make\n",
            "                sure to pass appropriate `pandas_options`.\n",
            "        user_agent (str, optional):\n",
            "            Set a custom user-agent when download a pdf from a url. Otherwise\n",
            "            it uses the default ``urllib.request`` user-agent.\n",
            "        kwargs:\n",
            "            Dictionary of option for tabula-java. Details are shown in\n",
            "            :func:`build_options()`\n",
            "    \n",
            "    Returns:\n",
            "        list of DataFrames or dict.\n",
            "    \n",
            "    Raises:\n",
            "        FileNotFoundError:\n",
            "            If downloaded remote file doesn't exist.\n",
            "    \n",
            "        ValueError:\n",
            "            If output_format is unknown format, or if downloaded remote file size is 0.\n",
            "    \n",
            "        tabula.errors.CSVParseError:\n",
            "            If pandas CSV parsing failed.\n",
            "    \n",
            "        tabula.errors.JavaNotFoundError:\n",
            "            If java is not installed or found.\n",
            "    \n",
            "        subprocess.CalledProcessError:\n",
            "            If tabula-java execution failed.\n",
            "    \n",
            "    \n",
            "    Examples:\n",
            "    \n",
            "        Here is a simple example.\n",
            "        Note that :func:`read_pdf()` only extract page 1 by default.\n",
            "    \n",
            "        Notes:\n",
            "            As of tabula-py 2.0.0, :func:`read_pdf()` sets `multiple_tables=True` by\n",
            "            default. If you want to get consistent output with previous version, set\n",
            "            `multiple_tables=False`.\n",
            "    \n",
            "        >>> import tabula\n",
            "        >>> pdf_path = \"https://github.com/chezou/tabula-py/raw/master/tests/resources/data.pdf\"\n",
            "        >>> tabula.read_pdf(pdf_path, stream=True)\n",
            "        [             Unnamed: 0   mpg  cyl   disp   hp  drat     wt   qsec  vs  am  gear  carb\n",
            "        0             Mazda RX4  21.0    6  160.0  110  3.90  2.620  16.46   0   1     4     4\n",
            "        1         Mazda RX4 Wag  21.0    6  160.0  110  3.90  2.875  17.02   0   1     4     4\n",
            "        2            Datsun 710  22.8    4  108.0   93  3.85  2.320  18.61   1   1     4     1\n",
            "        3        Hornet 4 Drive  21.4    6  258.0  110  3.08  3.215  19.44   1   0     3     1\n",
            "        4     Hornet Sportabout  18.7    8  360.0  175  3.15  3.440  17.02   0   0     3     2\n",
            "        5               Valiant  18.1    6  225.0  105  2.76  3.460  20.22   1   0     3     1\n",
            "        6            Duster 360  14.3    8  360.0  245  3.21  3.570  15.84   0   0     3     4\n",
            "        7             Merc 240D  24.4    4  146.7   62  3.69  3.190  20.00   1   0     4     2\n",
            "        8              Merc 230  22.8    4  140.8   95  3.92  3.150  22.90   1   0     4     2\n",
            "        9              Merc 280  19.2    6  167.6  123  3.92  3.440  18.30   1   0     4     4\n",
            "        10            Merc 280C  17.8    6  167.6  123  3.92  3.440  18.90   1   0     4     4\n",
            "        11           Merc 450SE  16.4    8  275.8  180  3.07  4.070  17.40   0   0     3     3\n",
            "        12           Merc 450SL  17.3    8  275.8  180  3.07  3.730  17.60   0   0     3     3\n",
            "        13          Merc 450SLC  15.2    8  275.8  180  3.07  3.780  18.00   0   0     3     3\n",
            "        14   Cadillac Fleetwood  10.4    8  472.0  205  2.93  5.250  17.98   0   0     3     4\n",
            "        15  Lincoln Continental  10.4    8  460.0  215  3.00  5.424  17.82   0   0     3     4\n",
            "        16    Chrysler Imperial  14.7    8  440.0  230  3.23  5.345  17.42   0   0     3     4\n",
            "        17             Fiat 128  32.4    4   78.7   66  4.08  2.200  19.47   1   1     4     1\n",
            "        18          Honda Civic  30.4    4   75.7   52  4.93  1.615  18.52   1   1     4     2\n",
            "        19       Toyota Corolla  33.9    4   71.1   65  4.22  1.835  19.90   1   1     4     1\n",
            "        20        Toyota Corona  21.5    4  120.1   97  3.70  2.465  20.01   1   0     3     1\n",
            "        21     Dodge Challenger  15.5    8  318.0  150  2.76  3.520  16.87   0   0     3     2\n",
            "        22          AMC Javelin  15.2    8  304.0  150  3.15  3.435  17.30   0   0     3     2\n",
            "        23           Camaro Z28  13.3    8  350.0  245  3.73  3.840  15.41   0   0     3     4\n",
            "        24     Pontiac Firebird  19.2    8  400.0  175  3.08  3.845  17.05   0   0     3     2\n",
            "        25            Fiat X1-9  27.3    4   79.0   66  4.08  1.935  18.90   1   1     4     1\n",
            "        26        Porsche 914-2  26.0    4  120.3   91  4.43  2.140  16.70   0   1     5     2\n",
            "        27         Lotus Europa  30.4    4   95.1  113  3.77  1.513  16.90   1   1     5     2\n",
            "        28       Ford Pantera L  15.8    8  351.0  264  4.22  3.170  14.50   0   1     5     4\n",
            "        29         Ferrari Dino  19.7    6  145.0  175  3.62  2.770  15.50   0   1     5     6\n",
            "        30        Maserati Bora  15.0    8  301.0  335  3.54  3.570  14.60   0   1     5     8\n",
            "        31           Volvo 142E  21.4    4  121.0  109  4.11  2.780  18.60   1   1     4     2]\n",
            "    \n",
            "        If you want to extract all pages, set ``pages=\"all\"``.\n",
            "    \n",
            "        >>> dfs = tabula.read_pdf(pdf_path, pages=\"all\")\n",
            "        >>> len(dfs)\n",
            "        4\n",
            "        >>> dfs\n",
            "        [       0    1      2    3     4      5      6   7   8     9\n",
            "        0    mpg  cyl   disp   hp  drat     wt   qsec  vs  am  gear\n",
            "        1   21.0    6  160.0  110  3.90  2.620  16.46   0   1     4\n",
            "        2   21.0    6  160.0  110  3.90  2.875  17.02   0   1     4\n",
            "        3   22.8    4  108.0   93  3.85  2.320  18.61   1   1     4\n",
            "        4   21.4    6  258.0  110  3.08  3.215  19.44   1   0     3\n",
            "        5   18.7    8  360.0  175  3.15  3.440  17.02   0   0     3\n",
            "        6   18.1    6  225.0  105  2.76  3.460  20.22   1   0     3\n",
            "        7   14.3    8  360.0  245  3.21  3.570  15.84   0   0     3\n",
            "        8   24.4    4  146.7   62  3.69  3.190  20.00   1   0     4\n",
            "        9   22.8    4  140.8   95  3.92  3.150  22.90   1   0     4\n",
            "        10  19.2    6  167.6  123  3.92  3.440  18.30   1   0     4\n",
            "        11  17.8    6  167.6  123  3.92  3.440  18.90   1   0     4\n",
            "        12  16.4    8  275.8  180  3.07  4.070  17.40   0   0     3\n",
            "        13  17.3    8  275.8  180  3.07  3.730  17.60   0   0     3\n",
            "        14  15.2    8  275.8  180  3.07  3.780  18.00   0   0     3\n",
            "        15  10.4    8  472.0  205  2.93  5.250  17.98   0   0     3\n",
            "        16  10.4    8  460.0  215  3.00  5.424  17.82   0   0     3\n",
            "        17  14.7    8  440.0  230  3.23  5.345  17.42   0   0     3\n",
            "        18  32.4    4   78.7   66  4.08  2.200  19.47   1   1     4\n",
            "        19  30.4    4   75.7   52  4.93  1.615  18.52   1   1     4\n",
            "        20  33.9    4   71.1   65  4.22  1.835  19.90   1   1     4\n",
            "        21  21.5    4  120.1   97  3.70  2.465  20.01   1   0     3\n",
            "        22  15.5    8  318.0  150  2.76  3.520  16.87   0   0     3\n",
            "        23  15.2    8  304.0  150  3.15  3.435  17.30   0   0     3\n",
            "        24  13.3    8  350.0  245  3.73  3.840  15.41   0   0     3\n",
            "        25  19.2    8  400.0  175  3.08  3.845  17.05   0   0     3\n",
            "        26  27.3    4   79.0   66  4.08  1.935  18.90   1   1     4\n",
            "        27  26.0    4  120.3   91  4.43  2.140  16.70   0   1     5\n",
            "        28  30.4    4   95.1  113  3.77  1.513  16.90   1   1     5\n",
            "        29  15.8    8  351.0  264  4.22  3.170  14.50   0   1     5\n",
            "        30  19.7    6  145.0  175  3.62  2.770  15.50   0   1     5\n",
            "        31  15.0    8  301.0  335  3.54  3.570  14.60   0   1     5,               0            1             2            3        4\n",
            "        0  Sepal.Length  Sepal.Width  Petal.Length  Petal.Width  Species\n",
            "        1           5.1          3.5           1.4          0.2   setosa\n",
            "        2           4.9          3.0           1.4          0.2   setosa\n",
            "        3           4.7          3.2           1.3          0.2   setosa\n",
            "        4           4.6          3.1           1.5          0.2   setosa\n",
            "        5           5.0          3.6           1.4          0.2   setosa\n",
            "        6           5.4          3.9           1.7          0.4   setosa,      0             1            2             3            4          5\n",
            "        0  NaN  Sepal.Length  Sepal.Width  Petal.Length  Petal.Width    Species\n",
            "        1  145           6.7          3.3           5.7          2.5  virginica\n",
            "        2  146           6.7          3.0           5.2          2.3  virginica\n",
            "        3  147           6.3          2.5           5.0          1.9  virginica\n",
            "        4  148           6.5          3.0           5.2          2.0  virginica\n",
            "        5  149           6.2          3.4           5.4          2.3  virginica\n",
            "        6  150           5.9          3.0           5.1          1.8  virginica,        0\n",
            "        0   supp\n",
            "        1     VC\n",
            "        2     VC\n",
            "        3     VC\n",
            "        4     VC\n",
            "        5     VC\n",
            "        6     VC\n",
            "        7     VC\n",
            "        8     VC\n",
            "        9     VC\n",
            "        10    VC\n",
            "        11    VC\n",
            "        12    VC\n",
            "        13    VC\n",
            "        14    VC]\n",
            "\n"
          ],
          "name": "stdout"
        }
      ]
    },
    {
      "cell_type": "code",
      "metadata": {
        "id": "TmguOBjFrRA0",
        "colab_type": "code",
        "colab": {}
      },
      "source": [
        ""
      ],
      "execution_count": 0,
      "outputs": []
    },
    {
      "cell_type": "code",
      "metadata": {
        "id": "uAapRT2Yh5gG",
        "colab_type": "code",
        "colab": {}
      },
      "source": [
        ""
      ],
      "execution_count": 0,
      "outputs": []
    }
  ]
}