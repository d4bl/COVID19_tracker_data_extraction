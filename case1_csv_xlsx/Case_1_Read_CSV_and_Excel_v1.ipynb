{
  "nbformat": 4,
  "nbformat_minor": 0,
  "metadata": {
    "colab": {
      "name": "Case-1-Read-CSV-and-Excel-v1.ipynb",
      "provenance": [],
      "collapsed_sections": []
    },
    "kernelspec": {
      "name": "python3",
      "display_name": "Python 3"
    }
  },
  "cells": [
    {
      "cell_type": "markdown",
      "metadata": {
        "id": "nLkx8W1a2hAY",
        "colab_type": "text"
      },
      "source": [
        "# Data 4 Black Lives - COVID-19 Case/Death Disparities\n",
        "\n",
        "Objective: Extract COVID-19 cases and deaths for each geographic location, both overall and for Black/African-Americans only.\n",
        "\n",
        "Data sources for 3 locations (California (San Diego), Florida, and New York City) are provided in tables embedded in PDFs. There are tools that can extract tables from PDFs. Specifying the specific location of the table in the document can be a bit tricky, but this can certainly be done."
      ]
    },
    {
      "cell_type": "markdown",
      "metadata": {
        "id": "cNVTFtsMsMDB",
        "colab_type": "text"
      },
      "source": [
        "# Setup"
      ]
    },
    {
      "cell_type": "markdown",
      "metadata": {
        "id": "7xasQLC1sO80",
        "colab_type": "text"
      },
      "source": [
        "## Install modules"
      ]
    },
    {
      "cell_type": "code",
      "metadata": {
        "id": "TqZmZLa7Hbro",
        "colab_type": "code",
        "outputId": "ed296115-e270-4cc6-dd9e-922a866da0aa",
        "colab": {
          "base_uri": "https://localhost:8080/",
          "height": 170
        }
      },
      "source": [
        "!pip install wget"
      ],
      "execution_count": 1,
      "outputs": [
        {
          "output_type": "stream",
          "text": [
            "Collecting wget\n",
            "  Downloading https://files.pythonhosted.org/packages/47/6a/62e288da7bcda82b935ff0c6cfe542970f04e29c756b0e147251b2fb251f/wget-3.2.zip\n",
            "Building wheels for collected packages: wget\n",
            "  Building wheel for wget (setup.py) ... \u001b[?25l\u001b[?25hdone\n",
            "  Created wheel for wget: filename=wget-3.2-cp36-none-any.whl size=9682 sha256=6ef9ac9a3e07ae91fc3ea80e4764c560dccbb78016e00da7ecab8f51d88a6502\n",
            "  Stored in directory: /root/.cache/pip/wheels/40/15/30/7d8f7cea2902b4db79e3fea550d7d7b85ecb27ef992b618f3f\n",
            "Successfully built wget\n",
            "Installing collected packages: wget\n",
            "Successfully installed wget-3.2\n"
          ],
          "name": "stdout"
        }
      ]
    },
    {
      "cell_type": "markdown",
      "metadata": {
        "id": "6YfaRRrvsVf1",
        "colab_type": "text"
      },
      "source": [
        "## Import modules"
      ]
    },
    {
      "cell_type": "code",
      "metadata": {
        "id": "fKPhkYp447SH",
        "colab_type": "code",
        "colab": {}
      },
      "source": [
        "## Misc utilities\n",
        "import pandas as pd\n",
        "import os\n",
        "from datetime import datetime, timedelta\n",
        "import wget\n",
        "import numpy as np\n",
        "import datetime\n",
        "\n",
        "## Read webpage\n",
        "from bs4 import BeautifulSoup\n",
        "from bs4.dammit import EncodingDetector\n",
        "import requests\n",
        "\n",
        "## Display pandas dataframe\n",
        "from IPython.display import display, HTML"
      ],
      "execution_count": 0,
      "outputs": []
    },
    {
      "cell_type": "markdown",
      "metadata": {
        "id": "OdSXiRpJsahc",
        "colab_type": "text"
      },
      "source": [
        "## Create subdirectories"
      ]
    },
    {
      "cell_type": "code",
      "metadata": {
        "id": "-AucIBVy9r-D",
        "colab_type": "code",
        "colab": {}
      },
      "source": [
        "## home directory\n",
        "home_dir = '/content'"
      ],
      "execution_count": 0,
      "outputs": []
    },
    {
      "cell_type": "code",
      "metadata": {
        "id": "9M25RHVe8Nif",
        "colab_type": "code",
        "colab": {}
      },
      "source": [
        "# Create new data folders\n",
        "%mkdir data\n",
        "%mkdir data/mass\n",
        "%mkdir data/virginia\n",
        "%mkdir data/dc"
      ],
      "execution_count": 0,
      "outputs": []
    },
    {
      "cell_type": "markdown",
      "metadata": {
        "id": "kCDOpfk8sp7a",
        "colab_type": "text"
      },
      "source": [
        "## Helper functions"
      ]
    },
    {
      "cell_type": "code",
      "metadata": {
        "id": "l4oT82N6Dwmc",
        "colab_type": "code",
        "colab": {}
      },
      "source": [
        "# Source: https://stackoverflow.com/questions/1080411/retrieve-links-from-web-page-using-python-and-beautifulsoup\n",
        "\n",
        "def find_all_links(url, search_string=None):\n",
        "    resp = requests.get(url)\n",
        "    http_encoding = resp.encoding if 'charset' in resp.headers.get('content-type', '').lower() else None\n",
        "    html_encoding = EncodingDetector.find_declared_encoding(resp.content, is_html=True)\n",
        "    encoding = html_encoding or http_encoding\n",
        "    soup = BeautifulSoup(resp.content, from_encoding=encoding)\n",
        "\n",
        "    link_list = []\n",
        "\n",
        "    for link in soup.find_all('a', href=True):\n",
        "        link_list.append(link['href'])\n",
        "\n",
        "    if search_string:\n",
        "        return [x for x in link_list if search_string in x]\n",
        "    else:\n",
        "        return link_list"
      ],
      "execution_count": 0,
      "outputs": []
    },
    {
      "cell_type": "markdown",
      "metadata": {
        "id": "5pjDaczIse6T",
        "colab_type": "text"
      },
      "source": [
        "## Dictionary to hold results"
      ]
    },
    {
      "cell_type": "code",
      "metadata": {
        "id": "gUr_1x5G5ucC",
        "colab_type": "code",
        "colab": {}
      },
      "source": [
        "output = dict()"
      ],
      "execution_count": 0,
      "outputs": []
    },
    {
      "cell_type": "code",
      "metadata": {
        "id": "xG0qdARrwtPU",
        "colab_type": "code",
        "colab": {}
      },
      "source": [
        "validation_flag = False"
      ],
      "execution_count": 0,
      "outputs": []
    },
    {
      "cell_type": "markdown",
      "metadata": {
        "id": "TQUrDDElssiL",
        "colab_type": "text"
      },
      "source": [
        "# Analyses"
      ]
    },
    {
      "cell_type": "markdown",
      "metadata": {
        "id": "4f_iDKCC8Oo6",
        "colab_type": "text"
      },
      "source": [
        "## Massachusetts"
      ]
    },
    {
      "cell_type": "code",
      "metadata": {
        "id": "pbLA638s4csY",
        "colab_type": "code",
        "colab": {}
      },
      "source": [
        "## Navigate to Massachusetts data folder\n",
        "mass_dir = os.path.join(home_dir, 'data', 'mass')\n",
        "os.chdir(mass_dir)"
      ],
      "execution_count": 0,
      "outputs": []
    },
    {
      "cell_type": "code",
      "metadata": {
        "id": "PGA0bd1As0WS",
        "colab_type": "code",
        "colab": {}
      },
      "source": [
        "def data_extract_massachusetts(validation=False):\n",
        "    try:\n",
        "        print('Get URLs on Massachusetts COVID-19 response reporting page')\n",
        "        mass_urls = find_all_links(url='https://www.mass.gov/info-details/covid-19-response-reporting', search_string='covid-19-raw-data')\n",
        "\n",
        "        print('Find the URL corresponding to the COVID-19 data file')\n",
        "        #print(mass_urls)\n",
        "        mass_url_fragment = mass_urls[0].split('/')[2]\n",
        "        mass_url = 'https://www.mass.gov/doc/{}/download'.format(mass_url_fragment)\n",
        "\n",
        "        print('Download the file')\n",
        "        ## Cumulative number of cases / deaths\n",
        "        mass_file = os.path.join(mass_dir, 'massachusetts.zip'); mass_file\n",
        "        os.system(\"wget -O {} {}\".format(mass_file, mass_url))\n",
        "\n",
        "        print('Unzip the file')\n",
        "        ! unzip -o -qq massachusetts.zip\n",
        "\n",
        "        print('Get the race/ethnicity breakdown')\n",
        "        df_mass_raw = pd.read_csv('RaceEthnicity.csv')\n",
        "\n",
        "        print('Get date of most recent data published')\n",
        "        ## If desired (validation = True), verify that calculations as of D4BL's last refresh match these calculations \n",
        "        ## TO DO: Convert date to string first before finding the max\n",
        "        if validation is True:\n",
        "            mass_max_date = '4/9/2020'\n",
        "        else:\n",
        "            mass_max_date = max(df_mass_raw.Date)\n",
        "        \n",
        "        print('Get the data for only most recent data published (or validation date)')\n",
        "        df_mass = df_mass_raw[df_mass_raw.Date == mass_max_date]\n",
        "\n",
        "        ##### Intermediate calculations #####\n",
        "\n",
        "        print('total cases')\n",
        "        mass_total_cases = df_mass['All Cases'].sum()\n",
        "\n",
        "        print('total deaths')\n",
        "        mass_total_deaths = df_mass['Deaths'].sum()\n",
        "\n",
        "        print('AA cases')\n",
        "        mass_aa_cases = df_mass[df_mass['Race/Ethnicity'] == 'Non-Hispanic Black/African American']['All Cases'].tolist()[0] \n",
        "        mass_aa_cases_pct = round(100 * mass_aa_cases / mass_total_cases, 2)\n",
        "\n",
        "        print('AA deaths')\n",
        "        mass_aa_deaths = df_mass[df_mass['Race/Ethnicity'] == 'Non-Hispanic Black/African American']['Deaths'].tolist()[0]\n",
        "        mass_aa_deaths_pct = round(100 * mass_aa_deaths / mass_total_deaths, 2)\n",
        "\n",
        "        return {\n",
        "            'Location': 'Massachusetts',\n",
        "        'Date Published': mass_max_date,\n",
        "        'Total Cases': mass_total_cases,\n",
        "        'Total Deaths': mass_total_deaths,\n",
        "        'Pct Cases Black/AA': mass_aa_cases_pct,\n",
        "        'Pct Deaths Black/AA': mass_aa_deaths_pct\n",
        "        }\n",
        "\n",
        "        print('Success!')\n",
        "    \n",
        "    except Exception as inst:\n",
        "        print('Execution error!')\n",
        "        print(inst)\n",
        "\n",
        "        return {\n",
        "        'Location': 'Massachusetts',\n",
        "        'Date Published': '',\n",
        "        'Total Cases': np.nan,\n",
        "        'Total Deaths': np.nan,\n",
        "        'Pct Cases Black/AA': np.nan,\n",
        "        'Pct Deaths Black/AA': np.nan\n",
        "        }\n",
        "\n"
      ],
      "execution_count": 0,
      "outputs": []
    },
    {
      "cell_type": "code",
      "metadata": {
        "id": "Z9mYx9CgvQRl",
        "colab_type": "code",
        "colab": {
          "base_uri": "https://localhost:8080/",
          "height": 306
        },
        "outputId": "35f8445d-e2b3-4af0-e824-dbf6e80bbe45"
      },
      "source": [
        "output['Massachusetts'] = data_extract_massachusetts(validation = validation_flag); output"
      ],
      "execution_count": 23,
      "outputs": [
        {
          "output_type": "stream",
          "text": [
            "Get URLs on Massachusetts COVID-19 response reporting page\n",
            "Find the URL corresponding to the COVID-19 data file\n",
            "Download the file\n",
            "Unzip the file\n",
            "Get the race/ethnicity breakdown\n",
            "Get date of most recent data published\n",
            "Get the data for only most recent data published (or validation date)\n",
            "total cases\n",
            "total deaths\n",
            "AA cases\n",
            "AA deaths\n"
          ],
          "name": "stdout"
        },
        {
          "output_type": "execute_result",
          "data": {
            "text/plain": [
              "{'Massachusetts': {'Date Published': '5/6/2020',\n",
              "  'Location': 'Massachusetts',\n",
              "  'Pct Cases Black/AA': 7.33,\n",
              "  'Pct Deaths Black/AA': 5.48,\n",
              "  'Total Cases': 72025,\n",
              "  'Total Deaths': 4420}}"
            ]
          },
          "metadata": {
            "tags": []
          },
          "execution_count": 23
        }
      ]
    },
    {
      "cell_type": "markdown",
      "metadata": {
        "id": "IqxF48xg8V4d",
        "colab_type": "text"
      },
      "source": [
        "## Virginia"
      ]
    },
    {
      "cell_type": "code",
      "metadata": {
        "id": "_bxd-IVN89MA",
        "colab_type": "code",
        "colab": {}
      },
      "source": [
        "## Navigate to Massachusetts data folder\n",
        "virginia_dir = os.path.join(home_dir, 'data', 'virginia')\n",
        "os.chdir(virginia_dir)"
      ],
      "execution_count": 0,
      "outputs": []
    },
    {
      "cell_type": "code",
      "metadata": {
        "id": "3xbqZnPXw3Bj",
        "colab_type": "code",
        "colab": {}
      },
      "source": [
        "def data_extract_virginia(validation=False):\n",
        "    ## No validation of 4/9/2020 available since data appear to be overwritten daily\n",
        "    ## Thus, validation parameter setting has no effect\n",
        "    try:\n",
        "        ## Download the CSV for race\n",
        "        !wget -q --no-check-certificate https://www.vdh.virginia.gov/content/uploads/sites/182/2020/03/VDH-COVID-19-PublicUseDataset-Cases_By-Race.csv\n",
        "\n",
        "        ## Read in the file\n",
        "        df_va_raw = pd.read_csv('VDH-COVID-19-PublicUseDataset-Cases_By-Race.csv')\n",
        "\n",
        "        ## Get only the most recent data published\n",
        "        ## TO DO: Convert date to string first before finding the max\n",
        "        va_max_date = max(df_va_raw['Report Date'])\n",
        "\n",
        "        ## Roll up counts to race\n",
        "        df_va = df_va_raw.groupby('Race').sum()\n",
        "\n",
        "        ##### Intermediate calculations #####\n",
        "\n",
        "        ## total cases\n",
        "        va_total_cases = df_va['Number of Cases'].sum()\n",
        "\n",
        "        ## total deaths\n",
        "        va_total_deaths = df_va['Number of Deaths'].sum()\n",
        "\n",
        "        ## AA cases\n",
        "        va_aa_cases = df_va.loc['Black or African American',:]['Number of Cases'] \n",
        "        va_aa_cases_pct = round(100 * va_aa_cases / va_total_cases, 2)\n",
        "\n",
        "        ## AA deaths\n",
        "        va_aa_deaths = df_va.loc['Black or African American',:]['Number of Deaths']\n",
        "        va_aa_deaths_pct = round(100 * va_aa_deaths / va_total_deaths, 2)\n",
        "\n",
        "        print('Success!')\n",
        "\n",
        "        return {\n",
        "            'Location': 'Virginia',\n",
        "            'Date Published': va_max_date,\n",
        "            'Total Cases': va_total_cases,\n",
        "            'Total Deaths': va_total_deaths,\n",
        "            'Pct Cases Black/AA': va_aa_cases_pct,\n",
        "            'Pct Deaths Black/AA': va_aa_deaths_pct\n",
        "            }\n",
        "    \n",
        "    except Exception as inst:\n",
        "        print('Execution error!')\n",
        "        print(inst)\n",
        "\n",
        "        return {\n",
        "            'Location': 'Virginia',\n",
        "            'Date Published': '',\n",
        "            'Total Cases': pd.nan,\n",
        "            'Total Deaths': pd.nan,\n",
        "            'Pct Cases Black/AA': pd.nan,\n",
        "            'Pct Deaths Black/AA': pd.nan\n",
        "        }\n",
        "\n",
        "        "
      ],
      "execution_count": 0,
      "outputs": []
    },
    {
      "cell_type": "code",
      "metadata": {
        "id": "zwMFX1ivynav",
        "colab_type": "code",
        "colab": {
          "base_uri": "https://localhost:8080/",
          "height": 238
        },
        "outputId": "c727cb76-01f6-41cb-c688-6cc173dfdec1"
      },
      "source": [
        "output['Virginia'] = data_extract_virginia(validation = validation_flag); output"
      ],
      "execution_count": 26,
      "outputs": [
        {
          "output_type": "stream",
          "text": [
            "Success!\n"
          ],
          "name": "stdout"
        },
        {
          "output_type": "execute_result",
          "data": {
            "text/plain": [
              "{'Massachusetts': {'Date Published': '5/6/2020',\n",
              "  'Location': 'Massachusetts',\n",
              "  'Pct Cases Black/AA': 7.33,\n",
              "  'Pct Deaths Black/AA': 5.48,\n",
              "  'Total Cases': 72025,\n",
              "  'Total Deaths': 4420},\n",
              " 'Virginia': {'Date Published': '5/5/2020',\n",
              "  'Location': 'Virginia',\n",
              "  'Pct Cases Black/AA': 17.74,\n",
              "  'Pct Deaths Black/AA': 23.0,\n",
              "  'Total Cases': 20256,\n",
              "  'Total Deaths': 713}}"
            ]
          },
          "metadata": {
            "tags": []
          },
          "execution_count": 26
        }
      ]
    },
    {
      "cell_type": "code",
      "metadata": {
        "id": "xqcfrJCA8bkP",
        "colab_type": "code",
        "outputId": "4404b287-628f-4c81-857f-b14478c4fa89",
        "colab": {
          "base_uri": "https://localhost:8080/",
          "height": 111
        }
      },
      "source": [
        "pd.DataFrame(output).T"
      ],
      "execution_count": 27,
      "outputs": [
        {
          "output_type": "execute_result",
          "data": {
            "text/html": [
              "<div>\n",
              "<style scoped>\n",
              "    .dataframe tbody tr th:only-of-type {\n",
              "        vertical-align: middle;\n",
              "    }\n",
              "\n",
              "    .dataframe tbody tr th {\n",
              "        vertical-align: top;\n",
              "    }\n",
              "\n",
              "    .dataframe thead th {\n",
              "        text-align: right;\n",
              "    }\n",
              "</style>\n",
              "<table border=\"1\" class=\"dataframe\">\n",
              "  <thead>\n",
              "    <tr style=\"text-align: right;\">\n",
              "      <th></th>\n",
              "      <th>Location</th>\n",
              "      <th>Date Published</th>\n",
              "      <th>Total Cases</th>\n",
              "      <th>Total Deaths</th>\n",
              "      <th>Pct Cases Black/AA</th>\n",
              "      <th>Pct Deaths Black/AA</th>\n",
              "    </tr>\n",
              "  </thead>\n",
              "  <tbody>\n",
              "    <tr>\n",
              "      <th>Massachusetts</th>\n",
              "      <td>Massachusetts</td>\n",
              "      <td>5/6/2020</td>\n",
              "      <td>72025</td>\n",
              "      <td>4420</td>\n",
              "      <td>7.33</td>\n",
              "      <td>5.48</td>\n",
              "    </tr>\n",
              "    <tr>\n",
              "      <th>Virginia</th>\n",
              "      <td>Virginia</td>\n",
              "      <td>5/5/2020</td>\n",
              "      <td>20256</td>\n",
              "      <td>713</td>\n",
              "      <td>17.74</td>\n",
              "      <td>23</td>\n",
              "    </tr>\n",
              "  </tbody>\n",
              "</table>\n",
              "</div>"
            ],
            "text/plain": [
              "                    Location  ... Pct Deaths Black/AA\n",
              "Massachusetts  Massachusetts  ...                5.48\n",
              "Virginia            Virginia  ...                  23\n",
              "\n",
              "[2 rows x 6 columns]"
            ]
          },
          "metadata": {
            "tags": []
          },
          "execution_count": 27
        }
      ]
    },
    {
      "cell_type": "markdown",
      "metadata": {
        "id": "B3Rnxk3b8cDC",
        "colab_type": "text"
      },
      "source": [
        "## Washington DC"
      ]
    },
    {
      "cell_type": "code",
      "metadata": {
        "id": "WxeV-50SG0JX",
        "colab_type": "code",
        "colab": {}
      },
      "source": [
        "## Navigate to Washington, DC data folder\n",
        "dc_dir = os.path.join(home_dir, 'data', 'dc')\n",
        "os.chdir(dc_dir)"
      ],
      "execution_count": 0,
      "outputs": []
    },
    {
      "cell_type": "code",
      "metadata": {
        "id": "Ly06vhPxz7sY",
        "colab_type": "code",
        "colab": {}
      },
      "source": [
        "def data_extract_washingtonDC(validation=False):\n",
        "\n",
        "    try:\n",
        "        ## \n",
        "        prefix = 'https://coronavirus.dc.gov/sites/default/files/dc/sites/coronavirus/page_content/attachments/'\n",
        "        dc_links_raw = find_all_links('https://coronavirus.dc.gov/page/coronavirus-data', \n",
        "                    prefix + 'DC-COVID-19-Data')\n",
        "        \n",
        "        dc_links = [x for x in dc_links_raw if ('csv' in x or 'xlsx' in x)]\n",
        "        \n",
        "        ## \n",
        "        dc_date_strings = [x.replace('forApril', 'for-April'). \\\n",
        "                           replace(prefix + 'DC-COVID-19-Data-for-', ''). \\\n",
        "                           replace('-updated', '').replace('.xlsx', '') for x in dc_links]; dc_date_strings\n",
        "\n",
        "        ##  \n",
        "        dc_dates = [str(datetime.datetime.strptime(x, '%B-%d-%Y')).split(' ')[0] for x in dc_date_strings]\n",
        "\n",
        "        ##\n",
        "        dc_max_date = max(dc_dates)\n",
        "\n",
        "        ## \n",
        "        dc_file_date = datetime.datetime.strptime(dc_max_date, '%Y-%m-%d').strftime('%B-%-d-%Y')\n",
        "\n",
        "        ## Download the file\n",
        "        ## Cumulative number of cases / deaths\n",
        "        dc_url = \"https://coronavirus.dc.gov/sites/default/files/dc/sites/coronavirus/page_content/attachments/DC-COVID-19-Data-for-{}.xlsx\".format(dc_file_date)\n",
        "        dc_file = os.path.join(dc_dir, 'dc_data.xlsx')\n",
        "        os.system(\"wget -O {} {}\".format(dc_file, dc_url))\n",
        "\n",
        "        ## \n",
        "        df_dc_cases_raw = pd.read_excel('dc_data.xlsx', sheet_name = 'Total Cases by Race', skiprows=[0]).\\\n",
        "        T.drop(columns=[0])\n",
        "\n",
        "        ##\n",
        "        df_dc_cases_raw.columns = df_dc_cases_raw.loc['Unnamed: 0'].tolist()\n",
        "        df_dc_cases_raw = df_dc_cases_raw.drop(index=['Unnamed: 0'])\n",
        "        df_dc_cases_raw = df_dc_cases_raw.reset_index()\n",
        "\n",
        "        ## Get date of most recent data published\n",
        "        ## If desired (validation = True), verify that calculations as of D4BL's last refresh match these calculations \n",
        "        ## TO DO: Convert date to string first before finding the max\n",
        "        if validation:\n",
        "            max_case_ts = pd.Timestamp('2020-04-08 00:00:00')\n",
        "        else:\n",
        "            max_case_ts = max(df_dc_cases_raw['index']); max_case_ts\n",
        "\n",
        "        ##\n",
        "        df_dc_cases = df_dc_cases_raw[df_dc_cases_raw['index'] == max_case_ts]\n",
        "\n",
        "        ## \n",
        "        df_dc_deaths_raw = pd.read_excel('dc_data.xlsx', sheet_name = 'Lives Lost by Race'). \\\n",
        "        T.drop(columns=[0])\n",
        "\n",
        "        ## \n",
        "        df_dc_deaths_raw.columns = df_dc_deaths_raw.loc['Unnamed: 0'].tolist()\n",
        "        df_dc_deaths_raw = df_dc_deaths_raw.drop(index=['Unnamed: 0'])\n",
        "        df_dc_deaths_raw = df_dc_deaths_raw.reset_index()\n",
        "\n",
        "        ##\n",
        "        df_dc_deaths = df_dc_deaths_raw[df_dc_deaths_raw['index'] == max_case_ts]; df_dc_deaths\n",
        "\n",
        "        ## \n",
        "        dc_max_date = (max_case_ts + timedelta(days=1) ).strftime('%-m/%-d/%Y'); dc_max_date\n",
        "\n",
        "        ##### Intermediate calculations #####\n",
        "\n",
        "        ## total cases\n",
        "        dc_total_cases = df_dc_cases['All'].astype('int').tolist()[0]\n",
        "\n",
        "        ## total deaths\n",
        "        dc_total_deaths = df_dc_deaths['All'].astype('int').tolist()[0]\n",
        "\n",
        "        ## AA cases\n",
        "        dc_aa_cases = df_dc_cases['Black/African American'].astype('int').tolist()[0]\n",
        "        dc_aa_cases_pct = round(100 * dc_aa_cases / dc_total_cases, 2)\n",
        "\n",
        "        ## AA deaths\n",
        "        dc_aa_deaths = df_dc_deaths['Black/African American'].astype('int').tolist()[0]\n",
        "        dc_aa_deaths_pct = round(100 * dc_aa_deaths / dc_total_deaths, 2)\n",
        "\n",
        "\n",
        "\n",
        "\n",
        "        print('Success!')\n",
        "\n",
        "        return {\n",
        "            'Location': 'Washington, DC',\n",
        "            'Date Published': dc_max_date,\n",
        "            'Total Cases': dc_total_cases,\n",
        "            'Total Deaths': dc_total_deaths,\n",
        "            'Pct Cases Black/AA': dc_aa_cases_pct,\n",
        "            'Pct Deaths Black/AA': dc_aa_deaths_pct\n",
        "            }\n",
        "    \n",
        "    except Exception as inst:\n",
        "        print('Execution error!')\n",
        "        print(inst)\n",
        "\n",
        "        return {\n",
        "            'Location': 'Washington, DC',\n",
        "            'Date Published': '',\n",
        "            'Total Cases': np.nan,\n",
        "            'Total Deaths': np.nan,\n",
        "            'Pct Cases Black/AA': np.nan,\n",
        "            'Pct Deaths Black/AA': np.nan\n",
        "        }\n",
        "\n",
        "        "
      ],
      "execution_count": 0,
      "outputs": []
    },
    {
      "cell_type": "code",
      "metadata": {
        "id": "h0Msd4gB8jez",
        "colab_type": "code",
        "colab": {
          "base_uri": "https://localhost:8080/",
          "height": 340
        },
        "outputId": "2cb3e6fc-52ae-48c8-d6ca-30413861e7b4"
      },
      "source": [
        "output['Washington DC'] = data_extract_washingtonDC(validation=False); output"
      ],
      "execution_count": 31,
      "outputs": [
        {
          "output_type": "stream",
          "text": [
            "Success!\n"
          ],
          "name": "stdout"
        },
        {
          "output_type": "execute_result",
          "data": {
            "text/plain": [
              "{'Massachusetts': {'Date Published': '5/6/2020',\n",
              "  'Location': 'Massachusetts',\n",
              "  'Pct Cases Black/AA': 7.33,\n",
              "  'Pct Deaths Black/AA': 5.48,\n",
              "  'Total Cases': 72025,\n",
              "  'Total Deaths': 4420},\n",
              " 'Virginia': {'Date Published': '5/5/2020',\n",
              "  'Location': 'Virginia',\n",
              "  'Pct Cases Black/AA': 17.74,\n",
              "  'Pct Deaths Black/AA': 23.0,\n",
              "  'Total Cases': 20256,\n",
              "  'Total Deaths': 713},\n",
              " 'Washington DC': {'Date Published': '5/6/2020',\n",
              "  'Location': 'Washington, DC',\n",
              "  'Pct Cases Black/AA': 46.69,\n",
              "  'Pct Deaths Black/AA': 79.42,\n",
              "  'Total Cases': 5461,\n",
              "  'Total Deaths': 277}}"
            ]
          },
          "metadata": {
            "tags": []
          },
          "execution_count": 31
        }
      ]
    },
    {
      "cell_type": "code",
      "metadata": {
        "id": "VMtcaAvRRWBh",
        "colab_type": "code",
        "outputId": "332b8e64-c1b4-446d-b34d-361a3b5bca76",
        "colab": {
          "base_uri": "https://localhost:8080/",
          "height": 142
        }
      },
      "source": [
        "output_df = pd.DataFrame(output).T\n",
        "output_df"
      ],
      "execution_count": 33,
      "outputs": [
        {
          "output_type": "execute_result",
          "data": {
            "text/html": [
              "<div>\n",
              "<style scoped>\n",
              "    .dataframe tbody tr th:only-of-type {\n",
              "        vertical-align: middle;\n",
              "    }\n",
              "\n",
              "    .dataframe tbody tr th {\n",
              "        vertical-align: top;\n",
              "    }\n",
              "\n",
              "    .dataframe thead th {\n",
              "        text-align: right;\n",
              "    }\n",
              "</style>\n",
              "<table border=\"1\" class=\"dataframe\">\n",
              "  <thead>\n",
              "    <tr style=\"text-align: right;\">\n",
              "      <th></th>\n",
              "      <th>Location</th>\n",
              "      <th>Date Published</th>\n",
              "      <th>Total Cases</th>\n",
              "      <th>Total Deaths</th>\n",
              "      <th>Pct Cases Black/AA</th>\n",
              "      <th>Pct Deaths Black/AA</th>\n",
              "    </tr>\n",
              "  </thead>\n",
              "  <tbody>\n",
              "    <tr>\n",
              "      <th>Massachusetts</th>\n",
              "      <td>Massachusetts</td>\n",
              "      <td>5/6/2020</td>\n",
              "      <td>72025</td>\n",
              "      <td>4420</td>\n",
              "      <td>7.33</td>\n",
              "      <td>5.48</td>\n",
              "    </tr>\n",
              "    <tr>\n",
              "      <th>Virginia</th>\n",
              "      <td>Virginia</td>\n",
              "      <td>5/5/2020</td>\n",
              "      <td>20256</td>\n",
              "      <td>713</td>\n",
              "      <td>17.74</td>\n",
              "      <td>23</td>\n",
              "    </tr>\n",
              "    <tr>\n",
              "      <th>Washington DC</th>\n",
              "      <td>Washington, DC</td>\n",
              "      <td>5/6/2020</td>\n",
              "      <td>5461</td>\n",
              "      <td>277</td>\n",
              "      <td>46.69</td>\n",
              "      <td>79.42</td>\n",
              "    </tr>\n",
              "  </tbody>\n",
              "</table>\n",
              "</div>"
            ],
            "text/plain": [
              "                     Location  ... Pct Deaths Black/AA\n",
              "Massachusetts   Massachusetts  ...                5.48\n",
              "Virginia             Virginia  ...                  23\n",
              "Washington DC  Washington, DC  ...               79.42\n",
              "\n",
              "[3 rows x 6 columns]"
            ]
          },
          "metadata": {
            "tags": []
          },
          "execution_count": 33
        }
      ]
    },
    {
      "cell_type": "code",
      "metadata": {
        "id": "PlDJj0grP4O_",
        "colab_type": "code",
        "colab": {}
      },
      "source": [
        "out_file = os.path.join(home_dir, 'covid_disparities_output_' + datetime.datetime.now().strftime('%Y-%m-%d') + '.csv'); out_file\n",
        "output_df.to_csv(out_file)"
      ],
      "execution_count": 0,
      "outputs": []
    },
    {
      "cell_type": "code",
      "metadata": {
        "id": "lnQYNvqrYkwS",
        "colab_type": "code",
        "outputId": "eadcbd3a-180c-43cc-c67d-ebe88029cc05",
        "colab": {
          "base_uri": "https://localhost:8080/",
          "height": 34
        }
      },
      "source": [
        "os.chdir(home_dir)\n",
        "!ls"
      ],
      "execution_count": 36,
      "outputs": [
        {
          "output_type": "stream",
          "text": [
            "covid_disparities_output_2020-05-07.csv  data  sample_data\n"
          ],
          "name": "stdout"
        }
      ]
    },
    {
      "cell_type": "code",
      "metadata": {
        "id": "bkf83KMPYs1P",
        "colab_type": "code",
        "colab": {}
      },
      "source": [
        ""
      ],
      "execution_count": 0,
      "outputs": []
    }
  ]
}