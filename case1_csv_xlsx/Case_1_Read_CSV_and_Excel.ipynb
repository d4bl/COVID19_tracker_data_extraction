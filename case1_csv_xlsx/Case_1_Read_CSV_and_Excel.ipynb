{
  "nbformat": 4,
  "nbformat_minor": 0,
  "metadata": {
    "colab": {
      "name": "Case-1-Read-CSV-and-Excel.ipynb",
      "provenance": [],
      "collapsed_sections": []
    },
    "kernelspec": {
      "name": "python3",
      "display_name": "Python 3"
    }
  },
  "cells": [
    {
      "cell_type": "markdown",
      "metadata": {
        "id": "nLkx8W1a2hAY",
        "colab_type": "text"
      },
      "source": [
        "# Data 4 Black Lives - COVID-19 Case/Death Disparities\n",
        "\n",
        "Objective: Extract COVID-19 cases and deaths for each geographic location, both overall and for Black/African-Americans only.\n",
        "\n",
        "Data sources for 3 locations (California (San Diego), Florida, and New York City) are provided in tables embedded in PDFs. There are tools that can extract tables from PDFs. Specifying the specific location of the table in the document can be a bit tricky, but this can certainly be done."
      ]
    },
    {
      "cell_type": "code",
      "metadata": {
        "id": "-AucIBVy9r-D",
        "colab_type": "code",
        "colab": {}
      },
      "source": [
        "## home directory\n",
        "home_dir = '/content'"
      ],
      "execution_count": 0,
      "outputs": []
    },
    {
      "cell_type": "code",
      "metadata": {
        "id": "TqZmZLa7Hbro",
        "colab_type": "code",
        "colab": {
          "base_uri": "https://localhost:8080/",
          "height": 170
        },
        "outputId": "f70d7ec7-d46b-4634-fe17-e9bc8e3012fb"
      },
      "source": [
        "!pip install wget"
      ],
      "execution_count": 62,
      "outputs": [
        {
          "output_type": "stream",
          "text": [
            "Collecting wget\n",
            "  Downloading https://files.pythonhosted.org/packages/47/6a/62e288da7bcda82b935ff0c6cfe542970f04e29c756b0e147251b2fb251f/wget-3.2.zip\n",
            "Building wheels for collected packages: wget\n",
            "  Building wheel for wget (setup.py) ... \u001b[?25l\u001b[?25hdone\n",
            "  Created wheel for wget: filename=wget-3.2-cp36-none-any.whl size=9682 sha256=c9f826859898655d46c5eb373caf45969718972f5a197cf859a37c99999a5992\n",
            "  Stored in directory: /root/.cache/pip/wheels/40/15/30/7d8f7cea2902b4db79e3fea550d7d7b85ecb27ef992b618f3f\n",
            "Successfully built wget\n",
            "Installing collected packages: wget\n",
            "Successfully installed wget-3.2\n"
          ],
          "name": "stdout"
        }
      ]
    },
    {
      "cell_type": "code",
      "metadata": {
        "id": "fKPhkYp447SH",
        "colab_type": "code",
        "colab": {}
      },
      "source": [
        "## Import modules\n",
        "import pandas as pd\n",
        "import os\n",
        "from datetime import datetime, timedelta\n",
        "import wget"
      ],
      "execution_count": 0,
      "outputs": []
    },
    {
      "cell_type": "code",
      "metadata": {
        "id": "9M25RHVe8Nif",
        "colab_type": "code",
        "colab": {}
      },
      "source": [
        "# Create new data folders\n",
        "%mkdir data\n",
        "%mkdir data/mass\n",
        "%mkdir data/virginia\n",
        "%mkdir data/dc"
      ],
      "execution_count": 0,
      "outputs": []
    },
    {
      "cell_type": "code",
      "metadata": {
        "id": "r2IigZFn9cYT",
        "colab_type": "code",
        "outputId": "b62bec35-fa82-40f7-80d9-277c214d649c",
        "colab": {
          "base_uri": "https://localhost:8080/",
          "height": 34
        }
      },
      "source": [
        "!ls data"
      ],
      "execution_count": 4,
      "outputs": [
        {
          "output_type": "stream",
          "text": [
            "dc  mass  virginia\n"
          ],
          "name": "stdout"
        }
      ]
    },
    {
      "cell_type": "code",
      "metadata": {
        "id": "gUr_1x5G5ucC",
        "colab_type": "code",
        "colab": {}
      },
      "source": [
        "## Dictionary to hold results\n",
        "output = dict()"
      ],
      "execution_count": 0,
      "outputs": []
    },
    {
      "cell_type": "code",
      "metadata": {
        "id": "l4oT82N6Dwmc",
        "colab_type": "code",
        "colab": {}
      },
      "source": [
        "# Source: https://stackoverflow.com/questions/1080411/retrieve-links-from-web-page-using-python-and-beautifulsoup\n",
        "\n",
        "from bs4 import BeautifulSoup\n",
        "from bs4.dammit import EncodingDetector\n",
        "import requests\n",
        "\n",
        "def find_all_links(url, search_string=None):\n",
        "    resp = requests.get(url)\n",
        "    http_encoding = resp.encoding if 'charset' in resp.headers.get('content-type', '').lower() else None\n",
        "    html_encoding = EncodingDetector.find_declared_encoding(resp.content, is_html=True)\n",
        "    encoding = html_encoding or http_encoding\n",
        "    soup = BeautifulSoup(resp.content, from_encoding=encoding)\n",
        "\n",
        "    link_list = []\n",
        "\n",
        "    for link in soup.find_all('a', href=True):\n",
        "        link_list.append(link['href'])\n",
        "\n",
        "    if search_string:\n",
        "        return [x for x in link_list if search_string in x]\n",
        "    else:\n",
        "        return link_list"
      ],
      "execution_count": 0,
      "outputs": []
    },
    {
      "cell_type": "markdown",
      "metadata": {
        "id": "4f_iDKCC8Oo6",
        "colab_type": "text"
      },
      "source": [
        "## Massachusetts"
      ]
    },
    {
      "cell_type": "code",
      "metadata": {
        "id": "pbLA638s4csY",
        "colab_type": "code",
        "colab": {}
      },
      "source": [
        "## Navigate to Massachusetts data folder\n",
        "mass_dir = os.path.join(home_dir, 'data', 'mass')\n",
        "os.chdir(mass_dir)"
      ],
      "execution_count": 0,
      "outputs": []
    },
    {
      "cell_type": "code",
      "metadata": {
        "id": "p62c1na1GN8z",
        "colab_type": "code",
        "colab": {
          "base_uri": "https://localhost:8080/",
          "height": 34
        },
        "outputId": "0fa6d978-224d-453b-a8b0-7bd4d7edd338"
      },
      "source": [
        "mass_urls = find_all_links(url='https://www.mass.gov/info-details/covid-19-response-reporting', search_string='covid-19-raw-data')\n",
        "mass_urls"
      ],
      "execution_count": 65,
      "outputs": [
        {
          "output_type": "execute_result",
          "data": {
            "text/plain": [
              "['/doc/covid-19-raw-data-may-5-2020/download']"
            ]
          },
          "metadata": {
            "tags": []
          },
          "execution_count": 65
        }
      ]
    },
    {
      "cell_type": "code",
      "metadata": {
        "id": "FnHgBllmGRmP",
        "colab_type": "code",
        "colab": {
          "base_uri": "https://localhost:8080/",
          "height": 34
        },
        "outputId": "877eebaf-024f-488f-f10f-919af1148aaa"
      },
      "source": [
        "mass_url_fragment = mass_urls[0].split('/')[2]\n",
        "mass_url = 'https://www.mass.gov/doc/{}/download'.format(mass_url_fragment); mass_url"
      ],
      "execution_count": 66,
      "outputs": [
        {
          "output_type": "execute_result",
          "data": {
            "text/plain": [
              "'https://www.mass.gov/doc/covid-19-raw-data-may-5-2020/download'"
            ]
          },
          "metadata": {
            "tags": []
          },
          "execution_count": 66
        }
      ]
    },
    {
      "cell_type": "code",
      "metadata": {
        "id": "eBgZJqdOI9U3",
        "colab_type": "code",
        "colab": {
          "base_uri": "https://localhost:8080/",
          "height": 34
        },
        "outputId": "b2b01261-d52c-4094-af57-0c2fb1d74ff6"
      },
      "source": [
        "## Download the file\n",
        "## Cumulative number of cases / counts\n",
        "\n",
        "mass_file = os.path.join(mass_dir, 'massachusetts.zip'); mass_file\n",
        "os.system(\"wget -O {} {}\".format(mass_file, mass_url))\n",
        "\n",
        "# ! wget -O massachusetts.zip https://www.mass.gov/doc/covid-19-raw-data-may-3-2020/download"
      ],
      "execution_count": 73,
      "outputs": [
        {
          "output_type": "execute_result",
          "data": {
            "text/plain": [
              "0"
            ]
          },
          "metadata": {
            "tags": []
          },
          "execution_count": 73
        }
      ]
    },
    {
      "cell_type": "code",
      "metadata": {
        "id": "bO2jagCMJS3Z",
        "colab_type": "code",
        "colab": {
          "base_uri": "https://localhost:8080/",
          "height": 102
        },
        "outputId": "5e8cd706-ede7-401a-af4d-c60c23eff3b9"
      },
      "source": [
        "os.listdir()"
      ],
      "execution_count": 74,
      "outputs": [
        {
          "output_type": "execute_result",
          "data": {
            "text/plain": [
              "['.config',\n",
              " 'data',\n",
              " 'covid_disparities_output_2020-05-06.csv',\n",
              " 'massachusetts.zip',\n",
              " 'sample_data']"
            ]
          },
          "metadata": {
            "tags": []
          },
          "execution_count": 74
        }
      ]
    },
    {
      "cell_type": "code",
      "metadata": {
        "id": "J-BBPXeU4V56",
        "colab_type": "code",
        "outputId": "14023e3b-e17c-4ac6-d060-bc68db6183b0",
        "colab": {
          "base_uri": "https://localhost:8080/",
          "height": 289
        }
      },
      "source": [
        "## Unzip the file\n",
        "! unzip massachusetts.zip"
      ],
      "execution_count": 75,
      "outputs": [
        {
          "output_type": "stream",
          "text": [
            "Archive:  massachusetts.zip\n",
            "  inflating: External dashboard backup_05052020.xlsx  \n",
            "  inflating: Data dictionary for External Dashboard Backup.docx  \n",
            "  inflating: Data dictionary for CSVs.docx  \n",
            "  inflating: Cases.csv               \n",
            "  inflating: DeathsReported.csv      \n",
            "  inflating: LTC Facilities.csv      \n",
            "  inflating: Age.csv                 \n",
            "  inflating: Age Means.csv           \n",
            "  inflating: County.csv              \n",
            "  inflating: Sex.csv                 \n",
            "  inflating: Death Pies.csv          \n",
            "  inflating: RaceEthnicity.csv       \n",
            "  inflating: Testing2.csv            \n",
            "  inflating: DateofDeath.csv         \n",
            "  inflating: Hospitalization from Hospitals.csv  \n"
          ],
          "name": "stdout"
        }
      ]
    },
    {
      "cell_type": "code",
      "metadata": {
        "id": "Gs_GvakR2geK",
        "colab_type": "code",
        "outputId": "672b9496-fd08-4b13-d0f4-0c126d6dc278",
        "colab": {
          "base_uri": "https://localhost:8080/",
          "height": 340
        }
      },
      "source": [
        "!ls"
      ],
      "execution_count": 76,
      "outputs": [
        {
          "output_type": "stream",
          "text": [
            " Age.csv\n",
            "'Age Means.csv'\n",
            " Cases.csv\n",
            " County.csv\n",
            " covid_disparities_output_2020-05-06.csv\n",
            " data\n",
            "'Data dictionary for CSVs.docx'\n",
            "'Data dictionary for External Dashboard Backup.docx'\n",
            " DateofDeath.csv\n",
            "'Death Pies.csv'\n",
            " DeathsReported.csv\n",
            "'External dashboard backup_05052020.xlsx'\n",
            "'Hospitalization from Hospitals.csv'\n",
            "'LTC Facilities.csv'\n",
            " massachusetts.zip\n",
            " RaceEthnicity.csv\n",
            " sample_data\n",
            " Sex.csv\n",
            " Testing2.csv\n"
          ],
          "name": "stdout"
        }
      ]
    },
    {
      "cell_type": "code",
      "metadata": {
        "id": "-bsIDp_s2ggc",
        "colab_type": "code",
        "outputId": "363ef41c-bf39-49f1-9ab2-0017e2589de8",
        "colab": {
          "base_uri": "https://localhost:8080/",
          "height": 419
        }
      },
      "source": [
        "df_mass_raw = pd.read_csv('RaceEthnicity.csv')\n",
        "df_mass_raw"
      ],
      "execution_count": 77,
      "outputs": [
        {
          "output_type": "execute_result",
          "data": {
            "text/html": [
              "<div>\n",
              "<style scoped>\n",
              "    .dataframe tbody tr th:only-of-type {\n",
              "        vertical-align: middle;\n",
              "    }\n",
              "\n",
              "    .dataframe tbody tr th {\n",
              "        vertical-align: top;\n",
              "    }\n",
              "\n",
              "    .dataframe thead th {\n",
              "        text-align: right;\n",
              "    }\n",
              "</style>\n",
              "<table border=\"1\" class=\"dataframe\">\n",
              "  <thead>\n",
              "    <tr style=\"text-align: right;\">\n",
              "      <th></th>\n",
              "      <th>Date</th>\n",
              "      <th>Race/Ethnicity</th>\n",
              "      <th>All Cases</th>\n",
              "      <th>Ever Hospitaltized</th>\n",
              "      <th>Deaths</th>\n",
              "    </tr>\n",
              "  </thead>\n",
              "  <tbody>\n",
              "    <tr>\n",
              "      <th>0</th>\n",
              "      <td>4/6/2020</td>\n",
              "      <td>Non-Hispanic White</td>\n",
              "      <td>2120</td>\n",
              "      <td>320.0</td>\n",
              "      <td>55</td>\n",
              "    </tr>\n",
              "    <tr>\n",
              "      <th>1</th>\n",
              "      <td>4/6/2020</td>\n",
              "      <td>Non-Hispanic Black/African American</td>\n",
              "      <td>643</td>\n",
              "      <td>61.0</td>\n",
              "      <td>3</td>\n",
              "    </tr>\n",
              "    <tr>\n",
              "      <th>2</th>\n",
              "      <td>4/6/2020</td>\n",
              "      <td>Hispanic</td>\n",
              "      <td>857</td>\n",
              "      <td>80.0</td>\n",
              "      <td>6</td>\n",
              "    </tr>\n",
              "    <tr>\n",
              "      <th>3</th>\n",
              "      <td>4/6/2020</td>\n",
              "      <td>Non-Hispanic Asian</td>\n",
              "      <td>173</td>\n",
              "      <td>20.0</td>\n",
              "      <td>4</td>\n",
              "    </tr>\n",
              "    <tr>\n",
              "      <th>4</th>\n",
              "      <td>4/6/2020</td>\n",
              "      <td>Non-Hispanic Other</td>\n",
              "      <td>384</td>\n",
              "      <td>56.0</td>\n",
              "      <td>4</td>\n",
              "    </tr>\n",
              "    <tr>\n",
              "      <th>...</th>\n",
              "      <td>...</td>\n",
              "      <td>...</td>\n",
              "      <td>...</td>\n",
              "      <td>...</td>\n",
              "      <td>...</td>\n",
              "    </tr>\n",
              "    <tr>\n",
              "      <th>169</th>\n",
              "      <td>5/5/2020</td>\n",
              "      <td>Non-Hispanic Black/African American</td>\n",
              "      <td>5113</td>\n",
              "      <td>647.0</td>\n",
              "      <td>231</td>\n",
              "    </tr>\n",
              "    <tr>\n",
              "      <th>170</th>\n",
              "      <td>5/5/2020</td>\n",
              "      <td>Hispanic</td>\n",
              "      <td>8960</td>\n",
              "      <td>803.0</td>\n",
              "      <td>226</td>\n",
              "    </tr>\n",
              "    <tr>\n",
              "      <th>171</th>\n",
              "      <td>5/5/2020</td>\n",
              "      <td>Non-Hispanic Asian</td>\n",
              "      <td>1073</td>\n",
              "      <td>173.0</td>\n",
              "      <td>75</td>\n",
              "    </tr>\n",
              "    <tr>\n",
              "      <th>172</th>\n",
              "      <td>5/5/2020</td>\n",
              "      <td>Non-Hispanic Other</td>\n",
              "      <td>2474</td>\n",
              "      <td>340.0</td>\n",
              "      <td>129</td>\n",
              "    </tr>\n",
              "    <tr>\n",
              "      <th>173</th>\n",
              "      <td>5/5/2020</td>\n",
              "      <td>Unknown/Missing</td>\n",
              "      <td>36267</td>\n",
              "      <td>2420.0</td>\n",
              "      <td>1958</td>\n",
              "    </tr>\n",
              "  </tbody>\n",
              "</table>\n",
              "<p>174 rows × 5 columns</p>\n",
              "</div>"
            ],
            "text/plain": [
              "         Date                       Race/Ethnicity  ...  Ever Hospitaltized  Deaths\n",
              "0    4/6/2020                   Non-Hispanic White  ...               320.0      55\n",
              "1    4/6/2020  Non-Hispanic Black/African American  ...                61.0       3\n",
              "2    4/6/2020                             Hispanic  ...                80.0       6\n",
              "3    4/6/2020                   Non-Hispanic Asian  ...                20.0       4\n",
              "4    4/6/2020                   Non-Hispanic Other  ...                56.0       4\n",
              "..        ...                                  ...  ...                 ...     ...\n",
              "169  5/5/2020  Non-Hispanic Black/African American  ...               647.0     231\n",
              "170  5/5/2020                             Hispanic  ...               803.0     226\n",
              "171  5/5/2020                   Non-Hispanic Asian  ...               173.0      75\n",
              "172  5/5/2020                   Non-Hispanic Other  ...               340.0     129\n",
              "173  5/5/2020                      Unknown/Missing  ...              2420.0    1958\n",
              "\n",
              "[174 rows x 5 columns]"
            ]
          },
          "metadata": {
            "tags": []
          },
          "execution_count": 77
        }
      ]
    },
    {
      "cell_type": "code",
      "metadata": {
        "id": "E1sBDuC1AWji",
        "colab_type": "code",
        "outputId": "5b0c11ec-625a-4a3f-b913-64d727074fcc",
        "colab": {
          "base_uri": "https://localhost:8080/",
          "height": 204
        }
      },
      "source": [
        "aa_cnt = df_mass_raw[df_mass_raw['Race/Ethnicity'] == 'Non-Hispanic Black/African American']; aa_cnt.head()"
      ],
      "execution_count": 78,
      "outputs": [
        {
          "output_type": "execute_result",
          "data": {
            "text/html": [
              "<div>\n",
              "<style scoped>\n",
              "    .dataframe tbody tr th:only-of-type {\n",
              "        vertical-align: middle;\n",
              "    }\n",
              "\n",
              "    .dataframe tbody tr th {\n",
              "        vertical-align: top;\n",
              "    }\n",
              "\n",
              "    .dataframe thead th {\n",
              "        text-align: right;\n",
              "    }\n",
              "</style>\n",
              "<table border=\"1\" class=\"dataframe\">\n",
              "  <thead>\n",
              "    <tr style=\"text-align: right;\">\n",
              "      <th></th>\n",
              "      <th>Date</th>\n",
              "      <th>Race/Ethnicity</th>\n",
              "      <th>All Cases</th>\n",
              "      <th>Ever Hospitaltized</th>\n",
              "      <th>Deaths</th>\n",
              "    </tr>\n",
              "  </thead>\n",
              "  <tbody>\n",
              "    <tr>\n",
              "      <th>1</th>\n",
              "      <td>4/6/2020</td>\n",
              "      <td>Non-Hispanic Black/African American</td>\n",
              "      <td>643</td>\n",
              "      <td>61.0</td>\n",
              "      <td>3</td>\n",
              "    </tr>\n",
              "    <tr>\n",
              "      <th>8</th>\n",
              "      <td>4/8/2020</td>\n",
              "      <td>Non-Hispanic Black/African American</td>\n",
              "      <td>889</td>\n",
              "      <td>85.0</td>\n",
              "      <td>7</td>\n",
              "    </tr>\n",
              "    <tr>\n",
              "      <th>14</th>\n",
              "      <td>4/9/2020</td>\n",
              "      <td>Non-Hispanic Black/African American</td>\n",
              "      <td>992</td>\n",
              "      <td>100.0</td>\n",
              "      <td>11</td>\n",
              "    </tr>\n",
              "    <tr>\n",
              "      <th>20</th>\n",
              "      <td>4/10/2020</td>\n",
              "      <td>Non-Hispanic Black/African American</td>\n",
              "      <td>1151</td>\n",
              "      <td>NaN</td>\n",
              "      <td>15</td>\n",
              "    </tr>\n",
              "    <tr>\n",
              "      <th>26</th>\n",
              "      <td>4/11/2020</td>\n",
              "      <td>Non-Hispanic Black/African American</td>\n",
              "      <td>1254</td>\n",
              "      <td>NaN</td>\n",
              "      <td>17</td>\n",
              "    </tr>\n",
              "  </tbody>\n",
              "</table>\n",
              "</div>"
            ],
            "text/plain": [
              "         Date                       Race/Ethnicity  ...  Ever Hospitaltized  Deaths\n",
              "1    4/6/2020  Non-Hispanic Black/African American  ...                61.0       3\n",
              "8    4/8/2020  Non-Hispanic Black/African American  ...                85.0       7\n",
              "14   4/9/2020  Non-Hispanic Black/African American  ...               100.0      11\n",
              "20  4/10/2020  Non-Hispanic Black/African American  ...                 NaN      15\n",
              "26  4/11/2020  Non-Hispanic Black/African American  ...                 NaN      17\n",
              "\n",
              "[5 rows x 5 columns]"
            ]
          },
          "metadata": {
            "tags": []
          },
          "execution_count": 78
        }
      ]
    },
    {
      "cell_type": "code",
      "metadata": {
        "id": "Lxx5reIYAr9X",
        "colab_type": "code",
        "outputId": "eb6d5a3e-4f8b-415d-a631-b6f49c8bdc47",
        "colab": {
          "base_uri": "https://localhost:8080/",
          "height": 282
        }
      },
      "source": [
        "aa_cnt['All Cases'].plot()"
      ],
      "execution_count": 79,
      "outputs": [
        {
          "output_type": "execute_result",
          "data": {
            "text/plain": [
              "<matplotlib.axes._subplots.AxesSubplot at 0x7f2b6e0fc6d8>"
            ]
          },
          "metadata": {
            "tags": []
          },
          "execution_count": 79
        },
        {
          "output_type": "display_data",
          "data": {
            "image/png": "[encoded data removed]",
            "text/plain": [
              "<Figure size 432x288 with 1 Axes>"
            ]
          },
          "metadata": {
            "tags": [],
            "needs_background": "light"
          }
        }
      ]
    },
    {
      "cell_type": "code",
      "metadata": {
        "id": "ZcP0QDQTAwew",
        "colab_type": "code",
        "outputId": "8dd118c0-ee55-44c1-9a1a-f839b7dcacef",
        "colab": {
          "base_uri": "https://localhost:8080/",
          "height": 282
        }
      },
      "source": [
        "aa_cnt['Deaths'].plot()"
      ],
      "execution_count": 80,
      "outputs": [
        {
          "output_type": "execute_result",
          "data": {
            "text/plain": [
              "<matplotlib.axes._subplots.AxesSubplot at 0x7f2b6e0c7e48>"
            ]
          },
          "metadata": {
            "tags": []
          },
          "execution_count": 80
        },
        {
          "output_type": "display_data",
          "data": {
            "image/png": "[encoded data removed]",
            "text/plain": [
              "<Figure size 432x288 with 1 Axes>"
            ]
          },
          "metadata": {
            "tags": [],
            "needs_background": "light"
          }
        }
      ]
    },
    {
      "cell_type": "code",
      "metadata": {
        "id": "8LbWGVDF2gjD",
        "colab_type": "code",
        "outputId": "35ce4627-be69-4754-86ab-1c1bd94b6671",
        "colab": {
          "base_uri": "https://localhost:8080/",
          "height": 235
        }
      },
      "source": [
        "## Get only the most recent data published\n",
        "## TO DO: Convert date to string first before finding the max\n",
        "mass_max_date = max(df_mass_raw.Date); mass_max_date\n",
        "# mass_max_date = '4/9/2020' # Uncomment to verify that calculations as of D4BL's last refresh match these calculations \n",
        "\n",
        "df_mass = df_mass_raw[df_mass_raw.Date == mass_max_date]; df_mass"
      ],
      "execution_count": 81,
      "outputs": [
        {
          "output_type": "execute_result",
          "data": {
            "text/html": [
              "<div>\n",
              "<style scoped>\n",
              "    .dataframe tbody tr th:only-of-type {\n",
              "        vertical-align: middle;\n",
              "    }\n",
              "\n",
              "    .dataframe tbody tr th {\n",
              "        vertical-align: top;\n",
              "    }\n",
              "\n",
              "    .dataframe thead th {\n",
              "        text-align: right;\n",
              "    }\n",
              "</style>\n",
              "<table border=\"1\" class=\"dataframe\">\n",
              "  <thead>\n",
              "    <tr style=\"text-align: right;\">\n",
              "      <th></th>\n",
              "      <th>Date</th>\n",
              "      <th>Race/Ethnicity</th>\n",
              "      <th>All Cases</th>\n",
              "      <th>Ever Hospitaltized</th>\n",
              "      <th>Deaths</th>\n",
              "    </tr>\n",
              "  </thead>\n",
              "  <tbody>\n",
              "    <tr>\n",
              "      <th>168</th>\n",
              "      <td>5/5/2020</td>\n",
              "      <td>Non-Hispanic White</td>\n",
              "      <td>16384</td>\n",
              "      <td>2448.0</td>\n",
              "      <td>1593</td>\n",
              "    </tr>\n",
              "    <tr>\n",
              "      <th>169</th>\n",
              "      <td>5/5/2020</td>\n",
              "      <td>Non-Hispanic Black/African American</td>\n",
              "      <td>5113</td>\n",
              "      <td>647.0</td>\n",
              "      <td>231</td>\n",
              "    </tr>\n",
              "    <tr>\n",
              "      <th>170</th>\n",
              "      <td>5/5/2020</td>\n",
              "      <td>Hispanic</td>\n",
              "      <td>8960</td>\n",
              "      <td>803.0</td>\n",
              "      <td>226</td>\n",
              "    </tr>\n",
              "    <tr>\n",
              "      <th>171</th>\n",
              "      <td>5/5/2020</td>\n",
              "      <td>Non-Hispanic Asian</td>\n",
              "      <td>1073</td>\n",
              "      <td>173.0</td>\n",
              "      <td>75</td>\n",
              "    </tr>\n",
              "    <tr>\n",
              "      <th>172</th>\n",
              "      <td>5/5/2020</td>\n",
              "      <td>Non-Hispanic Other</td>\n",
              "      <td>2474</td>\n",
              "      <td>340.0</td>\n",
              "      <td>129</td>\n",
              "    </tr>\n",
              "    <tr>\n",
              "      <th>173</th>\n",
              "      <td>5/5/2020</td>\n",
              "      <td>Unknown/Missing</td>\n",
              "      <td>36267</td>\n",
              "      <td>2420.0</td>\n",
              "      <td>1958</td>\n",
              "    </tr>\n",
              "  </tbody>\n",
              "</table>\n",
              "</div>"
            ],
            "text/plain": [
              "         Date                       Race/Ethnicity  ...  Ever Hospitaltized  Deaths\n",
              "168  5/5/2020                   Non-Hispanic White  ...              2448.0    1593\n",
              "169  5/5/2020  Non-Hispanic Black/African American  ...               647.0     231\n",
              "170  5/5/2020                             Hispanic  ...               803.0     226\n",
              "171  5/5/2020                   Non-Hispanic Asian  ...               173.0      75\n",
              "172  5/5/2020                   Non-Hispanic Other  ...               340.0     129\n",
              "173  5/5/2020                      Unknown/Missing  ...              2420.0    1958\n",
              "\n",
              "[6 rows x 5 columns]"
            ]
          },
          "metadata": {
            "tags": []
          },
          "execution_count": 81
        }
      ]
    },
    {
      "cell_type": "code",
      "metadata": {
        "id": "Qi9-gp2c6Fbm",
        "colab_type": "code",
        "outputId": "cc242c27-9e55-40ca-f92a-2b4210924442",
        "colab": {
          "base_uri": "https://localhost:8080/",
          "height": 51
        }
      },
      "source": [
        "##### Intermediate calculations #####\n",
        "\n",
        "## total cases\n",
        "mass_total_cases = df_mass['All Cases'].sum()\n",
        "\n",
        "## total deaths\n",
        "mass_total_deaths = df_mass['Deaths'].sum()\n",
        "\n",
        "## AA cases\n",
        "mass_aa_cases = df_mass[df_mass['Race/Ethnicity'] == 'Non-Hispanic Black/African American']['All Cases'].tolist()[0]; mass_aa_cases \n",
        "mass_aa_cases_pct = round(100 * mass_aa_cases / mass_total_cases, 2); print(mass_aa_cases_pct)\n",
        "\n",
        "## AA deaths\n",
        "mass_aa_deaths = df_mass[df_mass['Race/Ethnicity'] == 'Non-Hispanic Black/African American']['Deaths'].tolist()[0]; mass_aa_deaths\n",
        "mass_aa_deaths_pct = round(100 * mass_aa_deaths / mass_total_deaths, 2); print(mass_aa_deaths_pct)\n"
      ],
      "execution_count": 82,
      "outputs": [
        {
          "output_type": "stream",
          "text": [
            "7.28\n",
            "5.48\n"
          ],
          "name": "stdout"
        }
      ]
    },
    {
      "cell_type": "code",
      "metadata": {
        "id": "S9GoJr-E2gl7",
        "colab_type": "code",
        "outputId": "f319edeb-397e-47c9-e097-af3fb253b300",
        "colab": {
          "base_uri": "https://localhost:8080/",
          "height": 272
        }
      },
      "source": [
        "output['Massachusetts'] = {\n",
        "    'Date Published': mass_max_date,\n",
        "    'Total Cases': mass_total_cases,\n",
        "    'Total Deaths': mass_total_deaths,\n",
        "    'Pct Cases Black/AA': mass_aa_cases_pct,\n",
        "    'Pct Deaths Black/AA': mass_aa_deaths_pct\n",
        "}\n",
        "\n",
        "output"
      ],
      "execution_count": 83,
      "outputs": [
        {
          "output_type": "execute_result",
          "data": {
            "text/plain": [
              "{'Massachusetts': {'Date Published': '5/5/2020',\n",
              "  'Pct Cases Black/AA': 7.28,\n",
              "  'Pct Deaths Black/AA': 5.48,\n",
              "  'Total Cases': 70271,\n",
              "  'Total Deaths': 4212},\n",
              " 'Virginia': {'Date Published': '5/5/2020',\n",
              "  'Pct Cases Black/AA': 17.74,\n",
              "  'Pct Deaths Black/AA': 23.0,\n",
              "  'Total Cases': 20256,\n",
              "  'Total Deaths': 713},\n",
              " 'Washington DC': {'Date Published': '5/3/2020',\n",
              "  'Pct Cases Black/AA': 46.67,\n",
              "  'Pct Deaths Black/AA': 78.88,\n",
              "  'Total Cases': 5016,\n",
              "  'Total Deaths': 251}}"
            ]
          },
          "metadata": {
            "tags": []
          },
          "execution_count": 83
        }
      ]
    },
    {
      "cell_type": "markdown",
      "metadata": {
        "id": "IqxF48xg8V4d",
        "colab_type": "text"
      },
      "source": [
        "## Virginia"
      ]
    },
    {
      "cell_type": "code",
      "metadata": {
        "id": "_bxd-IVN89MA",
        "colab_type": "code",
        "colab": {}
      },
      "source": [
        "## Navigate to Massachusetts data folder\n",
        "virginia_dir = os.path.join(home_dir, 'data', 'virginia')\n",
        "os.chdir(virginia_dir)"
      ],
      "execution_count": 0,
      "outputs": []
    },
    {
      "cell_type": "code",
      "metadata": {
        "id": "CDzBuBUk8awX",
        "colab_type": "code",
        "outputId": "0cfe521b-7550-4a8b-d72f-3094cad6b667",
        "colab": {
          "base_uri": "https://localhost:8080/",
          "height": 258
        }
      },
      "source": [
        "## Download the CSV for race\n",
        "!wget --no-check-certificate https://www.vdh.virginia.gov/content/uploads/sites/182/2020/03/VDH-COVID-19-PublicUseDataset-Cases_By-Race.csv"
      ],
      "execution_count": 18,
      "outputs": [
        {
          "output_type": "stream",
          "text": [
            "--2020-05-06 03:34:43--  https://www.vdh.virginia.gov/content/uploads/sites/182/2020/03/VDH-COVID-19-PublicUseDataset-Cases_By-Race.csv\n",
            "Resolving www.vdh.virginia.gov (www.vdh.virginia.gov)... 166.67.72.247\n",
            "Connecting to www.vdh.virginia.gov (www.vdh.virginia.gov)|166.67.72.247|:443... connected.\n",
            "WARNING: cannot verify www.vdh.virginia.gov's certificate, issued by ‘CN=Entrust Certification Authority - L1K,OU=(c) 2012 Entrust\\\\, Inc. - for authorized use only,OU=See www.entrust.net/legal-terms,O=Entrust\\\\, Inc.,C=US’:\n",
            "  Unable to locally verify the issuer's authority.\n",
            "HTTP request sent, awaiting response... 200 OK\n",
            "Length: 6112 (6.0K) [application/octet-stream]\n",
            "Saving to: ‘VDH-COVID-19-PublicUseDataset-Cases_By-Race.csv’\n",
            "\n",
            "\r          VDH-COVID   0%[                    ]       0  --.-KB/s               \rVDH-COVID-19-Public 100%[===================>]   5.97K  --.-KB/s    in 0s      \n",
            "\n",
            "2020-05-06 03:34:43 (451 MB/s) - ‘VDH-COVID-19-PublicUseDataset-Cases_By-Race.csv’ saved [6112/6112]\n",
            "\n"
          ],
          "name": "stdout"
        }
      ]
    },
    {
      "cell_type": "code",
      "metadata": {
        "id": "GPZwJ2qQ8bZM",
        "colab_type": "code",
        "outputId": "2e207605-ee2a-4eac-9fd3-768ad1426eb0",
        "colab": {
          "base_uri": "https://localhost:8080/",
          "height": 85
        }
      },
      "source": [
        "!ls -al"
      ],
      "execution_count": 19,
      "outputs": [
        {
          "output_type": "stream",
          "text": [
            "total 16\n",
            "drwxr-xr-x 2 root root 4096 May  6 03:34 .\n",
            "drwxr-xr-x 5 root root 4096 May  6 03:34 ..\n",
            "-rw-r--r-- 1 root root 6112 May  5 13:39 VDH-COVID-19-PublicUseDataset-Cases_By-Race.csv\n"
          ],
          "name": "stdout"
        }
      ]
    },
    {
      "cell_type": "code",
      "metadata": {
        "id": "dg0vf7gC8bb0",
        "colab_type": "code",
        "outputId": "0889bf6e-97bd-4cb4-8967-8ed85997447f",
        "colab": {
          "base_uri": "https://localhost:8080/",
          "height": 419
        }
      },
      "source": [
        "df_va_raw = pd.read_csv('VDH-COVID-19-PublicUseDataset-Cases_By-Race.csv')\n",
        "df_va_raw"
      ],
      "execution_count": 20,
      "outputs": [
        {
          "output_type": "execute_result",
          "data": {
            "text/html": [
              "<div>\n",
              "<style scoped>\n",
              "    .dataframe tbody tr th:only-of-type {\n",
              "        vertical-align: middle;\n",
              "    }\n",
              "\n",
              "    .dataframe tbody tr th {\n",
              "        vertical-align: top;\n",
              "    }\n",
              "\n",
              "    .dataframe thead th {\n",
              "        text-align: right;\n",
              "    }\n",
              "</style>\n",
              "<table border=\"1\" class=\"dataframe\">\n",
              "  <thead>\n",
              "    <tr style=\"text-align: right;\">\n",
              "      <th></th>\n",
              "      <th>Report Date</th>\n",
              "      <th>Health District</th>\n",
              "      <th>Race</th>\n",
              "      <th>Number of Cases</th>\n",
              "      <th>Number of Hospitalizations</th>\n",
              "      <th>Number of Deaths</th>\n",
              "    </tr>\n",
              "  </thead>\n",
              "  <tbody>\n",
              "    <tr>\n",
              "      <th>0</th>\n",
              "      <td>5/5/2020</td>\n",
              "      <td>Southside</td>\n",
              "      <td>Not Reported</td>\n",
              "      <td>61</td>\n",
              "      <td>9</td>\n",
              "      <td>2</td>\n",
              "    </tr>\n",
              "    <tr>\n",
              "      <th>1</th>\n",
              "      <td>5/5/2020</td>\n",
              "      <td>Chesapeake</td>\n",
              "      <td>White</td>\n",
              "      <td>106</td>\n",
              "      <td>23</td>\n",
              "      <td>1</td>\n",
              "    </tr>\n",
              "    <tr>\n",
              "      <th>2</th>\n",
              "      <td>5/5/2020</td>\n",
              "      <td>New River</td>\n",
              "      <td>Other</td>\n",
              "      <td>0</td>\n",
              "      <td>0</td>\n",
              "      <td>0</td>\n",
              "    </tr>\n",
              "    <tr>\n",
              "      <th>3</th>\n",
              "      <td>5/5/2020</td>\n",
              "      <td>Norfolk</td>\n",
              "      <td>Black or African American</td>\n",
              "      <td>150</td>\n",
              "      <td>29</td>\n",
              "      <td>2</td>\n",
              "    </tr>\n",
              "    <tr>\n",
              "      <th>4</th>\n",
              "      <td>5/5/2020</td>\n",
              "      <td>Central Shenandoah</td>\n",
              "      <td>Other</td>\n",
              "      <td>119</td>\n",
              "      <td>6</td>\n",
              "      <td>1</td>\n",
              "    </tr>\n",
              "    <tr>\n",
              "      <th>...</th>\n",
              "      <td>...</td>\n",
              "      <td>...</td>\n",
              "      <td>...</td>\n",
              "      <td>...</td>\n",
              "      <td>...</td>\n",
              "      <td>...</td>\n",
              "    </tr>\n",
              "    <tr>\n",
              "      <th>135</th>\n",
              "      <td>5/5/2020</td>\n",
              "      <td>Alexandria</td>\n",
              "      <td>Other</td>\n",
              "      <td>160</td>\n",
              "      <td>24</td>\n",
              "      <td>1</td>\n",
              "    </tr>\n",
              "    <tr>\n",
              "      <th>136</th>\n",
              "      <td>5/5/2020</td>\n",
              "      <td>Chesterfield</td>\n",
              "      <td>Black or African American</td>\n",
              "      <td>174</td>\n",
              "      <td>30</td>\n",
              "      <td>7</td>\n",
              "    </tr>\n",
              "    <tr>\n",
              "      <th>137</th>\n",
              "      <td>5/5/2020</td>\n",
              "      <td>Roanoke</td>\n",
              "      <td>Not Reported</td>\n",
              "      <td>19</td>\n",
              "      <td>0</td>\n",
              "      <td>0</td>\n",
              "    </tr>\n",
              "    <tr>\n",
              "      <th>138</th>\n",
              "      <td>5/5/2020</td>\n",
              "      <td>Rappahannock</td>\n",
              "      <td>Black or African American</td>\n",
              "      <td>82</td>\n",
              "      <td>17</td>\n",
              "      <td>2</td>\n",
              "    </tr>\n",
              "    <tr>\n",
              "      <th>139</th>\n",
              "      <td>5/5/2020</td>\n",
              "      <td>Lord Fairfax</td>\n",
              "      <td>White</td>\n",
              "      <td>403</td>\n",
              "      <td>36</td>\n",
              "      <td>9</td>\n",
              "    </tr>\n",
              "  </tbody>\n",
              "</table>\n",
              "<p>140 rows × 6 columns</p>\n",
              "</div>"
            ],
            "text/plain": [
              "    Report Date  ... Number of Deaths\n",
              "0      5/5/2020  ...                2\n",
              "1      5/5/2020  ...                1\n",
              "2      5/5/2020  ...                0\n",
              "3      5/5/2020  ...                2\n",
              "4      5/5/2020  ...                1\n",
              "..          ...  ...              ...\n",
              "135    5/5/2020  ...                1\n",
              "136    5/5/2020  ...                7\n",
              "137    5/5/2020  ...                0\n",
              "138    5/5/2020  ...                2\n",
              "139    5/5/2020  ...                9\n",
              "\n",
              "[140 rows x 6 columns]"
            ]
          },
          "metadata": {
            "tags": []
          },
          "execution_count": 20
        }
      ]
    },
    {
      "cell_type": "code",
      "metadata": {
        "id": "UIWfscdFA-qd",
        "colab_type": "code",
        "outputId": "19fc4baa-cc93-439b-d5bb-c1b51bd1bd5b",
        "colab": {
          "base_uri": "https://localhost:8080/",
          "height": 111
        }
      },
      "source": [
        "va_aa = df_va_raw[df_va_raw['Race'] == 'Black or African American'].groupby('Report Date').sum(); va_aa"
      ],
      "execution_count": 21,
      "outputs": [
        {
          "output_type": "execute_result",
          "data": {
            "text/html": [
              "<div>\n",
              "<style scoped>\n",
              "    .dataframe tbody tr th:only-of-type {\n",
              "        vertical-align: middle;\n",
              "    }\n",
              "\n",
              "    .dataframe tbody tr th {\n",
              "        vertical-align: top;\n",
              "    }\n",
              "\n",
              "    .dataframe thead th {\n",
              "        text-align: right;\n",
              "    }\n",
              "</style>\n",
              "<table border=\"1\" class=\"dataframe\">\n",
              "  <thead>\n",
              "    <tr style=\"text-align: right;\">\n",
              "      <th></th>\n",
              "      <th>Number of Cases</th>\n",
              "      <th>Number of Hospitalizations</th>\n",
              "      <th>Number of Deaths</th>\n",
              "    </tr>\n",
              "    <tr>\n",
              "      <th>Report Date</th>\n",
              "      <th></th>\n",
              "      <th></th>\n",
              "      <th></th>\n",
              "    </tr>\n",
              "  </thead>\n",
              "  <tbody>\n",
              "    <tr>\n",
              "      <th>5/5/2020</th>\n",
              "      <td>3593</td>\n",
              "      <td>724</td>\n",
              "      <td>164</td>\n",
              "    </tr>\n",
              "  </tbody>\n",
              "</table>\n",
              "</div>"
            ],
            "text/plain": [
              "             Number of Cases  Number of Hospitalizations  Number of Deaths\n",
              "Report Date                                                               \n",
              "5/5/2020                3593                         724               164"
            ]
          },
          "metadata": {
            "tags": []
          },
          "execution_count": 21
        }
      ]
    },
    {
      "cell_type": "code",
      "metadata": {
        "id": "VVDFlvzG8bej",
        "colab_type": "code",
        "outputId": "a4c5acf2-4590-4083-adcf-4d129f5e0380",
        "colab": {
          "base_uri": "https://localhost:8080/",
          "height": 204
        }
      },
      "source": [
        "## Get only the most recent data published\n",
        "## TO DO: Convert date to string first before finding the max\n",
        "va_max_date = max(df_va_raw['Report Date']); va_max_date\n",
        "\n",
        "# Not needed since all data is cumulative as of a single report date\n",
        "#df_va = df_va_raw[df_va_raw['Report Date'] == va_max_date]; df_va\n",
        "\n",
        "## Roll up to race\n",
        "df_va = df_va_raw.groupby('Race').sum(); df_va"
      ],
      "execution_count": 22,
      "outputs": [
        {
          "output_type": "execute_result",
          "data": {
            "text/html": [
              "<div>\n",
              "<style scoped>\n",
              "    .dataframe tbody tr th:only-of-type {\n",
              "        vertical-align: middle;\n",
              "    }\n",
              "\n",
              "    .dataframe tbody tr th {\n",
              "        vertical-align: top;\n",
              "    }\n",
              "\n",
              "    .dataframe thead th {\n",
              "        text-align: right;\n",
              "    }\n",
              "</style>\n",
              "<table border=\"1\" class=\"dataframe\">\n",
              "  <thead>\n",
              "    <tr style=\"text-align: right;\">\n",
              "      <th></th>\n",
              "      <th>Number of Cases</th>\n",
              "      <th>Number of Hospitalizations</th>\n",
              "      <th>Number of Deaths</th>\n",
              "    </tr>\n",
              "    <tr>\n",
              "      <th>Race</th>\n",
              "      <th></th>\n",
              "      <th></th>\n",
              "      <th></th>\n",
              "    </tr>\n",
              "  </thead>\n",
              "  <tbody>\n",
              "    <tr>\n",
              "      <th>Black or African American</th>\n",
              "      <td>3593</td>\n",
              "      <td>724</td>\n",
              "      <td>164</td>\n",
              "    </tr>\n",
              "    <tr>\n",
              "      <th>Not Reported</th>\n",
              "      <td>6185</td>\n",
              "      <td>261</td>\n",
              "      <td>103</td>\n",
              "    </tr>\n",
              "    <tr>\n",
              "      <th>Other</th>\n",
              "      <td>3544</td>\n",
              "      <td>637</td>\n",
              "      <td>69</td>\n",
              "    </tr>\n",
              "    <tr>\n",
              "      <th>White</th>\n",
              "      <td>6934</td>\n",
              "      <td>1151</td>\n",
              "      <td>377</td>\n",
              "    </tr>\n",
              "  </tbody>\n",
              "</table>\n",
              "</div>"
            ],
            "text/plain": [
              "                           Number of Cases  ...  Number of Deaths\n",
              "Race                                        ...                  \n",
              "Black or African American             3593  ...               164\n",
              "Not Reported                          6185  ...               103\n",
              "Other                                 3544  ...                69\n",
              "White                                 6934  ...               377\n",
              "\n",
              "[4 rows x 3 columns]"
            ]
          },
          "metadata": {
            "tags": []
          },
          "execution_count": 22
        }
      ]
    },
    {
      "cell_type": "code",
      "metadata": {
        "colab_type": "code",
        "outputId": "0815d965-474a-45a7-9936-90b6e4cd5674",
        "id": "ie7GowiaB_Ui",
        "colab": {
          "base_uri": "https://localhost:8080/",
          "height": 85
        }
      },
      "source": [
        "##### Intermediate calculations #####\n",
        "\n",
        "## total cases\n",
        "va_total_cases = df_va['Number of Cases'].sum(); print(va_total_cases)\n",
        "\n",
        "## total deaths\n",
        "va_total_deaths = df_va['Number of Deaths'].sum(); print(va_total_deaths)\n",
        "\n",
        "## AA cases\n",
        "va_aa_cases = df_va.loc['Black or African American',:]['Number of Cases']; va_aa_cases \n",
        "va_aa_cases_pct = round(100 * va_aa_cases / va_total_cases, 2); print(va_aa_cases_pct)\n",
        "\n",
        "## AA deaths\n",
        "va_aa_deaths = df_va.loc['Black or African American',:]['Number of Deaths']; va_aa_deaths\n",
        "va_aa_deaths_pct = round(100 * va_aa_deaths / va_total_deaths, 2); print(va_aa_deaths_pct)\n"
      ],
      "execution_count": 23,
      "outputs": [
        {
          "output_type": "stream",
          "text": [
            "20256\n",
            "713\n",
            "17.74\n",
            "23.0\n"
          ],
          "name": "stdout"
        }
      ]
    },
    {
      "cell_type": "code",
      "metadata": {
        "colab_type": "code",
        "outputId": "ed970f44-4a6e-42a9-d645-d40e07c4d03d",
        "id": "8iq7MGvvB_Uo",
        "colab": {
          "base_uri": "https://localhost:8080/",
          "height": 187
        }
      },
      "source": [
        "output['Virginia'] = {\n",
        "    'Date Published': va_max_date,\n",
        "    'Total Cases': va_total_cases,\n",
        "    'Total Deaths': va_total_deaths,\n",
        "    'Pct Cases Black/AA': va_aa_cases_pct,\n",
        "    'Pct Deaths Black/AA': va_aa_deaths_pct\n",
        "}\n",
        "\n",
        "output"
      ],
      "execution_count": 24,
      "outputs": [
        {
          "output_type": "execute_result",
          "data": {
            "text/plain": [
              "{'Massachusetts': {'Date Published': '5/3/2020',\n",
              "  'Pct Cases Black/AA': 7.16,\n",
              "  'Pct Deaths Black/AA': 5.39,\n",
              "  'Total Cases': 68087,\n",
              "  'Total Deaths': 4004},\n",
              " 'Virginia': {'Date Published': '5/5/2020',\n",
              "  'Pct Cases Black/AA': 17.74,\n",
              "  'Pct Deaths Black/AA': 23.0,\n",
              "  'Total Cases': 20256,\n",
              "  'Total Deaths': 713}}"
            ]
          },
          "metadata": {
            "tags": []
          },
          "execution_count": 24
        }
      ]
    },
    {
      "cell_type": "code",
      "metadata": {
        "id": "xqcfrJCA8bkP",
        "colab_type": "code",
        "outputId": "ea511aee-7031-4259-9ca1-7117970420bf",
        "colab": {
          "base_uri": "https://localhost:8080/",
          "height": 111
        }
      },
      "source": [
        "pd.DataFrame(output).T"
      ],
      "execution_count": 25,
      "outputs": [
        {
          "output_type": "execute_result",
          "data": {
            "text/html": [
              "<div>\n",
              "<style scoped>\n",
              "    .dataframe tbody tr th:only-of-type {\n",
              "        vertical-align: middle;\n",
              "    }\n",
              "\n",
              "    .dataframe tbody tr th {\n",
              "        vertical-align: top;\n",
              "    }\n",
              "\n",
              "    .dataframe thead th {\n",
              "        text-align: right;\n",
              "    }\n",
              "</style>\n",
              "<table border=\"1\" class=\"dataframe\">\n",
              "  <thead>\n",
              "    <tr style=\"text-align: right;\">\n",
              "      <th></th>\n",
              "      <th>Date Published</th>\n",
              "      <th>Total Cases</th>\n",
              "      <th>Total Deaths</th>\n",
              "      <th>Pct Cases Black/AA</th>\n",
              "      <th>Pct Deaths Black/AA</th>\n",
              "    </tr>\n",
              "  </thead>\n",
              "  <tbody>\n",
              "    <tr>\n",
              "      <th>Massachusetts</th>\n",
              "      <td>5/3/2020</td>\n",
              "      <td>68087</td>\n",
              "      <td>4004</td>\n",
              "      <td>7.16</td>\n",
              "      <td>5.39</td>\n",
              "    </tr>\n",
              "    <tr>\n",
              "      <th>Virginia</th>\n",
              "      <td>5/5/2020</td>\n",
              "      <td>20256</td>\n",
              "      <td>713</td>\n",
              "      <td>17.74</td>\n",
              "      <td>23</td>\n",
              "    </tr>\n",
              "  </tbody>\n",
              "</table>\n",
              "</div>"
            ],
            "text/plain": [
              "              Date Published Total Cases  ... Pct Cases Black/AA Pct Deaths Black/AA\n",
              "Massachusetts       5/3/2020       68087  ...               7.16                5.39\n",
              "Virginia            5/5/2020       20256  ...              17.74                  23\n",
              "\n",
              "[2 rows x 5 columns]"
            ]
          },
          "metadata": {
            "tags": []
          },
          "execution_count": 25
        }
      ]
    },
    {
      "cell_type": "markdown",
      "metadata": {
        "id": "B3Rnxk3b8cDC",
        "colab_type": "text"
      },
      "source": [
        "## Washington DC"
      ]
    },
    {
      "cell_type": "code",
      "metadata": {
        "id": "WxeV-50SG0JX",
        "colab_type": "code",
        "colab": {}
      },
      "source": [
        "## Navigate to Washington, DC data folder\n",
        "dc_dir = os.path.join(home_dir, 'data', 'dc')\n",
        "os.chdir(dc_dir)"
      ],
      "execution_count": 0,
      "outputs": []
    },
    {
      "cell_type": "code",
      "metadata": {
        "id": "69y7RPS08ecv",
        "colab_type": "code",
        "outputId": "be3fc634-7449-4f1c-f14c-0b7d97f49da3",
        "colab": {
          "base_uri": "https://localhost:8080/",
          "height": 224
        }
      },
      "source": [
        "## Download the Excel worksheet for COVID cases/deaths by race\n",
        "!wget -O dc_data.xlsx https://coronavirus.dc.gov/sites/default/files/dc/sites/coronavirus/page_content/attachments/DC%20COVID-19%20Data%20for%20May%202%202020_0.xlsx"
      ],
      "execution_count": 27,
      "outputs": [
        {
          "output_type": "stream",
          "text": [
            "--2020-05-06 03:34:47--  https://coronavirus.dc.gov/sites/default/files/dc/sites/coronavirus/page_content/attachments/DC%20COVID-19%20Data%20for%20May%202%202020_0.xlsx\n",
            "Resolving coronavirus.dc.gov (coronavirus.dc.gov)... 104.16.168.252, 104.16.169.252, 2606:4700::6810:a9fc, ...\n",
            "Connecting to coronavirus.dc.gov (coronavirus.dc.gov)|104.16.168.252|:443... connected.\n",
            "HTTP request sent, awaiting response... 200 OK\n",
            "Length: 41264 (40K) [application/vnd.openxmlformats-officedocument.spreadsheetml.sheet]\n",
            "Saving to: ‘dc_data.xlsx’\n",
            "\n",
            "dc_data.xlsx        100%[===================>]  40.30K  --.-KB/s    in 0.001s  \n",
            "\n",
            "2020-05-06 03:34:48 (42.4 MB/s) - ‘dc_data.xlsx’ saved [41264/41264]\n",
            "\n"
          ],
          "name": "stdout"
        }
      ]
    },
    {
      "cell_type": "code",
      "metadata": {
        "id": "yBU-poSY8fBE",
        "colab_type": "code",
        "outputId": "c9ebc02e-50f4-4ad5-e920-bd7aa1fab855",
        "colab": {
          "base_uri": "https://localhost:8080/",
          "height": 85
        }
      },
      "source": [
        "!ls -al"
      ],
      "execution_count": 28,
      "outputs": [
        {
          "output_type": "stream",
          "text": [
            "total 52\n",
            "drwxr-xr-x 2 root root  4096 May  6 03:34 .\n",
            "drwxr-xr-x 5 root root  4096 May  6 03:34 ..\n",
            "-rw-r--r-- 1 root root 41264 May  3 18:26 dc_data.xlsx\n"
          ],
          "name": "stdout"
        }
      ]
    },
    {
      "cell_type": "code",
      "metadata": {
        "id": "xjvnZ48oLby6",
        "colab_type": "code",
        "outputId": "9decfa7e-3a31-440e-ece0-65cfd2c79b7a",
        "colab": {
          "base_uri": "https://localhost:8080/",
          "height": 1000
        }
      },
      "source": [
        "df_dc_cases_raw = pd.read_excel('dc_data.xlsx', sheet_name = 'Total Cases by Race', skiprows=[0]).\\\n",
        "T.drop(columns=[0])\n",
        "\n",
        "df_dc_cases_raw.columns = df_dc_cases_raw.loc['Unnamed: 0'].tolist()\n",
        "df_dc_cases_raw = df_dc_cases_raw.drop(index=['Unnamed: 0'])\n",
        "df_dc_cases_raw = df_dc_cases_raw.reset_index()\n",
        "\n",
        "df_dc_cases_raw"
      ],
      "execution_count": 29,
      "outputs": [
        {
          "output_type": "execute_result",
          "data": {
            "text/html": [
              "<div>\n",
              "<style scoped>\n",
              "    .dataframe tbody tr th:only-of-type {\n",
              "        vertical-align: middle;\n",
              "    }\n",
              "\n",
              "    .dataframe tbody tr th {\n",
              "        vertical-align: top;\n",
              "    }\n",
              "\n",
              "    .dataframe thead th {\n",
              "        text-align: right;\n",
              "    }\n",
              "</style>\n",
              "<table border=\"1\" class=\"dataframe\">\n",
              "  <thead>\n",
              "    <tr style=\"text-align: right;\">\n",
              "      <th></th>\n",
              "      <th>index</th>\n",
              "      <th>All</th>\n",
              "      <th>Unknown</th>\n",
              "      <th>White</th>\n",
              "      <th>Black/African American</th>\n",
              "      <th>Asian</th>\n",
              "      <th>American Indian/Alaska Native</th>\n",
              "      <th>Native Hawaiin Pacific Islander</th>\n",
              "      <th>Other/Multi-Racial</th>\n",
              "      <th>Refused During Interview</th>\n",
              "      <th>Ethnicity</th>\n",
              "      <th>Unknown</th>\n",
              "      <th>Hispanic or Latino</th>\n",
              "      <th>NOT Hispanic or Latino</th>\n",
              "      <th>Refused During Interview</th>\n",
              "    </tr>\n",
              "  </thead>\n",
              "  <tbody>\n",
              "    <tr>\n",
              "      <th>0</th>\n",
              "      <td>2020-04-05</td>\n",
              "      <td>1097</td>\n",
              "      <td>349</td>\n",
              "      <td>135</td>\n",
              "      <td>303</td>\n",
              "      <td>12</td>\n",
              "      <td>1</td>\n",
              "      <td>NaN</td>\n",
              "      <td>78</td>\n",
              "      <td>9</td>\n",
              "      <td>NaN</td>\n",
              "      <td>341</td>\n",
              "      <td>98</td>\n",
              "      <td>517</td>\n",
              "      <td>2</td>\n",
              "    </tr>\n",
              "    <tr>\n",
              "      <th>1</th>\n",
              "      <td>2020-04-06</td>\n",
              "      <td>1211</td>\n",
              "      <td>596</td>\n",
              "      <td>154</td>\n",
              "      <td>353</td>\n",
              "      <td>14</td>\n",
              "      <td>4</td>\n",
              "      <td>NaN</td>\n",
              "      <td>80</td>\n",
              "      <td>10</td>\n",
              "      <td>NaN</td>\n",
              "      <td>520</td>\n",
              "      <td>107</td>\n",
              "      <td>580</td>\n",
              "      <td>4</td>\n",
              "    </tr>\n",
              "    <tr>\n",
              "      <th>2</th>\n",
              "      <td>2020-04-07</td>\n",
              "      <td>1440</td>\n",
              "      <td>604</td>\n",
              "      <td>218</td>\n",
              "      <td>460</td>\n",
              "      <td>18</td>\n",
              "      <td>5</td>\n",
              "      <td>1</td>\n",
              "      <td>1</td>\n",
              "      <td>11</td>\n",
              "      <td>NaN</td>\n",
              "      <td>585</td>\n",
              "      <td>154</td>\n",
              "      <td>696</td>\n",
              "      <td>5</td>\n",
              "    </tr>\n",
              "    <tr>\n",
              "      <th>3</th>\n",
              "      <td>2020-04-08</td>\n",
              "      <td>1523</td>\n",
              "      <td>536</td>\n",
              "      <td>253</td>\n",
              "      <td>542</td>\n",
              "      <td>20</td>\n",
              "      <td>6</td>\n",
              "      <td>1</td>\n",
              "      <td>153</td>\n",
              "      <td>12</td>\n",
              "      <td>NaN</td>\n",
              "      <td>550</td>\n",
              "      <td>169</td>\n",
              "      <td>799</td>\n",
              "      <td>5</td>\n",
              "    </tr>\n",
              "    <tr>\n",
              "      <th>4</th>\n",
              "      <td>2020-04-09</td>\n",
              "      <td>1660</td>\n",
              "      <td>516</td>\n",
              "      <td>281</td>\n",
              "      <td>642</td>\n",
              "      <td>21</td>\n",
              "      <td>6</td>\n",
              "      <td>1</td>\n",
              "      <td>179</td>\n",
              "      <td>14</td>\n",
              "      <td>NaN</td>\n",
              "      <td>564</td>\n",
              "      <td>188</td>\n",
              "      <td>903</td>\n",
              "      <td>5</td>\n",
              "    </tr>\n",
              "    <tr>\n",
              "      <th>5</th>\n",
              "      <td>2020-04-10</td>\n",
              "      <td>1778</td>\n",
              "      <td>355</td>\n",
              "      <td>339</td>\n",
              "      <td>812</td>\n",
              "      <td>24</td>\n",
              "      <td>6</td>\n",
              "      <td>1</td>\n",
              "      <td>226</td>\n",
              "      <td>15</td>\n",
              "      <td>NaN</td>\n",
              "      <td>443</td>\n",
              "      <td>227</td>\n",
              "      <td>1104</td>\n",
              "      <td>4</td>\n",
              "    </tr>\n",
              "    <tr>\n",
              "      <th>6</th>\n",
              "      <td>2020-04-11</td>\n",
              "      <td>1875</td>\n",
              "      <td>379</td>\n",
              "      <td>354</td>\n",
              "      <td>852</td>\n",
              "      <td>26</td>\n",
              "      <td>6</td>\n",
              "      <td>1</td>\n",
              "      <td>242</td>\n",
              "      <td>15</td>\n",
              "      <td>NaN</td>\n",
              "      <td>483</td>\n",
              "      <td>241</td>\n",
              "      <td>1146</td>\n",
              "      <td>5</td>\n",
              "    </tr>\n",
              "    <tr>\n",
              "      <th>7</th>\n",
              "      <td>2020-04-12</td>\n",
              "      <td>1955</td>\n",
              "      <td>391</td>\n",
              "      <td>365</td>\n",
              "      <td>884</td>\n",
              "      <td>29</td>\n",
              "      <td>6</td>\n",
              "      <td>1</td>\n",
              "      <td>256</td>\n",
              "      <td>23</td>\n",
              "      <td>NaN</td>\n",
              "      <td>496</td>\n",
              "      <td>263</td>\n",
              "      <td>1191</td>\n",
              "      <td>5</td>\n",
              "    </tr>\n",
              "    <tr>\n",
              "      <th>8</th>\n",
              "      <td>2020-04-13</td>\n",
              "      <td>2058</td>\n",
              "      <td>400</td>\n",
              "      <td>388</td>\n",
              "      <td>932</td>\n",
              "      <td>30</td>\n",
              "      <td>6</td>\n",
              "      <td>1</td>\n",
              "      <td>275</td>\n",
              "      <td>26</td>\n",
              "      <td>NaN</td>\n",
              "      <td>501</td>\n",
              "      <td>299</td>\n",
              "      <td>1252</td>\n",
              "      <td>6</td>\n",
              "    </tr>\n",
              "    <tr>\n",
              "      <th>9</th>\n",
              "      <td>2020-04-14</td>\n",
              "      <td>2197</td>\n",
              "      <td>410</td>\n",
              "      <td>411</td>\n",
              "      <td>1009</td>\n",
              "      <td>31</td>\n",
              "      <td>7</td>\n",
              "      <td>2</td>\n",
              "      <td>300</td>\n",
              "      <td>27</td>\n",
              "      <td>NaN</td>\n",
              "      <td>527</td>\n",
              "      <td>324</td>\n",
              "      <td>1340</td>\n",
              "      <td>6</td>\n",
              "    </tr>\n",
              "    <tr>\n",
              "      <th>10</th>\n",
              "      <td>2020-04-15</td>\n",
              "      <td>2350</td>\n",
              "      <td>404</td>\n",
              "      <td>439</td>\n",
              "      <td>1089</td>\n",
              "      <td>35</td>\n",
              "      <td>7</td>\n",
              "      <td>4</td>\n",
              "      <td>345</td>\n",
              "      <td>27</td>\n",
              "      <td>NaN</td>\n",
              "      <td>539</td>\n",
              "      <td>361</td>\n",
              "      <td>1445</td>\n",
              "      <td>5</td>\n",
              "    </tr>\n",
              "    <tr>\n",
              "      <th>11</th>\n",
              "      <td>2020-04-16</td>\n",
              "      <td>2476</td>\n",
              "      <td>383</td>\n",
              "      <td>461</td>\n",
              "      <td>1171</td>\n",
              "      <td>36</td>\n",
              "      <td>7</td>\n",
              "      <td>4</td>\n",
              "      <td>386</td>\n",
              "      <td>28</td>\n",
              "      <td>NaN</td>\n",
              "      <td>544</td>\n",
              "      <td>403</td>\n",
              "      <td>1522</td>\n",
              "      <td>7</td>\n",
              "    </tr>\n",
              "    <tr>\n",
              "      <th>12</th>\n",
              "      <td>2020-04-17</td>\n",
              "      <td>2666</td>\n",
              "      <td>413</td>\n",
              "      <td>473</td>\n",
              "      <td>1271</td>\n",
              "      <td>38</td>\n",
              "      <td>8</td>\n",
              "      <td>5</td>\n",
              "      <td>431</td>\n",
              "      <td>27</td>\n",
              "      <td>NaN</td>\n",
              "      <td>607</td>\n",
              "      <td>439</td>\n",
              "      <td>1613</td>\n",
              "      <td>7</td>\n",
              "    </tr>\n",
              "    <tr>\n",
              "      <th>13</th>\n",
              "      <td>2020-04-18</td>\n",
              "      <td>2793</td>\n",
              "      <td>358</td>\n",
              "      <td>548</td>\n",
              "      <td>1403</td>\n",
              "      <td>51</td>\n",
              "      <td>12</td>\n",
              "      <td>6</td>\n",
              "      <td>390</td>\n",
              "      <td>25</td>\n",
              "      <td>NaN</td>\n",
              "      <td>500</td>\n",
              "      <td>494</td>\n",
              "      <td>1783</td>\n",
              "      <td>16</td>\n",
              "    </tr>\n",
              "    <tr>\n",
              "      <th>14</th>\n",
              "      <td>2020-04-19</td>\n",
              "      <td>2927</td>\n",
              "      <td>406</td>\n",
              "      <td>553</td>\n",
              "      <td>1458</td>\n",
              "      <td>52</td>\n",
              "      <td>12</td>\n",
              "      <td>6</td>\n",
              "      <td>415</td>\n",
              "      <td>25</td>\n",
              "      <td>NaN</td>\n",
              "      <td>563</td>\n",
              "      <td>516</td>\n",
              "      <td>1832</td>\n",
              "      <td>16</td>\n",
              "    </tr>\n",
              "    <tr>\n",
              "      <th>15</th>\n",
              "      <td>2020-04-20</td>\n",
              "      <td>3098</td>\n",
              "      <td>470</td>\n",
              "      <td>565</td>\n",
              "      <td>1517</td>\n",
              "      <td>54</td>\n",
              "      <td>12</td>\n",
              "      <td>6</td>\n",
              "      <td>450</td>\n",
              "      <td>24</td>\n",
              "      <td>NaN</td>\n",
              "      <td>615</td>\n",
              "      <td>555</td>\n",
              "      <td>1914</td>\n",
              "      <td>14</td>\n",
              "    </tr>\n",
              "    <tr>\n",
              "      <th>16</th>\n",
              "      <td>2020-04-21</td>\n",
              "      <td>3206</td>\n",
              "      <td>443</td>\n",
              "      <td>587</td>\n",
              "      <td>1595</td>\n",
              "      <td>57</td>\n",
              "      <td>11</td>\n",
              "      <td>7</td>\n",
              "      <td>481</td>\n",
              "      <td>25</td>\n",
              "      <td>NaN</td>\n",
              "      <td>601</td>\n",
              "      <td>589</td>\n",
              "      <td>2002</td>\n",
              "      <td>14</td>\n",
              "    </tr>\n",
              "    <tr>\n",
              "      <th>17</th>\n",
              "      <td>2020-04-22</td>\n",
              "      <td>3361</td>\n",
              "      <td>479</td>\n",
              "      <td>603</td>\n",
              "      <td>1670</td>\n",
              "      <td>58</td>\n",
              "      <td>12</td>\n",
              "      <td>7</td>\n",
              "      <td>508</td>\n",
              "      <td>24</td>\n",
              "      <td>NaN</td>\n",
              "      <td>663</td>\n",
              "      <td>610</td>\n",
              "      <td>2074</td>\n",
              "      <td>14</td>\n",
              "    </tr>\n",
              "    <tr>\n",
              "      <th>18</th>\n",
              "      <td>2020-04-23</td>\n",
              "      <td>3528</td>\n",
              "      <td>490</td>\n",
              "      <td>635</td>\n",
              "      <td>1762</td>\n",
              "      <td>60</td>\n",
              "      <td>12</td>\n",
              "      <td>7</td>\n",
              "      <td>538</td>\n",
              "      <td>24</td>\n",
              "      <td>NaN</td>\n",
              "      <td>705</td>\n",
              "      <td>636</td>\n",
              "      <td>2173</td>\n",
              "      <td>14</td>\n",
              "    </tr>\n",
              "    <tr>\n",
              "      <th>19</th>\n",
              "      <td>2020-04-24</td>\n",
              "      <td>3699</td>\n",
              "      <td>494</td>\n",
              "      <td>653</td>\n",
              "      <td>1846</td>\n",
              "      <td>63</td>\n",
              "      <td>12</td>\n",
              "      <td>7</td>\n",
              "      <td>599</td>\n",
              "      <td>25</td>\n",
              "      <td>NaN</td>\n",
              "      <td>744</td>\n",
              "      <td>678</td>\n",
              "      <td>2263</td>\n",
              "      <td>14</td>\n",
              "    </tr>\n",
              "    <tr>\n",
              "      <th>20</th>\n",
              "      <td>2020-04-25</td>\n",
              "      <td>3841</td>\n",
              "      <td>527</td>\n",
              "      <td>665</td>\n",
              "      <td>1891</td>\n",
              "      <td>63</td>\n",
              "      <td>11</td>\n",
              "      <td>8</td>\n",
              "      <td>652</td>\n",
              "      <td>24</td>\n",
              "      <td>NaN</td>\n",
              "      <td>799</td>\n",
              "      <td>708</td>\n",
              "      <td>2320</td>\n",
              "      <td>14</td>\n",
              "    </tr>\n",
              "    <tr>\n",
              "      <th>21</th>\n",
              "      <td>2020-04-26</td>\n",
              "      <td>3892</td>\n",
              "      <td>517</td>\n",
              "      <td>670</td>\n",
              "      <td>1919</td>\n",
              "      <td>62</td>\n",
              "      <td>11</td>\n",
              "      <td>8</td>\n",
              "      <td>680</td>\n",
              "      <td>25</td>\n",
              "      <td>NaN</td>\n",
              "      <td>802</td>\n",
              "      <td>730</td>\n",
              "      <td>2345</td>\n",
              "      <td>15</td>\n",
              "    </tr>\n",
              "    <tr>\n",
              "      <th>22</th>\n",
              "      <td>2020-04-27</td>\n",
              "      <td>3994</td>\n",
              "      <td>503</td>\n",
              "      <td>690</td>\n",
              "      <td>1978</td>\n",
              "      <td>62</td>\n",
              "      <td>11</td>\n",
              "      <td>8</td>\n",
              "      <td>717</td>\n",
              "      <td>25</td>\n",
              "      <td>NaN</td>\n",
              "      <td>806</td>\n",
              "      <td>757</td>\n",
              "      <td>2416</td>\n",
              "      <td>15</td>\n",
              "    </tr>\n",
              "    <tr>\n",
              "      <th>23</th>\n",
              "      <td>2020-04-28</td>\n",
              "      <td>4106</td>\n",
              "      <td>487</td>\n",
              "      <td>703</td>\n",
              "      <td>2037</td>\n",
              "      <td>64</td>\n",
              "      <td>11</td>\n",
              "      <td>8</td>\n",
              "      <td>803</td>\n",
              "      <td>26</td>\n",
              "      <td>NaN</td>\n",
              "      <td>803</td>\n",
              "      <td>797</td>\n",
              "      <td>2490</td>\n",
              "      <td>16</td>\n",
              "    </tr>\n",
              "    <tr>\n",
              "      <th>24</th>\n",
              "      <td>2020-04-29</td>\n",
              "      <td>4323</td>\n",
              "      <td>534</td>\n",
              "      <td>743</td>\n",
              "      <td>2138</td>\n",
              "      <td>65</td>\n",
              "      <td>13</td>\n",
              "      <td>8</td>\n",
              "      <td>794</td>\n",
              "      <td>28</td>\n",
              "      <td>NaN</td>\n",
              "      <td>838</td>\n",
              "      <td>855</td>\n",
              "      <td>2613</td>\n",
              "      <td>17</td>\n",
              "    </tr>\n",
              "    <tr>\n",
              "      <th>25</th>\n",
              "      <td>2020-04-30</td>\n",
              "      <td>4658</td>\n",
              "      <td>666</td>\n",
              "      <td>765</td>\n",
              "      <td>2247</td>\n",
              "      <td>66</td>\n",
              "      <td>13</td>\n",
              "      <td>10</td>\n",
              "      <td>861</td>\n",
              "      <td>30</td>\n",
              "      <td>NaN</td>\n",
              "      <td>1013</td>\n",
              "      <td>886</td>\n",
              "      <td>2741</td>\n",
              "      <td>18</td>\n",
              "    </tr>\n",
              "    <tr>\n",
              "      <th>26</th>\n",
              "      <td>2020-05-01</td>\n",
              "      <td>4797</td>\n",
              "      <td>726</td>\n",
              "      <td>773</td>\n",
              "      <td>2287</td>\n",
              "      <td>66</td>\n",
              "      <td>13</td>\n",
              "      <td>10</td>\n",
              "      <td>889</td>\n",
              "      <td>33</td>\n",
              "      <td>NaN</td>\n",
              "      <td>1083</td>\n",
              "      <td>913</td>\n",
              "      <td>2782</td>\n",
              "      <td>19</td>\n",
              "    </tr>\n",
              "    <tr>\n",
              "      <th>27</th>\n",
              "      <td>2020-05-02</td>\n",
              "      <td>5016</td>\n",
              "      <td>769</td>\n",
              "      <td>789</td>\n",
              "      <td>2341</td>\n",
              "      <td>72</td>\n",
              "      <td>13</td>\n",
              "      <td>10</td>\n",
              "      <td>990</td>\n",
              "      <td>32</td>\n",
              "      <td>NaN</td>\n",
              "      <td>1189</td>\n",
              "      <td>954</td>\n",
              "      <td>2854</td>\n",
              "      <td>19</td>\n",
              "    </tr>\n",
              "  </tbody>\n",
              "</table>\n",
              "</div>"
            ],
            "text/plain": [
              "        index   All  ... NOT Hispanic or Latino Refused During Interview\n",
              "0  2020-04-05  1097  ...                    517                        2\n",
              "1  2020-04-06  1211  ...                    580                        4\n",
              "2  2020-04-07  1440  ...                    696                        5\n",
              "3  2020-04-08  1523  ...                    799                        5\n",
              "4  2020-04-09  1660  ...                    903                        5\n",
              "5  2020-04-10  1778  ...                   1104                        4\n",
              "6  2020-04-11  1875  ...                   1146                        5\n",
              "7  2020-04-12  1955  ...                   1191                        5\n",
              "8  2020-04-13  2058  ...                   1252                        6\n",
              "9  2020-04-14  2197  ...                   1340                        6\n",
              "10 2020-04-15  2350  ...                   1445                        5\n",
              "11 2020-04-16  2476  ...                   1522                        7\n",
              "12 2020-04-17  2666  ...                   1613                        7\n",
              "13 2020-04-18  2793  ...                   1783                       16\n",
              "14 2020-04-19  2927  ...                   1832                       16\n",
              "15 2020-04-20  3098  ...                   1914                       14\n",
              "16 2020-04-21  3206  ...                   2002                       14\n",
              "17 2020-04-22  3361  ...                   2074                       14\n",
              "18 2020-04-23  3528  ...                   2173                       14\n",
              "19 2020-04-24  3699  ...                   2263                       14\n",
              "20 2020-04-25  3841  ...                   2320                       14\n",
              "21 2020-04-26  3892  ...                   2345                       15\n",
              "22 2020-04-27  3994  ...                   2416                       15\n",
              "23 2020-04-28  4106  ...                   2490                       16\n",
              "24 2020-04-29  4323  ...                   2613                       17\n",
              "25 2020-04-30  4658  ...                   2741                       18\n",
              "26 2020-05-01  4797  ...                   2782                       19\n",
              "27 2020-05-02  5016  ...                   2854                       19\n",
              "\n",
              "[28 rows x 15 columns]"
            ]
          },
          "metadata": {
            "tags": []
          },
          "execution_count": 29
        }
      ]
    },
    {
      "cell_type": "code",
      "metadata": {
        "id": "EXSVUNLETOid",
        "colab_type": "code",
        "outputId": "fb49fb81-957e-4ddc-d4e0-861c93dcf00c",
        "colab": {
          "base_uri": "https://localhost:8080/",
          "height": 34
        }
      },
      "source": [
        "max_case_ts = max(df_dc_cases_raw['index']); max_case_ts\n",
        "\n",
        "## Validating D4BL spreadsheet value for day before 4/9/2020 report date\n",
        "#max_case_ts = pd.Timestamp('2020-04-08 00:00:00'); max_case_ts"
      ],
      "execution_count": 30,
      "outputs": [
        {
          "output_type": "execute_result",
          "data": {
            "text/plain": [
              "Timestamp('2020-05-02 00:00:00')"
            ]
          },
          "metadata": {
            "tags": []
          },
          "execution_count": 30
        }
      ]
    },
    {
      "cell_type": "code",
      "metadata": {
        "id": "2PJx3-_0Tdlj",
        "colab_type": "code",
        "outputId": "fdd4e8bb-19ca-4194-9c03-8bf9f52e239e",
        "colab": {
          "base_uri": "https://localhost:8080/",
          "height": 148
        }
      },
      "source": [
        "df_dc_cases = df_dc_cases_raw[df_dc_cases_raw['index'] == max_case_ts]; df_dc_cases\n",
        "df_dc_cases"
      ],
      "execution_count": 31,
      "outputs": [
        {
          "output_type": "execute_result",
          "data": {
            "text/html": [
              "<div>\n",
              "<style scoped>\n",
              "    .dataframe tbody tr th:only-of-type {\n",
              "        vertical-align: middle;\n",
              "    }\n",
              "\n",
              "    .dataframe tbody tr th {\n",
              "        vertical-align: top;\n",
              "    }\n",
              "\n",
              "    .dataframe thead th {\n",
              "        text-align: right;\n",
              "    }\n",
              "</style>\n",
              "<table border=\"1\" class=\"dataframe\">\n",
              "  <thead>\n",
              "    <tr style=\"text-align: right;\">\n",
              "      <th></th>\n",
              "      <th>index</th>\n",
              "      <th>All</th>\n",
              "      <th>Unknown</th>\n",
              "      <th>White</th>\n",
              "      <th>Black/African American</th>\n",
              "      <th>Asian</th>\n",
              "      <th>American Indian/Alaska Native</th>\n",
              "      <th>Native Hawaiin Pacific Islander</th>\n",
              "      <th>Other/Multi-Racial</th>\n",
              "      <th>Refused During Interview</th>\n",
              "      <th>Ethnicity</th>\n",
              "      <th>Unknown</th>\n",
              "      <th>Hispanic or Latino</th>\n",
              "      <th>NOT Hispanic or Latino</th>\n",
              "      <th>Refused During Interview</th>\n",
              "    </tr>\n",
              "  </thead>\n",
              "  <tbody>\n",
              "    <tr>\n",
              "      <th>27</th>\n",
              "      <td>2020-05-02</td>\n",
              "      <td>5016</td>\n",
              "      <td>769</td>\n",
              "      <td>789</td>\n",
              "      <td>2341</td>\n",
              "      <td>72</td>\n",
              "      <td>13</td>\n",
              "      <td>10</td>\n",
              "      <td>990</td>\n",
              "      <td>32</td>\n",
              "      <td>NaN</td>\n",
              "      <td>1189</td>\n",
              "      <td>954</td>\n",
              "      <td>2854</td>\n",
              "      <td>19</td>\n",
              "    </tr>\n",
              "  </tbody>\n",
              "</table>\n",
              "</div>"
            ],
            "text/plain": [
              "        index   All  ... NOT Hispanic or Latino Refused During Interview\n",
              "27 2020-05-02  5016  ...                   2854                       19\n",
              "\n",
              "[1 rows x 15 columns]"
            ]
          },
          "metadata": {
            "tags": []
          },
          "execution_count": 31
        }
      ]
    },
    {
      "cell_type": "code",
      "metadata": {
        "id": "HLWoDaFO8fD_",
        "colab_type": "code",
        "outputId": "cf951673-3ce9-47e6-bd33-2a5960a3eb07",
        "colab": {
          "base_uri": "https://localhost:8080/",
          "height": 917
        }
      },
      "source": [
        "df_dc_deaths_raw = pd.read_excel('dc_data.xlsx', sheet_name = 'Lives Lost by Race'). \\\n",
        "T.drop(columns=[0])\n",
        "\n",
        "df_dc_deaths_raw.columns = df_dc_deaths_raw.loc['Unnamed: 0'].tolist()\n",
        "df_dc_deaths_raw = df_dc_deaths_raw.drop(index=['Unnamed: 0'])\n",
        "df_dc_deaths_raw = df_dc_deaths_raw.reset_index()\n",
        "df_dc_deaths_raw"
      ],
      "execution_count": 32,
      "outputs": [
        {
          "output_type": "execute_result",
          "data": {
            "text/html": [
              "<div>\n",
              "<style scoped>\n",
              "    .dataframe tbody tr th:only-of-type {\n",
              "        vertical-align: middle;\n",
              "    }\n",
              "\n",
              "    .dataframe tbody tr th {\n",
              "        vertical-align: top;\n",
              "    }\n",
              "\n",
              "    .dataframe thead th {\n",
              "        text-align: right;\n",
              "    }\n",
              "</style>\n",
              "<table border=\"1\" class=\"dataframe\">\n",
              "  <thead>\n",
              "    <tr style=\"text-align: right;\">\n",
              "      <th></th>\n",
              "      <th>index</th>\n",
              "      <th>All</th>\n",
              "      <th>Asian</th>\n",
              "      <th>Black/African American</th>\n",
              "      <th>Hispanic/Latinx</th>\n",
              "      <th>Non-Hispanic White</th>\n",
              "      <th>Other</th>\n",
              "    </tr>\n",
              "  </thead>\n",
              "  <tbody>\n",
              "    <tr>\n",
              "      <th>0</th>\n",
              "      <td>2020-04-05</td>\n",
              "      <td>24</td>\n",
              "      <td>2</td>\n",
              "      <td>14</td>\n",
              "      <td>2</td>\n",
              "      <td>4</td>\n",
              "      <td>2</td>\n",
              "    </tr>\n",
              "    <tr>\n",
              "      <th>1</th>\n",
              "      <td>2020-04-06</td>\n",
              "      <td>22</td>\n",
              "      <td>2</td>\n",
              "      <td>13</td>\n",
              "      <td>2</td>\n",
              "      <td>4</td>\n",
              "      <td>1</td>\n",
              "    </tr>\n",
              "    <tr>\n",
              "      <th>2</th>\n",
              "      <td>2020-04-07</td>\n",
              "      <td>27</td>\n",
              "      <td>2</td>\n",
              "      <td>15</td>\n",
              "      <td>5</td>\n",
              "      <td>5</td>\n",
              "      <td>0</td>\n",
              "    </tr>\n",
              "    <tr>\n",
              "      <th>3</th>\n",
              "      <td>2020-04-08</td>\n",
              "      <td>32</td>\n",
              "      <td>2</td>\n",
              "      <td>20</td>\n",
              "      <td>5</td>\n",
              "      <td>5</td>\n",
              "      <td>0</td>\n",
              "    </tr>\n",
              "    <tr>\n",
              "      <th>4</th>\n",
              "      <td>2020-04-09</td>\n",
              "      <td>38</td>\n",
              "      <td>2</td>\n",
              "      <td>25</td>\n",
              "      <td>6</td>\n",
              "      <td>5</td>\n",
              "      <td>0</td>\n",
              "    </tr>\n",
              "    <tr>\n",
              "      <th>5</th>\n",
              "      <td>2020-04-10</td>\n",
              "      <td>47</td>\n",
              "      <td>2</td>\n",
              "      <td>34</td>\n",
              "      <td>6</td>\n",
              "      <td>5</td>\n",
              "      <td>0</td>\n",
              "    </tr>\n",
              "    <tr>\n",
              "      <th>6</th>\n",
              "      <td>2020-04-11</td>\n",
              "      <td>50</td>\n",
              "      <td>2</td>\n",
              "      <td>36</td>\n",
              "      <td>6</td>\n",
              "      <td>6</td>\n",
              "      <td>0</td>\n",
              "    </tr>\n",
              "    <tr>\n",
              "      <th>7</th>\n",
              "      <td>2020-04-12</td>\n",
              "      <td>52</td>\n",
              "      <td>2</td>\n",
              "      <td>38</td>\n",
              "      <td>6</td>\n",
              "      <td>6</td>\n",
              "      <td>0</td>\n",
              "    </tr>\n",
              "    <tr>\n",
              "      <th>8</th>\n",
              "      <td>2020-04-13</td>\n",
              "      <td>67</td>\n",
              "      <td>2</td>\n",
              "      <td>51</td>\n",
              "      <td>7</td>\n",
              "      <td>7</td>\n",
              "      <td>0</td>\n",
              "    </tr>\n",
              "    <tr>\n",
              "      <th>9</th>\n",
              "      <td>2020-04-14</td>\n",
              "      <td>72</td>\n",
              "      <td>2</td>\n",
              "      <td>54</td>\n",
              "      <td>8</td>\n",
              "      <td>8</td>\n",
              "      <td>0</td>\n",
              "    </tr>\n",
              "    <tr>\n",
              "      <th>10</th>\n",
              "      <td>2020-04-15</td>\n",
              "      <td>81</td>\n",
              "      <td>2</td>\n",
              "      <td>61</td>\n",
              "      <td>9</td>\n",
              "      <td>8</td>\n",
              "      <td>0</td>\n",
              "    </tr>\n",
              "    <tr>\n",
              "      <th>11</th>\n",
              "      <td>2020-04-16</td>\n",
              "      <td>86</td>\n",
              "      <td>2</td>\n",
              "      <td>66</td>\n",
              "      <td>8</td>\n",
              "      <td>10</td>\n",
              "      <td>0</td>\n",
              "    </tr>\n",
              "    <tr>\n",
              "      <th>12</th>\n",
              "      <td>2020-04-17</td>\n",
              "      <td>91</td>\n",
              "      <td>2</td>\n",
              "      <td>71</td>\n",
              "      <td>8</td>\n",
              "      <td>10</td>\n",
              "      <td>0</td>\n",
              "    </tr>\n",
              "    <tr>\n",
              "      <th>13</th>\n",
              "      <td>2020-04-18</td>\n",
              "      <td>96</td>\n",
              "      <td>2</td>\n",
              "      <td>75</td>\n",
              "      <td>8</td>\n",
              "      <td>11</td>\n",
              "      <td>0</td>\n",
              "    </tr>\n",
              "    <tr>\n",
              "      <th>14</th>\n",
              "      <td>2020-04-19</td>\n",
              "      <td>105</td>\n",
              "      <td>2</td>\n",
              "      <td>83</td>\n",
              "      <td>8</td>\n",
              "      <td>12</td>\n",
              "      <td>0</td>\n",
              "    </tr>\n",
              "    <tr>\n",
              "      <th>15</th>\n",
              "      <td>2020-04-20</td>\n",
              "      <td>112</td>\n",
              "      <td>2</td>\n",
              "      <td>90</td>\n",
              "      <td>8</td>\n",
              "      <td>12</td>\n",
              "      <td>0</td>\n",
              "    </tr>\n",
              "    <tr>\n",
              "      <th>16</th>\n",
              "      <td>2020-04-21</td>\n",
              "      <td>127</td>\n",
              "      <td>3</td>\n",
              "      <td>102</td>\n",
              "      <td>8</td>\n",
              "      <td>14</td>\n",
              "      <td>0</td>\n",
              "    </tr>\n",
              "    <tr>\n",
              "      <th>17</th>\n",
              "      <td>2020-04-22</td>\n",
              "      <td>139</td>\n",
              "      <td>3</td>\n",
              "      <td>112</td>\n",
              "      <td>9</td>\n",
              "      <td>15</td>\n",
              "      <td>0</td>\n",
              "    </tr>\n",
              "    <tr>\n",
              "      <th>18</th>\n",
              "      <td>2020-04-23</td>\n",
              "      <td>153</td>\n",
              "      <td>3</td>\n",
              "      <td>124</td>\n",
              "      <td>9</td>\n",
              "      <td>16</td>\n",
              "      <td>1</td>\n",
              "    </tr>\n",
              "    <tr>\n",
              "      <th>19</th>\n",
              "      <td>2020-04-24</td>\n",
              "      <td>165</td>\n",
              "      <td>4</td>\n",
              "      <td>131</td>\n",
              "      <td>10</td>\n",
              "      <td>19</td>\n",
              "      <td>1</td>\n",
              "    </tr>\n",
              "    <tr>\n",
              "      <th>20</th>\n",
              "      <td>2020-04-25</td>\n",
              "      <td>178</td>\n",
              "      <td>4</td>\n",
              "      <td>142</td>\n",
              "      <td>11</td>\n",
              "      <td>20</td>\n",
              "      <td>1</td>\n",
              "    </tr>\n",
              "    <tr>\n",
              "      <th>21</th>\n",
              "      <td>2020-04-26</td>\n",
              "      <td>185</td>\n",
              "      <td>4</td>\n",
              "      <td>147</td>\n",
              "      <td>11</td>\n",
              "      <td>21</td>\n",
              "      <td>2</td>\n",
              "    </tr>\n",
              "    <tr>\n",
              "      <th>22</th>\n",
              "      <td>2020-04-27</td>\n",
              "      <td>190</td>\n",
              "      <td>4</td>\n",
              "      <td>150</td>\n",
              "      <td>12</td>\n",
              "      <td>22</td>\n",
              "      <td>2</td>\n",
              "    </tr>\n",
              "    <tr>\n",
              "      <th>23</th>\n",
              "      <td>2020-04-28</td>\n",
              "      <td>205</td>\n",
              "      <td>4</td>\n",
              "      <td>163</td>\n",
              "      <td>14</td>\n",
              "      <td>22</td>\n",
              "      <td>2</td>\n",
              "    </tr>\n",
              "    <tr>\n",
              "      <th>24</th>\n",
              "      <td>2020-04-29</td>\n",
              "      <td>224</td>\n",
              "      <td>7</td>\n",
              "      <td>177</td>\n",
              "      <td>16</td>\n",
              "      <td>25</td>\n",
              "      <td>2</td>\n",
              "    </tr>\n",
              "    <tr>\n",
              "      <th>25</th>\n",
              "      <td>2020-04-30</td>\n",
              "      <td>231</td>\n",
              "      <td>4</td>\n",
              "      <td>183</td>\n",
              "      <td>17</td>\n",
              "      <td>25</td>\n",
              "      <td>2</td>\n",
              "    </tr>\n",
              "    <tr>\n",
              "      <th>26</th>\n",
              "      <td>2020-05-01</td>\n",
              "      <td>240</td>\n",
              "      <td>4</td>\n",
              "      <td>190</td>\n",
              "      <td>17</td>\n",
              "      <td>27</td>\n",
              "      <td>2</td>\n",
              "    </tr>\n",
              "    <tr>\n",
              "      <th>27</th>\n",
              "      <td>2020-05-02</td>\n",
              "      <td>251</td>\n",
              "      <td>5</td>\n",
              "      <td>198</td>\n",
              "      <td>19</td>\n",
              "      <td>27</td>\n",
              "      <td>2</td>\n",
              "    </tr>\n",
              "  </tbody>\n",
              "</table>\n",
              "</div>"
            ],
            "text/plain": [
              "        index  All Asian  ... Hispanic/Latinx Non-Hispanic White Other\n",
              "0  2020-04-05   24     2  ...               2                  4     2\n",
              "1  2020-04-06   22     2  ...               2                  4     1\n",
              "2  2020-04-07   27     2  ...               5                  5     0\n",
              "3  2020-04-08   32     2  ...               5                  5     0\n",
              "4  2020-04-09   38     2  ...               6                  5     0\n",
              "5  2020-04-10   47     2  ...               6                  5     0\n",
              "6  2020-04-11   50     2  ...               6                  6     0\n",
              "7  2020-04-12   52     2  ...               6                  6     0\n",
              "8  2020-04-13   67     2  ...               7                  7     0\n",
              "9  2020-04-14   72     2  ...               8                  8     0\n",
              "10 2020-04-15   81     2  ...               9                  8     0\n",
              "11 2020-04-16   86     2  ...               8                 10     0\n",
              "12 2020-04-17   91     2  ...               8                 10     0\n",
              "13 2020-04-18   96     2  ...               8                 11     0\n",
              "14 2020-04-19  105     2  ...               8                 12     0\n",
              "15 2020-04-20  112     2  ...               8                 12     0\n",
              "16 2020-04-21  127     3  ...               8                 14     0\n",
              "17 2020-04-22  139     3  ...               9                 15     0\n",
              "18 2020-04-23  153     3  ...               9                 16     1\n",
              "19 2020-04-24  165     4  ...              10                 19     1\n",
              "20 2020-04-25  178     4  ...              11                 20     1\n",
              "21 2020-04-26  185     4  ...              11                 21     2\n",
              "22 2020-04-27  190     4  ...              12                 22     2\n",
              "23 2020-04-28  205     4  ...              14                 22     2\n",
              "24 2020-04-29  224     7  ...              16                 25     2\n",
              "25 2020-04-30  231     4  ...              17                 25     2\n",
              "26 2020-05-01  240     4  ...              17                 27     2\n",
              "27 2020-05-02  251     5  ...              19                 27     2\n",
              "\n",
              "[28 rows x 7 columns]"
            ]
          },
          "metadata": {
            "tags": []
          },
          "execution_count": 32
        }
      ]
    },
    {
      "cell_type": "code",
      "metadata": {
        "id": "NHiR0SwJO0to",
        "colab_type": "code",
        "outputId": "153f4a8f-01c1-4cf6-b2b1-ed0164e25615",
        "colab": {
          "base_uri": "https://localhost:8080/",
          "height": 34
        }
      },
      "source": [
        "max_ts = max(df_dc_deaths_raw['index']); max_ts\n",
        "\n",
        "## Validating D4BL spreadsheet value for day before 4/9/2020 report date\n",
        "#max_ts = pd.Timestamp('2020-04-08 00:00:00'); max_ts"
      ],
      "execution_count": 33,
      "outputs": [
        {
          "output_type": "execute_result",
          "data": {
            "text/plain": [
              "Timestamp('2020-05-02 00:00:00')"
            ]
          },
          "metadata": {
            "tags": []
          },
          "execution_count": 33
        }
      ]
    },
    {
      "cell_type": "code",
      "metadata": {
        "id": "52XpAub-QUcI",
        "colab_type": "code",
        "outputId": "dccff3bd-50c0-4741-f69a-b813e2e5dc54",
        "colab": {
          "base_uri": "https://localhost:8080/",
          "height": 80
        }
      },
      "source": [
        "df_dc_deaths = df_dc_deaths_raw[df_dc_deaths_raw['index'] == max_ts]; df_dc_deaths\n",
        "#del df_dc_deaths['index']\n",
        "df_dc_deaths"
      ],
      "execution_count": 34,
      "outputs": [
        {
          "output_type": "execute_result",
          "data": {
            "text/html": [
              "<div>\n",
              "<style scoped>\n",
              "    .dataframe tbody tr th:only-of-type {\n",
              "        vertical-align: middle;\n",
              "    }\n",
              "\n",
              "    .dataframe tbody tr th {\n",
              "        vertical-align: top;\n",
              "    }\n",
              "\n",
              "    .dataframe thead th {\n",
              "        text-align: right;\n",
              "    }\n",
              "</style>\n",
              "<table border=\"1\" class=\"dataframe\">\n",
              "  <thead>\n",
              "    <tr style=\"text-align: right;\">\n",
              "      <th></th>\n",
              "      <th>index</th>\n",
              "      <th>All</th>\n",
              "      <th>Asian</th>\n",
              "      <th>Black/African American</th>\n",
              "      <th>Hispanic/Latinx</th>\n",
              "      <th>Non-Hispanic White</th>\n",
              "      <th>Other</th>\n",
              "    </tr>\n",
              "  </thead>\n",
              "  <tbody>\n",
              "    <tr>\n",
              "      <th>27</th>\n",
              "      <td>2020-05-02</td>\n",
              "      <td>251</td>\n",
              "      <td>5</td>\n",
              "      <td>198</td>\n",
              "      <td>19</td>\n",
              "      <td>27</td>\n",
              "      <td>2</td>\n",
              "    </tr>\n",
              "  </tbody>\n",
              "</table>\n",
              "</div>"
            ],
            "text/plain": [
              "        index  All Asian  ... Hispanic/Latinx Non-Hispanic White Other\n",
              "27 2020-05-02  251     5  ...              19                 27     2\n",
              "\n",
              "[1 rows x 7 columns]"
            ]
          },
          "metadata": {
            "tags": []
          },
          "execution_count": 34
        }
      ]
    },
    {
      "cell_type": "code",
      "metadata": {
        "id": "PMKexrPK8fLm",
        "colab_type": "code",
        "outputId": "2452c2bd-d650-4fd7-ff9a-f91a3b1d38ba",
        "colab": {
          "base_uri": "https://localhost:8080/",
          "height": 34
        }
      },
      "source": [
        "dc_max_date = (max_ts + timedelta(days=1) ).strftime('%-m/%-d/%Y'); dc_max_date"
      ],
      "execution_count": 35,
      "outputs": [
        {
          "output_type": "execute_result",
          "data": {
            "text/plain": [
              "'5/3/2020'"
            ]
          },
          "metadata": {
            "tags": []
          },
          "execution_count": 35
        }
      ]
    },
    {
      "cell_type": "code",
      "metadata": {
        "id": "vZb9sBinOnIO",
        "colab_type": "code",
        "outputId": "48fd3555-780a-4be5-c209-dbcbaf288f2e",
        "colab": {
          "base_uri": "https://localhost:8080/",
          "height": 85
        }
      },
      "source": [
        "##### Intermediate calculations #####\n",
        "\n",
        "## total cases\n",
        "dc_total_cases = df_dc_cases['All'].astype('int').tolist()[0]; print(dc_total_cases)\n",
        "\n",
        "## total deaths\n",
        "dc_total_deaths = df_dc_deaths['All'].astype('int').tolist()[0]; print(dc_total_deaths)\n",
        "\n",
        "## AA cases\n",
        "dc_aa_cases = df_dc_cases['Black/African American'].astype('int').tolist()[0]; dc_aa_cases \n",
        "dc_aa_cases_pct = round(100 * dc_aa_cases / dc_total_cases, 2); print(dc_aa_cases_pct)\n",
        "\n",
        "## AA deaths\n",
        "dc_aa_deaths = df_dc_deaths['Black/African American'].astype('int').tolist()[0]; dc_aa_deaths\n",
        "dc_aa_deaths_pct = round(100 * dc_aa_deaths / dc_total_deaths, 2); print(dc_aa_deaths_pct)\n"
      ],
      "execution_count": 36,
      "outputs": [
        {
          "output_type": "stream",
          "text": [
            "5016\n",
            "251\n",
            "46.67\n",
            "78.88\n"
          ],
          "name": "stdout"
        }
      ]
    },
    {
      "cell_type": "code",
      "metadata": {
        "id": "QBXouVx-RV-j",
        "colab_type": "code",
        "outputId": "d3719a8c-2299-404b-b76a-c61b8cbdc532",
        "colab": {
          "base_uri": "https://localhost:8080/",
          "height": 272
        }
      },
      "source": [
        "output['Washington DC'] = {\n",
        "    'Date Published': dc_max_date,\n",
        "    'Total Cases': dc_total_cases,\n",
        "    'Total Deaths': dc_total_deaths,\n",
        "    'Pct Cases Black/AA': dc_aa_cases_pct,\n",
        "    'Pct Deaths Black/AA': dc_aa_deaths_pct\n",
        "}\n",
        "\n",
        "output"
      ],
      "execution_count": 37,
      "outputs": [
        {
          "output_type": "execute_result",
          "data": {
            "text/plain": [
              "{'Massachusetts': {'Date Published': '5/3/2020',\n",
              "  'Pct Cases Black/AA': 7.16,\n",
              "  'Pct Deaths Black/AA': 5.39,\n",
              "  'Total Cases': 68087,\n",
              "  'Total Deaths': 4004},\n",
              " 'Virginia': {'Date Published': '5/5/2020',\n",
              "  'Pct Cases Black/AA': 17.74,\n",
              "  'Pct Deaths Black/AA': 23.0,\n",
              "  'Total Cases': 20256,\n",
              "  'Total Deaths': 713},\n",
              " 'Washington DC': {'Date Published': '5/3/2020',\n",
              "  'Pct Cases Black/AA': 46.67,\n",
              "  'Pct Deaths Black/AA': 78.88,\n",
              "  'Total Cases': 5016,\n",
              "  'Total Deaths': 251}}"
            ]
          },
          "metadata": {
            "tags": []
          },
          "execution_count": 37
        }
      ]
    },
    {
      "cell_type": "code",
      "metadata": {
        "id": "VMtcaAvRRWBh",
        "colab_type": "code",
        "outputId": "2acd5a08-dbc1-42af-fa37-a0fc3815aa18",
        "colab": {
          "base_uri": "https://localhost:8080/",
          "height": 142
        }
      },
      "source": [
        "output_df = pd.DataFrame(output).T\n",
        "output_df"
      ],
      "execution_count": 84,
      "outputs": [
        {
          "output_type": "execute_result",
          "data": {
            "text/html": [
              "<div>\n",
              "<style scoped>\n",
              "    .dataframe tbody tr th:only-of-type {\n",
              "        vertical-align: middle;\n",
              "    }\n",
              "\n",
              "    .dataframe tbody tr th {\n",
              "        vertical-align: top;\n",
              "    }\n",
              "\n",
              "    .dataframe thead th {\n",
              "        text-align: right;\n",
              "    }\n",
              "</style>\n",
              "<table border=\"1\" class=\"dataframe\">\n",
              "  <thead>\n",
              "    <tr style=\"text-align: right;\">\n",
              "      <th></th>\n",
              "      <th>Date Published</th>\n",
              "      <th>Total Cases</th>\n",
              "      <th>Total Deaths</th>\n",
              "      <th>Pct Cases Black/AA</th>\n",
              "      <th>Pct Deaths Black/AA</th>\n",
              "    </tr>\n",
              "  </thead>\n",
              "  <tbody>\n",
              "    <tr>\n",
              "      <th>Massachusetts</th>\n",
              "      <td>5/5/2020</td>\n",
              "      <td>70271</td>\n",
              "      <td>4212</td>\n",
              "      <td>7.28</td>\n",
              "      <td>5.48</td>\n",
              "    </tr>\n",
              "    <tr>\n",
              "      <th>Virginia</th>\n",
              "      <td>5/5/2020</td>\n",
              "      <td>20256</td>\n",
              "      <td>713</td>\n",
              "      <td>17.74</td>\n",
              "      <td>23</td>\n",
              "    </tr>\n",
              "    <tr>\n",
              "      <th>Washington DC</th>\n",
              "      <td>5/3/2020</td>\n",
              "      <td>5016</td>\n",
              "      <td>251</td>\n",
              "      <td>46.67</td>\n",
              "      <td>78.88</td>\n",
              "    </tr>\n",
              "  </tbody>\n",
              "</table>\n",
              "</div>"
            ],
            "text/plain": [
              "              Date Published Total Cases  ... Pct Cases Black/AA Pct Deaths Black/AA\n",
              "Massachusetts       5/5/2020       70271  ...               7.28                5.48\n",
              "Virginia            5/5/2020       20256  ...              17.74                  23\n",
              "Washington DC       5/3/2020        5016  ...              46.67               78.88\n",
              "\n",
              "[3 rows x 5 columns]"
            ]
          },
          "metadata": {
            "tags": []
          },
          "execution_count": 84
        }
      ]
    },
    {
      "cell_type": "code",
      "metadata": {
        "id": "PlDJj0grP4O_",
        "colab_type": "code",
        "colab": {}
      },
      "source": [
        "out_file = os.path.join(home_dir, 'covid_disparities_output_' + datetime.now().strftime('%Y-%m-%d') + '.csv'); out_file\n",
        "output_df.to_csv(out_file)"
      ],
      "execution_count": 0,
      "outputs": []
    },
    {
      "cell_type": "code",
      "metadata": {
        "id": "lnQYNvqrYkwS",
        "colab_type": "code",
        "outputId": "425442af-217d-48ee-8fa5-aa192b7767bb",
        "colab": {
          "base_uri": "https://localhost:8080/",
          "height": 340
        }
      },
      "source": [
        "os.chdir(home_dir)\n",
        "!ls"
      ],
      "execution_count": 86,
      "outputs": [
        {
          "output_type": "stream",
          "text": [
            " Age.csv\n",
            "'Age Means.csv'\n",
            " Cases.csv\n",
            " County.csv\n",
            " covid_disparities_output_2020-05-06.csv\n",
            " data\n",
            "'Data dictionary for CSVs.docx'\n",
            "'Data dictionary for External Dashboard Backup.docx'\n",
            " DateofDeath.csv\n",
            "'Death Pies.csv'\n",
            " DeathsReported.csv\n",
            "'External dashboard backup_05052020.xlsx'\n",
            "'Hospitalization from Hospitals.csv'\n",
            "'LTC Facilities.csv'\n",
            " massachusetts.zip\n",
            " RaceEthnicity.csv\n",
            " sample_data\n",
            " Sex.csv\n",
            " Testing2.csv\n"
          ],
          "name": "stdout"
        }
      ]
    },
    {
      "cell_type": "code",
      "metadata": {
        "id": "bkf83KMPYs1P",
        "colab_type": "code",
        "colab": {}
      },
      "source": [
        ""
      ],
      "execution_count": 0,
      "outputs": []
    }
  ]
}