{
 "cells": [
  {
   "cell_type": "markdown",
   "metadata": {},
   "source": [
    "# Data 4 Black Lives - COVID-19 Case/Death Disparities\n",
    "\n",
    "Objective: Extract COVID-19 cases and deaths for each geographic location, both overall and for Black/African-Americans only."
   ]
  },
  {
   "cell_type": "markdown",
   "metadata": {},
   "source": [
    "# Setup"
   ]
  },
  {
   "cell_type": "markdown",
   "metadata": {},
   "source": [
    "## Install modules"
   ]
  },
  {
   "cell_type": "markdown",
   "metadata": {},
   "source": [
    "## Import modules"
   ]
  },
  {
   "cell_type": "code",
   "execution_count": null,
   "metadata": {},
   "outputs": [],
   "source": [
    "import numpy as np\n",
    "import pandas as pd\n",
    "from datetime import datetime\n",
    "import os\n",
    "from getpass import getpass\n",
    "from importlib import reload "
   ]
  },
  {
   "cell_type": "markdown",
   "metadata": {},
   "source": [
    "## Set up directories"
   ]
  },
  {
   "cell_type": "code",
   "execution_count": null,
   "metadata": {},
   "outputs": [],
   "source": [
    "## On Google Colab\n",
    "#home_dir = '/content'\n",
    "\n",
    "## If on your laptop, set path to 'python subfolder in your local copy of the repo\n",
    "#home_dir_raw = '~/Documents/GitHub/d4bl_covid_tracker/workflow/python'\n",
    "home_dir_raw = '~/Documents/GitHub/COVID19_tracker_data_extraction/workflow/python'\n",
    "\n",
    "home_dir = os.path.expanduser(home_dir_raw)\n",
    "os.chdir(home_dir)"
   ]
  },
  {
   "cell_type": "code",
   "execution_count": null,
   "metadata": {},
   "outputs": [],
   "source": [
    "home_dir"
   ]
  },
  {
   "cell_type": "code",
   "execution_count": null,
   "metadata": {},
   "outputs": [],
   "source": [
    "# Create new data folders\n",
    "import shutil\n",
    "if os.path.isdir('data'):\n",
    "    print('removing existing data files')\n",
    "    shutil.rmtree('data', ignore_errors=True)\n",
    "    \n",
    "os.mkdir('data')\n",
    "\n",
    "locations = ['mass', 'virginia', 'dc', 'ga', 'michigan', 'minnesota', \\\n",
    "            'north carolina', 'texas_bexar', 'wisconsin_milwaukee', 'san_diego', 'florida']\n",
    "\n",
    "[os.mkdir(os.path.join('data', loc)) for loc in locations]\n",
    "\n",
    "\n",
    "os.listdir('data')"
   ]
  },
  {
   "cell_type": "code",
   "execution_count": null,
   "metadata": {},
   "outputs": [],
   "source": [
    "## Create output folder\n",
    "if os.path.isdir('output') is False:\n",
    "    os.mkdir('output')"
   ]
  },
  {
   "cell_type": "code",
   "execution_count": null,
   "metadata": {},
   "outputs": [],
   "source": [
    "!ls data"
   ]
  },
  {
   "cell_type": "markdown",
   "metadata": {},
   "source": [
    "## Helper functions"
   ]
  },
  {
   "cell_type": "code",
   "execution_count": null,
   "metadata": {},
   "outputs": [],
   "source": [
    "## Source: https://stackoverflow.com/questions/437589/how-do-i-unload-reload-a-module/487718#487718\n",
    "\n",
    "# use instead of: from dfly_parser import parseMessages\n",
    "#importOrReload(\"dfly_parser\", \"parseMessages\")\n",
    "\n",
    "def importOrReload(module_name, *names):\n",
    "    import sys\n",
    "\n",
    "    if module_name in sys.modules:\n",
    "        reload(sys.modules[module_name])\n",
    "    else:\n",
    "        __import__(module_name, fromlist=names)\n",
    "\n",
    "    for name in names:\n",
    "        globals()[name] = getattr(sys.modules[module_name], name)"
   ]
  },
  {
   "cell_type": "code",
   "execution_count": null,
   "metadata": {},
   "outputs": [],
   "source": [
    "def get_github_file(file_link, new_file_name, token):\n",
    "\n",
    "    auth_link = file_link.replace('https://', 'https://' + token +  '@')\n",
    "    cmd_txt = \"! curl -o {} -s  {}\".format(new_file_name, auth_link)\n",
    "    os.system(cmd_txt)\n",
    "    print('Successfully downloaded {}'.format(new_file_name))"
   ]
  },
  {
   "cell_type": "code",
   "execution_count": null,
   "metadata": {},
   "outputs": [],
   "source": [
    "def delete_file(file_name):\n",
    "    if os.path.exists(file_name):\n",
    "        os.remove(file_name)"
   ]
  },
  {
   "cell_type": "markdown",
   "metadata": {},
   "source": [
    "## Set parameters"
   ]
  },
  {
   "cell_type": "code",
   "execution_count": null,
   "metadata": {},
   "outputs": [],
   "source": [
    "## Replicate results in 4/9/2020 D4BL report?\n",
    "validation_flag = False\n",
    "\n",
    "## Download from Github (True) or use local modules (False)?\n",
    "github_flag = False"
   ]
  },
  {
   "cell_type": "markdown",
   "metadata": {},
   "source": [
    "## Download files from Github (optional)"
   ]
  },
  {
   "cell_type": "code",
   "execution_count": null,
   "metadata": {},
   "outputs": [],
   "source": [
    "if github_flag:\n",
    "    ## Prompt for Github token\n",
    "    token = getpass(\"Provide your Github token: \")\n",
    "    \n",
    "    ## Select Githun account name and repository name\n",
    "    acct_name = 'd4bl'\n",
    "    repo_name = 'COVID19_tracker_data_extraction'\n",
    "    \n",
    "    ## Path to repository\n",
    "    repo_path = 'https://raw.githubusercontent.com/{}/{}/master'.format(acct_name, repo_name)\n",
    "\n",
    "    ## Download the files\n",
    "    \n",
    "    get_github_file(file_link = '{}/workflow/python/functions_case1_csv_xlsx.py'.format(repo_path), \n",
    "                new_file_name = os.path.join(home_dir, 'functions_case1_csv_xlsx_gh.py'), token = token)\n",
    "    \n",
    "    get_github_file(file_link = '{}/workflow/python/functions_case2_html.py'.format(repo_path), \n",
    "                new_file_name = os.path.join(home_dir, 'functions_case2_html_gh.py'), token = token)\n",
    "    \n",
    "    get_github_file(file_link = '{}/workflow/python/functions_case3_pdf_table.py'.format(repo_path), \n",
    "                new_file_name = os.path.join(home_dir, 'functions_case3_pdf_table_gh.py'), token = token)\n",
    "    \n",
    "    get_github_file(file_link = '{}/workflow/python/misc_helper_functions.py'.format(repo_path), \n",
    "                new_file_name = os.path.join(home_dir, 'misc_helper_functions_gh.py'), token = token)\n"
   ]
  },
  {
   "cell_type": "code",
   "execution_count": null,
   "metadata": {},
   "outputs": [],
   "source": [
    "os.listdir()"
   ]
  },
  {
   "cell_type": "code",
   "execution_count": null,
   "metadata": {},
   "outputs": [],
   "source": [
    "pwd"
   ]
  },
  {
   "cell_type": "code",
   "execution_count": null,
   "metadata": {},
   "outputs": [],
   "source": [
    "#os.chdir(home_dir)\n",
    "#! cat functions_case1_csv_xlsx_gh.py"
   ]
  },
  {
   "cell_type": "code",
   "execution_count": null,
   "metadata": {},
   "outputs": [],
   "source": [
    "!ls"
   ]
  },
  {
   "cell_type": "markdown",
   "metadata": {},
   "source": [
    "## Load python scripts"
   ]
  },
  {
   "cell_type": "code",
   "execution_count": null,
   "metadata": {},
   "outputs": [],
   "source": [
    "case1_locations = [\"massachusetts\", \"virginia\", \"washingtonDC\", \"georgia\"]\n",
    "case2_locations = ['michigan', 'minnesota', 'north_carolina', 'texas_bexar_county', 'wisconsin_milwaukee']\n",
    "case3_locations = ['san_diego', 'florida']\n",
    "functions_case1 = ['data_extract_' + loc for loc in case1_locations]\n",
    "functions_case2 = ['data_extract_' + loc for loc in case2_locations]\n",
    "functions_case3 = ['data_extract_' + loc for loc in case3_locations]\n",
    "\n",
    "if github_flag:\n",
    "    [importOrReload(\"functions_case1_csv_xlsx_gh\", function_name) for function_name in functions_case1]\n",
    "    [importOrReload(\"functions_case2_html_gh\", function_name) for function_name in functions_case2]\n",
    "    [importOrReload(\"functions_case3_pdf_table_gh\", function_name) for function_name in functions_case3]\n",
    "else:\n",
    "    [importOrReload(\"functions_case1_csv_xlsx\", function_name) for function_name in functions_case1]\n",
    "    [importOrReload(\"functions_case2_html\", function_name) for function_name in functions_case2]\n",
    "    [importOrReload(\"functions_case3_pdf_table\", function_name) for function_name in functions_case3]"
   ]
  },
  {
   "cell_type": "markdown",
   "metadata": {},
   "source": [
    "## Create empty dictionary to hold results"
   ]
  },
  {
   "cell_type": "code",
   "execution_count": null,
   "metadata": {},
   "outputs": [],
   "source": [
    "## Dictionary to hold results\n",
    "output = dict()"
   ]
  },
  {
   "cell_type": "markdown",
   "metadata": {},
   "source": [
    "# Data Extraction"
   ]
  },
  {
   "cell_type": "markdown",
   "metadata": {},
   "source": [
    "## Case 1: Read from CSV and XLSX files"
   ]
  },
  {
   "cell_type": "code",
   "execution_count": null,
   "metadata": {},
   "outputs": [],
   "source": [
    "output['Massachusetts'] = data_extract_massachusetts(validation = validation_flag, \n",
    "                                                     home_dir = home_dir)"
   ]
  },
  {
   "cell_type": "code",
   "execution_count": null,
   "metadata": {},
   "outputs": [],
   "source": [
    "output['Virginia'] = data_extract_virginia(validation = validation_flag, \n",
    "                                           home_dir = home_dir)"
   ]
  },
  {
   "cell_type": "code",
   "execution_count": null,
   "metadata": {},
   "outputs": [],
   "source": [
    "output['Washington DC'] = data_extract_washingtonDC(validation = validation_flag, \n",
    "                                                    home_dir = home_dir)"
   ]
  },
  {
   "cell_type": "code",
   "execution_count": null,
   "metadata": {},
   "outputs": [],
   "source": [
    "output['Georgia'] = data_extract_georgia(validation = validation_flag, \n",
    "                                         home_dir = home_dir)"
   ]
  },
  {
   "cell_type": "markdown",
   "metadata": {},
   "source": [
    "## Case 2: Extract data from HTML source code"
   ]
  },
  {
   "cell_type": "code",
   "execution_count": null,
   "metadata": {},
   "outputs": [],
   "source": [
    "output['Michigan'] = data_extract_michigan(validation = validation_flag, \n",
    "                                         home_dir = home_dir)"
   ]
  },
  {
   "cell_type": "code",
   "execution_count": null,
   "metadata": {},
   "outputs": [],
   "source": [
    "output['Minnesota'] = data_extract_minnesota(validation = validation_flag, \n",
    "                                         home_dir = home_dir)"
   ]
  },
  {
   "cell_type": "code",
   "execution_count": null,
   "metadata": {},
   "outputs": [],
   "source": [
    "output['North Carolina'] = data_extract_north_carolina(validation = validation_flag, \n",
    "                                         home_dir = home_dir)"
   ]
  },
  {
   "cell_type": "code",
   "execution_count": null,
   "metadata": {},
   "outputs": [],
   "source": [
    "output['Texas -- Bexar County'] = data_extract_texas_bexar_county(validation = validation_flag, \n",
    "                                         home_dir = home_dir)"
   ]
  },
  {
   "cell_type": "code",
   "execution_count": null,
   "metadata": {},
   "outputs": [],
   "source": [
    "output['Wisconsin -- Milwaukee'] = data_extract_wisconsin_milwaukee(validation = validation_flag, \n",
    "                                         home_dir = home_dir)"
   ]
  },
  {
   "cell_type": "markdown",
   "metadata": {},
   "source": [
    "## Case #3: PDF table extraction"
   ]
  },
  {
   "cell_type": "code",
   "execution_count": null,
   "metadata": {},
   "outputs": [],
   "source": [
    "output['San Diego'] = data_extract_san_diego(validation = validation_flag, \n",
    "                                         home_dir = home_dir)"
   ]
  },
  {
   "cell_type": "markdown",
   "metadata": {},
   "source": [
    "### Note about Florida:\n",
    "\n",
    "The Florida PDF is quite large and takes a long time to download.  After you download today's file once, you might optionally want to set `refresh = False` on subsequent runs to use the copy already saved locally."
   ]
  },
  {
   "cell_type": "code",
   "execution_count": null,
   "metadata": {},
   "outputs": [],
   "source": [
    "output['Florida'] = data_extract_florida(validation = validation_flag, \n",
    "                                         home_dir = home_dir, refresh = True)  "
   ]
  },
  {
   "cell_type": "markdown",
   "metadata": {},
   "source": [
    "# Combining into a single dataframe"
   ]
  },
  {
   "cell_type": "code",
   "execution_count": null,
   "metadata": {},
   "outputs": [],
   "source": [
    "output_df = pd.DataFrame(output).T\n",
    "output_df"
   ]
  },
  {
   "cell_type": "code",
   "execution_count": null,
   "metadata": {},
   "outputs": [],
   "source": [
    "output_df['Status code'].values"
   ]
  },
  {
   "cell_type": "code",
   "execution_count": null,
   "metadata": {},
   "outputs": [],
   "source": [
    "date_stamp = datetime.now().strftime('%Y-%m-%d')\n",
    "out_file = os.path.join(home_dir, 'output', 'csv', 'covid_disparities_output_' + date_stamp + '.csv')\n",
    "output_df.to_csv(out_file)"
   ]
  },
  {
   "cell_type": "code",
   "execution_count": null,
   "metadata": {},
   "outputs": [],
   "source": [
    "out_file = os.path.join(home_dir, 'output', 'xlsx', 'covid_disparities_output_' + date_stamp + '.xlsx')\n",
    "output_df.to_excel(out_file)"
   ]
  },
  {
   "cell_type": "code",
   "execution_count": null,
   "metadata": {},
   "outputs": [],
   "source": [
    "os.chdir(os.path.join(home_dir, 'output'))\n",
    "!ls"
   ]
  },
  {
   "cell_type": "code",
   "execution_count": null,
   "metadata": {},
   "outputs": [],
   "source": []
  },
  {
   "cell_type": "markdown",
   "metadata": {},
   "source": [
    "## Clean up downloaded files (if applicable)"
   ]
  },
  {
   "cell_type": "code",
   "execution_count": null,
   "metadata": {},
   "outputs": [],
   "source": [
    "delete_file('functions_case1_csv_xlsx_gh.py')\n",
    "delete_file('functions_case2_html_gh.py')\n",
    "delete_file('functions_case3_pdf_table_gh.py')\n",
    "delete_file('misc_helper_functions_gh.py')    "
   ]
  },
  {
   "cell_type": "code",
   "execution_count": null,
   "metadata": {},
   "outputs": [],
   "source": []
  }
 ],
 "metadata": {
  "language_info": {
   "name": "python",
   "pygments_lexer": "ipython3"
  }
 },
 "nbformat": 4,
 "nbformat_minor": 1
}
