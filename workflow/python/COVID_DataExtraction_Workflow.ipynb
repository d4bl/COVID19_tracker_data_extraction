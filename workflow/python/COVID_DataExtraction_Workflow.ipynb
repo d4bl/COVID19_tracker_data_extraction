{
 "cells": [
  {
   "cell_type": "markdown",
   "metadata": {
    "colab_type": "text",
    "id": "kCi6BLGq4Qgz"
   },
   "source": [
    "# Data 4 Black Lives - COVID-19 Case/Death Disparities\n",
    "\n",
    "Objective: Extract COVID-19 cases and deaths for each geographic location, both overall and for Black/African-Americans only."
   ]
  },
  {
   "cell_type": "markdown",
   "metadata": {
    "colab_type": "text",
    "id": "AaKKi3H56o5O"
   },
   "source": [
    "# Setup"
   ]
  },
  {
   "cell_type": "markdown",
   "metadata": {
    "colab_type": "text",
    "id": "umPNurwc8rw5"
   },
   "source": [
    "## Install modules"
   ]
  },
  {
   "cell_type": "markdown",
   "metadata": {
    "colab_type": "text",
    "id": "YaXvlaxJ8nnD"
   },
   "source": [
    "## Import modules"
   ]
  },
  {
   "cell_type": "code",
   "execution_count": 1,
   "metadata": {
    "colab": {},
    "colab_type": "code",
    "id": "A99XSHl55K60"
   },
   "outputs": [],
   "source": [
    "import numpy as np\n",
    "import pandas as pd\n",
    "from datetime import datetime\n",
    "import os\n",
    "from getpass import getpass\n",
    "from importlib import reload "
   ]
  },
  {
   "cell_type": "markdown",
   "metadata": {
    "colab_type": "text",
    "id": "SZMqLtouL7pB"
   },
   "source": [
    "## Set up directories"
   ]
  },
  {
   "cell_type": "code",
   "execution_count": 2,
   "metadata": {
    "colab": {},
    "colab_type": "code",
    "id": "oRFb4nRDCq6G"
   },
   "outputs": [],
   "source": [
    "## On Google Colab\n",
    "#home_dir = '/content'\n",
    "\n",
    "## If on your laptop, set path to 'python subfolder in your local copy of the repo\n",
    "#home_dir_raw = '~/Documents/GitHub/d4bl_covid_tracker/workflow/python'\n",
    "home_dir_raw = '~/Documents/GitHub/COVID19_tracker_data_extraction/workflow/python'\n",
    "\n",
    "home_dir = os.path.expanduser(home_dir_raw)\n",
    "os.chdir(home_dir)"
   ]
  },
  {
   "cell_type": "code",
   "execution_count": 3,
   "metadata": {},
   "outputs": [
    {
     "data": {
      "text/plain": [
       "'/Users/poisson/Documents/GitHub/COVID19_tracker_data_extraction/workflow/python'"
      ]
     },
     "execution_count": 3,
     "metadata": {},
     "output_type": "execute_result"
    }
   ],
   "source": [
    "home_dir"
   ]
  },
  {
   "cell_type": "code",
   "execution_count": 4,
   "metadata": {
    "colab": {},
    "colab_type": "code",
    "id": "nPCyTLcMBdRF"
   },
   "outputs": [
    {
     "name": "stdout",
     "output_type": "stream",
     "text": [
      "removing existing data files\n"
     ]
    },
    {
     "data": {
      "text/plain": [
       "['mass',\n",
       " 'virginia',\n",
       " 'ga',\n",
       " 'michigan',\n",
       " 'minnesota',\n",
       " 'florida',\n",
       " 'dc',\n",
       " 'north carolina',\n",
       " 'san_diego',\n",
       " 'wisconsin_milwaukee',\n",
       " 'texas_bexar']"
      ]
     },
     "execution_count": 4,
     "metadata": {},
     "output_type": "execute_result"
    }
   ],
   "source": [
    "# Create new data folders\n",
    "import shutil\n",
    "if os.path.isdir('data'):\n",
    "    print('removing existing data files')\n",
    "    shutil.rmtree('data', ignore_errors=True)\n",
    "    \n",
    "os.mkdir('data')\n",
    "\n",
    "locations = ['mass', 'virginia', 'dc', 'ga', 'michigan', 'minnesota', \\\n",
    "            'north carolina', 'texas_bexar', 'wisconsin_milwaukee', 'san_diego', 'florida']\n",
    "\n",
    "[os.mkdir(os.path.join('data', loc)) for loc in locations]\n",
    "\n",
    "\n",
    "os.listdir('data')"
   ]
  },
  {
   "cell_type": "code",
   "execution_count": 5,
   "metadata": {},
   "outputs": [],
   "source": [
    "## Create output folder\n",
    "if os.path.isdir('output') is False:\n",
    "    os.mkdir('output')"
   ]
  },
  {
   "cell_type": "code",
   "execution_count": 6,
   "metadata": {},
   "outputs": [
    {
     "name": "stdout",
     "output_type": "stream",
     "text": [
      "\u001b[34mdc\u001b[m\u001b[m                  \u001b[34mmass\u001b[m\u001b[m                \u001b[34mnorth carolina\u001b[m\u001b[m      \u001b[34mvirginia\u001b[m\u001b[m\r\n",
      "\u001b[34mflorida\u001b[m\u001b[m             \u001b[34mmichigan\u001b[m\u001b[m            \u001b[34msan_diego\u001b[m\u001b[m           \u001b[34mwisconsin_milwaukee\u001b[m\u001b[m\r\n",
      "\u001b[34mga\u001b[m\u001b[m                  \u001b[34mminnesota\u001b[m\u001b[m           \u001b[34mtexas_bexar\u001b[m\u001b[m\r\n"
     ]
    }
   ],
   "source": [
    "!ls data"
   ]
  },
  {
   "cell_type": "markdown",
   "metadata": {
    "colab_type": "text",
    "id": "uMrWUSox-gIn"
   },
   "source": [
    "## Helper functions"
   ]
  },
  {
   "cell_type": "code",
   "execution_count": 7,
   "metadata": {
    "colab": {},
    "colab_type": "code",
    "id": "hoO_yChVdvbE"
   },
   "outputs": [],
   "source": [
    "## Source: https://stackoverflow.com/questions/437589/how-do-i-unload-reload-a-module/487718#487718\n",
    "\n",
    "# use instead of: from dfly_parser import parseMessages\n",
    "#importOrReload(\"dfly_parser\", \"parseMessages\")\n",
    "\n",
    "def importOrReload(module_name, *names):\n",
    "    import sys\n",
    "\n",
    "    if module_name in sys.modules:\n",
    "        reload(sys.modules[module_name])\n",
    "    else:\n",
    "        __import__(module_name, fromlist=names)\n",
    "\n",
    "    for name in names:\n",
    "        globals()[name] = getattr(sys.modules[module_name], name)"
   ]
  },
  {
   "cell_type": "code",
   "execution_count": 8,
   "metadata": {
    "colab": {},
    "colab_type": "code",
    "id": "-EJ2dJ0BwdfI"
   },
   "outputs": [],
   "source": [
    "def get_github_file(file_link, new_file_name, token):\n",
    "\n",
    "    auth_link = file_link.replace('https://', 'https://' + token +  '@')\n",
    "    cmd_txt = \"! curl -o {} -s  {}\".format(new_file_name, auth_link)\n",
    "    os.system(cmd_txt)\n",
    "    print('Successfully downloaded {}'.format(new_file_name))"
   ]
  },
  {
   "cell_type": "code",
   "execution_count": 9,
   "metadata": {},
   "outputs": [],
   "source": [
    "def delete_file(file_name):\n",
    "    if os.path.exists(file_name):\n",
    "        os.remove(file_name)"
   ]
  },
  {
   "cell_type": "markdown",
   "metadata": {
    "colab_type": "text",
    "id": "O-Xs0F34-mcs"
   },
   "source": [
    "## Set parameters"
   ]
  },
  {
   "cell_type": "code",
   "execution_count": 10,
   "metadata": {
    "colab": {},
    "colab_type": "code",
    "id": "B0Sm8wvW9BP4"
   },
   "outputs": [],
   "source": [
    "## Replicate results in 4/9/2020 D4BL report?\n",
    "validation_flag = False\n",
    "\n",
    "## Download from Github (True) or use local modules (False)?\n",
    "github_flag = False"
   ]
  },
  {
   "cell_type": "markdown",
   "metadata": {
    "colab_type": "text",
    "id": "HRp1Mne0_ovn"
   },
   "source": [
    "## Download files from Github (optional)"
   ]
  },
  {
   "cell_type": "code",
   "execution_count": 11,
   "metadata": {
    "colab": {
     "base_uri": "https://localhost:8080/",
     "height": 68
    },
    "colab_type": "code",
    "id": "oOgy9fbHfCez",
    "outputId": "a8900c82-db93-464f-ef22-ba4d445c7f48"
   },
   "outputs": [],
   "source": [
    "if github_flag:\n",
    "    ## Prompt for Github token\n",
    "    token = getpass(\"Provide your Github token: \")\n",
    "    \n",
    "    ## Select Githun account name and repository name\n",
    "    acct_name = 'd4bl'\n",
    "    repo_name = 'COVID19_tracker_data_extraction'\n",
    "    \n",
    "    ## Path to repository\n",
    "    repo_path = 'https://raw.githubusercontent.com/{}/{}/master'.format(acct_name, repo_name)\n",
    "\n",
    "    ## Download the files\n",
    "    \n",
    "    get_github_file(file_link = '{}/workflow/python/functions_case1_csv_xlsx.py'.format(repo_path), \n",
    "                new_file_name = os.path.join(home_dir, 'functions_case1_csv_xlsx_gh.py'), token = token)\n",
    "    \n",
    "    get_github_file(file_link = '{}/workflow/python/functions_case2_html.py'.format(repo_path), \n",
    "                new_file_name = os.path.join(home_dir, 'functions_case2_html_gh.py'), token = token)\n",
    "    \n",
    "    get_github_file(file_link = '{}/workflow/python/functions_case3_pdf_table.py'.format(repo_path), \n",
    "                new_file_name = os.path.join(home_dir, 'functions_case3_pdf_table_gh.py'), token = token)\n",
    "    \n",
    "    get_github_file(file_link = '{}/workflow/python/misc_helper_functions.py'.format(repo_path), \n",
    "                new_file_name = os.path.join(home_dir, 'misc_helper_functions_gh.py'), token = token)\n"
   ]
  },
  {
   "cell_type": "code",
   "execution_count": 12,
   "metadata": {},
   "outputs": [
    {
     "data": {
      "text/plain": [
       "['functions_case1_csv_xlsx.py',\n",
       " 'functions_case2_html.py',\n",
       " '.DS_Store',\n",
       " 'misc_helper_functions.py',\n",
       " 'output',\n",
       " '__pycache__',\n",
       " 'functions_case3_pdf_table.py',\n",
       " '.ipynb_checkpoints',\n",
       " 'functions_case2_html_ns.py',\n",
       " 'data',\n",
       " 'COVID_DataExtraction_Workflow.ipynb']"
      ]
     },
     "execution_count": 12,
     "metadata": {},
     "output_type": "execute_result"
    }
   ],
   "source": [
    "os.listdir()"
   ]
  },
  {
   "cell_type": "code",
   "execution_count": 13,
   "metadata": {},
   "outputs": [
    {
     "data": {
      "text/plain": [
       "'/Users/poisson/Documents/GitHub/COVID19_tracker_data_extraction/workflow/python'"
      ]
     },
     "execution_count": 13,
     "metadata": {},
     "output_type": "execute_result"
    }
   ],
   "source": [
    "pwd"
   ]
  },
  {
   "cell_type": "code",
   "execution_count": 14,
   "metadata": {
    "colab": {},
    "colab_type": "code",
    "id": "XMSvUTYomYcX"
   },
   "outputs": [],
   "source": [
    "#os.chdir(home_dir)\n",
    "#! cat functions_case1_csv_xlsx_gh.py"
   ]
  },
  {
   "cell_type": "code",
   "execution_count": 15,
   "metadata": {},
   "outputs": [
    {
     "name": "stdout",
     "output_type": "stream",
     "text": [
      "COVID_DataExtraction_Workflow.ipynb functions_case2_html_ns.py\r\n",
      "\u001b[34m__pycache__\u001b[m\u001b[m                         functions_case3_pdf_table.py\r\n",
      "\u001b[34mdata\u001b[m\u001b[m                                misc_helper_functions.py\r\n",
      "functions_case1_csv_xlsx.py         \u001b[34moutput\u001b[m\u001b[m\r\n",
      "functions_case2_html.py\r\n"
     ]
    }
   ],
   "source": [
    "!ls"
   ]
  },
  {
   "cell_type": "markdown",
   "metadata": {
    "colab_type": "text",
    "id": "7kejUcqqMvmg"
   },
   "source": [
    "## Load python scripts"
   ]
  },
  {
   "cell_type": "code",
   "execution_count": 16,
   "metadata": {
    "colab": {
     "base_uri": "https://localhost:8080/",
     "height": 34
    },
    "colab_type": "code",
    "id": "7AxAmoqqLaU5",
    "outputId": "7cf5d251-3fa1-4dd0-ef9f-79b135ba739f"
   },
   "outputs": [],
   "source": [
    "case1_locations = [\"massachusetts\", \"virginia\", \"washingtonDC\", \"georgia\"]\n",
    "case2_locations = ['michigan', 'minnesota', 'north_carolina', 'texas_bexar_county', 'wisconsin_milwaukee']\n",
    "case3_locations = ['san_diego', 'florida']\n",
    "functions_case1 = ['data_extract_' + loc for loc in case1_locations]\n",
    "functions_case2 = ['data_extract_' + loc for loc in case2_locations]\n",
    "functions_case3 = ['data_extract_' + loc for loc in case3_locations]\n",
    "\n",
    "if github_flag:\n",
    "    [importOrReload(\"functions_case1_csv_xlsx_gh\", function_name) for function_name in functions_case1]\n",
    "    [importOrReload(\"functions_case2_html_gh\", function_name) for function_name in functions_case2]\n",
    "    [importOrReload(\"functions_case3_pdf_table_gh\", function_name) for function_name in functions_case3]\n",
    "else:\n",
    "    [importOrReload(\"functions_case1_csv_xlsx\", function_name) for function_name in functions_case1]\n",
    "    [importOrReload(\"functions_case2_html\", function_name) for function_name in functions_case2]\n",
    "    [importOrReload(\"functions_case3_pdf_table\", function_name) for function_name in functions_case3]"
   ]
  },
  {
   "cell_type": "markdown",
   "metadata": {
    "colab_type": "text",
    "id": "EXMayLLDesmF"
   },
   "source": [
    "## Create empty dictionary to hold results"
   ]
  },
  {
   "cell_type": "code",
   "execution_count": 17,
   "metadata": {
    "colab": {},
    "colab_type": "code",
    "id": "JsycsESReroZ"
   },
   "outputs": [],
   "source": [
    "## Dictionary to hold results\n",
    "output = dict()"
   ]
  },
  {
   "cell_type": "markdown",
   "metadata": {
    "colab_type": "text",
    "id": "Rc3QCdrY-8XU"
   },
   "source": [
    "# Data Extraction"
   ]
  },
  {
   "cell_type": "markdown",
   "metadata": {
    "colab_type": "text",
    "id": "qIrio9J8-_kj"
   },
   "source": [
    "## Case 1: Read from CSV and XLSX files"
   ]
  },
  {
   "cell_type": "code",
   "execution_count": 18,
   "metadata": {
    "colab": {
     "base_uri": "https://localhost:8080/",
     "height": 374
    },
    "colab_type": "code",
    "id": "wYZnVDM8-oEv",
    "outputId": "e0672301-296d-4f39-980a-6aff18cb5ce2"
   },
   "outputs": [
    {
     "name": "stdout",
     "output_type": "stream",
     "text": [
      "Navigate to Massachusetts data folder\n",
      "Get URLs on Massachusetts COVID-19 response reporting page\n",
      "['/doc/covid-19-raw-data-may-10-2020/download']\n",
      "Find the URL corresponding to the COVID-19 data file\n",
      "https://www.mass.gov/doc/covid-19-raw-data-may-10-2020/download\n",
      "Download the file\n",
      "/Users/poisson/Documents/GitHub/COVID19_tracker_data_extraction/workflow/python/data/mass/massachusetts.zip\n",
      "file download success!\n",
      "Unzip the file\n",
      "Get the race/ethnicity breakdown\n",
      "Get date of most recent data published\n",
      "Get the data for only most recent data published (or validation date)\n",
      "Total cases\n",
      "Total deaths\n",
      "AA cases\n",
      "AA deaths\n",
      "Success!\n"
     ]
    }
   ],
   "source": [
    "output['Massachusetts'] = data_extract_massachusetts(validation = validation_flag, \n",
    "                                                     home_dir = home_dir)"
   ]
  },
  {
   "cell_type": "code",
   "execution_count": 19,
   "metadata": {
    "colab": {
     "base_uri": "https://localhost:8080/",
     "height": 425
    },
    "colab_type": "code",
    "id": "o96sB5Ji_EBl",
    "outputId": "3b212e03-2f45-42c4-a694-3cfc7a1eb90e"
   },
   "outputs": [
    {
     "name": "stdout",
     "output_type": "stream",
     "text": [
      "Navigate to Virginia data folder\n",
      "Download the CSV for race\n",
      "file download success!\n",
      "Read in the file\n",
      "Get only the most recent data published\n",
      "Roll up counts to race\n",
      "Total cases\n",
      "Total deaths\n",
      "AA cases\n",
      "AA deaths\n",
      "Success!\n"
     ]
    }
   ],
   "source": [
    "output['Virginia'] = data_extract_virginia(validation = validation_flag, \n",
    "                                           home_dir = home_dir)"
   ]
  },
  {
   "cell_type": "code",
   "execution_count": 20,
   "metadata": {
    "colab": {
     "base_uri": "https://localhost:8080/",
     "height": 697
    },
    "colab_type": "code",
    "id": "ZxUQ3rPo_EG7",
    "outputId": "8af0e3ab-2e66-45c2-ce12-3d43adec4a22"
   },
   "outputs": [
    {
     "name": "stdout",
     "output_type": "stream",
     "text": [
      "Navigate to Washington, DC data folder\n",
      "Find links to all Washington, DC COVID data files\n",
      "Find date strings in data files\n",
      "Convert date strings to date\n",
      "Find most recent date\n",
      "Convert to date format expected in data file\n",
      "Download the most recent data file\n",
      "file download success!\n",
      "Load the race/ethnicity breakdown of cases\n",
      "Set column names\n",
      "Get date of most recent data published\n",
      "Get cases associated with desired timestamp (most recent or 4/9/2020 validation date)\n",
      "Load the race/ethnicity breakdown of deaths\n",
      "Set column names\n",
      "Get deaths associated with desired timestamp (most recent or 4/9/2020 validation date)\n",
      "Get report date, formatted for output\n",
      "Total cases\n",
      "Total deaths\n",
      "AA cases\n",
      "AA deaths\n",
      "Success!\n"
     ]
    }
   ],
   "source": [
    "output['Washington DC'] = data_extract_washingtonDC(validation = validation_flag, \n",
    "                                                    home_dir = home_dir)"
   ]
  },
  {
   "cell_type": "code",
   "execution_count": 21,
   "metadata": {
    "colab": {
     "base_uri": "https://localhost:8080/",
     "height": 493
    },
    "colab_type": "code",
    "id": "O8PoRgeynYIV",
    "outputId": "1b8732fe-e827-476c-a77b-451c1b65ad44"
   },
   "outputs": [
    {
     "name": "stdout",
     "output_type": "stream",
     "text": [
      "Navigate to Georgia data folder\n",
      "Download file\n",
      "Read contents of the zip\n",
      "Report date = last update of the demographics.csv file in the ZIP archive\n",
      "Load demographics CSV\n",
      "African American cases and deaths\n",
      "Success!\n"
     ]
    }
   ],
   "source": [
    "output['Georgia'] = data_extract_georgia(validation = validation_flag, \n",
    "                                         home_dir = home_dir)"
   ]
  },
  {
   "cell_type": "markdown",
   "metadata": {},
   "source": [
    "## Case 2: Extract data from HTML source code"
   ]
  },
  {
   "cell_type": "code",
   "execution_count": 22,
   "metadata": {},
   "outputs": [
    {
     "name": "stdout",
     "output_type": "stream",
     "text": [
      "request successful\n",
      "Success!\n"
     ]
    }
   ],
   "source": [
    "output['Michigan'] = data_extract_michigan(validation = validation_flag, \n",
    "                                         home_dir = home_dir)"
   ]
  },
  {
   "cell_type": "code",
   "execution_count": 23,
   "metadata": {},
   "outputs": [
    {
     "name": "stdout",
     "output_type": "stream",
     "text": [
      "request successful\n",
      "Date: 5/10/2020\n",
      "Number Cases: 11271\n",
      "Number Deaths: 578\n",
      "Pct Cases Black/AA: \n",
      "Pct Deaths Black/AA: \n",
      "Success!\n"
     ]
    }
   ],
   "source": [
    "output['Minnesota'] = data_extract_minnesota(validation = validation_flag, \n",
    "                                         home_dir = home_dir)"
   ]
  },
  {
   "cell_type": "code",
   "execution_count": 24,
   "metadata": {},
   "outputs": [
    {
     "name": "stdout",
     "output_type": "stream",
     "text": [
      "request successful\n",
      "Date: 5/10/2020\n",
      "Number Cases: 547\n",
      "Number Deaths: 14764\n",
      "Pct Cases Black/AA: 35\n",
      "Pct Deaths Black/AA: 34\n",
      "Success!\n"
     ]
    }
   ],
   "source": [
    "output['North Carolina'] = data_extract_north_carolina(validation = validation_flag, \n",
    "                                         home_dir = home_dir)"
   ]
  },
  {
   "cell_type": "code",
   "execution_count": 25,
   "metadata": {},
   "outputs": [
    {
     "name": "stdout",
     "output_type": "stream",
     "text": [
      "Success!\n"
     ]
    }
   ],
   "source": [
    "output['Texas -- Bexar County'] = data_extract_texas_bexar_county(validation = validation_flag, \n",
    "                                         home_dir = home_dir)"
   ]
  },
  {
   "cell_type": "code",
   "execution_count": 26,
   "metadata": {},
   "outputs": [
    {
     "name": "stdout",
     "output_type": "stream",
     "text": [
      "Success!\n"
     ]
    }
   ],
   "source": [
    "output['Wisconsin -- Milwaukee'] = data_extract_wisconsin_milwaukee(validation = validation_flag, \n",
    "                                         home_dir = home_dir)"
   ]
  },
  {
   "cell_type": "markdown",
   "metadata": {},
   "source": [
    "## Case #3: PDF table extraction"
   ]
  },
  {
   "cell_type": "code",
   "execution_count": 27,
   "metadata": {},
   "outputs": [
    {
     "name": "stdout",
     "output_type": "stream",
     "text": [
      "file download success!\n"
     ]
    },
    {
     "name": "stderr",
     "output_type": "stream",
     "text": [
      "'pages' argument isn't specified.Will extract only from page 1 by default.\n"
     ]
    },
    {
     "name": "stdout",
     "output_type": "stream",
     "text": [
      "file download success!\n"
     ]
    },
    {
     "name": "stderr",
     "output_type": "stream",
     "text": [
      "'pages' argument isn't specified.Will extract only from page 1 by default.\n"
     ]
    },
    {
     "name": "stdout",
     "output_type": "stream",
     "text": [
      "4926\n"
     ]
    },
    {
     "name": "stderr",
     "output_type": "stream",
     "text": [
      "Got stderr: May 10, 2020 7:19:45 PM org.apache.pdfbox.pdmodel.font.PDTrueTypeFont <init>\n",
      "WARNING: Using fallback font 'Helvetica' for 'CenturyGothic'\n",
      "May 10, 2020 7:19:46 PM org.apache.pdfbox.pdmodel.font.PDTrueTypeFont <init>\n",
      "WARNING: Using fallback font 'Helvetica' for 'CenturyGothic'\n",
      "May 10, 2020 7:19:46 PM org.apache.pdfbox.pdmodel.font.PDTrueTypeFont <init>\n",
      "WARNING: Using fallback font 'Helvetica' for 'CenturyGothic'\n",
      "\n"
     ]
    },
    {
     "name": "stdout",
     "output_type": "stream",
     "text": [
      "175\n"
     ]
    }
   ],
   "source": [
    "output['San Diego'] = data_extract_san_diego(validation = validation_flag, \n",
    "                                         home_dir = home_dir)"
   ]
  },
  {
   "cell_type": "markdown",
   "metadata": {},
   "source": [
    "### Note about Florida:\n",
    "\n",
    "The Florida PDF is quite large and takes a long time to download.  After you download today's file once, you might optionally want to set `refresh = False` on subsequent runs to use the copy already saved locally."
   ]
  },
  {
   "cell_type": "code",
   "execution_count": 35,
   "metadata": {},
   "outputs": [
    {
     "name": "stdout",
     "output_type": "stream",
     "text": [
      "Find daily Florida URL\n",
      "https://floridadisaster.org/globalassets/covid19/dailies/covid-19-data---daily-report-2020-05-10-10am.pdf\n",
      "file download success!\n",
      "Parse the PDF\n",
      "Execution error!\n",
      "could not convert string to float: '16%'\n"
     ]
    }
   ],
   "source": [
    "output['Florida'] = data_extract_florida(validation = validation_flag, \n",
    "                                         home_dir = home_dir, refresh = True)  "
   ]
  },
  {
   "cell_type": "markdown",
   "metadata": {
    "colab_type": "text",
    "id": "jVYTPSrblh1a"
   },
   "source": [
    "# Combining into a single dataframe"
   ]
  },
  {
   "cell_type": "code",
   "execution_count": 29,
   "metadata": {
    "colab": {
     "base_uri": "https://localhost:8080/",
     "height": 173
    },
    "colab_type": "code",
    "id": "VMtcaAvRRWBh",
    "outputId": "4099f8eb-90ea-4198-fc55-e2bcb8506b10"
   },
   "outputs": [
    {
     "data": {
      "text/html": [
       "<div>\n",
       "<style scoped>\n",
       "    .dataframe tbody tr th:only-of-type {\n",
       "        vertical-align: middle;\n",
       "    }\n",
       "\n",
       "    .dataframe tbody tr th {\n",
       "        vertical-align: top;\n",
       "    }\n",
       "\n",
       "    .dataframe thead th {\n",
       "        text-align: right;\n",
       "    }\n",
       "</style>\n",
       "<table border=\"1\" class=\"dataframe\">\n",
       "  <thead>\n",
       "    <tr style=\"text-align: right;\">\n",
       "      <th></th>\n",
       "      <th>Location</th>\n",
       "      <th>Date Published</th>\n",
       "      <th>Total Cases</th>\n",
       "      <th>Total Deaths</th>\n",
       "      <th>Count Cases Black/AA</th>\n",
       "      <th>Count Deaths Black/AA</th>\n",
       "      <th>Pct Cases Black/AA</th>\n",
       "      <th>Pct Deaths Black/AA</th>\n",
       "      <th>Status code</th>\n",
       "    </tr>\n",
       "  </thead>\n",
       "  <tbody>\n",
       "    <tr>\n",
       "      <th>Massachusetts</th>\n",
       "      <td>Massachusetts</td>\n",
       "      <td>5/9/2020</td>\n",
       "      <td>76743</td>\n",
       "      <td>4840</td>\n",
       "      <td>6288</td>\n",
       "      <td>252</td>\n",
       "      <td>8.19</td>\n",
       "      <td>5.21</td>\n",
       "      <td>Success!</td>\n",
       "    </tr>\n",
       "    <tr>\n",
       "      <th>Virginia</th>\n",
       "      <td>Virginia</td>\n",
       "      <td>5/10/2020</td>\n",
       "      <td>24081</td>\n",
       "      <td>839</td>\n",
       "      <td>4031</td>\n",
       "      <td>187</td>\n",
       "      <td>16.74</td>\n",
       "      <td>22.29</td>\n",
       "      <td>Success!</td>\n",
       "    </tr>\n",
       "    <tr>\n",
       "      <th>Washington DC</th>\n",
       "      <td>Washington, DC</td>\n",
       "      <td>5/8/2020</td>\n",
       "      <td>5899</td>\n",
       "      <td>304</td>\n",
       "      <td>2793</td>\n",
       "      <td>241</td>\n",
       "      <td>47.35</td>\n",
       "      <td>79.28</td>\n",
       "      <td>Success!</td>\n",
       "    </tr>\n",
       "    <tr>\n",
       "      <th>Georgia</th>\n",
       "      <td>Georgia</td>\n",
       "      <td>5/10/2020</td>\n",
       "      <td>33508</td>\n",
       "      <td>1405</td>\n",
       "      <td>11857</td>\n",
       "      <td>697</td>\n",
       "      <td>35.39</td>\n",
       "      <td>49.61</td>\n",
       "      <td>Success!</td>\n",
       "    </tr>\n",
       "    <tr>\n",
       "      <th>Michigan</th>\n",
       "      <td>Michigan</td>\n",
       "      <td>5/10/2020</td>\n",
       "      <td>47138</td>\n",
       "      <td>4551</td>\n",
       "      <td>15084</td>\n",
       "      <td>1866</td>\n",
       "      <td>32</td>\n",
       "      <td>41</td>\n",
       "      <td>Success!</td>\n",
       "    </tr>\n",
       "    <tr>\n",
       "      <th>Minnesota</th>\n",
       "      <td>Minnesota</td>\n",
       "      <td>5/10/2020</td>\n",
       "      <td>11271</td>\n",
       "      <td>578</td>\n",
       "      <td>1916</td>\n",
       "      <td>35</td>\n",
       "      <td>17</td>\n",
       "      <td>6</td>\n",
       "      <td>Success!</td>\n",
       "    </tr>\n",
       "    <tr>\n",
       "      <th>North Carolina</th>\n",
       "      <td>North Carolina</td>\n",
       "      <td>5/10/2020</td>\n",
       "      <td>547</td>\n",
       "      <td>14764</td>\n",
       "      <td>191</td>\n",
       "      <td>5020</td>\n",
       "      <td>35</td>\n",
       "      <td>34</td>\n",
       "      <td>Success!</td>\n",
       "    </tr>\n",
       "    <tr>\n",
       "      <th>Texas -- Bexar County</th>\n",
       "      <td>Texas -- Bexar County</td>\n",
       "      <td>5/9/2020</td>\n",
       "      <td>1805</td>\n",
       "      <td>54</td>\n",
       "      <td>168</td>\n",
       "      <td>13</td>\n",
       "      <td>9.31</td>\n",
       "      <td>24.07</td>\n",
       "      <td>Success!</td>\n",
       "    </tr>\n",
       "    <tr>\n",
       "      <th>Wisconsin -- Milwaukee</th>\n",
       "      <td>Wisconsin -- Milwaukee</td>\n",
       "      <td>5/10/2020</td>\n",
       "      <td>3981</td>\n",
       "      <td>217</td>\n",
       "      <td>1544</td>\n",
       "      <td>106</td>\n",
       "      <td>38.78</td>\n",
       "      <td>48.85</td>\n",
       "      <td>Success!</td>\n",
       "    </tr>\n",
       "    <tr>\n",
       "      <th>San Diego</th>\n",
       "      <td>California - San Diego</td>\n",
       "      <td>5/9/2020</td>\n",
       "      <td>4926</td>\n",
       "      <td>175</td>\n",
       "      <td>167</td>\n",
       "      <td>4</td>\n",
       "      <td>3.39</td>\n",
       "      <td>2.29</td>\n",
       "      <td>Success!</td>\n",
       "    </tr>\n",
       "    <tr>\n",
       "      <th>Florida</th>\n",
       "      <td>Florida</td>\n",
       "      <td></td>\n",
       "      <td>NaN</td>\n",
       "      <td>NaN</td>\n",
       "      <td>NaN</td>\n",
       "      <td>NaN</td>\n",
       "      <td>NaN</td>\n",
       "      <td>NaN</td>\n",
       "      <td>An error occured. ... FileNotFoundError(2, 'No...</td>\n",
       "    </tr>\n",
       "  </tbody>\n",
       "</table>\n",
       "</div>"
      ],
      "text/plain": [
       "                                      Location Date Published Total Cases  \\\n",
       "Massachusetts                    Massachusetts       5/9/2020       76743   \n",
       "Virginia                              Virginia      5/10/2020       24081   \n",
       "Washington DC                   Washington, DC       5/8/2020        5899   \n",
       "Georgia                                Georgia      5/10/2020       33508   \n",
       "Michigan                              Michigan      5/10/2020       47138   \n",
       "Minnesota                            Minnesota      5/10/2020       11271   \n",
       "North Carolina                  North Carolina      5/10/2020         547   \n",
       "Texas -- Bexar County    Texas -- Bexar County       5/9/2020        1805   \n",
       "Wisconsin -- Milwaukee  Wisconsin -- Milwaukee      5/10/2020        3981   \n",
       "San Diego               California - San Diego       5/9/2020        4926   \n",
       "Florida                                Florida                        NaN   \n",
       "\n",
       "                       Total Deaths Count Cases Black/AA  \\\n",
       "Massachusetts                  4840                 6288   \n",
       "Virginia                        839                 4031   \n",
       "Washington DC                   304                 2793   \n",
       "Georgia                        1405                11857   \n",
       "Michigan                       4551                15084   \n",
       "Minnesota                       578                 1916   \n",
       "North Carolina                14764                  191   \n",
       "Texas -- Bexar County            54                  168   \n",
       "Wisconsin -- Milwaukee          217                 1544   \n",
       "San Diego                       175                  167   \n",
       "Florida                         NaN                  NaN   \n",
       "\n",
       "                       Count Deaths Black/AA Pct Cases Black/AA  \\\n",
       "Massachusetts                            252               8.19   \n",
       "Virginia                                 187              16.74   \n",
       "Washington DC                            241              47.35   \n",
       "Georgia                                  697              35.39   \n",
       "Michigan                                1866                 32   \n",
       "Minnesota                                 35                 17   \n",
       "North Carolina                          5020                 35   \n",
       "Texas -- Bexar County                     13               9.31   \n",
       "Wisconsin -- Milwaukee                   106              38.78   \n",
       "San Diego                                  4               3.39   \n",
       "Florida                                  NaN                NaN   \n",
       "\n",
       "                       Pct Deaths Black/AA  \\\n",
       "Massachusetts                         5.21   \n",
       "Virginia                             22.29   \n",
       "Washington DC                        79.28   \n",
       "Georgia                              49.61   \n",
       "Michigan                                41   \n",
       "Minnesota                                6   \n",
       "North Carolina                          34   \n",
       "Texas -- Bexar County                24.07   \n",
       "Wisconsin -- Milwaukee               48.85   \n",
       "San Diego                             2.29   \n",
       "Florida                                NaN   \n",
       "\n",
       "                                                              Status code  \n",
       "Massachusetts                                                    Success!  \n",
       "Virginia                                                         Success!  \n",
       "Washington DC                                                    Success!  \n",
       "Georgia                                                          Success!  \n",
       "Michigan                                                         Success!  \n",
       "Minnesota                                                        Success!  \n",
       "North Carolina                                                   Success!  \n",
       "Texas -- Bexar County                                            Success!  \n",
       "Wisconsin -- Milwaukee                                           Success!  \n",
       "San Diego                                                        Success!  \n",
       "Florida                 An error occured. ... FileNotFoundError(2, 'No...  "
      ]
     },
     "execution_count": 29,
     "metadata": {},
     "output_type": "execute_result"
    }
   ],
   "source": [
    "output_df = pd.DataFrame(output).T\n",
    "output_df"
   ]
  },
  {
   "cell_type": "code",
   "execution_count": 30,
   "metadata": {},
   "outputs": [
    {
     "data": {
      "text/plain": [
       "array(['Success!', 'Success!', 'Success!', 'Success!', 'Success!',\n",
       "       'Success!', 'Success!', 'Success!', 'Success!', 'Success!',\n",
       "       \"An error occured. ... FileNotFoundError(2, 'No such file or directory')\"],\n",
       "      dtype=object)"
      ]
     },
     "execution_count": 30,
     "metadata": {},
     "output_type": "execute_result"
    }
   ],
   "source": [
    "output_df['Status code'].values"
   ]
  },
  {
   "cell_type": "code",
   "execution_count": 31,
   "metadata": {
    "colab": {},
    "colab_type": "code",
    "id": "PlDJj0grP4O_"
   },
   "outputs": [],
   "source": [
    "date_stamp = datetime.now().strftime('%Y-%m-%d')\n",
    "out_file = os.path.join(home_dir, 'output', 'csv', 'covid_disparities_output_' + date_stamp + '.csv')\n",
    "output_df.to_csv(out_file)"
   ]
  },
  {
   "cell_type": "code",
   "execution_count": 32,
   "metadata": {},
   "outputs": [],
   "source": [
    "out_file = os.path.join(home_dir, 'output', 'xlsx', 'covid_disparities_output_' + date_stamp + '.xlsx')\n",
    "output_df.to_excel(out_file)"
   ]
  },
  {
   "cell_type": "code",
   "execution_count": 33,
   "metadata": {
    "colab": {
     "base_uri": "https://localhost:8080/",
     "height": 68
    },
    "colab_type": "code",
    "id": "lnQYNvqrYkwS",
    "outputId": "ba7b127b-a653-4b72-b847-86f4f9f19af0"
   },
   "outputs": [
    {
     "name": "stdout",
     "output_type": "stream",
     "text": [
      "covid_disparities_output_2020-05-08.csv\r\n",
      "covid_disparities_output_2020-05-08.xlsx\r\n",
      "covid_disparities_output_2020-05-09.csv\r\n",
      "covid_disparities_output_2020-05-09.xlsx\r\n",
      "covid_disparities_output_2020-05-10.csv\r\n",
      "covid_disparities_output_2020-05-10.xlsx\r\n"
     ]
    }
   ],
   "source": [
    "os.chdir(os.path.join(home_dir, 'output'))\n",
    "!ls"
   ]
  },
  {
   "cell_type": "code",
   "execution_count": null,
   "metadata": {},
   "outputs": [],
   "source": []
  },
  {
   "cell_type": "markdown",
   "metadata": {},
   "source": [
    "## Clean up downloaded files (if applicable)"
   ]
  },
  {
   "cell_type": "code",
   "execution_count": 36,
   "metadata": {},
   "outputs": [],
   "source": [
    "delete_file('functions_case1_csv_xlsx_gh.py')\n",
    "delete_file('functions_case2_html_gh.py')\n",
    "delete_file('functions_case3_pdf_table_gh.py')\n",
    "delete_file('misc_helper_functions_gh.py')    "
   ]
  },
  {
   "cell_type": "code",
   "execution_count": null,
   "metadata": {},
   "outputs": [],
   "source": []
  }
 ],
 "metadata": {
  "colab": {
   "collapsed_sections": [],
   "name": "COVID-DataExtraction_Workflow.ipynb",
   "provenance": []
  },
  "kernelspec": {
   "display_name": "Python 3",
   "language": "python",
   "name": "python3"
  },
  "language_info": {
   "codemirror_mode": {
    "name": "ipython",
    "version": 3
   },
   "file_extension": ".py",
   "mimetype": "text/x-python",
   "name": "python",
   "nbconvert_exporter": "python",
   "pygments_lexer": "ipython3",
   "version": "3.7.6"
  }
 },
 "nbformat": 4,
 "nbformat_minor": 1
}
