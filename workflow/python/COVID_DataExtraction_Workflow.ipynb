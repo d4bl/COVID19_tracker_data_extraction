{
 "cells": [
  {
   "cell_type": "markdown",
   "metadata": {
    "colab_type": "text",
    "id": "kCi6BLGq4Qgz"
   },
   "source": [
    "# Data 4 Black Lives - COVID-19 Case/Death Disparities\n",
    "\n",
    "Objective: Extract COVID-19 cases and deaths for each geographic location, both overall and for Black/African-Americans only."
   ]
  },
  {
   "cell_type": "markdown",
   "metadata": {
    "colab_type": "text",
    "id": "AaKKi3H56o5O"
   },
   "source": [
    "# Setup"
   ]
  },
  {
   "cell_type": "markdown",
   "metadata": {
    "colab_type": "text",
    "id": "umPNurwc8rw5"
   },
   "source": [
    "## Install modules"
   ]
  },
  {
   "cell_type": "code",
   "execution_count": null,
   "metadata": {},
   "outputs": [],
   "source": []
  },
  {
   "cell_type": "markdown",
   "metadata": {
    "colab_type": "text",
    "id": "YaXvlaxJ8nnD"
   },
   "source": [
    "## Import modules"
   ]
  },
  {
   "cell_type": "code",
   "execution_count": 1,
   "metadata": {
    "colab": {},
    "colab_type": "code",
    "id": "A99XSHl55K60"
   },
   "outputs": [],
   "source": [
    "import numpy as np\n",
    "import pandas as pd\n",
    "from datetime import datetime\n",
    "import os\n",
    "from getpass import getpass\n",
    "from importlib import reload "
   ]
  },
  {
   "cell_type": "markdown",
   "metadata": {
    "colab_type": "text",
    "id": "SZMqLtouL7pB"
   },
   "source": [
    "## Set up directories"
   ]
  },
  {
   "cell_type": "code",
   "execution_count": 2,
   "metadata": {
    "colab": {},
    "colab_type": "code",
    "id": "oRFb4nRDCq6G"
   },
   "outputs": [],
   "source": [
    "## On Google Colab\n",
    "#home_dir = '/content'\n",
    "\n",
    "## If on your laptop, set path to 'python subfolder in your local copy of the repo\n",
    "#home_dir_raw = '~/Documents/GitHub/d4bl_covid_tracker/workflow/python'\n",
    "home_dir_raw = '~/Documents/GitHub/COVID19_tracker_data_extraction/workflow/python'\n",
    "\n",
    "home_dir = os.path.expanduser(home_dir_raw)\n",
    "os.chdir(home_dir)"
   ]
  },
  {
   "cell_type": "code",
   "execution_count": 3,
   "metadata": {
    "colab": {},
    "colab_type": "code",
    "id": "nPCyTLcMBdRF"
   },
   "outputs": [
    {
     "name": "stdout",
     "output_type": "stream",
     "text": [
      "removing existing data files\n"
     ]
    },
    {
     "data": {
      "text/plain": [
       "['mass',\n",
       " 'virginia',\n",
       " 'ga',\n",
       " 'michigan',\n",
       " 'minnesota',\n",
       " 'dc',\n",
       " 'north carolina',\n",
       " 'wisconsin_milwaukee',\n",
       " 'texas_bexar']"
      ]
     },
     "execution_count": 3,
     "metadata": {},
     "output_type": "execute_result"
    }
   ],
   "source": [
    "# Create new data folders\n",
    "import shutil\n",
    "if os.path.isdir('data'):\n",
    "    print('removing existing data files')\n",
    "    shutil.rmtree('data', ignore_errors=True)\n",
    "    \n",
    "os.mkdir('data')\n",
    "\n",
    "locations = ['mass', 'virginia', 'dc', 'ga', 'michigan', 'minnesota', \\\n",
    "            'north carolina', 'texas_bexar', 'wisconsin_milwaukee']\n",
    "\n",
    "[os.mkdir(os.path.join('data', loc)) for loc in locations]\n",
    "\n",
    "\n",
    "os.listdir('data')"
   ]
  },
  {
   "cell_type": "code",
   "execution_count": 4,
   "metadata": {},
   "outputs": [],
   "source": [
    "## Create output folder\n",
    "if os.path.isdir('output') is False:\n",
    "    os.mkdir('output')"
   ]
  },
  {
   "cell_type": "code",
   "execution_count": 5,
   "metadata": {},
   "outputs": [
    {
     "name": "stdout",
     "output_type": "stream",
     "text": [
      "\u001b[34mdc\u001b[m\u001b[m                  \u001b[34mmichigan\u001b[m\u001b[m            \u001b[34mtexas_bexar\u001b[m\u001b[m\r\n",
      "\u001b[34mga\u001b[m\u001b[m                  \u001b[34mminnesota\u001b[m\u001b[m           \u001b[34mvirginia\u001b[m\u001b[m\r\n",
      "\u001b[34mmass\u001b[m\u001b[m                \u001b[34mnorth carolina\u001b[m\u001b[m      \u001b[34mwisconsin_milwaukee\u001b[m\u001b[m\r\n"
     ]
    }
   ],
   "source": [
    "!ls data"
   ]
  },
  {
   "cell_type": "markdown",
   "metadata": {
    "colab_type": "text",
    "id": "uMrWUSox-gIn"
   },
   "source": [
    "## Helper functions"
   ]
  },
  {
   "cell_type": "code",
   "execution_count": 6,
   "metadata": {
    "colab": {},
    "colab_type": "code",
    "id": "hoO_yChVdvbE"
   },
   "outputs": [],
   "source": [
    "## Source: https://stackoverflow.com/questions/437589/how-do-i-unload-reload-a-module/487718#487718\n",
    "\n",
    "# use instead of: from dfly_parser import parseMessages\n",
    "#importOrReload(\"dfly_parser\", \"parseMessages\")\n",
    "\n",
    "def importOrReload(module_name, *names):\n",
    "    import sys\n",
    "\n",
    "    if module_name in sys.modules:\n",
    "        reload(sys.modules[module_name])\n",
    "    else:\n",
    "        __import__(module_name, fromlist=names)\n",
    "\n",
    "    for name in names:\n",
    "        globals()[name] = getattr(sys.modules[module_name], name)"
   ]
  },
  {
   "cell_type": "code",
   "execution_count": 7,
   "metadata": {
    "colab": {},
    "colab_type": "code",
    "id": "-EJ2dJ0BwdfI"
   },
   "outputs": [],
   "source": [
    "def get_github_file(file_link, new_file_name, token):\n",
    "\n",
    "    auth_link = file_link.replace('https://', 'https://' + token +  '@')\n",
    "    cmd_txt = \"! curl -o {} -s  {}\".format(new_file_name, auth_link)\n",
    "    os.system(cmd_txt)\n",
    "    print('Successfully downloaded {}'.format(new_file_name))"
   ]
  },
  {
   "cell_type": "code",
   "execution_count": 8,
   "metadata": {},
   "outputs": [],
   "source": [
    "def delete_file(file_name):\n",
    "    if os.path.exists(file_name):\n",
    "        os.remove(file_name)"
   ]
  },
  {
   "cell_type": "markdown",
   "metadata": {
    "colab_type": "text",
    "id": "O-Xs0F34-mcs"
   },
   "source": [
    "## Set parameters"
   ]
  },
  {
   "cell_type": "code",
   "execution_count": 9,
   "metadata": {
    "colab": {},
    "colab_type": "code",
    "id": "B0Sm8wvW9BP4"
   },
   "outputs": [],
   "source": [
    "## Replicate results in 4/9/2020 D4BL report?\n",
    "validation_flag = False\n",
    "\n",
    "## Download from Github (True) or use local modules (False)?\n",
    "github_flag = False"
   ]
  },
  {
   "cell_type": "markdown",
   "metadata": {
    "colab_type": "text",
    "id": "HRp1Mne0_ovn"
   },
   "source": [
    "## Download files from Github (optional)"
   ]
  },
  {
   "cell_type": "code",
   "execution_count": 10,
   "metadata": {
    "colab": {
     "base_uri": "https://localhost:8080/",
     "height": 68
    },
    "colab_type": "code",
    "id": "oOgy9fbHfCez",
    "outputId": "a8900c82-db93-464f-ef22-ba4d445c7f48"
   },
   "outputs": [],
   "source": [
    "if github_flag:\n",
    "    ## Prompt for Github token\n",
    "    token = getpass(\"Provide your Github token: \")\n",
    "    \n",
    "    ## Select account name and repository name\n",
    "    acct_name = 'd4bl'; repo_name = 'COVID19_tracker_data_extraction'\n",
    "    \n",
    "    ## Path to repository\n",
    "    repo_path = 'https://raw.githubusercontent.com/{}/{}/master'.format(acct_name, repo_name)\n",
    "\n",
    "    ## Download the files\n",
    "    delete_file('functions_case1_csv_xlsx_gh.py')\n",
    "    get_github_file(file_link = '{}/workflow/python/functions_case1_csv_xlsx.py'.format(repo_path), \n",
    "                new_file_name = os.path.join(home_dir, 'functions_case1_csv_xlsx_gh.py'), token = token)\n",
    "    \n",
    "    delete_file('misc_helper_functions_gh.py')\n",
    "    get_github_file(file_link = '{}/workflow/python/misc_helper_functions.py'.format(repo_path), \n",
    "                new_file_name = os.path.join(home_dir, 'misc_helper_functions_gh.py'), token = token)"
   ]
  },
  {
   "cell_type": "code",
   "execution_count": 11,
   "metadata": {},
   "outputs": [
    {
     "data": {
      "text/plain": [
       "['functions_case1_csv_xlsx.py',\n",
       " 'functions_case2_html.py',\n",
       " '.DS_Store',\n",
       " 'misc_helper_functions.py',\n",
       " 'output',\n",
       " 'helper_functions',\n",
       " '__pycache__',\n",
       " 'case1_csv_xlsx',\n",
       " 'case3_pdf_table',\n",
       " '.ipynb_checkpoints',\n",
       " 'case2_html',\n",
       " 'data',\n",
       " 'COVID_DataExtraction_Workflow.ipynb',\n",
       " 'misc_helper_functions_gh.py',\n",
       " 'functions_case1_csv_xlsx_gh.py']"
      ]
     },
     "execution_count": 11,
     "metadata": {},
     "output_type": "execute_result"
    }
   ],
   "source": [
    "os.listdir()"
   ]
  },
  {
   "cell_type": "code",
   "execution_count": 12,
   "metadata": {},
   "outputs": [
    {
     "data": {
      "text/plain": [
       "'/Users/poisson/Documents/GitHub/COVID19_tracker_data_extraction/workflow/python'"
      ]
     },
     "execution_count": 12,
     "metadata": {},
     "output_type": "execute_result"
    }
   ],
   "source": [
    "pwd"
   ]
  },
  {
   "cell_type": "code",
   "execution_count": 13,
   "metadata": {
    "colab": {},
    "colab_type": "code",
    "id": "XMSvUTYomYcX"
   },
   "outputs": [],
   "source": [
    "#os.chdir(home_dir)\n",
    "#! cat functions_case1_csv_xlsx_gh.py"
   ]
  },
  {
   "cell_type": "code",
   "execution_count": 14,
   "metadata": {},
   "outputs": [
    {
     "name": "stdout",
     "output_type": "stream",
     "text": [
      "COVID_DataExtraction_Workflow.ipynb functions_case1_csv_xlsx_gh.py\r\n",
      "\u001b[34m__pycache__\u001b[m\u001b[m                         functions_case2_html.py\r\n",
      "\u001b[34mcase1_csv_xlsx\u001b[m\u001b[m                      \u001b[34mhelper_functions\u001b[m\u001b[m\r\n",
      "\u001b[34mcase2_html\u001b[m\u001b[m                          misc_helper_functions.py\r\n",
      "\u001b[34mcase3_pdf_table\u001b[m\u001b[m                     misc_helper_functions_gh.py\r\n",
      "\u001b[34mdata\u001b[m\u001b[m                                \u001b[34moutput\u001b[m\u001b[m\r\n",
      "functions_case1_csv_xlsx.py\r\n"
     ]
    }
   ],
   "source": [
    "!ls"
   ]
  },
  {
   "cell_type": "markdown",
   "metadata": {
    "colab_type": "text",
    "id": "7kejUcqqMvmg"
   },
   "source": [
    "## Load python scripts"
   ]
  },
  {
   "cell_type": "code",
   "execution_count": 53,
   "metadata": {
    "colab": {
     "base_uri": "https://localhost:8080/",
     "height": 34
    },
    "colab_type": "code",
    "id": "7AxAmoqqLaU5",
    "outputId": "7cf5d251-3fa1-4dd0-ef9f-79b135ba739f"
   },
   "outputs": [],
   "source": [
    "functions_case1 = [\"data_extract_massachusetts\", \"data_extract_virginia\", \"data_extract_washingtonDC\", \"data_extract_georgia\"]\n",
    "\n",
    "case2_locations = ['michigan', 'minnesota', 'north_carolina', 'texas_bexar_county', 'wisconsin_milwaukee']\n",
    "functions_case2 = ['data_extract_' + loc for loc in case2_locations]\n",
    "\n",
    "if github_flag:\n",
    "    [importOrReload(\"functions_case1_csv_xlsx_gh\", function_name) for function_name in functions_case1]\n",
    "    [importOrReload(\"functions_case2_html_gh\", function_name) for function_name in functions_case2]\n",
    "else:\n",
    "    [importOrReload(\"functions_case1_csv_xlsx\", function_name) for function_name in functions_case1]\n",
    "    [importOrReload(\"functions_case2_html\", function_name) for function_name in functions_case2]"
   ]
  },
  {
   "cell_type": "markdown",
   "metadata": {
    "colab_type": "text",
    "id": "EXMayLLDesmF"
   },
   "source": [
    "## Create empty dictionary to hold results"
   ]
  },
  {
   "cell_type": "code",
   "execution_count": 40,
   "metadata": {
    "colab": {},
    "colab_type": "code",
    "id": "JsycsESReroZ"
   },
   "outputs": [],
   "source": [
    "## Dictionary to hold results\n",
    "output = dict()"
   ]
  },
  {
   "cell_type": "markdown",
   "metadata": {
    "colab_type": "text",
    "id": "Rc3QCdrY-8XU"
   },
   "source": [
    "# Data Extraction"
   ]
  },
  {
   "cell_type": "markdown",
   "metadata": {
    "colab_type": "text",
    "id": "qIrio9J8-_kj"
   },
   "source": [
    "## Case 1: Read from CSV and XLSX files"
   ]
  },
  {
   "cell_type": "code",
   "execution_count": 41,
   "metadata": {
    "colab": {
     "base_uri": "https://localhost:8080/",
     "height": 374
    },
    "colab_type": "code",
    "id": "wYZnVDM8-oEv",
    "outputId": "e0672301-296d-4f39-980a-6aff18cb5ce2"
   },
   "outputs": [
    {
     "name": "stdout",
     "output_type": "stream",
     "text": [
      "Navigate to Massachusetts data folder\n",
      "Get URLs on Massachusetts COVID-19 response reporting page\n",
      "['/doc/covid-19-raw-data-may-8-2020/download']\n",
      "Find the URL corresponding to the COVID-19 data file\n",
      "https://www.mass.gov/doc/covid-19-raw-data-may-8-2020/download\n",
      "Download the file\n",
      "/Users/poisson/Documents/GitHub/COVID19_tracker_data_extraction/workflow/python/data/mass/massachusetts.zip\n",
      "file download success!\n",
      "Unzip the file\n",
      "Get the race/ethnicity breakdown\n",
      "Get date of most recent data published\n",
      "Get the data for only most recent data published (or validation date)\n",
      "Total cases\n",
      "Total deaths\n",
      "AA cases\n",
      "AA deaths\n",
      "Success!\n"
     ]
    },
    {
     "data": {
      "text/plain": [
       "{'Massachusetts': {'Location': 'Massachusetts',\n",
       "  'Date Published': '5/8/2020',\n",
       "  'Total Cases': 75333,\n",
       "  'Total Deaths': 4702,\n",
       "  'Pct Cases Black/AA': 8.18,\n",
       "  'Pct Deaths Black/AA': 5.25,\n",
       "  'Status code': 'Success!'}}"
      ]
     },
     "execution_count": 41,
     "metadata": {},
     "output_type": "execute_result"
    }
   ],
   "source": [
    "output['Massachusetts'] = data_extract_massachusetts(validation = validation_flag, \n",
    "                                                     home_dir = home_dir)\n",
    "\n",
    "output"
   ]
  },
  {
   "cell_type": "code",
   "execution_count": 42,
   "metadata": {
    "colab": {
     "base_uri": "https://localhost:8080/",
     "height": 425
    },
    "colab_type": "code",
    "id": "o96sB5Ji_EBl",
    "outputId": "3b212e03-2f45-42c4-a694-3cfc7a1eb90e"
   },
   "outputs": [
    {
     "name": "stdout",
     "output_type": "stream",
     "text": [
      "Navigate to Virginia data folder\n",
      "Download the CSV for race\n",
      "file download success!\n",
      "Read in the file\n",
      "Get only the most recent data published\n",
      "Roll up counts to race\n",
      "Total cases\n",
      "Total deaths\n",
      "AA cases\n",
      "AA deaths\n",
      "Success!\n"
     ]
    },
    {
     "data": {
      "text/plain": [
       "{'Massachusetts': {'Location': 'Massachusetts',\n",
       "  'Date Published': '5/8/2020',\n",
       "  'Total Cases': 75333,\n",
       "  'Total Deaths': 4702,\n",
       "  'Pct Cases Black/AA': 8.18,\n",
       "  'Pct Deaths Black/AA': 5.25,\n",
       "  'Status code': 'Success!'},\n",
       " 'Virginia': {'Location': 'Virginia',\n",
       "  'Date Published': '5/9/2020',\n",
       "  'Total Cases': 23196,\n",
       "  'Total Deaths': 827,\n",
       "  'Pct Cases Black/AA': 17.0,\n",
       "  'Pct Deaths Black/AA': 22.37,\n",
       "  'Status code': 'Success!'}}"
      ]
     },
     "execution_count": 42,
     "metadata": {},
     "output_type": "execute_result"
    }
   ],
   "source": [
    "output['Virginia'] = data_extract_virginia(validation = validation_flag, \n",
    "                                           home_dir = home_dir)\n",
    "\n",
    "output"
   ]
  },
  {
   "cell_type": "code",
   "execution_count": 43,
   "metadata": {
    "colab": {
     "base_uri": "https://localhost:8080/",
     "height": 697
    },
    "colab_type": "code",
    "id": "ZxUQ3rPo_EG7",
    "outputId": "8af0e3ab-2e66-45c2-ce12-3d43adec4a22"
   },
   "outputs": [
    {
     "name": "stdout",
     "output_type": "stream",
     "text": [
      "Navigate to Washington, DC data folder\n",
      "Find links to all Washington, DC COVID data files\n",
      "Find date strings in data files\n",
      "Convert date strings to date\n",
      "Find most recent date\n",
      "Convert to date format expected in data file\n",
      "Download the most recent data file\n",
      "file download success!\n",
      "Load the race/ethnicity breakdown of cases\n",
      "Set column names\n",
      "Get date of most recent data published\n",
      "Get cases associated with desired timestamp (most recent or 4/9/2020 validation date)\n",
      "Load the race/ethnicity breakdown of deaths\n",
      "Set column names\n",
      "Get deaths associated with desired timestamp (most recent or 4/9/2020 validation date)\n",
      "Get report date, formatted for output\n",
      "Total cases\n",
      "Total deaths\n",
      "AA cases\n",
      "AA deaths\n",
      "Success!\n"
     ]
    },
    {
     "data": {
      "text/plain": [
       "{'Massachusetts': {'Location': 'Massachusetts',\n",
       "  'Date Published': '5/8/2020',\n",
       "  'Total Cases': 75333,\n",
       "  'Total Deaths': 4702,\n",
       "  'Pct Cases Black/AA': 8.18,\n",
       "  'Pct Deaths Black/AA': 5.25,\n",
       "  'Status code': 'Success!'},\n",
       " 'Virginia': {'Location': 'Virginia',\n",
       "  'Date Published': '5/9/2020',\n",
       "  'Total Cases': 23196,\n",
       "  'Total Deaths': 827,\n",
       "  'Pct Cases Black/AA': 17.0,\n",
       "  'Pct Deaths Black/AA': 22.37,\n",
       "  'Status code': 'Success!'},\n",
       " 'Washington DC': {'Location': 'Washington, DC',\n",
       "  'Date Published': '5/8/2020',\n",
       "  'Total Cases': 5899,\n",
       "  'Total Deaths': 304,\n",
       "  'Pct Cases Black/AA': 47.35,\n",
       "  'Pct Deaths Black/AA': 79.28,\n",
       "  'Status code': 'Success!'}}"
      ]
     },
     "execution_count": 43,
     "metadata": {},
     "output_type": "execute_result"
    }
   ],
   "source": [
    "output['Washington DC'] = data_extract_washingtonDC(validation = validation_flag, \n",
    "                                                    home_dir = home_dir)\n",
    "\n",
    "output"
   ]
  },
  {
   "cell_type": "code",
   "execution_count": 44,
   "metadata": {
    "colab": {
     "base_uri": "https://localhost:8080/",
     "height": 493
    },
    "colab_type": "code",
    "id": "O8PoRgeynYIV",
    "outputId": "1b8732fe-e827-476c-a77b-451c1b65ad44"
   },
   "outputs": [
    {
     "name": "stdout",
     "output_type": "stream",
     "text": [
      "Navigate to Georgia data folder\n",
      "Download file\n",
      "Read contents of the zip\n",
      "Report date = last update of the demographics.csv file in the ZIP archive\n",
      "Load demographics CSV\n",
      "African American cases and deaths\n",
      "Success!\n"
     ]
    },
    {
     "data": {
      "text/plain": [
       "{'Massachusetts': {'Location': 'Massachusetts',\n",
       "  'Date Published': '5/8/2020',\n",
       "  'Total Cases': 75333,\n",
       "  'Total Deaths': 4702,\n",
       "  'Pct Cases Black/AA': 8.18,\n",
       "  'Pct Deaths Black/AA': 5.25,\n",
       "  'Status code': 'Success!'},\n",
       " 'Virginia': {'Location': 'Virginia',\n",
       "  'Date Published': '5/9/2020',\n",
       "  'Total Cases': 23196,\n",
       "  'Total Deaths': 827,\n",
       "  'Pct Cases Black/AA': 17.0,\n",
       "  'Pct Deaths Black/AA': 22.37,\n",
       "  'Status code': 'Success!'},\n",
       " 'Washington DC': {'Location': 'Washington, DC',\n",
       "  'Date Published': '5/8/2020',\n",
       "  'Total Cases': 5899,\n",
       "  'Total Deaths': 304,\n",
       "  'Pct Cases Black/AA': 47.35,\n",
       "  'Pct Deaths Black/AA': 79.28,\n",
       "  'Status code': 'Success!'},\n",
       " 'Georgia': {'Location': 'Georgia',\n",
       "  'Date Published': '5/9/2020',\n",
       "  'Total Cases': 32504,\n",
       "  'Total Deaths': 1400,\n",
       "  'Pct Cases Black/AA': 35.76,\n",
       "  'Pct Deaths Black/AA': 49.57,\n",
       "  'Status code': 'Success!'}}"
      ]
     },
     "execution_count": 44,
     "metadata": {},
     "output_type": "execute_result"
    }
   ],
   "source": [
    "output['Georgia'] = data_extract_georgia(validation = validation_flag, \n",
    "                                         home_dir = home_dir)\n",
    "\n",
    "output"
   ]
  },
  {
   "cell_type": "markdown",
   "metadata": {},
   "source": [
    "## Case 2: Extract data from HTML source code"
   ]
  },
  {
   "cell_type": "code",
   "execution_count": 54,
   "metadata": {},
   "outputs": [
    {
     "name": "stdout",
     "output_type": "stream",
     "text": [
      "request successful\n",
      "Success!\n"
     ]
    },
    {
     "data": {
      "text/plain": [
       "{'Massachusetts': {'Location': 'Massachusetts',\n",
       "  'Date Published': '5/8/2020',\n",
       "  'Total Cases': 75333,\n",
       "  'Total Deaths': 4702,\n",
       "  'Pct Cases Black/AA': 8.18,\n",
       "  'Pct Deaths Black/AA': 5.25,\n",
       "  'Status code': 'Success!'},\n",
       " 'Virginia': {'Location': 'Virginia',\n",
       "  'Date Published': '5/9/2020',\n",
       "  'Total Cases': 23196,\n",
       "  'Total Deaths': 827,\n",
       "  'Pct Cases Black/AA': 17.0,\n",
       "  'Pct Deaths Black/AA': 22.37,\n",
       "  'Status code': 'Success!'},\n",
       " 'Washington DC': {'Location': 'Washington, DC',\n",
       "  'Date Published': '5/8/2020',\n",
       "  'Total Cases': 5899,\n",
       "  'Total Deaths': 304,\n",
       "  'Pct Cases Black/AA': 47.35,\n",
       "  'Pct Deaths Black/AA': 79.28,\n",
       "  'Status code': 'Success!'},\n",
       " 'Georgia': {'Location': 'Georgia',\n",
       "  'Date Published': '5/9/2020',\n",
       "  'Total Cases': 32504,\n",
       "  'Total Deaths': 1400,\n",
       "  'Pct Cases Black/AA': 35.76,\n",
       "  'Pct Deaths Black/AA': 49.57,\n",
       "  'Status code': 'Success!'},\n",
       " 'Michigan': {'Location': 'Michigan',\n",
       "  'Date Published': '5/8/2020',\n",
       "  'Total Cases': 46326,\n",
       "  'Total Deaths': 4393,\n",
       "  'Pct Cases Black/AA': 0.07,\n",
       "  'Pct Deaths Black/AA': 0.93,\n",
       "  'Status code': 'Success!'},\n",
       " 'Minnesota': {'Location': 'Minnesota',\n",
       "  'Date Published': '5/9/2020',\n",
       "  'Total Cases': 10790,\n",
       "  'Total Deaths': 558,\n",
       "  'Pct Cases Black/AA': 17,\n",
       "  'Pct Deaths Black/AA': 6,\n",
       "  'Status code': 'Success!'},\n",
       " 'North Carolina': {'Location': 'North Carolina',\n",
       "  'Date Published': '5/9/2020',\n",
       "  'Total Cases': 544,\n",
       "  'Total Deaths': 14360,\n",
       "  'Pct Cases Black/AA': 35,\n",
       "  'Pct Deaths Black/AA': 34,\n",
       "  'Status code': 'Success!'},\n",
       " 'Texas -- Bexar County': {'Location': 'Texas - Bexar County',\n",
       "  'Date Published': '5/8/2020',\n",
       "  'Total Cases': 1805,\n",
       "  'Total Deaths': 54,\n",
       "  'Pct Cases Black/AA': 8.92,\n",
       "  'Pct Deaths Black/AA': 24.07,\n",
       "  'Status code': 'Success!'},\n",
       " 'Wisconsin -- Milwaukee': {'Location': 'Wisconsin - Milwaukee',\n",
       "  'Date Published': '5/9/2020',\n",
       "  'Total Cases': 3839,\n",
       "  'Total Deaths': 212,\n",
       "  'Pct Cases Black/AA': 39.52,\n",
       "  'Pct Deaths Black/AA': 49.53,\n",
       "  'Status code': 'Success!'}}"
      ]
     },
     "execution_count": 54,
     "metadata": {},
     "output_type": "execute_result"
    }
   ],
   "source": [
    "output['Michigan'] = data_extract_michigan(validation = validation_flag, \n",
    "                                         home_dir = home_dir)\n",
    "\n",
    "output"
   ]
  },
  {
   "cell_type": "code",
   "execution_count": 46,
   "metadata": {},
   "outputs": [
    {
     "name": "stdout",
     "output_type": "stream",
     "text": [
      "request successful\n",
      "Date: 5/9/2020\n",
      "Number Cases: 10,790\r\n",
      "    \n",
      "Number Deaths: 558\r\n",
      "\t\n",
      "Pct Cases Black/AA: 17\n",
      "Pct Deaths Black/AA: 6\n",
      "Success!\n"
     ]
    },
    {
     "data": {
      "text/plain": [
       "{'Massachusetts': {'Location': 'Massachusetts',\n",
       "  'Date Published': '5/8/2020',\n",
       "  'Total Cases': 75333,\n",
       "  'Total Deaths': 4702,\n",
       "  'Pct Cases Black/AA': 8.18,\n",
       "  'Pct Deaths Black/AA': 5.25,\n",
       "  'Status code': 'Success!'},\n",
       " 'Virginia': {'Location': 'Virginia',\n",
       "  'Date Published': '5/9/2020',\n",
       "  'Total Cases': 23196,\n",
       "  'Total Deaths': 827,\n",
       "  'Pct Cases Black/AA': 17.0,\n",
       "  'Pct Deaths Black/AA': 22.37,\n",
       "  'Status code': 'Success!'},\n",
       " 'Washington DC': {'Location': 'Washington, DC',\n",
       "  'Date Published': '5/8/2020',\n",
       "  'Total Cases': 5899,\n",
       "  'Total Deaths': 304,\n",
       "  'Pct Cases Black/AA': 47.35,\n",
       "  'Pct Deaths Black/AA': 79.28,\n",
       "  'Status code': 'Success!'},\n",
       " 'Georgia': {'Location': 'Georgia',\n",
       "  'Date Published': '5/9/2020',\n",
       "  'Total Cases': 32504,\n",
       "  'Total Deaths': 1400,\n",
       "  'Pct Cases Black/AA': 35.76,\n",
       "  'Pct Deaths Black/AA': 49.57,\n",
       "  'Status code': 'Success!'},\n",
       " 'Michigan': {'Location': 'Michigan',\n",
       "  'Date Published': '5/8/2020',\n",
       "  'Total Cases': 46326,\n",
       "  'Total Deaths': 4393,\n",
       "  'Pct Cases Black/AA': 0.07,\n",
       "  'Pct Deaths Black/AA': 0.93,\n",
       "  'Status code': 'Success!'},\n",
       " 'Minnesota': {'Location': 'Minnesota',\n",
       "  'Date Published': '5/9/2020',\n",
       "  'Total Cases': 10790,\n",
       "  'Total Deaths': 558,\n",
       "  'Pct Cases Black/AA': 17,\n",
       "  'Pct Deaths Black/AA': 6,\n",
       "  'Status code': 'Success!'}}"
      ]
     },
     "execution_count": 46,
     "metadata": {},
     "output_type": "execute_result"
    }
   ],
   "source": [
    "output['Minnesota'] = data_extract_minnesota(validation = validation_flag, \n",
    "                                         home_dir = home_dir)\n",
    "\n",
    "output"
   ]
  },
  {
   "cell_type": "code",
   "execution_count": 47,
   "metadata": {},
   "outputs": [
    {
     "name": "stdout",
     "output_type": "stream",
     "text": [
      "request successful\n",
      "Date: 5/9/2020\n",
      "Number Cases: 544\n",
      "Number Deaths: 14,360\n",
      "Pct Cases Black/AA: 35\n",
      "Pct Deaths Black/AA: 34\n",
      "Success!\n"
     ]
    },
    {
     "data": {
      "text/plain": [
       "{'Massachusetts': {'Location': 'Massachusetts',\n",
       "  'Date Published': '5/8/2020',\n",
       "  'Total Cases': 75333,\n",
       "  'Total Deaths': 4702,\n",
       "  'Pct Cases Black/AA': 8.18,\n",
       "  'Pct Deaths Black/AA': 5.25,\n",
       "  'Status code': 'Success!'},\n",
       " 'Virginia': {'Location': 'Virginia',\n",
       "  'Date Published': '5/9/2020',\n",
       "  'Total Cases': 23196,\n",
       "  'Total Deaths': 827,\n",
       "  'Pct Cases Black/AA': 17.0,\n",
       "  'Pct Deaths Black/AA': 22.37,\n",
       "  'Status code': 'Success!'},\n",
       " 'Washington DC': {'Location': 'Washington, DC',\n",
       "  'Date Published': '5/8/2020',\n",
       "  'Total Cases': 5899,\n",
       "  'Total Deaths': 304,\n",
       "  'Pct Cases Black/AA': 47.35,\n",
       "  'Pct Deaths Black/AA': 79.28,\n",
       "  'Status code': 'Success!'},\n",
       " 'Georgia': {'Location': 'Georgia',\n",
       "  'Date Published': '5/9/2020',\n",
       "  'Total Cases': 32504,\n",
       "  'Total Deaths': 1400,\n",
       "  'Pct Cases Black/AA': 35.76,\n",
       "  'Pct Deaths Black/AA': 49.57,\n",
       "  'Status code': 'Success!'},\n",
       " 'Michigan': {'Location': 'Michigan',\n",
       "  'Date Published': '5/8/2020',\n",
       "  'Total Cases': 46326,\n",
       "  'Total Deaths': 4393,\n",
       "  'Pct Cases Black/AA': 0.07,\n",
       "  'Pct Deaths Black/AA': 0.93,\n",
       "  'Status code': 'Success!'},\n",
       " 'Minnesota': {'Location': 'Minnesota',\n",
       "  'Date Published': '5/9/2020',\n",
       "  'Total Cases': 10790,\n",
       "  'Total Deaths': 558,\n",
       "  'Pct Cases Black/AA': 17,\n",
       "  'Pct Deaths Black/AA': 6,\n",
       "  'Status code': 'Success!'},\n",
       " 'North Carolina': {'Location': 'North Carolina',\n",
       "  'Date Published': '5/9/2020',\n",
       "  'Total Cases': 544,\n",
       "  'Total Deaths': 14360,\n",
       "  'Pct Cases Black/AA': 35,\n",
       "  'Pct Deaths Black/AA': 34,\n",
       "  'Status code': 'Success!'}}"
      ]
     },
     "execution_count": 47,
     "metadata": {},
     "output_type": "execute_result"
    }
   ],
   "source": [
    "output['North Carolina'] = data_extract_north_carolina(validation = validation_flag, \n",
    "                                         home_dir = home_dir)\n",
    "\n",
    "output"
   ]
  },
  {
   "cell_type": "code",
   "execution_count": 48,
   "metadata": {},
   "outputs": [
    {
     "name": "stdout",
     "output_type": "stream",
     "text": [
      "Success!\n"
     ]
    },
    {
     "data": {
      "text/plain": [
       "{'Massachusetts': {'Location': 'Massachusetts',\n",
       "  'Date Published': '5/8/2020',\n",
       "  'Total Cases': 75333,\n",
       "  'Total Deaths': 4702,\n",
       "  'Pct Cases Black/AA': 8.18,\n",
       "  'Pct Deaths Black/AA': 5.25,\n",
       "  'Status code': 'Success!'},\n",
       " 'Virginia': {'Location': 'Virginia',\n",
       "  'Date Published': '5/9/2020',\n",
       "  'Total Cases': 23196,\n",
       "  'Total Deaths': 827,\n",
       "  'Pct Cases Black/AA': 17.0,\n",
       "  'Pct Deaths Black/AA': 22.37,\n",
       "  'Status code': 'Success!'},\n",
       " 'Washington DC': {'Location': 'Washington, DC',\n",
       "  'Date Published': '5/8/2020',\n",
       "  'Total Cases': 5899,\n",
       "  'Total Deaths': 304,\n",
       "  'Pct Cases Black/AA': 47.35,\n",
       "  'Pct Deaths Black/AA': 79.28,\n",
       "  'Status code': 'Success!'},\n",
       " 'Georgia': {'Location': 'Georgia',\n",
       "  'Date Published': '5/9/2020',\n",
       "  'Total Cases': 32504,\n",
       "  'Total Deaths': 1400,\n",
       "  'Pct Cases Black/AA': 35.76,\n",
       "  'Pct Deaths Black/AA': 49.57,\n",
       "  'Status code': 'Success!'},\n",
       " 'Michigan': {'Location': 'Michigan',\n",
       "  'Date Published': '5/8/2020',\n",
       "  'Total Cases': 46326,\n",
       "  'Total Deaths': 4393,\n",
       "  'Pct Cases Black/AA': 0.07,\n",
       "  'Pct Deaths Black/AA': 0.93,\n",
       "  'Status code': 'Success!'},\n",
       " 'Minnesota': {'Location': 'Minnesota',\n",
       "  'Date Published': '5/9/2020',\n",
       "  'Total Cases': 10790,\n",
       "  'Total Deaths': 558,\n",
       "  'Pct Cases Black/AA': 17,\n",
       "  'Pct Deaths Black/AA': 6,\n",
       "  'Status code': 'Success!'},\n",
       " 'North Carolina': {'Location': 'North Carolina',\n",
       "  'Date Published': '5/9/2020',\n",
       "  'Total Cases': 544,\n",
       "  'Total Deaths': 14360,\n",
       "  'Pct Cases Black/AA': 35,\n",
       "  'Pct Deaths Black/AA': 34,\n",
       "  'Status code': 'Success!'},\n",
       " 'Texas -- Bexar County': {'Location': 'Texas - Bexar County',\n",
       "  'Date Published': '5/8/2020',\n",
       "  'Total Cases': 1805,\n",
       "  'Total Deaths': 54,\n",
       "  'Pct Cases Black/AA': 8.92,\n",
       "  'Pct Deaths Black/AA': 24.07,\n",
       "  'Status code': 'Success!'}}"
      ]
     },
     "execution_count": 48,
     "metadata": {},
     "output_type": "execute_result"
    }
   ],
   "source": [
    "output['Texas -- Bexar County'] = data_extract_texas_bexar_county(validation = validation_flag, \n",
    "                                         home_dir = home_dir)\n",
    "\n",
    "output"
   ]
  },
  {
   "cell_type": "code",
   "execution_count": 49,
   "metadata": {},
   "outputs": [
    {
     "name": "stdout",
     "output_type": "stream",
     "text": [
      "Success!\n"
     ]
    },
    {
     "data": {
      "text/plain": [
       "{'Massachusetts': {'Location': 'Massachusetts',\n",
       "  'Date Published': '5/8/2020',\n",
       "  'Total Cases': 75333,\n",
       "  'Total Deaths': 4702,\n",
       "  'Pct Cases Black/AA': 8.18,\n",
       "  'Pct Deaths Black/AA': 5.25,\n",
       "  'Status code': 'Success!'},\n",
       " 'Virginia': {'Location': 'Virginia',\n",
       "  'Date Published': '5/9/2020',\n",
       "  'Total Cases': 23196,\n",
       "  'Total Deaths': 827,\n",
       "  'Pct Cases Black/AA': 17.0,\n",
       "  'Pct Deaths Black/AA': 22.37,\n",
       "  'Status code': 'Success!'},\n",
       " 'Washington DC': {'Location': 'Washington, DC',\n",
       "  'Date Published': '5/8/2020',\n",
       "  'Total Cases': 5899,\n",
       "  'Total Deaths': 304,\n",
       "  'Pct Cases Black/AA': 47.35,\n",
       "  'Pct Deaths Black/AA': 79.28,\n",
       "  'Status code': 'Success!'},\n",
       " 'Georgia': {'Location': 'Georgia',\n",
       "  'Date Published': '5/9/2020',\n",
       "  'Total Cases': 32504,\n",
       "  'Total Deaths': 1400,\n",
       "  'Pct Cases Black/AA': 35.76,\n",
       "  'Pct Deaths Black/AA': 49.57,\n",
       "  'Status code': 'Success!'},\n",
       " 'Michigan': {'Location': 'Michigan',\n",
       "  'Date Published': '5/8/2020',\n",
       "  'Total Cases': 46326,\n",
       "  'Total Deaths': 4393,\n",
       "  'Pct Cases Black/AA': 0.07,\n",
       "  'Pct Deaths Black/AA': 0.93,\n",
       "  'Status code': 'Success!'},\n",
       " 'Minnesota': {'Location': 'Minnesota',\n",
       "  'Date Published': '5/9/2020',\n",
       "  'Total Cases': 10790,\n",
       "  'Total Deaths': 558,\n",
       "  'Pct Cases Black/AA': 17,\n",
       "  'Pct Deaths Black/AA': 6,\n",
       "  'Status code': 'Success!'},\n",
       " 'North Carolina': {'Location': 'North Carolina',\n",
       "  'Date Published': '5/9/2020',\n",
       "  'Total Cases': 544,\n",
       "  'Total Deaths': 14360,\n",
       "  'Pct Cases Black/AA': 35,\n",
       "  'Pct Deaths Black/AA': 34,\n",
       "  'Status code': 'Success!'},\n",
       " 'Texas -- Bexar County': {'Location': 'Texas - Bexar County',\n",
       "  'Date Published': '5/8/2020',\n",
       "  'Total Cases': 1805,\n",
       "  'Total Deaths': 54,\n",
       "  'Pct Cases Black/AA': 8.92,\n",
       "  'Pct Deaths Black/AA': 24.07,\n",
       "  'Status code': 'Success!'},\n",
       " 'Wisconsin -- Milwaukee': {'Location': 'Wisconsin - Milwaukee',\n",
       "  'Date Published': '5/9/2020',\n",
       "  'Total Cases': 3839,\n",
       "  'Total Deaths': 212,\n",
       "  'Pct Cases Black/AA': 39.52,\n",
       "  'Pct Deaths Black/AA': 49.53,\n",
       "  'Status code': 'Success!'}}"
      ]
     },
     "execution_count": 49,
     "metadata": {},
     "output_type": "execute_result"
    }
   ],
   "source": [
    "output['Wisconsin -- Milwaukee'] = data_extract_wisconsin_milwaukee(validation = validation_flag, \n",
    "                                         home_dir = home_dir)\n",
    "\n",
    "output"
   ]
  },
  {
   "cell_type": "markdown",
   "metadata": {
    "colab_type": "text",
    "id": "jVYTPSrblh1a"
   },
   "source": [
    "# Combining into a single dataframe"
   ]
  },
  {
   "cell_type": "code",
   "execution_count": 55,
   "metadata": {
    "colab": {
     "base_uri": "https://localhost:8080/",
     "height": 173
    },
    "colab_type": "code",
    "id": "VMtcaAvRRWBh",
    "outputId": "4099f8eb-90ea-4198-fc55-e2bcb8506b10"
   },
   "outputs": [
    {
     "data": {
      "text/html": [
       "<div>\n",
       "<style scoped>\n",
       "    .dataframe tbody tr th:only-of-type {\n",
       "        vertical-align: middle;\n",
       "    }\n",
       "\n",
       "    .dataframe tbody tr th {\n",
       "        vertical-align: top;\n",
       "    }\n",
       "\n",
       "    .dataframe thead th {\n",
       "        text-align: right;\n",
       "    }\n",
       "</style>\n",
       "<table border=\"1\" class=\"dataframe\">\n",
       "  <thead>\n",
       "    <tr style=\"text-align: right;\">\n",
       "      <th></th>\n",
       "      <th>Location</th>\n",
       "      <th>Date Published</th>\n",
       "      <th>Total Cases</th>\n",
       "      <th>Total Deaths</th>\n",
       "      <th>Pct Cases Black/AA</th>\n",
       "      <th>Pct Deaths Black/AA</th>\n",
       "      <th>Status code</th>\n",
       "    </tr>\n",
       "  </thead>\n",
       "  <tbody>\n",
       "    <tr>\n",
       "      <th>Massachusetts</th>\n",
       "      <td>Massachusetts</td>\n",
       "      <td>5/8/2020</td>\n",
       "      <td>75333</td>\n",
       "      <td>4702</td>\n",
       "      <td>8.18</td>\n",
       "      <td>5.25</td>\n",
       "      <td>Success!</td>\n",
       "    </tr>\n",
       "    <tr>\n",
       "      <th>Virginia</th>\n",
       "      <td>Virginia</td>\n",
       "      <td>5/9/2020</td>\n",
       "      <td>23196</td>\n",
       "      <td>827</td>\n",
       "      <td>17</td>\n",
       "      <td>22.37</td>\n",
       "      <td>Success!</td>\n",
       "    </tr>\n",
       "    <tr>\n",
       "      <th>Washington DC</th>\n",
       "      <td>Washington, DC</td>\n",
       "      <td>5/8/2020</td>\n",
       "      <td>5899</td>\n",
       "      <td>304</td>\n",
       "      <td>47.35</td>\n",
       "      <td>79.28</td>\n",
       "      <td>Success!</td>\n",
       "    </tr>\n",
       "    <tr>\n",
       "      <th>Georgia</th>\n",
       "      <td>Georgia</td>\n",
       "      <td>5/9/2020</td>\n",
       "      <td>32504</td>\n",
       "      <td>1400</td>\n",
       "      <td>35.76</td>\n",
       "      <td>49.57</td>\n",
       "      <td>Success!</td>\n",
       "    </tr>\n",
       "    <tr>\n",
       "      <th>Michigan</th>\n",
       "      <td>Michigan</td>\n",
       "      <td>5/8/2020</td>\n",
       "      <td>46326</td>\n",
       "      <td>4393</td>\n",
       "      <td>0.07</td>\n",
       "      <td>0.93</td>\n",
       "      <td>Success!</td>\n",
       "    </tr>\n",
       "    <tr>\n",
       "      <th>Minnesota</th>\n",
       "      <td>Minnesota</td>\n",
       "      <td>5/9/2020</td>\n",
       "      <td>10790</td>\n",
       "      <td>558</td>\n",
       "      <td>17</td>\n",
       "      <td>6</td>\n",
       "      <td>Success!</td>\n",
       "    </tr>\n",
       "    <tr>\n",
       "      <th>North Carolina</th>\n",
       "      <td>North Carolina</td>\n",
       "      <td>5/9/2020</td>\n",
       "      <td>544</td>\n",
       "      <td>14360</td>\n",
       "      <td>35</td>\n",
       "      <td>34</td>\n",
       "      <td>Success!</td>\n",
       "    </tr>\n",
       "    <tr>\n",
       "      <th>Texas -- Bexar County</th>\n",
       "      <td>Texas - Bexar County</td>\n",
       "      <td>5/8/2020</td>\n",
       "      <td>1805</td>\n",
       "      <td>54</td>\n",
       "      <td>8.92</td>\n",
       "      <td>24.07</td>\n",
       "      <td>Success!</td>\n",
       "    </tr>\n",
       "    <tr>\n",
       "      <th>Wisconsin -- Milwaukee</th>\n",
       "      <td>Wisconsin - Milwaukee</td>\n",
       "      <td>5/9/2020</td>\n",
       "      <td>3839</td>\n",
       "      <td>212</td>\n",
       "      <td>39.52</td>\n",
       "      <td>49.53</td>\n",
       "      <td>Success!</td>\n",
       "    </tr>\n",
       "  </tbody>\n",
       "</table>\n",
       "</div>"
      ],
      "text/plain": [
       "                                     Location Date Published Total Cases  \\\n",
       "Massachusetts                   Massachusetts       5/8/2020       75333   \n",
       "Virginia                             Virginia       5/9/2020       23196   \n",
       "Washington DC                  Washington, DC       5/8/2020        5899   \n",
       "Georgia                               Georgia       5/9/2020       32504   \n",
       "Michigan                             Michigan       5/8/2020       46326   \n",
       "Minnesota                           Minnesota       5/9/2020       10790   \n",
       "North Carolina                 North Carolina       5/9/2020         544   \n",
       "Texas -- Bexar County    Texas - Bexar County       5/8/2020        1805   \n",
       "Wisconsin -- Milwaukee  Wisconsin - Milwaukee       5/9/2020        3839   \n",
       "\n",
       "                       Total Deaths Pct Cases Black/AA Pct Deaths Black/AA  \\\n",
       "Massachusetts                  4702               8.18                5.25   \n",
       "Virginia                        827                 17               22.37   \n",
       "Washington DC                   304              47.35               79.28   \n",
       "Georgia                        1400              35.76               49.57   \n",
       "Michigan                       4393               0.07                0.93   \n",
       "Minnesota                       558                 17                   6   \n",
       "North Carolina                14360                 35                  34   \n",
       "Texas -- Bexar County            54               8.92               24.07   \n",
       "Wisconsin -- Milwaukee          212              39.52               49.53   \n",
       "\n",
       "                       Status code  \n",
       "Massachusetts             Success!  \n",
       "Virginia                  Success!  \n",
       "Washington DC             Success!  \n",
       "Georgia                   Success!  \n",
       "Michigan                  Success!  \n",
       "Minnesota                 Success!  \n",
       "North Carolina            Success!  \n",
       "Texas -- Bexar County     Success!  \n",
       "Wisconsin -- Milwaukee    Success!  "
      ]
     },
     "execution_count": 55,
     "metadata": {},
     "output_type": "execute_result"
    }
   ],
   "source": [
    "output_df = pd.DataFrame(output).T\n",
    "output_df"
   ]
  },
  {
   "cell_type": "code",
   "execution_count": 56,
   "metadata": {
    "colab": {},
    "colab_type": "code",
    "id": "PlDJj0grP4O_"
   },
   "outputs": [],
   "source": [
    "date_stamp = datetime.now().strftime('%Y-%m-%d')\n",
    "out_file = os.path.join(home_dir, 'output', 'covid_disparities_output_' + date_stamp + '.csv')\n",
    "output_df.to_csv(out_file)"
   ]
  },
  {
   "cell_type": "code",
   "execution_count": 57,
   "metadata": {},
   "outputs": [],
   "source": [
    "out_file = os.path.join(home_dir, 'output', 'covid_disparities_output_' + date_stamp + '.xlsx')\n",
    "output_df.to_excel(out_file)"
   ]
  },
  {
   "cell_type": "code",
   "execution_count": 58,
   "metadata": {
    "colab": {
     "base_uri": "https://localhost:8080/",
     "height": 68
    },
    "colab_type": "code",
    "id": "lnQYNvqrYkwS",
    "outputId": "ba7b127b-a653-4b72-b847-86f4f9f19af0"
   },
   "outputs": [
    {
     "name": "stdout",
     "output_type": "stream",
     "text": [
      "covid_disparities_output_2020-05-08.csv\r\n",
      "covid_disparities_output_2020-05-08.xlsx\r\n",
      "covid_disparities_output_2020-05-09.csv\r\n",
      "covid_disparities_output_2020-05-09.xlsx\r\n"
     ]
    }
   ],
   "source": [
    "os.chdir(os.path.join(home_dir, 'output'))\n",
    "!ls"
   ]
  },
  {
   "cell_type": "code",
   "execution_count": null,
   "metadata": {},
   "outputs": [],
   "source": []
  }
 ],
 "metadata": {
  "colab": {
   "collapsed_sections": [],
   "name": "COVID-DataExtraction_Workflow.ipynb",
   "provenance": []
  },
  "kernelspec": {
   "display_name": "Python 3",
   "language": "python",
   "name": "python3"
  },
  "language_info": {
   "codemirror_mode": {
    "name": "ipython",
    "version": 3
   },
   "file_extension": ".py",
   "mimetype": "text/x-python",
   "name": "python",
   "nbconvert_exporter": "python",
   "pygments_lexer": "ipython3",
   "version": "3.7.6"
  }
 },
 "nbformat": 4,
 "nbformat_minor": 1
}
