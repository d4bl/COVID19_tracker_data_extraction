{
 "cells": [
  {
   "cell_type": "markdown",
   "metadata": {
    "colab_type": "text",
    "id": "kCi6BLGq4Qgz"
   },
   "source": [
    "# Data 4 Black Lives - COVID-19 Case/Death Disparities\n",
    "\n",
    "Objective: Extract COVID-19 cases and deaths for each geographic location, both overall and for Black/African-Americans only."
   ]
  },
  {
   "cell_type": "markdown",
   "metadata": {
    "colab_type": "text",
    "id": "AaKKi3H56o5O"
   },
   "source": [
    "# Setup"
   ]
  },
  {
   "cell_type": "markdown",
   "metadata": {
    "colab_type": "text",
    "id": "umPNurwc8rw5"
   },
   "source": [
    "## Install modules"
   ]
  },
  {
   "cell_type": "code",
   "execution_count": null,
   "metadata": {},
   "outputs": [],
   "source": []
  },
  {
   "cell_type": "markdown",
   "metadata": {
    "colab_type": "text",
    "id": "YaXvlaxJ8nnD"
   },
   "source": [
    "## Import modules"
   ]
  },
  {
   "cell_type": "code",
   "execution_count": 1,
   "metadata": {
    "colab": {},
    "colab_type": "code",
    "id": "A99XSHl55K60"
   },
   "outputs": [],
   "source": [
    "import numpy as np\n",
    "import pandas as pd\n",
    "from datetime import datetime\n",
    "import os\n",
    "from getpass import getpass\n",
    "from importlib import reload "
   ]
  },
  {
   "cell_type": "markdown",
   "metadata": {
    "colab_type": "text",
    "id": "SZMqLtouL7pB"
   },
   "source": [
    "## Set up directories"
   ]
  },
  {
   "cell_type": "code",
   "execution_count": 2,
   "metadata": {
    "colab": {},
    "colab_type": "code",
    "id": "oRFb4nRDCq6G"
   },
   "outputs": [],
   "source": [
    "#home_dir = '/content'\n",
    "#home_dir = '~/GitHub/d4bl_covid_tracker/workflow/python'\n",
    "home_dir = '~/GitHub/COVID19_tracker_data_extraction/workflow/python'\n",
    "os.chdir(home_dir)"
   ]
  },
  {
   "cell_type": "code",
   "execution_count": 3,
   "metadata": {
    "colab": {},
    "colab_type": "code",
    "id": "nPCyTLcMBdRF"
   },
   "outputs": [
    {
     "data": {
      "text/plain": [
       "['mass', 'virginia', 'ga', 'dc']"
      ]
     },
     "execution_count": 3,
     "metadata": {},
     "output_type": "execute_result"
    }
   ],
   "source": [
    "# Create new data folders\n",
    "import shutil\n",
    "if os.path.isdir('data'):\n",
    "    print('removing existing data files')\n",
    "    shutil.rmtree('data', ignore_errors=True)\n",
    "os.mkdir('data')\n",
    "os.mkdir('data/mass')\n",
    "os.mkdir('data/virginia')\n",
    "os.mkdir('data/dc')\n",
    "os.mkdir('data/ga')\n",
    "\n",
    "os.listdir('data')"
   ]
  },
  {
   "cell_type": "code",
   "execution_count": 4,
   "metadata": {},
   "outputs": [],
   "source": [
    "## Create output folder\n",
    "if os.path.isdir('output') is False:\n",
    "    os.mkdir('output')"
   ]
  },
  {
   "cell_type": "code",
   "execution_count": 5,
   "metadata": {},
   "outputs": [
    {
     "name": "stdout",
     "output_type": "stream",
     "text": [
      "\u001b[34mdc\u001b[m\u001b[m       \u001b[34mga\u001b[m\u001b[m       \u001b[34mmass\u001b[m\u001b[m     \u001b[34mvirginia\u001b[m\u001b[m\r\n"
     ]
    }
   ],
   "source": [
    "!ls data"
   ]
  },
  {
   "cell_type": "markdown",
   "metadata": {
    "colab_type": "text",
    "id": "uMrWUSox-gIn"
   },
   "source": [
    "## Helper functions"
   ]
  },
  {
   "cell_type": "code",
   "execution_count": 6,
   "metadata": {
    "colab": {},
    "colab_type": "code",
    "id": "hoO_yChVdvbE"
   },
   "outputs": [],
   "source": [
    "## Source: https://stackoverflow.com/questions/437589/how-do-i-unload-reload-a-module/487718#487718\n",
    "\n",
    "# use instead of: from dfly_parser import parseMessages\n",
    "#importOrReload(\"dfly_parser\", \"parseMessages\")\n",
    "\n",
    "def importOrReload(module_name, *names):\n",
    "    import sys\n",
    "\n",
    "    if module_name in sys.modules:\n",
    "        reload(sys.modules[module_name])\n",
    "    else:\n",
    "        __import__(module_name, fromlist=names)\n",
    "\n",
    "    for name in names:\n",
    "        globals()[name] = getattr(sys.modules[module_name], name)"
   ]
  },
  {
   "cell_type": "code",
   "execution_count": 7,
   "metadata": {
    "colab": {},
    "colab_type": "code",
    "id": "-EJ2dJ0BwdfI"
   },
   "outputs": [],
   "source": [
    "def get_github_file(file_link, new_file_name, token):\n",
    "\n",
    "    auth_link = file_link.replace('https://', 'https://' + token +  '@')\n",
    "    cmd_txt = \"! curl -o {} -s  {}\".format(new_file_name, auth_link)\n",
    "    os.system(cmd_txt)\n",
    "    print('Successfully downloaded {}'.format(new_file_name))"
   ]
  },
  {
   "cell_type": "markdown",
   "metadata": {
    "colab_type": "text",
    "id": "O-Xs0F34-mcs"
   },
   "source": [
    "## Set parameters"
   ]
  },
  {
   "cell_type": "code",
   "execution_count": 8,
   "metadata": {
    "colab": {},
    "colab_type": "code",
    "id": "B0Sm8wvW9BP4"
   },
   "outputs": [],
   "source": [
    "## Replicate results in 4/9/2020 D4BL report?\n",
    "validation_flag = False\n",
    "\n",
    "## Download from Github (True) or use local modules (False)?\n",
    "github_flag = True"
   ]
  },
  {
   "cell_type": "markdown",
   "metadata": {
    "colab_type": "text",
    "id": "HRp1Mne0_ovn"
   },
   "source": [
    "## Download files from Github (optional)"
   ]
  },
  {
   "cell_type": "code",
   "execution_count": 9,
   "metadata": {
    "colab": {
     "base_uri": "https://localhost:8080/",
     "height": 68
    },
    "colab_type": "code",
    "id": "oOgy9fbHfCez",
    "outputId": "a8900c82-db93-464f-ef22-ba4d445c7f48"
   },
   "outputs": [
    {
     "name": "stdout",
     "output_type": "stream",
     "text": [
      "Provide your Github token: ········\n",
      "Successfully downloaded /Users/poisson/Documents/GitHub/COVID19_tracker_data_extraction/workflow/python/functions_case1_csv_xlsx_gh.py\n",
      "Successfully downloaded /Users/poisson/Documents/GitHub/COVID19_tracker_data_extraction/workflow/python/misc_helper_functions_gh.py\n"
     ]
    }
   ],
   "source": [
    "if github_flag:\n",
    "    ## Prompt for Github token\n",
    "    token = getpass(\"Provide your Github token: \")\n",
    "\n",
    "    ## Download the files\n",
    "    get_github_file(file_link = 'https://raw.githubusercontent.com/sydeaka/d4bl_covid_tracker/master/workflow/python/functions_case1_csv_xlsx.py', \n",
    "                new_file_name = os.path.join(home_dir, 'functions_case1_csv_xlsx_gh.py'), token = token)\n",
    "    \n",
    "    get_github_file(file_link = 'https://raw.githubusercontent.com/sydeaka/d4bl_covid_tracker/master/workflow/python/misc_helper_functions.py', \n",
    "                new_file_name = os.path.join(home_dir, 'misc_helper_functions_gh.py'), token = token)"
   ]
  },
  {
   "cell_type": "code",
   "execution_count": 10,
   "metadata": {},
   "outputs": [
    {
     "data": {
      "text/plain": [
       "['functions_case1_csv_xlsx.py',\n",
       " '.DS_Store',\n",
       " 'misc_helper_functions.py',\n",
       " 'output',\n",
       " 'helper_functions',\n",
       " 'case1_csv_xlsx',\n",
       " 'case3_pdf_table',\n",
       " 'case2_html',\n",
       " 'data',\n",
       " 'misc_helper_functions_gh.py',\n",
       " 'functions_case1_csv_xlsx_gh.py']"
      ]
     },
     "execution_count": 10,
     "metadata": {},
     "output_type": "execute_result"
    }
   ],
   "source": [
    "os.listdir()"
   ]
  },
  {
   "cell_type": "code",
   "execution_count": null,
   "metadata": {
    "colab": {},
    "colab_type": "code",
    "id": "XMSvUTYomYcX"
   },
   "outputs": [],
   "source": [
    "#os.chdir(home_dir)\n",
    "#! cat functions_case1_csv_xlsx_gh.py"
   ]
  },
  {
   "cell_type": "markdown",
   "metadata": {
    "colab_type": "text",
    "id": "7kejUcqqMvmg"
   },
   "source": [
    "## Load python scripts"
   ]
  },
  {
   "cell_type": "code",
   "execution_count": 11,
   "metadata": {
    "colab": {
     "base_uri": "https://localhost:8080/",
     "height": 34
    },
    "colab_type": "code",
    "id": "7AxAmoqqLaU5",
    "outputId": "7cf5d251-3fa1-4dd0-ef9f-79b135ba739f"
   },
   "outputs": [],
   "source": [
    "functions_case1 = [\"data_extract_massachusetts\", \"data_extract_virginia\", \"data_extract_washingtonDC\", \"data_extract_georgia\"]\n",
    "if github_flag:\n",
    "    [importOrReload(\"functions_case1_csv_xlsx_gh\", function_name) for function_name in functions_case1]\n",
    "else:\n",
    "    [importOrReload(\"functions_case1_csv_xlsx\", function_name) for function_name in functions_case1]"
   ]
  },
  {
   "cell_type": "markdown",
   "metadata": {
    "colab_type": "text",
    "id": "EXMayLLDesmF"
   },
   "source": [
    "## Create empty dictionary to hold results"
   ]
  },
  {
   "cell_type": "code",
   "execution_count": 12,
   "metadata": {
    "colab": {},
    "colab_type": "code",
    "id": "JsycsESReroZ"
   },
   "outputs": [],
   "source": [
    "## Dictionary to hold results\n",
    "output = dict()"
   ]
  },
  {
   "cell_type": "markdown",
   "metadata": {
    "colab_type": "text",
    "id": "Rc3QCdrY-8XU"
   },
   "source": [
    "# Data Extraction"
   ]
  },
  {
   "cell_type": "markdown",
   "metadata": {
    "colab_type": "text",
    "id": "qIrio9J8-_kj"
   },
   "source": [
    "## Case 1: Read from CSV and XLSX files"
   ]
  },
  {
   "cell_type": "code",
   "execution_count": 13,
   "metadata": {
    "colab": {
     "base_uri": "https://localhost:8080/",
     "height": 374
    },
    "colab_type": "code",
    "id": "wYZnVDM8-oEv",
    "outputId": "e0672301-296d-4f39-980a-6aff18cb5ce2"
   },
   "outputs": [
    {
     "name": "stdout",
     "output_type": "stream",
     "text": [
      "Navigate to Massachusetts data folder\n",
      "Get URLs on Massachusetts COVID-19 response reporting page\n",
      "['/doc/covid-19-raw-data-may-8-2020/download']\n",
      "Find the URL corresponding to the COVID-19 data file\n",
      "https://www.mass.gov/doc/covid-19-raw-data-may-8-2020/download\n",
      "Download the file\n",
      "/Users/poisson/Documents/GitHub/COVID19_tracker_data_extraction/workflow/python/data/mass/massachusetts.zip\n",
      "file download success!\n",
      "Unzip the file\n",
      "Get the race/ethnicity breakdown\n",
      "Get date of most recent data published\n",
      "Get the data for only most recent data published (or validation date)\n",
      "Total cases\n",
      "Total deaths\n",
      "AA cases\n",
      "AA deaths\n",
      "\n",
      "Success!\n",
      "\n"
     ]
    },
    {
     "data": {
      "text/plain": [
       "{'Massachusetts': {'Location': 'Massachusetts',\n",
       "  'Date Published': '5/8/2020',\n",
       "  'Total Cases': 75333,\n",
       "  'Total Deaths': 4702,\n",
       "  'Pct Cases Black/AA': 8.18,\n",
       "  'Pct Deaths Black/AA': 5.25}}"
      ]
     },
     "execution_count": 13,
     "metadata": {},
     "output_type": "execute_result"
    }
   ],
   "source": [
    "output['Massachusetts'] = data_extract_massachusetts(validation = validation_flag, \n",
    "                                                     home_dir = home_dir)\n",
    "\n",
    "output"
   ]
  },
  {
   "cell_type": "code",
   "execution_count": 14,
   "metadata": {
    "colab": {
     "base_uri": "https://localhost:8080/",
     "height": 425
    },
    "colab_type": "code",
    "id": "o96sB5Ji_EBl",
    "outputId": "3b212e03-2f45-42c4-a694-3cfc7a1eb90e"
   },
   "outputs": [
    {
     "name": "stdout",
     "output_type": "stream",
     "text": [
      "Navigate to Virginia data folder\n",
      "Download the CSV for race\n",
      "file download success!\n",
      "Read in the file\n",
      "Get only the most recent data published\n",
      "Roll up counts to race\n",
      "Total cases\n",
      "Total deaths\n",
      "AA cases\n",
      "AA deaths\n",
      "\n",
      "Success!\n",
      "\n"
     ]
    },
    {
     "data": {
      "text/plain": [
       "{'Massachusetts': {'Location': 'Massachusetts',\n",
       "  'Date Published': '5/8/2020',\n",
       "  'Total Cases': 75333,\n",
       "  'Total Deaths': 4702,\n",
       "  'Pct Cases Black/AA': 8.18,\n",
       "  'Pct Deaths Black/AA': 5.25},\n",
       " 'Virginia': {'Location': 'Virginia',\n",
       "  'Date Published': '5/8/2020',\n",
       "  'Total Cases': 22342,\n",
       "  'Total Deaths': 812,\n",
       "  'Pct Cases Black/AA': 17.15,\n",
       "  'Pct Deaths Black/AA': 22.41}}"
      ]
     },
     "execution_count": 14,
     "metadata": {},
     "output_type": "execute_result"
    }
   ],
   "source": [
    "output['Virginia'] = data_extract_virginia(validation = validation_flag, \n",
    "                                           home_dir = home_dir)\n",
    "\n",
    "output"
   ]
  },
  {
   "cell_type": "code",
   "execution_count": 15,
   "metadata": {
    "colab": {
     "base_uri": "https://localhost:8080/",
     "height": 697
    },
    "colab_type": "code",
    "id": "ZxUQ3rPo_EG7",
    "outputId": "8af0e3ab-2e66-45c2-ce12-3d43adec4a22"
   },
   "outputs": [
    {
     "name": "stdout",
     "output_type": "stream",
     "text": [
      "Navigate to Washington, DC data folder\n",
      "Find links to all Washington, DC COVID data files\n",
      "Find date strings in data files\n",
      "Convert date strings to date\n",
      "Find most recent date\n",
      "Convert to date format expected in data file\n",
      "Download the most recent data file\n",
      "file download success!\n",
      "Load the race/ethnicity breakdown of cases\n",
      "Set column names\n",
      "Get date of most recent data published\n",
      "Get cases associated with desired timestamp (most recent or 4/9/2020 validation date)\n",
      "Load the race/ethnicity breakdown of deaths\n",
      "Set column names\n",
      "Get deaths associated with desired timestamp (most recent or 4/9/2020 validation date)\n",
      "Get report date, formatted for output\n",
      "Total cases\n",
      "Total deaths\n",
      "AA cases\n",
      "AA deaths\n",
      "\n",
      "Success!\n",
      "\n"
     ]
    },
    {
     "data": {
      "text/plain": [
       "{'Massachusetts': {'Location': 'Massachusetts',\n",
       "  'Date Published': '5/8/2020',\n",
       "  'Total Cases': 75333,\n",
       "  'Total Deaths': 4702,\n",
       "  'Pct Cases Black/AA': 8.18,\n",
       "  'Pct Deaths Black/AA': 5.25},\n",
       " 'Virginia': {'Location': 'Virginia',\n",
       "  'Date Published': '5/8/2020',\n",
       "  'Total Cases': 22342,\n",
       "  'Total Deaths': 812,\n",
       "  'Pct Cases Black/AA': 17.15,\n",
       "  'Pct Deaths Black/AA': 22.41},\n",
       " 'Washington DC': {'Location': 'Washington, DC',\n",
       "  'Date Published': '5/8/2020',\n",
       "  'Total Cases': 5899,\n",
       "  'Total Deaths': 304,\n",
       "  'Pct Cases Black/AA': 47.35,\n",
       "  'Pct Deaths Black/AA': 79.28}}"
      ]
     },
     "execution_count": 15,
     "metadata": {},
     "output_type": "execute_result"
    }
   ],
   "source": [
    "output['Washington DC'] = data_extract_washingtonDC(validation = validation_flag, \n",
    "                                                    home_dir = home_dir)\n",
    "\n",
    "output"
   ]
  },
  {
   "cell_type": "code",
   "execution_count": 16,
   "metadata": {
    "colab": {
     "base_uri": "https://localhost:8080/",
     "height": 493
    },
    "colab_type": "code",
    "id": "O8PoRgeynYIV",
    "outputId": "1b8732fe-e827-476c-a77b-451c1b65ad44"
   },
   "outputs": [
    {
     "name": "stdout",
     "output_type": "stream",
     "text": [
      "Navigate to Georgia data folder\n",
      "Download file\n",
      "Read contents of the zip\n",
      "Report date = last update of the demographics.csv file in the ZIP archive\n",
      "Load demographics CSV\n",
      "African American cases and deaths\n",
      "\n",
      "Success!\n",
      "\n"
     ]
    },
    {
     "data": {
      "text/plain": [
       "{'Massachusetts': {'Location': 'Massachusetts',\n",
       "  'Date Published': '5/8/2020',\n",
       "  'Total Cases': 75333,\n",
       "  'Total Deaths': 4702,\n",
       "  'Pct Cases Black/AA': 8.18,\n",
       "  'Pct Deaths Black/AA': 5.25},\n",
       " 'Virginia': {'Location': 'Virginia',\n",
       "  'Date Published': '5/8/2020',\n",
       "  'Total Cases': 22342,\n",
       "  'Total Deaths': 812,\n",
       "  'Pct Cases Black/AA': 17.15,\n",
       "  'Pct Deaths Black/AA': 22.41},\n",
       " 'Washington DC': {'Location': 'Washington, DC',\n",
       "  'Date Published': '5/8/2020',\n",
       "  'Total Cases': 5899,\n",
       "  'Total Deaths': 304,\n",
       "  'Pct Cases Black/AA': 47.35,\n",
       "  'Pct Deaths Black/AA': 79.28},\n",
       " 'Georgia': {'Location': 'Georgia',\n",
       "  'Date Published': '5/8/2020',\n",
       "  'Total Cases': 32179,\n",
       "  'Total Deaths': 1399,\n",
       "  'Pct Cases Black/AA': 36.0,\n",
       "  'Pct Deaths Black/AA': 49.61}}"
      ]
     },
     "execution_count": 16,
     "metadata": {},
     "output_type": "execute_result"
    }
   ],
   "source": [
    "output['Georgia'] = data_extract_georgia(validation = validation_flag, \n",
    "                                         home_dir = home_dir)\n",
    "\n",
    "output"
   ]
  },
  {
   "cell_type": "markdown",
   "metadata": {
    "colab_type": "text",
    "id": "jVYTPSrblh1a"
   },
   "source": [
    "# Combining into a single dataframe"
   ]
  },
  {
   "cell_type": "code",
   "execution_count": 17,
   "metadata": {
    "colab": {
     "base_uri": "https://localhost:8080/",
     "height": 173
    },
    "colab_type": "code",
    "id": "VMtcaAvRRWBh",
    "outputId": "4099f8eb-90ea-4198-fc55-e2bcb8506b10"
   },
   "outputs": [
    {
     "data": {
      "text/html": [
       "<div>\n",
       "<style scoped>\n",
       "    .dataframe tbody tr th:only-of-type {\n",
       "        vertical-align: middle;\n",
       "    }\n",
       "\n",
       "    .dataframe tbody tr th {\n",
       "        vertical-align: top;\n",
       "    }\n",
       "\n",
       "    .dataframe thead th {\n",
       "        text-align: right;\n",
       "    }\n",
       "</style>\n",
       "<table border=\"1\" class=\"dataframe\">\n",
       "  <thead>\n",
       "    <tr style=\"text-align: right;\">\n",
       "      <th></th>\n",
       "      <th>Location</th>\n",
       "      <th>Date Published</th>\n",
       "      <th>Total Cases</th>\n",
       "      <th>Total Deaths</th>\n",
       "      <th>Pct Cases Black/AA</th>\n",
       "      <th>Pct Deaths Black/AA</th>\n",
       "    </tr>\n",
       "  </thead>\n",
       "  <tbody>\n",
       "    <tr>\n",
       "      <th>Massachusetts</th>\n",
       "      <td>Massachusetts</td>\n",
       "      <td>5/8/2020</td>\n",
       "      <td>75333</td>\n",
       "      <td>4702</td>\n",
       "      <td>8.18</td>\n",
       "      <td>5.25</td>\n",
       "    </tr>\n",
       "    <tr>\n",
       "      <th>Virginia</th>\n",
       "      <td>Virginia</td>\n",
       "      <td>5/8/2020</td>\n",
       "      <td>22342</td>\n",
       "      <td>812</td>\n",
       "      <td>17.15</td>\n",
       "      <td>22.41</td>\n",
       "    </tr>\n",
       "    <tr>\n",
       "      <th>Washington DC</th>\n",
       "      <td>Washington, DC</td>\n",
       "      <td>5/8/2020</td>\n",
       "      <td>5899</td>\n",
       "      <td>304</td>\n",
       "      <td>47.35</td>\n",
       "      <td>79.28</td>\n",
       "    </tr>\n",
       "    <tr>\n",
       "      <th>Georgia</th>\n",
       "      <td>Georgia</td>\n",
       "      <td>5/8/2020</td>\n",
       "      <td>32179</td>\n",
       "      <td>1399</td>\n",
       "      <td>36</td>\n",
       "      <td>49.61</td>\n",
       "    </tr>\n",
       "  </tbody>\n",
       "</table>\n",
       "</div>"
      ],
      "text/plain": [
       "                     Location Date Published Total Cases Total Deaths  \\\n",
       "Massachusetts   Massachusetts       5/8/2020       75333         4702   \n",
       "Virginia             Virginia       5/8/2020       22342          812   \n",
       "Washington DC  Washington, DC       5/8/2020        5899          304   \n",
       "Georgia               Georgia       5/8/2020       32179         1399   \n",
       "\n",
       "              Pct Cases Black/AA Pct Deaths Black/AA  \n",
       "Massachusetts               8.18                5.25  \n",
       "Virginia                   17.15               22.41  \n",
       "Washington DC              47.35               79.28  \n",
       "Georgia                       36               49.61  "
      ]
     },
     "execution_count": 17,
     "metadata": {},
     "output_type": "execute_result"
    }
   ],
   "source": [
    "output_df = pd.DataFrame(output).T\n",
    "output_df"
   ]
  },
  {
   "cell_type": "code",
   "execution_count": 18,
   "metadata": {
    "colab": {},
    "colab_type": "code",
    "id": "PlDJj0grP4O_"
   },
   "outputs": [],
   "source": [
    "date_stamp = datetime.now().strftime('%Y-%m-%d')\n",
    "out_file = os.path.join(home_dir, 'output', 'covid_disparities_output_' + date_stamp + '.csv')\n",
    "output_df.to_csv(out_file)"
   ]
  },
  {
   "cell_type": "code",
   "execution_count": 19,
   "metadata": {},
   "outputs": [],
   "source": [
    "out_file = os.path.join(home_dir, 'output', 'covid_disparities_output_' + date_stamp + '.xlsx')\n",
    "output_df.to_excel(out_file)"
   ]
  },
  {
   "cell_type": "code",
   "execution_count": 20,
   "metadata": {
    "colab": {
     "base_uri": "https://localhost:8080/",
     "height": 68
    },
    "colab_type": "code",
    "id": "lnQYNvqrYkwS",
    "outputId": "ba7b127b-a653-4b72-b847-86f4f9f19af0"
   },
   "outputs": [
    {
     "name": "stdout",
     "output_type": "stream",
     "text": [
      "covid_disparities_output_2020-05-08.csv\r\n",
      "covid_disparities_output_2020-05-08.xlsx\r\n"
     ]
    }
   ],
   "source": [
    "os.chdir(os.path.join(home_dir, 'output'))\n",
    "!ls"
   ]
  },
  {
   "cell_type": "code",
   "execution_count": null,
   "metadata": {},
   "outputs": [],
   "source": []
  }
 ],
 "metadata": {
  "colab": {
   "collapsed_sections": [],
   "name": "COVID-DataExtraction_Workflow.ipynb",
   "provenance": []
  },
  "kernelspec": {
   "display_name": "Python 3",
   "language": "python",
   "name": "python3"
  },
  "language_info": {
   "codemirror_mode": {
    "name": "ipython",
    "version": 3
   },
   "file_extension": ".py",
   "mimetype": "text/x-python",
   "name": "python",
   "nbconvert_exporter": "python",
   "pygments_lexer": "ipython3",
   "version": "3.7.6"
  }
 },
 "nbformat": 4,
 "nbformat_minor": 1
}
